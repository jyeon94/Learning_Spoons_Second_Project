{
 "cells": [
  {
   "cell_type": "markdown",
   "metadata": {},
   "source": [
    "# 일조량에 따른 토마토 생산량과 가격 예측"
   ]
  },
  {
   "cell_type": "markdown",
   "metadata": {},
   "source": [
    "- 토마토마(김준회, 연제호, 정다영, 추영은)\n",
    "- 발표일 : 2020년 3월 19일"
   ]
  },
  {
   "cell_type": "markdown",
   "metadata": {},
   "source": [
    "# 1. 서론"
   ]
  },
  {
   "cell_type": "markdown",
   "metadata": {},
   "source": [
    "### 1) 분석 배경"
   ]
  },
  {
   "cell_type": "markdown",
   "metadata": {},
   "source": [
    "최근 몇년간 미세먼지에 대한 관심이 높아졌다. 미세먼지는 황사처럼 하늘을 부옇게 만들고 먼거리까지 이동한다는 점에서 매우 비슷하나 주로 봄에 영향을 주는 황사와 달리 일년 내내 영향을 주며 발생 과정과 특성 역시 많은 차이가 있다. 미세먼지는 가정의 난방과 취사, 자동차 운행, 공장에서의 화석연료의 사용, 산불 및 화전 경작 등으로 발생한 인위적인 입자로 크기는 황사보다 훨씬 작은 2㎛ 이하이다. 지름 10㎛(마이크로미터) 이하의 먼지는 체내에 흡수되어 다양한 질병의 원인이 된다는 내용이 널리 알려져 마스크가 생활화되었다. \n",
    "\n",
    "미세먼지는 인체 뿐만 아니라 농가에도 피해를 주고 있다. 비닐하우스에서 재배하는 식물의 경우 농가에서 비닐하우스 위에 내려앉은 미세먼지를 자주 걷어내기 어렵고 유리온실도 마찬가지로 미세먼지으로 인한 투광량이 떨어져 작물의 상품성과 생산성이 떨어진다는 것이다. 특히, 토마토의 경우 노지보다는 하우스 시설에서 재배하고 있고 저장성이 약한데다가 국내 생산 의존도가 높아 어느 농산물 보다 가격 변동이 크다고 한다."
   ]
  },
  {
   "cell_type": "markdown",
   "metadata": {},
   "source": [
    "### 2) 분석 목적"
   ]
  },
  {
   "cell_type": "markdown",
   "metadata": {},
   "source": [
    "미세먼지에 따른 일조량의 변화와 토마토 생산량 및 가격을 예측하고자 한다."
   ]
  },
  {
   "cell_type": "markdown",
   "metadata": {},
   "source": [
    "## 2. 데이터 준비"
   ]
  },
  {
   "cell_type": "markdown",
   "metadata": {},
   "source": [
    "### 1) 활용 데이터\n",
    "\n",
    " 데이터 | 사용 변수 | 시점 | 출처 | 파일 형식\n",
    ":---:|:-------:|:---:|:---:|:--------:\n",
    "토마토 일별 품목별 도.소매가격정보 | 품목명, 품종명,\t시군구,\t마켓명,\t연도,\t날짜,\t가격 | 일 | [농산물유통정보](https://kdx.kr/kamis/periodProductList) | csv\n",
    "농작물생산조사:채소생산량(과채류) | 품종명, 시군구, 마켓명, 연도, 날짜, 가격 | 일 | [통계청](http://kosis.kr/statHtml/statHtml.do?orgId=101&tblId=DT_1ET0027&vw_cd=MT_ZTITLE&list_id=F1H&seqNo=&lang_mode=ko&language=kor&obj_var_id=&itm_id=&conn_path=MT_ZTITLE) | csv\n",
    "대기오염 최종확정자료  | 지역, 측정소코드, 측정소명, 측정일시, SO2, CO, O3, NO2, PM10 | 시간 | [AirKorea](https://www.airkorea.or.kr/web/last_amb_hour_data?pMENU_NO=123) | xlsx\n",
    "종관기상관측(ASOS) | 지점명,\t일시,\t합계 일조시간 | 일 | [기상청 기상자료개방포털](https://data.kma.go.kr/data/grnd/selectAsosRltmList.do?pgmNo=36) | csv"
   ]
  },
  {
   "cell_type": "markdown",
   "metadata": {},
   "source": [
    "#### 종관기상관측(ASOS) 변수 설명\n",
    "\n",
    " - 합계 일조시간 : 태양 광선이 구름이나 안개로 가려지지 않고 땅 위를 비친 시간"
   ]
  },
  {
   "cell_type": "markdown",
   "metadata": {},
   "source": [
    "#### 대기오염 최종확정자료\n",
    "\n",
    " - SO2 : 아황산가스\n",
    " - CO : 이산화탄소\n",
    " - O3 : 오존\n",
    " - NO2 : 이산화질소\n",
    " - PM10 : 미세먼지"
   ]
  },
  {
   "cell_type": "markdown",
   "metadata": {},
   "source": [
    "## 3. 데이터 가공"
   ]
  },
  {
   "cell_type": "markdown",
   "metadata": {},
   "source": [
    "#### 필요한 라이브러리 불러오기"
   ]
  },
  {
   "cell_type": "code",
   "execution_count": 4,
   "metadata": {},
   "outputs": [],
   "source": [
    "import pandas as pd # 데이터 프레임\n",
    "import numpy as np # \n",
    "import re # 정규표현식\n",
    "\n",
    "import seaborn as sns # 시각화\n",
    "import warnings\n",
    "warnings.filterwarnings('ignore') # warning 메시지 안보이게"
   ]
  },
  {
   "cell_type": "markdown",
   "metadata": {},
   "source": [
    "#### 시각화를 위한 한글 폰트 설정하기"
   ]
  },
  {
   "cell_type": "code",
   "execution_count": 5,
   "metadata": {},
   "outputs": [],
   "source": [
    "import matplotlib.pyplot as plt\n",
    "\n",
    "# 한글 폰트 지정\n",
    "plt.rc('font', family='Malgun Gothic')\n",
    "\n",
    "# 마이너스 값 깨지는 현상 해결\n",
    "plt.rc('axes', unicode_minus=False)\n",
    "\n",
    "# 레티나 디스플레이 설정\n",
    "from IPython.display import set_matplotlib_formats\n",
    "\n",
    "set_matplotlib_formats('retina')"
   ]
  },
  {
   "cell_type": "markdown",
   "metadata": {},
   "source": [
    "#### 작업 경로 지정"
   ]
  },
  {
   "cell_type": "code",
   "execution_count": 6,
   "metadata": {},
   "outputs": [
    {
     "ename": "FileNotFoundError",
     "evalue": "[Errno 2] No such file or directory: '/Users/chuu/Documents/GitHub/Learning_Spoons_Second_Project/data'",
     "output_type": "error",
     "traceback": [
      "\u001b[0;31m---------------------------------------------------------------------------\u001b[0m",
      "\u001b[0;31mFileNotFoundError\u001b[0m                         Traceback (most recent call last)",
      "\u001b[0;32m<ipython-input-6-d5d49dd459fb>\u001b[0m in \u001b[0;36m<module>\u001b[0;34m\u001b[0m\n\u001b[1;32m      2\u001b[0m \u001b[0;34m\u001b[0m\u001b[0m\n\u001b[1;32m      3\u001b[0m \u001b[0;31m# os로 작업 경로 지정\u001b[0m\u001b[0;34m\u001b[0m\u001b[0;34m\u001b[0m\u001b[0;34m\u001b[0m\u001b[0m\n\u001b[0;32m----> 4\u001b[0;31m \u001b[0mos\u001b[0m\u001b[0;34m.\u001b[0m\u001b[0mchdir\u001b[0m\u001b[0;34m(\u001b[0m\u001b[0;34m'/Users/chuu/Documents/GitHub/Learning_Spoons_Second_Project/data'\u001b[0m\u001b[0;34m)\u001b[0m\u001b[0;34m\u001b[0m\u001b[0;34m\u001b[0m\u001b[0m\n\u001b[0m",
      "\u001b[0;31mFileNotFoundError\u001b[0m: [Errno 2] No such file or directory: '/Users/chuu/Documents/GitHub/Learning_Spoons_Second_Project/data'"
     ]
    }
   ],
   "source": [
    "import os # wd 변경\n",
    "\n",
    "# os로 작업 경로 지정\n",
    "os.chdir('/Users/chuu/Documents/GitHub/Learning_Spoons_Second_Project/data')"
   ]
  },
  {
   "cell_type": "markdown",
   "metadata": {},
   "source": [
    "### 1) 토마토 도매 가격 정보 전처리"
   ]
  },
  {
   "cell_type": "code",
   "execution_count": 6,
   "metadata": {},
   "outputs": [
    {
     "data": {
      "text/html": [
       "<div>\n",
       "<style scoped>\n",
       "    .dataframe tbody tr th:only-of-type {\n",
       "        vertical-align: middle;\n",
       "    }\n",
       "\n",
       "    .dataframe tbody tr th {\n",
       "        vertical-align: top;\n",
       "    }\n",
       "\n",
       "    .dataframe thead th {\n",
       "        text-align: right;\n",
       "    }\n",
       "</style>\n",
       "<table border=\"1\" class=\"dataframe\">\n",
       "  <thead>\n",
       "    <tr style=\"text-align: right;\">\n",
       "      <th></th>\n",
       "      <th>품목명</th>\n",
       "      <th>품종명</th>\n",
       "      <th>시군구</th>\n",
       "      <th>마켓명</th>\n",
       "      <th>연도</th>\n",
       "      <th>날짜</th>\n",
       "      <th>가격</th>\n",
       "    </tr>\n",
       "  </thead>\n",
       "  <tbody>\n",
       "    <tr>\n",
       "      <th>0</th>\n",
       "      <td>토마토</td>\n",
       "      <td>토마토(10kg)</td>\n",
       "      <td>서울</td>\n",
       "      <td>가락도매</td>\n",
       "      <td>2013</td>\n",
       "      <td>01/02</td>\n",
       "      <td>29,000</td>\n",
       "    </tr>\n",
       "    <tr>\n",
       "      <th>1</th>\n",
       "      <td>토마토</td>\n",
       "      <td>토마토(10kg)</td>\n",
       "      <td>서울</td>\n",
       "      <td>가락도매</td>\n",
       "      <td>2013</td>\n",
       "      <td>01/03</td>\n",
       "      <td>30,000</td>\n",
       "    </tr>\n",
       "    <tr>\n",
       "      <th>2</th>\n",
       "      <td>토마토</td>\n",
       "      <td>토마토(10kg)</td>\n",
       "      <td>서울</td>\n",
       "      <td>가락도매</td>\n",
       "      <td>2013</td>\n",
       "      <td>01/04</td>\n",
       "      <td>30,000</td>\n",
       "    </tr>\n",
       "    <tr>\n",
       "      <th>3</th>\n",
       "      <td>토마토</td>\n",
       "      <td>토마토(10kg)</td>\n",
       "      <td>서울</td>\n",
       "      <td>가락도매</td>\n",
       "      <td>2013</td>\n",
       "      <td>01/07</td>\n",
       "      <td>30,000</td>\n",
       "    </tr>\n",
       "    <tr>\n",
       "      <th>4</th>\n",
       "      <td>토마토</td>\n",
       "      <td>토마토(10kg)</td>\n",
       "      <td>서울</td>\n",
       "      <td>가락도매</td>\n",
       "      <td>2013</td>\n",
       "      <td>01/08</td>\n",
       "      <td>27,000</td>\n",
       "    </tr>\n",
       "  </tbody>\n",
       "</table>\n",
       "</div>"
      ],
      "text/plain": [
       "   품목명        품종명 시군구   마켓명    연도     날짜      가격\n",
       "0  토마토  토마토(10kg)  서울  가락도매  2013  01/02  29,000\n",
       "1  토마토  토마토(10kg)  서울  가락도매  2013  01/03  30,000\n",
       "2  토마토  토마토(10kg)  서울  가락도매  2013  01/04  30,000\n",
       "3  토마토  토마토(10kg)  서울  가락도매  2013  01/07  30,000\n",
       "4  토마토  토마토(10kg)  서울  가락도매  2013  01/08  27,000"
      ]
     },
     "execution_count": 6,
     "metadata": {},
     "output_type": "execute_result"
    }
   ],
   "source": [
    "# 토마토 일별 도.소매 가격정보 2013-2016년 데이터 불러오기 \n",
    "tom36 = pd.read_csv('20132016토마토_일별 품목별 도.소매가격정보.csv')\n",
    "\n",
    "# 데이터 하단에 있는 평균과 평년 데이터 제외\n",
    "tomp36 = tom36[(tom36['시군구']!='평균') & (tom36['시군구']!='평년')]\n",
    "\n",
    "# 데이터 확인\n",
    "tomp36.head()"
   ]
  },
  {
   "cell_type": "code",
   "execution_count": 7,
   "metadata": {},
   "outputs": [
    {
     "data": {
      "text/html": [
       "<div>\n",
       "<style scoped>\n",
       "    .dataframe tbody tr th:only-of-type {\n",
       "        vertical-align: middle;\n",
       "    }\n",
       "\n",
       "    .dataframe tbody tr th {\n",
       "        vertical-align: top;\n",
       "    }\n",
       "\n",
       "    .dataframe thead th {\n",
       "        text-align: right;\n",
       "    }\n",
       "</style>\n",
       "<table border=\"1\" class=\"dataframe\">\n",
       "  <thead>\n",
       "    <tr style=\"text-align: right;\">\n",
       "      <th></th>\n",
       "      <th>품목명</th>\n",
       "      <th>품종명</th>\n",
       "      <th>시군구</th>\n",
       "      <th>마켓명</th>\n",
       "      <th>연도</th>\n",
       "      <th>날짜</th>\n",
       "      <th>가격</th>\n",
       "    </tr>\n",
       "  </thead>\n",
       "  <tbody>\n",
       "    <tr>\n",
       "      <th>0</th>\n",
       "      <td>토마토</td>\n",
       "      <td>토마토(10kg)</td>\n",
       "      <td>서울</td>\n",
       "      <td>가락도매</td>\n",
       "      <td>2017</td>\n",
       "      <td>01/02</td>\n",
       "      <td>43,000</td>\n",
       "    </tr>\n",
       "    <tr>\n",
       "      <th>1</th>\n",
       "      <td>토마토</td>\n",
       "      <td>토마토(10kg)</td>\n",
       "      <td>서울</td>\n",
       "      <td>가락도매</td>\n",
       "      <td>2017</td>\n",
       "      <td>01/03</td>\n",
       "      <td>41,000</td>\n",
       "    </tr>\n",
       "    <tr>\n",
       "      <th>2</th>\n",
       "      <td>토마토</td>\n",
       "      <td>토마토(10kg)</td>\n",
       "      <td>서울</td>\n",
       "      <td>가락도매</td>\n",
       "      <td>2017</td>\n",
       "      <td>01/04</td>\n",
       "      <td>40,000</td>\n",
       "    </tr>\n",
       "    <tr>\n",
       "      <th>3</th>\n",
       "      <td>토마토</td>\n",
       "      <td>토마토(10kg)</td>\n",
       "      <td>서울</td>\n",
       "      <td>가락도매</td>\n",
       "      <td>2017</td>\n",
       "      <td>01/05</td>\n",
       "      <td>38,000</td>\n",
       "    </tr>\n",
       "    <tr>\n",
       "      <th>4</th>\n",
       "      <td>토마토</td>\n",
       "      <td>토마토(10kg)</td>\n",
       "      <td>서울</td>\n",
       "      <td>가락도매</td>\n",
       "      <td>2017</td>\n",
       "      <td>01/06</td>\n",
       "      <td>38,000</td>\n",
       "    </tr>\n",
       "  </tbody>\n",
       "</table>\n",
       "</div>"
      ],
      "text/plain": [
       "   품목명        품종명 시군구   마켓명    연도     날짜      가격\n",
       "0  토마토  토마토(10kg)  서울  가락도매  2017  01/02  43,000\n",
       "1  토마토  토마토(10kg)  서울  가락도매  2017  01/03  41,000\n",
       "2  토마토  토마토(10kg)  서울  가락도매  2017  01/04  40,000\n",
       "3  토마토  토마토(10kg)  서울  가락도매  2017  01/05  38,000\n",
       "4  토마토  토마토(10kg)  서울  가락도매  2017  01/06  38,000"
      ]
     },
     "execution_count": 7,
     "metadata": {},
     "output_type": "execute_result"
    }
   ],
   "source": [
    "# 토마토 일별 도.소매 가격정보 2017-2019년 데이터 불러오기 \n",
    "tom79 = pd.read_csv('20172019토마토_일별 품목별 도.소매가격정보.csv')\n",
    "\n",
    "# 13-16년 데이터와 마찬가지로 평균 평년 데이터 제외. 2020년 데이터도 제외.\n",
    "tomp79 = tom79[(tom79['시군구']!='평균') & (tom79['시군구']!='평년') & (tom79['연도']!= 2019) & (tom79['연도']!= 2020)]\n",
    "\n",
    "# 데이터 확인\n",
    "tomp79.head()"
   ]
  },
  {
   "cell_type": "code",
   "execution_count": 8,
   "metadata": {},
   "outputs": [
    {
     "data": {
      "text/plain": [
       "(7847, 7)"
      ]
     },
     "execution_count": 8,
     "metadata": {},
     "output_type": "execute_result"
    }
   ],
   "source": [
    "# 데이터 합치기\n",
    "tomp = pd.concat([tomp36,tomp79])\n",
    "\n",
    "# 제대로 합쳐졌는지 행 개수 확인\n",
    "tomp.shape"
   ]
  },
  {
   "cell_type": "code",
   "execution_count": 9,
   "metadata": {},
   "outputs": [
    {
     "data": {
      "text/html": [
       "<div>\n",
       "<style scoped>\n",
       "    .dataframe tbody tr th:only-of-type {\n",
       "        vertical-align: middle;\n",
       "    }\n",
       "\n",
       "    .dataframe tbody tr th {\n",
       "        vertical-align: top;\n",
       "    }\n",
       "\n",
       "    .dataframe thead th {\n",
       "        text-align: right;\n",
       "    }\n",
       "</style>\n",
       "<table border=\"1\" class=\"dataframe\">\n",
       "  <thead>\n",
       "    <tr style=\"text-align: right;\">\n",
       "      <th></th>\n",
       "      <th>품종명</th>\n",
       "      <th>시군구</th>\n",
       "      <th>마켓명</th>\n",
       "      <th>연도</th>\n",
       "      <th>날짜</th>\n",
       "      <th>가격</th>\n",
       "    </tr>\n",
       "  </thead>\n",
       "  <tbody>\n",
       "    <tr>\n",
       "      <th>0</th>\n",
       "      <td>토마토(10kg)</td>\n",
       "      <td>서울</td>\n",
       "      <td>가락도매</td>\n",
       "      <td>2013</td>\n",
       "      <td>01/02</td>\n",
       "      <td>29,000</td>\n",
       "    </tr>\n",
       "    <tr>\n",
       "      <th>1</th>\n",
       "      <td>토마토(10kg)</td>\n",
       "      <td>서울</td>\n",
       "      <td>가락도매</td>\n",
       "      <td>2013</td>\n",
       "      <td>01/03</td>\n",
       "      <td>30,000</td>\n",
       "    </tr>\n",
       "    <tr>\n",
       "      <th>2</th>\n",
       "      <td>토마토(10kg)</td>\n",
       "      <td>서울</td>\n",
       "      <td>가락도매</td>\n",
       "      <td>2013</td>\n",
       "      <td>01/04</td>\n",
       "      <td>30,000</td>\n",
       "    </tr>\n",
       "    <tr>\n",
       "      <th>3</th>\n",
       "      <td>토마토(10kg)</td>\n",
       "      <td>서울</td>\n",
       "      <td>가락도매</td>\n",
       "      <td>2013</td>\n",
       "      <td>01/07</td>\n",
       "      <td>30,000</td>\n",
       "    </tr>\n",
       "    <tr>\n",
       "      <th>4</th>\n",
       "      <td>토마토(10kg)</td>\n",
       "      <td>서울</td>\n",
       "      <td>가락도매</td>\n",
       "      <td>2013</td>\n",
       "      <td>01/08</td>\n",
       "      <td>27,000</td>\n",
       "    </tr>\n",
       "  </tbody>\n",
       "</table>\n",
       "</div>"
      ],
      "text/plain": [
       "         품종명 시군구   마켓명    연도     날짜      가격\n",
       "0  토마토(10kg)  서울  가락도매  2013  01/02  29,000\n",
       "1  토마토(10kg)  서울  가락도매  2013  01/03  30,000\n",
       "2  토마토(10kg)  서울  가락도매  2013  01/04  30,000\n",
       "3  토마토(10kg)  서울  가락도매  2013  01/07  30,000\n",
       "4  토마토(10kg)  서울  가락도매  2013  01/08  27,000"
      ]
     },
     "execution_count": 9,
     "metadata": {},
     "output_type": "execute_result"
    }
   ],
   "source": [
    "# 품목명이 모두 토마토이고, 품종명 또한 토마토(10kg)으로 같은 정보를 담고 있으므로 품목명 컬럼을 삭제\n",
    "tomp = tomp.drop('품목명', axis = 1)\n",
    "\n",
    "# 데이터 확인\n",
    "tomp.head()"
   ]
  },
  {
   "cell_type": "code",
   "execution_count": 10,
   "metadata": {},
   "outputs": [
    {
     "data": {
      "text/html": [
       "<div>\n",
       "<style scoped>\n",
       "    .dataframe tbody tr th:only-of-type {\n",
       "        vertical-align: middle;\n",
       "    }\n",
       "\n",
       "    .dataframe tbody tr th {\n",
       "        vertical-align: top;\n",
       "    }\n",
       "\n",
       "    .dataframe thead th {\n",
       "        text-align: right;\n",
       "    }\n",
       "</style>\n",
       "<table border=\"1\" class=\"dataframe\">\n",
       "  <thead>\n",
       "    <tr style=\"text-align: right;\">\n",
       "      <th></th>\n",
       "      <th>품종명</th>\n",
       "      <th>도</th>\n",
       "      <th>마켓명</th>\n",
       "      <th>연도</th>\n",
       "      <th>날짜</th>\n",
       "      <th>가격</th>\n",
       "    </tr>\n",
       "  </thead>\n",
       "  <tbody>\n",
       "    <tr>\n",
       "      <th>2955</th>\n",
       "      <td>토마토(10kg)</td>\n",
       "      <td>광주</td>\n",
       "      <td>각화도매</td>\n",
       "      <td>2013</td>\n",
       "      <td>01/02</td>\n",
       "      <td>28,000</td>\n",
       "    </tr>\n",
       "    <tr>\n",
       "      <th>2956</th>\n",
       "      <td>토마토(10kg)</td>\n",
       "      <td>광주</td>\n",
       "      <td>각화도매</td>\n",
       "      <td>2013</td>\n",
       "      <td>01/03</td>\n",
       "      <td>28,000</td>\n",
       "    </tr>\n",
       "    <tr>\n",
       "      <th>2957</th>\n",
       "      <td>토마토(10kg)</td>\n",
       "      <td>광주</td>\n",
       "      <td>각화도매</td>\n",
       "      <td>2013</td>\n",
       "      <td>01/04</td>\n",
       "      <td>28,000</td>\n",
       "    </tr>\n",
       "    <tr>\n",
       "      <th>2958</th>\n",
       "      <td>토마토(10kg)</td>\n",
       "      <td>광주</td>\n",
       "      <td>각화도매</td>\n",
       "      <td>2013</td>\n",
       "      <td>01/07</td>\n",
       "      <td>28,000</td>\n",
       "    </tr>\n",
       "    <tr>\n",
       "      <th>2959</th>\n",
       "      <td>토마토(10kg)</td>\n",
       "      <td>광주</td>\n",
       "      <td>각화도매</td>\n",
       "      <td>2013</td>\n",
       "      <td>01/08</td>\n",
       "      <td>28,000</td>\n",
       "    </tr>\n",
       "  </tbody>\n",
       "</table>\n",
       "</div>"
      ],
      "text/plain": [
       "            품종명   도   마켓명    연도     날짜      가격\n",
       "2955  토마토(10kg)  광주  각화도매  2013  01/02  28,000\n",
       "2956  토마토(10kg)  광주  각화도매  2013  01/03  28,000\n",
       "2957  토마토(10kg)  광주  각화도매  2013  01/04  28,000\n",
       "2958  토마토(10kg)  광주  각화도매  2013  01/07  28,000\n",
       "2959  토마토(10kg)  광주  각화도매  2013  01/08  28,000"
      ]
     },
     "execution_count": 10,
     "metadata": {},
     "output_type": "execute_result"
    }
   ],
   "source": [
    "# 시군구, 마켓명, 연도, 날짜 오름차순으로 정렬\n",
    "tomp = tomp.sort_values(by = ['시군구','마켓명', '연도', '날짜'])\n",
    "\n",
    "# '시군구' 컬럼명을 '도'로 변경\n",
    "tomp.rename(columns={'시군구':'도'},inplace=True)\n",
    "\n",
    "# 데이터 확인\n",
    "tomp.head()"
   ]
  },
  {
   "cell_type": "code",
   "execution_count": 11,
   "metadata": {},
   "outputs": [
    {
     "data": {
      "text/html": [
       "<div>\n",
       "<style scoped>\n",
       "    .dataframe tbody tr th:only-of-type {\n",
       "        vertical-align: middle;\n",
       "    }\n",
       "\n",
       "    .dataframe tbody tr th {\n",
       "        vertical-align: top;\n",
       "    }\n",
       "\n",
       "    .dataframe thead th {\n",
       "        text-align: right;\n",
       "    }\n",
       "</style>\n",
       "<table border=\"1\" class=\"dataframe\">\n",
       "  <thead>\n",
       "    <tr style=\"text-align: right;\">\n",
       "      <th></th>\n",
       "      <th>품종명</th>\n",
       "      <th>도</th>\n",
       "      <th>마켓명</th>\n",
       "      <th>연도</th>\n",
       "      <th>날짜</th>\n",
       "      <th>가격</th>\n",
       "      <th>월</th>\n",
       "      <th>일</th>\n",
       "    </tr>\n",
       "  </thead>\n",
       "  <tbody>\n",
       "    <tr>\n",
       "      <th>2955</th>\n",
       "      <td>토마토(10kg)</td>\n",
       "      <td>광주</td>\n",
       "      <td>각화도매</td>\n",
       "      <td>2013</td>\n",
       "      <td>01/02</td>\n",
       "      <td>28,000</td>\n",
       "      <td>01</td>\n",
       "      <td>02</td>\n",
       "    </tr>\n",
       "    <tr>\n",
       "      <th>2956</th>\n",
       "      <td>토마토(10kg)</td>\n",
       "      <td>광주</td>\n",
       "      <td>각화도매</td>\n",
       "      <td>2013</td>\n",
       "      <td>01/03</td>\n",
       "      <td>28,000</td>\n",
       "      <td>01</td>\n",
       "      <td>03</td>\n",
       "    </tr>\n",
       "    <tr>\n",
       "      <th>2957</th>\n",
       "      <td>토마토(10kg)</td>\n",
       "      <td>광주</td>\n",
       "      <td>각화도매</td>\n",
       "      <td>2013</td>\n",
       "      <td>01/04</td>\n",
       "      <td>28,000</td>\n",
       "      <td>01</td>\n",
       "      <td>04</td>\n",
       "    </tr>\n",
       "    <tr>\n",
       "      <th>2958</th>\n",
       "      <td>토마토(10kg)</td>\n",
       "      <td>광주</td>\n",
       "      <td>각화도매</td>\n",
       "      <td>2013</td>\n",
       "      <td>01/07</td>\n",
       "      <td>28,000</td>\n",
       "      <td>01</td>\n",
       "      <td>07</td>\n",
       "    </tr>\n",
       "    <tr>\n",
       "      <th>2959</th>\n",
       "      <td>토마토(10kg)</td>\n",
       "      <td>광주</td>\n",
       "      <td>각화도매</td>\n",
       "      <td>2013</td>\n",
       "      <td>01/08</td>\n",
       "      <td>28,000</td>\n",
       "      <td>01</td>\n",
       "      <td>08</td>\n",
       "    </tr>\n",
       "  </tbody>\n",
       "</table>\n",
       "</div>"
      ],
      "text/plain": [
       "            품종명   도   마켓명    연도     날짜      가격   월   일\n",
       "2955  토마토(10kg)  광주  각화도매  2013  01/02  28,000  01  02\n",
       "2956  토마토(10kg)  광주  각화도매  2013  01/03  28,000  01  03\n",
       "2957  토마토(10kg)  광주  각화도매  2013  01/04  28,000  01  04\n",
       "2958  토마토(10kg)  광주  각화도매  2013  01/07  28,000  01  07\n",
       "2959  토마토(10kg)  광주  각화도매  2013  01/08  28,000  01  08"
      ]
     },
     "execution_count": 11,
     "metadata": {},
     "output_type": "execute_result"
    }
   ],
   "source": [
    "# merge함수를 사용하기 위해 일시를 연도와 날짜 컬럼으로 나누기\n",
    "tomp['월'] = tomp['날짜'].str.split('/').str.get(0)\n",
    "tomp['일'] = tomp['날짜'].str.split('/').str.get(1) \n",
    "\n",
    "# 데이터 확인\n",
    "tomp.head()"
   ]
  },
  {
   "cell_type": "code",
   "execution_count": 12,
   "metadata": {},
   "outputs": [
    {
     "name": "stdout",
     "output_type": "stream",
     "text": [
      "<class 'pandas.core.frame.DataFrame'>\n",
      "Int64Index: 7847 entries, 2955 to 486\n",
      "Data columns (total 8 columns):\n",
      " #   Column  Non-Null Count  Dtype \n",
      "---  ------  --------------  ----- \n",
      " 0   품종명     7847 non-null   object\n",
      " 1   도       7847 non-null   object\n",
      " 2   마켓명     7847 non-null   object\n",
      " 3   연도      7847 non-null   int64 \n",
      " 4   날짜      7847 non-null   object\n",
      " 5   가격      7847 non-null   int32 \n",
      " 6   월       7847 non-null   object\n",
      " 7   일       7847 non-null   object\n",
      "dtypes: int32(1), int64(1), object(6)\n",
      "memory usage: 521.1+ KB\n"
     ]
    }
   ],
   "source": [
    "# -을 0으로 변경\n",
    "tomp['가격'] = tomp['가격'].str.replace('-','0')\n",
    "\n",
    "# 결측값을 0으로 채우기\n",
    "tomp['가격'] = tomp['가격'].fillna('0')\n",
    "\n",
    "# 가격 컬럼의 ,를 제거하고 숫자 타입으로 변환\n",
    "tomp['가격'] = tomp['가격'].str.replace(',','').astype('int')\n",
    "\n",
    "# 변경된 컬럼 타입 확인\n",
    "tomp.info()"
   ]
  },
  {
   "cell_type": "code",
   "execution_count": 13,
   "metadata": {},
   "outputs": [],
   "source": [
    "# 도시명을 정식 명칭으로 변경하기 위해 변수 dic에 저장\n",
    "dic = {'광주':'광주광역시', '대구':'대구광역시', '대전': '대전광역시', '서울':'서울특별시', '부산':'부산광역시'}"
   ]
  },
  {
   "cell_type": "code",
   "execution_count": 14,
   "metadata": {},
   "outputs": [
    {
     "data": {
      "text/html": [
       "<div>\n",
       "<style scoped>\n",
       "    .dataframe tbody tr th:only-of-type {\n",
       "        vertical-align: middle;\n",
       "    }\n",
       "\n",
       "    .dataframe tbody tr th {\n",
       "        vertical-align: top;\n",
       "    }\n",
       "\n",
       "    .dataframe thead th {\n",
       "        text-align: right;\n",
       "    }\n",
       "</style>\n",
       "<table border=\"1\" class=\"dataframe\">\n",
       "  <thead>\n",
       "    <tr style=\"text-align: right;\">\n",
       "      <th></th>\n",
       "      <th>품종명</th>\n",
       "      <th>도</th>\n",
       "      <th>마켓명</th>\n",
       "      <th>연도</th>\n",
       "      <th>날짜</th>\n",
       "      <th>가격</th>\n",
       "      <th>월</th>\n",
       "      <th>일</th>\n",
       "    </tr>\n",
       "  </thead>\n",
       "  <tbody>\n",
       "    <tr>\n",
       "      <th>4136</th>\n",
       "      <td>토마토(10kg)</td>\n",
       "      <td>대전광역시</td>\n",
       "      <td>오정도매</td>\n",
       "      <td>2013</td>\n",
       "      <td>10/18</td>\n",
       "      <td>28000</td>\n",
       "      <td>10</td>\n",
       "      <td>18</td>\n",
       "    </tr>\n",
       "    <tr>\n",
       "      <th>3420</th>\n",
       "      <td>토마토(10kg)</td>\n",
       "      <td>광주광역시</td>\n",
       "      <td>각화도매</td>\n",
       "      <td>2014</td>\n",
       "      <td>11/24</td>\n",
       "      <td>23000</td>\n",
       "      <td>11</td>\n",
       "      <td>24</td>\n",
       "    </tr>\n",
       "    <tr>\n",
       "      <th>3894</th>\n",
       "      <td>토마토(10kg)</td>\n",
       "      <td>대전광역시</td>\n",
       "      <td>오정도매</td>\n",
       "      <td>2017</td>\n",
       "      <td>01/20</td>\n",
       "      <td>35000</td>\n",
       "      <td>01</td>\n",
       "      <td>20</td>\n",
       "    </tr>\n",
       "    <tr>\n",
       "      <th>1602</th>\n",
       "      <td>토마토(10kg)</td>\n",
       "      <td>대구광역시</td>\n",
       "      <td>북부도매</td>\n",
       "      <td>2017</td>\n",
       "      <td>03/16</td>\n",
       "      <td>30000</td>\n",
       "      <td>03</td>\n",
       "      <td>16</td>\n",
       "    </tr>\n",
       "    <tr>\n",
       "      <th>135</th>\n",
       "      <td>토마토(10kg)</td>\n",
       "      <td>서울특별시</td>\n",
       "      <td>가락도매</td>\n",
       "      <td>2013</td>\n",
       "      <td>07/17</td>\n",
       "      <td>18000</td>\n",
       "      <td>07</td>\n",
       "      <td>17</td>\n",
       "    </tr>\n",
       "    <tr>\n",
       "      <th>4685</th>\n",
       "      <td>토마토(10kg)</td>\n",
       "      <td>대전광역시</td>\n",
       "      <td>오정도매</td>\n",
       "      <td>2016</td>\n",
       "      <td>01/12</td>\n",
       "      <td>30000</td>\n",
       "      <td>01</td>\n",
       "      <td>12</td>\n",
       "    </tr>\n",
       "    <tr>\n",
       "      <th>3914</th>\n",
       "      <td>토마토(10kg)</td>\n",
       "      <td>대전광역시</td>\n",
       "      <td>오정도매</td>\n",
       "      <td>2017</td>\n",
       "      <td>02/21</td>\n",
       "      <td>35000</td>\n",
       "      <td>02</td>\n",
       "      <td>21</td>\n",
       "    </tr>\n",
       "    <tr>\n",
       "      <th>1716</th>\n",
       "      <td>토마토(10kg)</td>\n",
       "      <td>대구광역시</td>\n",
       "      <td>북부도매</td>\n",
       "      <td>2017</td>\n",
       "      <td>08/31</td>\n",
       "      <td>37000</td>\n",
       "      <td>08</td>\n",
       "      <td>31</td>\n",
       "    </tr>\n",
       "    <tr>\n",
       "      <th>4783</th>\n",
       "      <td>토마토(10kg)</td>\n",
       "      <td>대전광역시</td>\n",
       "      <td>오정도매</td>\n",
       "      <td>2016</td>\n",
       "      <td>06/08</td>\n",
       "      <td>16000</td>\n",
       "      <td>06</td>\n",
       "      <td>08</td>\n",
       "    </tr>\n",
       "    <tr>\n",
       "      <th>2857</th>\n",
       "      <td>토마토(10kg)</td>\n",
       "      <td>대구광역시</td>\n",
       "      <td>북부도매</td>\n",
       "      <td>2016</td>\n",
       "      <td>08/09</td>\n",
       "      <td>17000</td>\n",
       "      <td>08</td>\n",
       "      <td>09</td>\n",
       "    </tr>\n",
       "  </tbody>\n",
       "</table>\n",
       "</div>"
      ],
      "text/plain": [
       "            품종명      도   마켓명    연도     날짜     가격   월   일\n",
       "4136  토마토(10kg)  대전광역시  오정도매  2013  10/18  28000  10  18\n",
       "3420  토마토(10kg)  광주광역시  각화도매  2014  11/24  23000  11  24\n",
       "3894  토마토(10kg)  대전광역시  오정도매  2017  01/20  35000  01  20\n",
       "1602  토마토(10kg)  대구광역시  북부도매  2017  03/16  30000  03  16\n",
       "135   토마토(10kg)  서울특별시  가락도매  2013  07/17  18000  07  17\n",
       "4685  토마토(10kg)  대전광역시  오정도매  2016  01/12  30000  01  12\n",
       "3914  토마토(10kg)  대전광역시  오정도매  2017  02/21  35000  02  21\n",
       "1716  토마토(10kg)  대구광역시  북부도매  2017  08/31  37000  08  31\n",
       "4783  토마토(10kg)  대전광역시  오정도매  2016  06/08  16000  06  08\n",
       "2857  토마토(10kg)  대구광역시  북부도매  2016  08/09  17000  08  09"
      ]
     },
     "execution_count": 14,
     "metadata": {},
     "output_type": "execute_result"
    }
   ],
   "source": [
    "# '시군구'컬럼의 값을 dic의 값들로 변경\n",
    "tomp['도'] = tomp['도'].map(dic)\n",
    "\n",
    "# 변경된 '시군구' 컬럼 확인\n",
    "tomp.sample(10)"
   ]
  },
  {
   "cell_type": "code",
   "execution_count": 15,
   "metadata": {},
   "outputs": [],
   "source": [
    "# 가격이 없는 서부도매 삭제\n",
    "tompd = tomp['마켓명'].isin(['서부도매'])\n",
    "tomp = tomp[~tompd]"
   ]
  },
  {
   "cell_type": "code",
   "execution_count": 16,
   "metadata": {},
   "outputs": [
    {
     "data": {
      "text/plain": [
       "count     7360.000000\n",
       "mean     26630.842391\n",
       "std       7946.702974\n",
       "min      10000.000000\n",
       "25%      20000.000000\n",
       "50%      26000.000000\n",
       "75%      32000.000000\n",
       "max      55000.000000\n",
       "Name: 가격, dtype: float64"
      ]
     },
     "execution_count": 16,
     "metadata": {},
     "output_type": "execute_result"
    }
   ],
   "source": [
    "tomp['가격'].describe()"
   ]
  },
  {
   "cell_type": "code",
   "execution_count": 17,
   "metadata": {},
   "outputs": [
    {
     "data": {
      "text/html": [
       "<div>\n",
       "<style scoped>\n",
       "    .dataframe tbody tr th:only-of-type {\n",
       "        vertical-align: middle;\n",
       "    }\n",
       "\n",
       "    .dataframe tbody tr th {\n",
       "        vertical-align: top;\n",
       "    }\n",
       "\n",
       "    .dataframe thead th {\n",
       "        text-align: right;\n",
       "    }\n",
       "</style>\n",
       "<table border=\"1\" class=\"dataframe\">\n",
       "  <thead>\n",
       "    <tr style=\"text-align: right;\">\n",
       "      <th></th>\n",
       "      <th>연도</th>\n",
       "      <th>날짜</th>\n",
       "      <th>가격</th>\n",
       "    </tr>\n",
       "  </thead>\n",
       "  <tbody>\n",
       "    <tr>\n",
       "      <th>4925</th>\n",
       "      <td>2013</td>\n",
       "      <td>01/02</td>\n",
       "      <td>28,800</td>\n",
       "    </tr>\n",
       "    <tr>\n",
       "      <th>4926</th>\n",
       "      <td>2013</td>\n",
       "      <td>01/03</td>\n",
       "      <td>29,000</td>\n",
       "    </tr>\n",
       "    <tr>\n",
       "      <th>4927</th>\n",
       "      <td>2013</td>\n",
       "      <td>01/04</td>\n",
       "      <td>29,000</td>\n",
       "    </tr>\n",
       "    <tr>\n",
       "      <th>4928</th>\n",
       "      <td>2013</td>\n",
       "      <td>01/07</td>\n",
       "      <td>29,000</td>\n",
       "    </tr>\n",
       "    <tr>\n",
       "      <th>4929</th>\n",
       "      <td>2013</td>\n",
       "      <td>01/08</td>\n",
       "      <td>28,400</td>\n",
       "    </tr>\n",
       "    <tr>\n",
       "      <th>...</th>\n",
       "      <td>...</td>\n",
       "      <td>...</td>\n",
       "      <td>...</td>\n",
       "    </tr>\n",
       "    <tr>\n",
       "      <th>5384</th>\n",
       "      <td>2019</td>\n",
       "      <td>12/24</td>\n",
       "      <td>31,400</td>\n",
       "    </tr>\n",
       "    <tr>\n",
       "      <th>5385</th>\n",
       "      <td>2019</td>\n",
       "      <td>12/26</td>\n",
       "      <td>31,200</td>\n",
       "    </tr>\n",
       "    <tr>\n",
       "      <th>5386</th>\n",
       "      <td>2019</td>\n",
       "      <td>12/27</td>\n",
       "      <td>31,000</td>\n",
       "    </tr>\n",
       "    <tr>\n",
       "      <th>5387</th>\n",
       "      <td>2019</td>\n",
       "      <td>12/30</td>\n",
       "      <td>27,200</td>\n",
       "    </tr>\n",
       "    <tr>\n",
       "      <th>5388</th>\n",
       "      <td>2019</td>\n",
       "      <td>12/31</td>\n",
       "      <td>30,600</td>\n",
       "    </tr>\n",
       "  </tbody>\n",
       "</table>\n",
       "<p>1718 rows × 3 columns</p>\n",
       "</div>"
      ],
      "text/plain": [
       "        연도     날짜      가격\n",
       "4925  2013  01/02  28,800\n",
       "4926  2013  01/03  29,000\n",
       "4927  2013  01/04  29,000\n",
       "4928  2013  01/07  29,000\n",
       "4929  2013  01/08  28,400\n",
       "...    ...    ...     ...\n",
       "5384  2019  12/24  31,400\n",
       "5385  2019  12/26  31,200\n",
       "5386  2019  12/27  31,000\n",
       "5387  2019  12/30  27,200\n",
       "5388  2019  12/31  30,600\n",
       "\n",
       "[1718 rows x 3 columns]"
      ]
     },
     "execution_count": 17,
     "metadata": {},
     "output_type": "execute_result"
    }
   ],
   "source": [
    "# 2013-2019 토마토 도소매 가격 날짜별 전국 평균 \n",
    "tompm36 = tom36[tom36['시군구']=='평균']\n",
    "tompm79 = tom79[(tom79['시군구']=='평균')&(tom79['연도']!=2020)]\n",
    "tompm39 = pd.concat([tompm36, tompm79])\n",
    "tompm = tompm39[['연도', '날짜', '가격']]\n",
    "tompm"
   ]
  },
  {
   "cell_type": "code",
   "execution_count": 20,
   "metadata": {},
   "outputs": [
    {
     "data": {
      "text/html": [
       "<div>\n",
       "<style scoped>\n",
       "    .dataframe tbody tr th:only-of-type {\n",
       "        vertical-align: middle;\n",
       "    }\n",
       "\n",
       "    .dataframe tbody tr th {\n",
       "        vertical-align: top;\n",
       "    }\n",
       "\n",
       "    .dataframe thead th {\n",
       "        text-align: right;\n",
       "    }\n",
       "</style>\n",
       "<table border=\"1\" class=\"dataframe\">\n",
       "  <thead>\n",
       "    <tr style=\"text-align: right;\">\n",
       "      <th></th>\n",
       "      <th>연도</th>\n",
       "      <th>날짜</th>\n",
       "      <th>가격</th>\n",
       "    </tr>\n",
       "  </thead>\n",
       "  <tbody>\n",
       "    <tr>\n",
       "      <th>4925</th>\n",
       "      <td>2013</td>\n",
       "      <td>01-02</td>\n",
       "      <td>28,800</td>\n",
       "    </tr>\n",
       "    <tr>\n",
       "      <th>4926</th>\n",
       "      <td>2013</td>\n",
       "      <td>01-03</td>\n",
       "      <td>29,000</td>\n",
       "    </tr>\n",
       "    <tr>\n",
       "      <th>4927</th>\n",
       "      <td>2013</td>\n",
       "      <td>01-04</td>\n",
       "      <td>29,000</td>\n",
       "    </tr>\n",
       "    <tr>\n",
       "      <th>4928</th>\n",
       "      <td>2013</td>\n",
       "      <td>01-07</td>\n",
       "      <td>29,000</td>\n",
       "    </tr>\n",
       "    <tr>\n",
       "      <th>4929</th>\n",
       "      <td>2013</td>\n",
       "      <td>01-08</td>\n",
       "      <td>28,400</td>\n",
       "    </tr>\n",
       "  </tbody>\n",
       "</table>\n",
       "</div>"
      ],
      "text/plain": [
       "        연도     날짜      가격\n",
       "4925  2013  01-02  28,800\n",
       "4926  2013  01-03  29,000\n",
       "4927  2013  01-04  29,000\n",
       "4928  2013  01-07  29,000\n",
       "4929  2013  01-08  28,400"
      ]
     },
     "execution_count": 20,
     "metadata": {},
     "output_type": "execute_result"
    }
   ],
   "source": [
    "# 날짜 컬럼에서 슬래시 '/' 삭제\n",
    "tompm['날짜'] = tompm['날짜'].str.replace('/','-')\n",
    "\n",
    "# 데이터 확인\n",
    "tompm.head()"
   ]
  },
  {
   "cell_type": "code",
   "execution_count": 21,
   "metadata": {},
   "outputs": [],
   "source": [
    "# 가격 데이터 숫자로 바꾸기\n",
    "tompm['가격'] = tompm['가격'].str.replace(',','').astype('int')"
   ]
  },
  {
   "cell_type": "code",
   "execution_count": 22,
   "metadata": {},
   "outputs": [
    {
     "data": {
      "text/plain": [
       "4925   2013-01-01\n",
       "4926   2013-01-01\n",
       "4927   2013-01-01\n",
       "4928   2013-01-01\n",
       "4929   2013-01-01\n",
       "          ...    \n",
       "5384   2019-12-01\n",
       "5385   2019-12-01\n",
       "5386   2019-12-01\n",
       "5387   2019-12-01\n",
       "5388   2019-12-01\n",
       "Name: 연월, Length: 1718, dtype: datetime64[ns]"
      ]
     },
     "execution_count": 22,
     "metadata": {},
     "output_type": "execute_result"
    }
   ],
   "source": [
    "# 연월 컬럼 따로 만들고 날짜 형식으로 바꾸기\n",
    "tompm['연월'] = tompm['연도'].astype('str') + '-' + tompm['날짜'].str.split('-').str.get(0)\n",
    "pd.to_datetime(tompm['연월'])"
   ]
  },
  {
   "cell_type": "code",
   "execution_count": 23,
   "metadata": {},
   "outputs": [
    {
     "data": {
      "text/html": [
       "<div>\n",
       "<style scoped>\n",
       "    .dataframe tbody tr th:only-of-type {\n",
       "        vertical-align: middle;\n",
       "    }\n",
       "\n",
       "    .dataframe tbody tr th {\n",
       "        vertical-align: top;\n",
       "    }\n",
       "\n",
       "    .dataframe thead th {\n",
       "        text-align: right;\n",
       "    }\n",
       "</style>\n",
       "<table border=\"1\" class=\"dataframe\">\n",
       "  <thead>\n",
       "    <tr style=\"text-align: right;\">\n",
       "      <th></th>\n",
       "      <th>연도</th>\n",
       "      <th>날짜</th>\n",
       "      <th>가격</th>\n",
       "      <th>연월</th>\n",
       "    </tr>\n",
       "  </thead>\n",
       "  <tbody>\n",
       "    <tr>\n",
       "      <th>4925</th>\n",
       "      <td>2013</td>\n",
       "      <td>01-02</td>\n",
       "      <td>28800</td>\n",
       "      <td>2013-01</td>\n",
       "    </tr>\n",
       "    <tr>\n",
       "      <th>4926</th>\n",
       "      <td>2013</td>\n",
       "      <td>01-03</td>\n",
       "      <td>29000</td>\n",
       "      <td>2013-01</td>\n",
       "    </tr>\n",
       "    <tr>\n",
       "      <th>4927</th>\n",
       "      <td>2013</td>\n",
       "      <td>01-04</td>\n",
       "      <td>29000</td>\n",
       "      <td>2013-01</td>\n",
       "    </tr>\n",
       "    <tr>\n",
       "      <th>4928</th>\n",
       "      <td>2013</td>\n",
       "      <td>01-07</td>\n",
       "      <td>29000</td>\n",
       "      <td>2013-01</td>\n",
       "    </tr>\n",
       "    <tr>\n",
       "      <th>4929</th>\n",
       "      <td>2013</td>\n",
       "      <td>01-08</td>\n",
       "      <td>28400</td>\n",
       "      <td>2013-01</td>\n",
       "    </tr>\n",
       "    <tr>\n",
       "      <th>...</th>\n",
       "      <td>...</td>\n",
       "      <td>...</td>\n",
       "      <td>...</td>\n",
       "      <td>...</td>\n",
       "    </tr>\n",
       "    <tr>\n",
       "      <th>5384</th>\n",
       "      <td>2019</td>\n",
       "      <td>12-24</td>\n",
       "      <td>31400</td>\n",
       "      <td>2019-12</td>\n",
       "    </tr>\n",
       "    <tr>\n",
       "      <th>5385</th>\n",
       "      <td>2019</td>\n",
       "      <td>12-26</td>\n",
       "      <td>31200</td>\n",
       "      <td>2019-12</td>\n",
       "    </tr>\n",
       "    <tr>\n",
       "      <th>5386</th>\n",
       "      <td>2019</td>\n",
       "      <td>12-27</td>\n",
       "      <td>31000</td>\n",
       "      <td>2019-12</td>\n",
       "    </tr>\n",
       "    <tr>\n",
       "      <th>5387</th>\n",
       "      <td>2019</td>\n",
       "      <td>12-30</td>\n",
       "      <td>27200</td>\n",
       "      <td>2019-12</td>\n",
       "    </tr>\n",
       "    <tr>\n",
       "      <th>5388</th>\n",
       "      <td>2019</td>\n",
       "      <td>12-31</td>\n",
       "      <td>30600</td>\n",
       "      <td>2019-12</td>\n",
       "    </tr>\n",
       "  </tbody>\n",
       "</table>\n",
       "<p>1718 rows × 4 columns</p>\n",
       "</div>"
      ],
      "text/plain": [
       "        연도     날짜     가격       연월\n",
       "4925  2013  01-02  28800  2013-01\n",
       "4926  2013  01-03  29000  2013-01\n",
       "4927  2013  01-04  29000  2013-01\n",
       "4928  2013  01-07  29000  2013-01\n",
       "4929  2013  01-08  28400  2013-01\n",
       "...    ...    ...    ...      ...\n",
       "5384  2019  12-24  31400  2019-12\n",
       "5385  2019  12-26  31200  2019-12\n",
       "5386  2019  12-27  31000  2019-12\n",
       "5387  2019  12-30  27200  2019-12\n",
       "5388  2019  12-31  30600  2019-12\n",
       "\n",
       "[1718 rows x 4 columns]"
      ]
     },
     "execution_count": 23,
     "metadata": {},
     "output_type": "execute_result"
    }
   ],
   "source": [
    "tompm"
   ]
  },
  {
   "cell_type": "code",
   "execution_count": 24,
   "metadata": {},
   "outputs": [],
   "source": [
    "# 연월 같은 데이터 그룹으로 묶어 가격 평균 내기\n",
    "tompmm = tompm.groupby(['연월'])['가격'].mean().reset_index()"
   ]
  },
  {
   "cell_type": "code",
   "execution_count": 25,
   "metadata": {},
   "outputs": [
    {
     "data": {
      "text/html": [
       "<div>\n",
       "<style scoped>\n",
       "    .dataframe tbody tr th:only-of-type {\n",
       "        vertical-align: middle;\n",
       "    }\n",
       "\n",
       "    .dataframe tbody tr th {\n",
       "        vertical-align: top;\n",
       "    }\n",
       "\n",
       "    .dataframe thead th {\n",
       "        text-align: right;\n",
       "    }\n",
       "</style>\n",
       "<table border=\"1\" class=\"dataframe\">\n",
       "  <thead>\n",
       "    <tr style=\"text-align: right;\">\n",
       "      <th></th>\n",
       "      <th>연월</th>\n",
       "      <th>가격</th>\n",
       "    </tr>\n",
       "  </thead>\n",
       "  <tbody>\n",
       "    <tr>\n",
       "      <th>0</th>\n",
       "      <td>2013-01</td>\n",
       "      <td>30463</td>\n",
       "    </tr>\n",
       "    <tr>\n",
       "      <th>1</th>\n",
       "      <td>2013-02</td>\n",
       "      <td>34557</td>\n",
       "    </tr>\n",
       "    <tr>\n",
       "      <th>2</th>\n",
       "      <td>2013-03</td>\n",
       "      <td>33090</td>\n",
       "    </tr>\n",
       "    <tr>\n",
       "      <th>3</th>\n",
       "      <td>2013-04</td>\n",
       "      <td>33509</td>\n",
       "    </tr>\n",
       "    <tr>\n",
       "      <th>4</th>\n",
       "      <td>2013-05</td>\n",
       "      <td>21752</td>\n",
       "    </tr>\n",
       "    <tr>\n",
       "      <th>...</th>\n",
       "      <td>...</td>\n",
       "      <td>...</td>\n",
       "    </tr>\n",
       "    <tr>\n",
       "      <th>79</th>\n",
       "      <td>2019-08</td>\n",
       "      <td>20457</td>\n",
       "    </tr>\n",
       "    <tr>\n",
       "      <th>80</th>\n",
       "      <td>2019-09</td>\n",
       "      <td>26894</td>\n",
       "    </tr>\n",
       "    <tr>\n",
       "      <th>81</th>\n",
       "      <td>2019-10</td>\n",
       "      <td>29447</td>\n",
       "    </tr>\n",
       "    <tr>\n",
       "      <th>82</th>\n",
       "      <td>2019-11</td>\n",
       "      <td>33352</td>\n",
       "    </tr>\n",
       "    <tr>\n",
       "      <th>83</th>\n",
       "      <td>2019-12</td>\n",
       "      <td>31580</td>\n",
       "    </tr>\n",
       "  </tbody>\n",
       "</table>\n",
       "<p>84 rows × 2 columns</p>\n",
       "</div>"
      ],
      "text/plain": [
       "         연월     가격\n",
       "0   2013-01  30463\n",
       "1   2013-02  34557\n",
       "2   2013-03  33090\n",
       "3   2013-04  33509\n",
       "4   2013-05  21752\n",
       "..      ...    ...\n",
       "79  2019-08  20457\n",
       "80  2019-09  26894\n",
       "81  2019-10  29447\n",
       "82  2019-11  33352\n",
       "83  2019-12  31580\n",
       "\n",
       "[84 rows x 2 columns]"
      ]
     },
     "execution_count": 25,
     "metadata": {},
     "output_type": "execute_result"
    }
   ],
   "source": [
    "# 가격 컬럼 정수로 변경하여 소수점 없애기\n",
    "tompmm['가격'] = tompmm['가격'].astype(int)\n",
    "tompmm"
   ]
  },
  {
   "cell_type": "code",
   "execution_count": 28,
   "metadata": {
    "scrolled": false
   },
   "outputs": [
    {
     "data": {
      "text/plain": [
       "[Text(0, 0, '2013-01'),\n",
       " Text(0, 0, '2013-02'),\n",
       " Text(0, 0, '2013-03'),\n",
       " Text(0, 0, '2013-04'),\n",
       " Text(0, 0, '2013-05'),\n",
       " Text(0, 0, '2013-06'),\n",
       " Text(0, 0, '2013-07'),\n",
       " Text(0, 0, '2013-08'),\n",
       " Text(0, 0, '2013-09'),\n",
       " Text(0, 0, '2013-10'),\n",
       " Text(0, 0, '2013-11'),\n",
       " Text(0, 0, '2013-12'),\n",
       " Text(0, 0, '2014-01'),\n",
       " Text(0, 0, '2014-02'),\n",
       " Text(0, 0, '2014-03'),\n",
       " Text(0, 0, '2014-04'),\n",
       " Text(0, 0, '2014-05'),\n",
       " Text(0, 0, '2014-06'),\n",
       " Text(0, 0, '2014-07'),\n",
       " Text(0, 0, '2014-08'),\n",
       " Text(0, 0, '2014-09'),\n",
       " Text(0, 0, '2014-10'),\n",
       " Text(0, 0, '2014-11'),\n",
       " Text(0, 0, '2014-12'),\n",
       " Text(0, 0, '2015-01'),\n",
       " Text(0, 0, '2015-02'),\n",
       " Text(0, 0, '2015-03'),\n",
       " Text(0, 0, '2015-04'),\n",
       " Text(0, 0, '2015-05'),\n",
       " Text(0, 0, '2015-06'),\n",
       " Text(0, 0, '2015-07'),\n",
       " Text(0, 0, '2015-08'),\n",
       " Text(0, 0, '2015-09'),\n",
       " Text(0, 0, '2015-10'),\n",
       " Text(0, 0, '2015-11'),\n",
       " Text(0, 0, '2015-12'),\n",
       " Text(0, 0, '2016-01'),\n",
       " Text(0, 0, '2016-02'),\n",
       " Text(0, 0, '2016-03'),\n",
       " Text(0, 0, '2016-04'),\n",
       " Text(0, 0, '2016-05'),\n",
       " Text(0, 0, '2016-06'),\n",
       " Text(0, 0, '2016-07'),\n",
       " Text(0, 0, '2016-08'),\n",
       " Text(0, 0, '2016-09'),\n",
       " Text(0, 0, '2016-10'),\n",
       " Text(0, 0, '2016-11'),\n",
       " Text(0, 0, '2016-12'),\n",
       " Text(0, 0, '2017-01'),\n",
       " Text(0, 0, '2017-02'),\n",
       " Text(0, 0, '2017-03'),\n",
       " Text(0, 0, '2017-04'),\n",
       " Text(0, 0, '2017-05'),\n",
       " Text(0, 0, '2017-06'),\n",
       " Text(0, 0, '2017-07'),\n",
       " Text(0, 0, '2017-08'),\n",
       " Text(0, 0, '2017-09'),\n",
       " Text(0, 0, '2017-10'),\n",
       " Text(0, 0, '2017-11'),\n",
       " Text(0, 0, '2017-12'),\n",
       " Text(0, 0, '2018-01'),\n",
       " Text(0, 0, '2018-02'),\n",
       " Text(0, 0, '2018-03'),\n",
       " Text(0, 0, '2018-04'),\n",
       " Text(0, 0, '2018-05'),\n",
       " Text(0, 0, '2018-06'),\n",
       " Text(0, 0, '2018-07'),\n",
       " Text(0, 0, '2018-08'),\n",
       " Text(0, 0, '2018-09'),\n",
       " Text(0, 0, '2018-10'),\n",
       " Text(0, 0, '2018-11'),\n",
       " Text(0, 0, '2018-12'),\n",
       " Text(0, 0, '2019-01'),\n",
       " Text(0, 0, '2019-02'),\n",
       " Text(0, 0, '2019-03'),\n",
       " Text(0, 0, '2019-04'),\n",
       " Text(0, 0, '2019-05'),\n",
       " Text(0, 0, '2019-06'),\n",
       " Text(0, 0, '2019-07'),\n",
       " Text(0, 0, '2019-08'),\n",
       " Text(0, 0, '2019-09'),\n",
       " Text(0, 0, '2019-10'),\n",
       " Text(0, 0, '2019-11'),\n",
       " Text(0, 0, '2019-12')]"
      ]
     },
     "execution_count": 28,
     "metadata": {},
     "output_type": "execute_result"
    },
    {
     "data": {
      "image/png": "[encoded data removed]",
      "text/plain": [
       "<Figure size 1512x288 with 1 Axes>"
      ]
     },
     "metadata": {
      "image/png": {
       "height": 291,
       "width": 1235
      },
      "needs_background": "light"
     },
     "output_type": "display_data"
    }
   ],
   "source": [
    "plt.figure(figsize=(21,4))\n",
    "t = sns.lineplot(data = tompmm, x = '연월', y = '가격')\n",
    "t.set_xticklabels(tompmm['연월'],rotation=90)\n",
    "# plt.xticks(rotation=90)"
   ]
  },
  {
   "cell_type": "code",
   "execution_count": null,
   "metadata": {},
   "outputs": [],
   "source": []
  },
  {
   "cell_type": "markdown",
   "metadata": {},
   "source": [
    "#### 연도별 토마토 가격\n",
    "\n",
    "2015년의 토마토 가격이 가장 낮았으며, 2013년의 토마토 가격이 가장 높았다."
   ]
  },
  {
   "cell_type": "code",
   "execution_count": 15,
   "metadata": {},
   "outputs": [
    {
     "data": {
      "text/plain": [
       "<matplotlib.axes._subplots.AxesSubplot at 0x1a23193990>"
      ]
     },
     "execution_count": 15,
     "metadata": {},
     "output_type": "execute_result"
    },
    {
     "data": {
      "image/png": "[encoded data removed]",
      "text/plain": [
       "<Figure size 1080x288 with 1 Axes>"
      ]
     },
     "metadata": {
      "image/png": {
       "height": 264,
       "width": 905
      },
      "needs_background": "light"
     },
     "output_type": "display_data"
    }
   ],
   "source": [
    "plt.figure(figsize=(15,4))\n",
    "sns.lineplot(data=tomp, x='연도', y='가격', ci=None)"
   ]
  },
  {
   "cell_type": "code",
   "execution_count": 16,
   "metadata": {},
   "outputs": [
    {
     "data": {
      "text/plain": [
       "<matplotlib.axes._subplots.AxesSubplot at 0x1a23191550>"
      ]
     },
     "execution_count": 16,
     "metadata": {},
     "output_type": "execute_result"
    },
    {
     "data": {
      "image/png": "[encoded data removed]",
      "text/plain": [
       "<Figure size 1080x288 with 1 Axes>"
      ]
     },
     "metadata": {
      "image/png": {
       "height": 261,
       "width": 905
      },
      "needs_background": "light"
     },
     "output_type": "display_data"
    }
   ],
   "source": [
    "plt.figure(figsize=(15,4))\n",
    "sns.lineplot(data=tomp, x='연도', y='가격', hue='마켓명', ci=None)"
   ]
  },
  {
   "cell_type": "markdown",
   "metadata": {},
   "source": [
    "#### 월별 토마토 가격\n",
    "\n",
    "2-3월은 일조량이 많아 가격이 높았으며 6-7월은 강수가 집중되어 생육이 부진하므로 가격이 낮은 것으로 확인되었다."
   ]
  },
  {
   "cell_type": "code",
   "execution_count": 17,
   "metadata": {},
   "outputs": [
    {
     "data": {
      "text/plain": [
       "<matplotlib.axes._subplots.AxesSubplot at 0x1a22fc5bd0>"
      ]
     },
     "execution_count": 17,
     "metadata": {},
     "output_type": "execute_result"
    },
    {
     "data": {
      "image/png": "[encoded data removed]",
      "text/plain": [
       "<Figure size 1080x288 with 1 Axes>"
      ]
     },
     "metadata": {
      "image/png": {
       "height": 261,
       "width": 905
      },
      "needs_background": "light"
     },
     "output_type": "display_data"
    }
   ],
   "source": [
    "plt.figure(figsize=(15,4))\n",
    "sns.lineplot(data=tomp, x='월', y='가격', hue='마켓명', ci=None)"
   ]
  },
  {
   "cell_type": "markdown",
   "metadata": {},
   "source": [
    "### 2) 농작물생산조사:채소생산량(과채류)\t"
   ]
  },
  {
   "cell_type": "code",
   "execution_count": 18,
   "metadata": {},
   "outputs": [],
   "source": [
    "# 토마토 생산량 파일 불러오기\n",
    "to = pd.read_csv('채소생산량_과채류__20200304201937.csv', encoding='euc-kr')"
   ]
  },
  {
   "cell_type": "code",
   "execution_count": 19,
   "metadata": {},
   "outputs": [
    {
     "data": {
      "text/html": [
       "<div>\n",
       "<style scoped>\n",
       "    .dataframe tbody tr th:only-of-type {\n",
       "        vertical-align: middle;\n",
       "    }\n",
       "\n",
       "    .dataframe tbody tr th {\n",
       "        vertical-align: top;\n",
       "    }\n",
       "\n",
       "    .dataframe thead th {\n",
       "        text-align: right;\n",
       "    }\n",
       "</style>\n",
       "<table border=\"1\" class=\"dataframe\">\n",
       "  <thead>\n",
       "    <tr style=\"text-align: right;\">\n",
       "      <th></th>\n",
       "      <th>시도별</th>\n",
       "      <th>2013</th>\n",
       "      <th>2013.1</th>\n",
       "      <th>2013.2</th>\n",
       "      <th>2013.3</th>\n",
       "      <th>2013.4</th>\n",
       "      <th>2013.5</th>\n",
       "      <th>2013.6</th>\n",
       "      <th>2013.7</th>\n",
       "      <th>2014</th>\n",
       "      <th>...</th>\n",
       "      <th>2017.6</th>\n",
       "      <th>2017.7</th>\n",
       "      <th>2018</th>\n",
       "      <th>2018.1</th>\n",
       "      <th>2018.2</th>\n",
       "      <th>2018.3</th>\n",
       "      <th>2018.4</th>\n",
       "      <th>2018.5</th>\n",
       "      <th>2018.6</th>\n",
       "      <th>2018.7</th>\n",
       "    </tr>\n",
       "  </thead>\n",
       "  <tbody>\n",
       "    <tr>\n",
       "      <th>0</th>\n",
       "      <td>시도별</td>\n",
       "      <td>토마토:면적 (ha)</td>\n",
       "      <td>생산량 (톤)</td>\n",
       "      <td>노지토마토:면적 (ha)</td>\n",
       "      <td>10a당 생산량 (kg)</td>\n",
       "      <td>생산량 (톤)</td>\n",
       "      <td>시설토마토:면적 (ha)</td>\n",
       "      <td>10a당 생산량 (kg)</td>\n",
       "      <td>생산량 (톤)</td>\n",
       "      <td>토마토:면적 (ha)</td>\n",
       "      <td>...</td>\n",
       "      <td>10a당 생산량 (kg)</td>\n",
       "      <td>생산량 (톤)</td>\n",
       "      <td>토마토:면적 (ha)</td>\n",
       "      <td>생산량 (톤)</td>\n",
       "      <td>노지토마토:면적 (ha)</td>\n",
       "      <td>10a당 생산량 (kg)</td>\n",
       "      <td>생산량 (톤)</td>\n",
       "      <td>시설토마토:면적 (ha)</td>\n",
       "      <td>10a당 생산량 (kg)</td>\n",
       "      <td>생산량 (톤)</td>\n",
       "    </tr>\n",
       "    <tr>\n",
       "      <th>1</th>\n",
       "      <td>계</td>\n",
       "      <td>6054</td>\n",
       "      <td>388624</td>\n",
       "      <td>0</td>\n",
       "      <td>0</td>\n",
       "      <td>0</td>\n",
       "      <td>6054</td>\n",
       "      <td>6419</td>\n",
       "      <td>388624</td>\n",
       "      <td>7070</td>\n",
       "      <td>...</td>\n",
       "      <td>6142</td>\n",
       "      <td>355107</td>\n",
       "      <td>6058</td>\n",
       "      <td>388657</td>\n",
       "      <td>0</td>\n",
       "      <td>0</td>\n",
       "      <td>0</td>\n",
       "      <td>6058</td>\n",
       "      <td>6415</td>\n",
       "      <td>388657</td>\n",
       "    </tr>\n",
       "    <tr>\n",
       "      <th>2</th>\n",
       "      <td>서울특별시</td>\n",
       "      <td>2</td>\n",
       "      <td>137</td>\n",
       "      <td>0</td>\n",
       "      <td>0</td>\n",
       "      <td>0</td>\n",
       "      <td>2</td>\n",
       "      <td>6850</td>\n",
       "      <td>137</td>\n",
       "      <td>1</td>\n",
       "      <td>...</td>\n",
       "      <td>1433</td>\n",
       "      <td>34</td>\n",
       "      <td>4</td>\n",
       "      <td>18</td>\n",
       "      <td>0</td>\n",
       "      <td>0</td>\n",
       "      <td>0</td>\n",
       "      <td>4</td>\n",
       "      <td>450</td>\n",
       "      <td>18</td>\n",
       "    </tr>\n",
       "    <tr>\n",
       "      <th>3</th>\n",
       "      <td>부산광역시</td>\n",
       "      <td>355</td>\n",
       "      <td>22056</td>\n",
       "      <td>0</td>\n",
       "      <td>0</td>\n",
       "      <td>0</td>\n",
       "      <td>355</td>\n",
       "      <td>6213</td>\n",
       "      <td>22056</td>\n",
       "      <td>423</td>\n",
       "      <td>...</td>\n",
       "      <td>6081</td>\n",
       "      <td>19196</td>\n",
       "      <td>363</td>\n",
       "      <td>25248</td>\n",
       "      <td>0</td>\n",
       "      <td>0</td>\n",
       "      <td>0</td>\n",
       "      <td>363</td>\n",
       "      <td>6952</td>\n",
       "      <td>25248</td>\n",
       "    </tr>\n",
       "    <tr>\n",
       "      <th>4</th>\n",
       "      <td>대구광역시</td>\n",
       "      <td>98</td>\n",
       "      <td>7933</td>\n",
       "      <td>0</td>\n",
       "      <td>0</td>\n",
       "      <td>0</td>\n",
       "      <td>98</td>\n",
       "      <td>8095</td>\n",
       "      <td>7933</td>\n",
       "      <td>71</td>\n",
       "      <td>...</td>\n",
       "      <td>5174</td>\n",
       "      <td>10201</td>\n",
       "      <td>167</td>\n",
       "      <td>11372</td>\n",
       "      <td>0</td>\n",
       "      <td>0</td>\n",
       "      <td>0</td>\n",
       "      <td>167</td>\n",
       "      <td>6800</td>\n",
       "      <td>11372</td>\n",
       "    </tr>\n",
       "  </tbody>\n",
       "</table>\n",
       "<p>5 rows × 49 columns</p>\n",
       "</div>"
      ],
      "text/plain": [
       "     시도별         2013   2013.1         2013.2         2013.3   2013.4  \\\n",
       "0    시도별  토마토:면적 (ha)  생산량 (톤)  노지토마토:면적 (ha)  10a당 생산량 (kg)  생산량 (톤)   \n",
       "1      계         6054   388624              0              0        0   \n",
       "2  서울특별시            2      137              0              0        0   \n",
       "3  부산광역시          355    22056              0              0        0   \n",
       "4  대구광역시           98     7933              0              0        0   \n",
       "\n",
       "          2013.5         2013.6   2013.7         2014  ...         2017.6  \\\n",
       "0  시설토마토:면적 (ha)  10a당 생산량 (kg)  생산량 (톤)  토마토:면적 (ha)  ...  10a당 생산량 (kg)   \n",
       "1           6054           6419   388624         7070  ...           6142   \n",
       "2              2           6850      137            1  ...           1433   \n",
       "3            355           6213    22056          423  ...           6081   \n",
       "4             98           8095     7933           71  ...           5174   \n",
       "\n",
       "    2017.7         2018   2018.1         2018.2         2018.3   2018.4  \\\n",
       "0  생산량 (톤)  토마토:면적 (ha)  생산량 (톤)  노지토마토:면적 (ha)  10a당 생산량 (kg)  생산량 (톤)   \n",
       "1   355107         6058   388657              0              0        0   \n",
       "2       34            4       18              0              0        0   \n",
       "3    19196          363    25248              0              0        0   \n",
       "4    10201          167    11372              0              0        0   \n",
       "\n",
       "          2018.5         2018.6   2018.7  \n",
       "0  시설토마토:면적 (ha)  10a당 생산량 (kg)  생산량 (톤)  \n",
       "1           6058           6415   388657  \n",
       "2              4            450       18  \n",
       "3            363           6952    25248  \n",
       "4            167           6800    11372  \n",
       "\n",
       "[5 rows x 49 columns]"
      ]
     },
     "execution_count": 19,
     "metadata": {},
     "output_type": "execute_result"
    }
   ],
   "source": [
    "# 토마토 생산량 파일 확인\n",
    "to.head()"
   ]
  },
  {
   "cell_type": "code",
   "execution_count": 20,
   "metadata": {},
   "outputs": [],
   "source": [
    "# 컬럼명의 .1, .2 ...을 수정하기 위해 컬럼명을 리스트에 담기\n",
    "to_cols = to.columns.to_list()\n",
    "\n",
    "# for문을 통해 연도의 4글자만 가져오기\n",
    "for i in range(len(to_cols)):\n",
    "    if len(to_cols[i]) > 4:\n",
    "        to_cols[i] = to_cols[i][:4]"
   ]
  },
  {
   "cell_type": "code",
   "execution_count": 21,
   "metadata": {},
   "outputs": [
    {
     "data": {
      "text/html": [
       "<div>\n",
       "<style scoped>\n",
       "    .dataframe tbody tr th:only-of-type {\n",
       "        vertical-align: middle;\n",
       "    }\n",
       "\n",
       "    .dataframe tbody tr th {\n",
       "        vertical-align: top;\n",
       "    }\n",
       "\n",
       "    .dataframe thead th {\n",
       "        text-align: right;\n",
       "    }\n",
       "</style>\n",
       "<table border=\"1\" class=\"dataframe\">\n",
       "  <thead>\n",
       "    <tr style=\"text-align: right;\">\n",
       "      <th></th>\n",
       "      <th>시도별</th>\n",
       "      <th>2013</th>\n",
       "      <th>2013</th>\n",
       "      <th>2013</th>\n",
       "      <th>2013</th>\n",
       "      <th>2013</th>\n",
       "      <th>2013</th>\n",
       "      <th>2013</th>\n",
       "      <th>2013</th>\n",
       "      <th>2014</th>\n",
       "      <th>...</th>\n",
       "      <th>2017</th>\n",
       "      <th>2017</th>\n",
       "      <th>2018</th>\n",
       "      <th>2018</th>\n",
       "      <th>2018</th>\n",
       "      <th>2018</th>\n",
       "      <th>2018</th>\n",
       "      <th>2018</th>\n",
       "      <th>2018</th>\n",
       "      <th>2018</th>\n",
       "    </tr>\n",
       "  </thead>\n",
       "  <tbody>\n",
       "    <tr>\n",
       "      <th>0</th>\n",
       "      <td>시도별</td>\n",
       "      <td>토마토:면적 (ha)</td>\n",
       "      <td>생산량 (톤)</td>\n",
       "      <td>노지토마토:면적 (ha)</td>\n",
       "      <td>10a당 생산량 (kg)</td>\n",
       "      <td>생산량 (톤)</td>\n",
       "      <td>시설토마토:면적 (ha)</td>\n",
       "      <td>10a당 생산량 (kg)</td>\n",
       "      <td>생산량 (톤)</td>\n",
       "      <td>토마토:면적 (ha)</td>\n",
       "      <td>...</td>\n",
       "      <td>10a당 생산량 (kg)</td>\n",
       "      <td>생산량 (톤)</td>\n",
       "      <td>토마토:면적 (ha)</td>\n",
       "      <td>생산량 (톤)</td>\n",
       "      <td>노지토마토:면적 (ha)</td>\n",
       "      <td>10a당 생산량 (kg)</td>\n",
       "      <td>생산량 (톤)</td>\n",
       "      <td>시설토마토:면적 (ha)</td>\n",
       "      <td>10a당 생산량 (kg)</td>\n",
       "      <td>생산량 (톤)</td>\n",
       "    </tr>\n",
       "    <tr>\n",
       "      <th>1</th>\n",
       "      <td>계</td>\n",
       "      <td>6054</td>\n",
       "      <td>388624</td>\n",
       "      <td>0</td>\n",
       "      <td>0</td>\n",
       "      <td>0</td>\n",
       "      <td>6054</td>\n",
       "      <td>6419</td>\n",
       "      <td>388624</td>\n",
       "      <td>7070</td>\n",
       "      <td>...</td>\n",
       "      <td>6142</td>\n",
       "      <td>355107</td>\n",
       "      <td>6058</td>\n",
       "      <td>388657</td>\n",
       "      <td>0</td>\n",
       "      <td>0</td>\n",
       "      <td>0</td>\n",
       "      <td>6058</td>\n",
       "      <td>6415</td>\n",
       "      <td>388657</td>\n",
       "    </tr>\n",
       "  </tbody>\n",
       "</table>\n",
       "<p>2 rows × 49 columns</p>\n",
       "</div>"
      ],
      "text/plain": [
       "   시도별         2013     2013           2013           2013     2013  \\\n",
       "0  시도별  토마토:면적 (ha)  생산량 (톤)  노지토마토:면적 (ha)  10a당 생산량 (kg)  생산량 (톤)   \n",
       "1    계         6054   388624              0              0        0   \n",
       "\n",
       "            2013           2013     2013         2014  ...           2017  \\\n",
       "0  시설토마토:면적 (ha)  10a당 생산량 (kg)  생산량 (톤)  토마토:면적 (ha)  ...  10a당 생산량 (kg)   \n",
       "1           6054           6419   388624         7070  ...           6142   \n",
       "\n",
       "      2017         2018     2018           2018           2018     2018  \\\n",
       "0  생산량 (톤)  토마토:면적 (ha)  생산량 (톤)  노지토마토:면적 (ha)  10a당 생산량 (kg)  생산량 (톤)   \n",
       "1   355107         6058   388657              0              0        0   \n",
       "\n",
       "            2018           2018     2018  \n",
       "0  시설토마토:면적 (ha)  10a당 생산량 (kg)  생산량 (톤)  \n",
       "1           6058           6415   388657  \n",
       "\n",
       "[2 rows x 49 columns]"
      ]
     },
     "execution_count": 21,
     "metadata": {},
     "output_type": "execute_result"
    }
   ],
   "source": [
    "# 수정한 연도를 컬럼으로 지정하기\n",
    "to.columns = to_cols\n",
    "\n",
    "# 수정한 컬럼명 확인하기\n",
    "to.head(2)"
   ]
  },
  {
   "cell_type": "code",
   "execution_count": 22,
   "metadata": {},
   "outputs": [
    {
     "data": {
      "text/plain": [
       "시도별                시도별 시도별\n",
       "2013      2013 토마토:면적 (ha)\n",
       "2013          2013 생산량 (톤)\n",
       "2013    2013 노지토마토:면적 (ha)\n",
       "2013    2013 10a당 생산량 (kg)\n",
       "Name: 0, dtype: object"
      ]
     },
     "execution_count": 22,
     "metadata": {},
     "output_type": "execute_result"
    }
   ],
   "source": [
    "# 컬럼을 리스트에 담기\n",
    "to_cols = to.columns.to_list()\n",
    "\n",
    "# 첫 번째 행을 to_row에 담기\n",
    "to_row = to.iloc[0]\n",
    "\n",
    "# melt를 사용하기 위해 컬럼명 사이에 공백 넣기\n",
    "to_cols = [f'{i} ' for i in to_cols]\n",
    "tom = to_cols + to_row\n",
    "\n",
    "# 리스트 확인하기\n",
    "tom.head()"
   ]
  },
  {
   "cell_type": "code",
   "execution_count": 23,
   "metadata": {},
   "outputs": [
    {
     "data": {
      "text/html": [
       "<div>\n",
       "<style scoped>\n",
       "    .dataframe tbody tr th:only-of-type {\n",
       "        vertical-align: middle;\n",
       "    }\n",
       "\n",
       "    .dataframe tbody tr th {\n",
       "        vertical-align: top;\n",
       "    }\n",
       "\n",
       "    .dataframe thead th {\n",
       "        text-align: right;\n",
       "    }\n",
       "</style>\n",
       "<table border=\"1\" class=\"dataframe\">\n",
       "  <thead>\n",
       "    <tr style=\"text-align: right;\">\n",
       "      <th></th>\n",
       "      <th>연도</th>\n",
       "      <th>2013 토마토:면적 (ha)</th>\n",
       "      <th>2013 생산량 (톤)</th>\n",
       "      <th>2013 노지토마토:면적 (ha)</th>\n",
       "      <th>2013 10a당 생산량 (kg)</th>\n",
       "      <th>2013 생산량 (톤)</th>\n",
       "      <th>2013 시설토마토:면적 (ha)</th>\n",
       "      <th>2013 10a당 생산량 (kg)</th>\n",
       "      <th>2013 생산량 (톤)</th>\n",
       "      <th>2014 토마토:면적 (ha)</th>\n",
       "      <th>...</th>\n",
       "      <th>2017 10a당 생산량 (kg)</th>\n",
       "      <th>2017 생산량 (톤)</th>\n",
       "      <th>2018 토마토:면적 (ha)</th>\n",
       "      <th>2018 생산량 (톤)</th>\n",
       "      <th>2018 노지토마토:면적 (ha)</th>\n",
       "      <th>2018 10a당 생산량 (kg)</th>\n",
       "      <th>2018 생산량 (톤)</th>\n",
       "      <th>2018 시설토마토:면적 (ha)</th>\n",
       "      <th>2018 10a당 생산량 (kg)</th>\n",
       "      <th>2018 생산량 (톤)</th>\n",
       "    </tr>\n",
       "  </thead>\n",
       "  <tbody>\n",
       "    <tr>\n",
       "      <th>0</th>\n",
       "      <td>시도별</td>\n",
       "      <td>토마토:면적 (ha)</td>\n",
       "      <td>생산량 (톤)</td>\n",
       "      <td>노지토마토:면적 (ha)</td>\n",
       "      <td>10a당 생산량 (kg)</td>\n",
       "      <td>생산량 (톤)</td>\n",
       "      <td>시설토마토:면적 (ha)</td>\n",
       "      <td>10a당 생산량 (kg)</td>\n",
       "      <td>생산량 (톤)</td>\n",
       "      <td>토마토:면적 (ha)</td>\n",
       "      <td>...</td>\n",
       "      <td>10a당 생산량 (kg)</td>\n",
       "      <td>생산량 (톤)</td>\n",
       "      <td>토마토:면적 (ha)</td>\n",
       "      <td>생산량 (톤)</td>\n",
       "      <td>노지토마토:면적 (ha)</td>\n",
       "      <td>10a당 생산량 (kg)</td>\n",
       "      <td>생산량 (톤)</td>\n",
       "      <td>시설토마토:면적 (ha)</td>\n",
       "      <td>10a당 생산량 (kg)</td>\n",
       "      <td>생산량 (톤)</td>\n",
       "    </tr>\n",
       "    <tr>\n",
       "      <th>1</th>\n",
       "      <td>계</td>\n",
       "      <td>6054</td>\n",
       "      <td>388624</td>\n",
       "      <td>0</td>\n",
       "      <td>0</td>\n",
       "      <td>0</td>\n",
       "      <td>6054</td>\n",
       "      <td>6419</td>\n",
       "      <td>388624</td>\n",
       "      <td>7070</td>\n",
       "      <td>...</td>\n",
       "      <td>6142</td>\n",
       "      <td>355107</td>\n",
       "      <td>6058</td>\n",
       "      <td>388657</td>\n",
       "      <td>0</td>\n",
       "      <td>0</td>\n",
       "      <td>0</td>\n",
       "      <td>6058</td>\n",
       "      <td>6415</td>\n",
       "      <td>388657</td>\n",
       "    </tr>\n",
       "  </tbody>\n",
       "</table>\n",
       "<p>2 rows × 49 columns</p>\n",
       "</div>"
      ],
      "text/plain": [
       "0   연도 2013 토마토:면적 (ha) 2013 생산량 (톤) 2013 노지토마토:면적 (ha) 2013 10a당 생산량 (kg)  \\\n",
       "0  시도별      토마토:면적 (ha)      생산량 (톤)      노지토마토:면적 (ha)      10a당 생산량 (kg)   \n",
       "1    계             6054       388624                  0                  0   \n",
       "\n",
       "0 2013 생산량 (톤) 2013 시설토마토:면적 (ha) 2013 10a당 생산량 (kg) 2013 생산량 (톤)  \\\n",
       "0      생산량 (톤)      시설토마토:면적 (ha)      10a당 생산량 (kg)      생산량 (톤)   \n",
       "1            0               6054               6419       388624   \n",
       "\n",
       "0 2014 토마토:면적 (ha)  ... 2017 10a당 생산량 (kg) 2017 생산량 (톤) 2018 토마토:면적 (ha)  \\\n",
       "0      토마토:면적 (ha)  ...      10a당 생산량 (kg)      생산량 (톤)      토마토:면적 (ha)   \n",
       "1             7070  ...               6142       355107             6058   \n",
       "\n",
       "0 2018 생산량 (톤) 2018 노지토마토:면적 (ha) 2018 10a당 생산량 (kg) 2018 생산량 (톤)  \\\n",
       "0      생산량 (톤)      노지토마토:면적 (ha)      10a당 생산량 (kg)      생산량 (톤)   \n",
       "1       388657                  0                  0            0   \n",
       "\n",
       "0 2018 시설토마토:면적 (ha) 2018 10a당 생산량 (kg) 2018 생산량 (톤)  \n",
       "0      시설토마토:면적 (ha)      10a당 생산량 (kg)      생산량 (톤)  \n",
       "1               6058               6415       388657  \n",
       "\n",
       "[2 rows x 49 columns]"
      ]
     },
     "execution_count": 23,
     "metadata": {},
     "output_type": "execute_result"
    }
   ],
   "source": [
    "# 첫 번째 인덱스명을 '연도'로 수정하기\n",
    "tom[0] = \"연도\"\n",
    "\n",
    "# 첫 번째 컬럼명을 '연도'로 수정하기\n",
    "to.columns = tom\n",
    "\n",
    "# 수정한 컬럼명 확인하기\n",
    "to.head(2)"
   ]
  },
  {
   "cell_type": "code",
   "execution_count": 24,
   "metadata": {
    "scrolled": true
   },
   "outputs": [
    {
     "data": {
      "text/html": [
       "<div>\n",
       "<style scoped>\n",
       "    .dataframe tbody tr th:only-of-type {\n",
       "        vertical-align: middle;\n",
       "    }\n",
       "\n",
       "    .dataframe tbody tr th {\n",
       "        vertical-align: top;\n",
       "    }\n",
       "\n",
       "    .dataframe thead th {\n",
       "        text-align: right;\n",
       "    }\n",
       "</style>\n",
       "<table border=\"1\" class=\"dataframe\">\n",
       "  <thead>\n",
       "    <tr style=\"text-align: right;\">\n",
       "      <th></th>\n",
       "      <th>연도</th>\n",
       "      <th>2013 토마토:면적 (ha)</th>\n",
       "      <th>2013 생산량 (톤)</th>\n",
       "      <th>2013 노지토마토:면적 (ha)</th>\n",
       "      <th>2013 10a당 생산량 (kg)</th>\n",
       "      <th>2013 생산량 (톤)</th>\n",
       "      <th>2013 시설토마토:면적 (ha)</th>\n",
       "      <th>2013 10a당 생산량 (kg)</th>\n",
       "      <th>2013 생산량 (톤)</th>\n",
       "      <th>2014 토마토:면적 (ha)</th>\n",
       "      <th>...</th>\n",
       "      <th>2017 10a당 생산량 (kg)</th>\n",
       "      <th>2017 생산량 (톤)</th>\n",
       "      <th>2018 토마토:면적 (ha)</th>\n",
       "      <th>2018 생산량 (톤)</th>\n",
       "      <th>2018 노지토마토:면적 (ha)</th>\n",
       "      <th>2018 10a당 생산량 (kg)</th>\n",
       "      <th>2018 생산량 (톤)</th>\n",
       "      <th>2018 시설토마토:면적 (ha)</th>\n",
       "      <th>2018 10a당 생산량 (kg)</th>\n",
       "      <th>2018 생산량 (톤)</th>\n",
       "    </tr>\n",
       "  </thead>\n",
       "  <tbody>\n",
       "    <tr>\n",
       "      <th>2</th>\n",
       "      <td>서울특별시</td>\n",
       "      <td>2</td>\n",
       "      <td>137</td>\n",
       "      <td>0</td>\n",
       "      <td>0</td>\n",
       "      <td>0</td>\n",
       "      <td>2</td>\n",
       "      <td>6850</td>\n",
       "      <td>137</td>\n",
       "      <td>1</td>\n",
       "      <td>...</td>\n",
       "      <td>1433</td>\n",
       "      <td>34</td>\n",
       "      <td>4</td>\n",
       "      <td>18</td>\n",
       "      <td>0</td>\n",
       "      <td>0</td>\n",
       "      <td>0</td>\n",
       "      <td>4</td>\n",
       "      <td>450</td>\n",
       "      <td>18</td>\n",
       "    </tr>\n",
       "    <tr>\n",
       "      <th>3</th>\n",
       "      <td>부산광역시</td>\n",
       "      <td>355</td>\n",
       "      <td>22056</td>\n",
       "      <td>0</td>\n",
       "      <td>0</td>\n",
       "      <td>0</td>\n",
       "      <td>355</td>\n",
       "      <td>6213</td>\n",
       "      <td>22056</td>\n",
       "      <td>423</td>\n",
       "      <td>...</td>\n",
       "      <td>6081</td>\n",
       "      <td>19196</td>\n",
       "      <td>363</td>\n",
       "      <td>25248</td>\n",
       "      <td>0</td>\n",
       "      <td>0</td>\n",
       "      <td>0</td>\n",
       "      <td>363</td>\n",
       "      <td>6952</td>\n",
       "      <td>25248</td>\n",
       "    </tr>\n",
       "    <tr>\n",
       "      <th>4</th>\n",
       "      <td>대구광역시</td>\n",
       "      <td>98</td>\n",
       "      <td>7933</td>\n",
       "      <td>0</td>\n",
       "      <td>0</td>\n",
       "      <td>0</td>\n",
       "      <td>98</td>\n",
       "      <td>8095</td>\n",
       "      <td>7933</td>\n",
       "      <td>71</td>\n",
       "      <td>...</td>\n",
       "      <td>5174</td>\n",
       "      <td>10201</td>\n",
       "      <td>167</td>\n",
       "      <td>11372</td>\n",
       "      <td>0</td>\n",
       "      <td>0</td>\n",
       "      <td>0</td>\n",
       "      <td>167</td>\n",
       "      <td>6800</td>\n",
       "      <td>11372</td>\n",
       "    </tr>\n",
       "    <tr>\n",
       "      <th>5</th>\n",
       "      <td>인천광역시</td>\n",
       "      <td>111</td>\n",
       "      <td>5130</td>\n",
       "      <td>0</td>\n",
       "      <td>0</td>\n",
       "      <td>0</td>\n",
       "      <td>111</td>\n",
       "      <td>4622</td>\n",
       "      <td>5130</td>\n",
       "      <td>120</td>\n",
       "      <td>...</td>\n",
       "      <td>7023</td>\n",
       "      <td>3887</td>\n",
       "      <td>54</td>\n",
       "      <td>3491</td>\n",
       "      <td>0</td>\n",
       "      <td>0</td>\n",
       "      <td>0</td>\n",
       "      <td>54</td>\n",
       "      <td>6515</td>\n",
       "      <td>3491</td>\n",
       "    </tr>\n",
       "    <tr>\n",
       "      <th>6</th>\n",
       "      <td>광주광역시</td>\n",
       "      <td>260</td>\n",
       "      <td>5613</td>\n",
       "      <td>0</td>\n",
       "      <td>0</td>\n",
       "      <td>0</td>\n",
       "      <td>260</td>\n",
       "      <td>2159</td>\n",
       "      <td>5613</td>\n",
       "      <td>216</td>\n",
       "      <td>...</td>\n",
       "      <td>7679</td>\n",
       "      <td>9751</td>\n",
       "      <td>123</td>\n",
       "      <td>11753</td>\n",
       "      <td>0</td>\n",
       "      <td>0</td>\n",
       "      <td>0</td>\n",
       "      <td>123</td>\n",
       "      <td>9538</td>\n",
       "      <td>11753</td>\n",
       "    </tr>\n",
       "  </tbody>\n",
       "</table>\n",
       "<p>5 rows × 49 columns</p>\n",
       "</div>"
      ],
      "text/plain": [
       "0     연도 2013 토마토:면적 (ha) 2013 생산량 (톤) 2013 노지토마토:면적 (ha) 2013 10a당 생산량 (kg)  \\\n",
       "2  서울특별시                2          137                  0                  0   \n",
       "3  부산광역시              355        22056                  0                  0   \n",
       "4  대구광역시               98         7933                  0                  0   \n",
       "5  인천광역시              111         5130                  0                  0   \n",
       "6  광주광역시              260         5613                  0                  0   \n",
       "\n",
       "0 2013 생산량 (톤) 2013 시설토마토:면적 (ha) 2013 10a당 생산량 (kg) 2013 생산량 (톤)  \\\n",
       "2            0                  2               6850          137   \n",
       "3            0                355               6213        22056   \n",
       "4            0                 98               8095         7933   \n",
       "5            0                111               4622         5130   \n",
       "6            0                260               2159         5613   \n",
       "\n",
       "0 2014 토마토:면적 (ha)  ... 2017 10a당 생산량 (kg) 2017 생산량 (톤) 2018 토마토:면적 (ha)  \\\n",
       "2                1  ...               1433           34                4   \n",
       "3              423  ...               6081        19196              363   \n",
       "4               71  ...               5174        10201              167   \n",
       "5              120  ...               7023         3887               54   \n",
       "6              216  ...               7679         9751              123   \n",
       "\n",
       "0 2018 생산량 (톤) 2018 노지토마토:면적 (ha) 2018 10a당 생산량 (kg) 2018 생산량 (톤)  \\\n",
       "2           18                  0                  0            0   \n",
       "3        25248                  0                  0            0   \n",
       "4        11372                  0                  0            0   \n",
       "5         3491                  0                  0            0   \n",
       "6        11753                  0                  0            0   \n",
       "\n",
       "0 2018 시설토마토:면적 (ha) 2018 10a당 생산량 (kg) 2018 생산량 (톤)  \n",
       "2                  4                450           18  \n",
       "3                363               6952        25248  \n",
       "4                167               6800        11372  \n",
       "5                 54               6515         3491  \n",
       "6                123               9538        11753  \n",
       "\n",
       "[5 rows x 49 columns]"
      ]
     },
     "execution_count": 24,
     "metadata": {},
     "output_type": "execute_result"
    }
   ],
   "source": [
    "# 사용하지 않는 0, 1 행 삭제하기\n",
    "to = to.drop(labels=[0,1],axis=0)\n",
    "\n",
    "# 인덱스 리셋하기\n",
    "to.reset_index(drop=True)\n",
    "\n",
    "# 수정한 인덱스 확인\n",
    "to.head()"
   ]
  },
  {
   "cell_type": "code",
   "execution_count": 25,
   "metadata": {},
   "outputs": [
    {
     "data": {
      "text/html": [
       "<div>\n",
       "<style scoped>\n",
       "    .dataframe tbody tr th:only-of-type {\n",
       "        vertical-align: middle;\n",
       "    }\n",
       "\n",
       "    .dataframe tbody tr th {\n",
       "        vertical-align: top;\n",
       "    }\n",
       "\n",
       "    .dataframe thead th {\n",
       "        text-align: right;\n",
       "    }\n",
       "</style>\n",
       "<table border=\"1\" class=\"dataframe\">\n",
       "  <thead>\n",
       "    <tr style=\"text-align: right;\">\n",
       "      <th></th>\n",
       "      <th>연도</th>\n",
       "      <th>0</th>\n",
       "      <th>value</th>\n",
       "    </tr>\n",
       "  </thead>\n",
       "  <tbody>\n",
       "    <tr>\n",
       "      <th>0</th>\n",
       "      <td>서울특별시</td>\n",
       "      <td>2013 토마토:면적 (ha)</td>\n",
       "      <td>2</td>\n",
       "    </tr>\n",
       "    <tr>\n",
       "      <th>1</th>\n",
       "      <td>부산광역시</td>\n",
       "      <td>2013 토마토:면적 (ha)</td>\n",
       "      <td>355</td>\n",
       "    </tr>\n",
       "    <tr>\n",
       "      <th>2</th>\n",
       "      <td>대구광역시</td>\n",
       "      <td>2013 토마토:면적 (ha)</td>\n",
       "      <td>98</td>\n",
       "    </tr>\n",
       "    <tr>\n",
       "      <th>3</th>\n",
       "      <td>인천광역시</td>\n",
       "      <td>2013 토마토:면적 (ha)</td>\n",
       "      <td>111</td>\n",
       "    </tr>\n",
       "    <tr>\n",
       "      <th>4</th>\n",
       "      <td>광주광역시</td>\n",
       "      <td>2013 토마토:면적 (ha)</td>\n",
       "      <td>260</td>\n",
       "    </tr>\n",
       "  </tbody>\n",
       "</table>\n",
       "</div>"
      ],
      "text/plain": [
       "      연도                 0 value\n",
       "0  서울특별시  2013 토마토:면적 (ha)     2\n",
       "1  부산광역시  2013 토마토:면적 (ha)   355\n",
       "2  대구광역시  2013 토마토:면적 (ha)    98\n",
       "3  인천광역시  2013 토마토:면적 (ha)   111\n",
       "4  광주광역시  2013 토마토:면적 (ha)   260"
      ]
     },
     "execution_count": 25,
     "metadata": {},
     "output_type": "execute_result"
    }
   ],
   "source": [
    "# 롱 포맷으로 변경하기 위해 melt 함수 사용하기\n",
    "tos = pd.melt(to, id_vars='연도')\n",
    "\n",
    "# 롱 포맷으로 변경된 데이터 확인\n",
    "tos.head()"
   ]
  },
  {
   "cell_type": "code",
   "execution_count": 26,
   "metadata": {},
   "outputs": [
    {
     "data": {
      "text/html": [
       "<div>\n",
       "<style scoped>\n",
       "    .dataframe tbody tr th:only-of-type {\n",
       "        vertical-align: middle;\n",
       "    }\n",
       "\n",
       "    .dataframe tbody tr th {\n",
       "        vertical-align: top;\n",
       "    }\n",
       "\n",
       "    .dataframe thead th {\n",
       "        text-align: right;\n",
       "    }\n",
       "</style>\n",
       "<table border=\"1\" class=\"dataframe\">\n",
       "  <thead>\n",
       "    <tr style=\"text-align: right;\">\n",
       "      <th></th>\n",
       "      <th></th>\n",
       "      <th>value</th>\n",
       "    </tr>\n",
       "    <tr>\n",
       "      <th>0</th>\n",
       "      <th>연도</th>\n",
       "      <th></th>\n",
       "    </tr>\n",
       "  </thead>\n",
       "  <tbody>\n",
       "    <tr>\n",
       "      <th rowspan=\"5\" valign=\"top\">2013 10a당 생산량 (kg)</th>\n",
       "      <th>강원도</th>\n",
       "      <td>06245</td>\n",
       "    </tr>\n",
       "    <tr>\n",
       "      <th>경기도</th>\n",
       "      <td>06606</td>\n",
       "    </tr>\n",
       "    <tr>\n",
       "      <th>경상남도</th>\n",
       "      <td>07231</td>\n",
       "    </tr>\n",
       "    <tr>\n",
       "      <th>경상북도</th>\n",
       "      <td>06707</td>\n",
       "    </tr>\n",
       "    <tr>\n",
       "      <th>광주광역시</th>\n",
       "      <td>02159</td>\n",
       "    </tr>\n",
       "  </tbody>\n",
       "</table>\n",
       "</div>"
      ],
      "text/plain": [
       "                          value\n",
       "0                  연도          \n",
       "2013 10a당 생산량 (kg) 강원도    06245\n",
       "                   경기도    06606\n",
       "                   경상남도   07231\n",
       "                   경상북도   06707\n",
       "                   광주광역시  02159"
      ]
     },
     "execution_count": 26,
     "metadata": {},
     "output_type": "execute_result"
    }
   ],
   "source": [
    "# 0과 '연도'를 기준으로 정렬하기\n",
    "toss = tos.groupby([0,'연도'])['value'].sum()\n",
    "\n",
    "# 정렬한 데이터를 데이터프레임으로 만들기\n",
    "toss = pd.DataFrame(toss)\n",
    "\n",
    "# 데이터프레임 확인하기\n",
    "toss.head()"
   ]
  },
  {
   "cell_type": "code",
   "execution_count": 27,
   "metadata": {},
   "outputs": [
    {
     "data": {
      "text/html": [
       "<div>\n",
       "<style scoped>\n",
       "    .dataframe tbody tr th:only-of-type {\n",
       "        vertical-align: middle;\n",
       "    }\n",
       "\n",
       "    .dataframe tbody tr th {\n",
       "        vertical-align: top;\n",
       "    }\n",
       "\n",
       "    .dataframe thead th {\n",
       "        text-align: right;\n",
       "    }\n",
       "</style>\n",
       "<table border=\"1\" class=\"dataframe\">\n",
       "  <thead>\n",
       "    <tr style=\"text-align: right;\">\n",
       "      <th></th>\n",
       "      <th>항목</th>\n",
       "      <th>도</th>\n",
       "      <th>value</th>\n",
       "    </tr>\n",
       "  </thead>\n",
       "  <tbody>\n",
       "    <tr>\n",
       "      <th>0</th>\n",
       "      <td>2013 10a당 생산량 (kg)</td>\n",
       "      <td>강원도</td>\n",
       "      <td>06245</td>\n",
       "    </tr>\n",
       "    <tr>\n",
       "      <th>1</th>\n",
       "      <td>2013 10a당 생산량 (kg)</td>\n",
       "      <td>경기도</td>\n",
       "      <td>06606</td>\n",
       "    </tr>\n",
       "    <tr>\n",
       "      <th>2</th>\n",
       "      <td>2013 10a당 생산량 (kg)</td>\n",
       "      <td>경상남도</td>\n",
       "      <td>07231</td>\n",
       "    </tr>\n",
       "    <tr>\n",
       "      <th>3</th>\n",
       "      <td>2013 10a당 생산량 (kg)</td>\n",
       "      <td>경상북도</td>\n",
       "      <td>06707</td>\n",
       "    </tr>\n",
       "    <tr>\n",
       "      <th>4</th>\n",
       "      <td>2013 10a당 생산량 (kg)</td>\n",
       "      <td>광주광역시</td>\n",
       "      <td>02159</td>\n",
       "    </tr>\n",
       "  </tbody>\n",
       "</table>\n",
       "</div>"
      ],
      "text/plain": [
       "                   항목      도  value\n",
       "0  2013 10a당 생산량 (kg)    강원도  06245\n",
       "1  2013 10a당 생산량 (kg)    경기도  06606\n",
       "2  2013 10a당 생산량 (kg)   경상남도  07231\n",
       "3  2013 10a당 생산량 (kg)   경상북도  06707\n",
       "4  2013 10a당 생산량 (kg)  광주광역시  02159"
      ]
     },
     "execution_count": 27,
     "metadata": {},
     "output_type": "execute_result"
    }
   ],
   "source": [
    "# 인덱스 리셋하기\n",
    "toss = toss.reset_index()\n",
    "\n",
    "# 컬럼명을 '항목', '시군구'로 변경하기\n",
    "toss.rename(columns={0:'항목','연도':'도'},inplace=True)\n",
    "\n",
    "# 변경된 데이터프레임 확인\n",
    "toss.head()"
   ]
  },
  {
   "cell_type": "code",
   "execution_count": 28,
   "metadata": {
    "scrolled": false
   },
   "outputs": [
    {
     "data": {
      "text/html": [
       "<div>\n",
       "<style scoped>\n",
       "    .dataframe tbody tr th:only-of-type {\n",
       "        vertical-align: middle;\n",
       "    }\n",
       "\n",
       "    .dataframe tbody tr th {\n",
       "        vertical-align: top;\n",
       "    }\n",
       "\n",
       "    .dataframe thead th {\n",
       "        text-align: right;\n",
       "    }\n",
       "</style>\n",
       "<table border=\"1\" class=\"dataframe\">\n",
       "  <thead>\n",
       "    <tr style=\"text-align: right;\">\n",
       "      <th></th>\n",
       "      <th>항목</th>\n",
       "      <th>도</th>\n",
       "      <th>value</th>\n",
       "      <th>연도</th>\n",
       "    </tr>\n",
       "  </thead>\n",
       "  <tbody>\n",
       "    <tr>\n",
       "      <th>0</th>\n",
       "      <td>10a당 생산량 (kg)</td>\n",
       "      <td>강원도</td>\n",
       "      <td>06245</td>\n",
       "      <td>2013</td>\n",
       "    </tr>\n",
       "    <tr>\n",
       "      <th>1</th>\n",
       "      <td>10a당 생산량 (kg)</td>\n",
       "      <td>경기도</td>\n",
       "      <td>06606</td>\n",
       "      <td>2013</td>\n",
       "    </tr>\n",
       "    <tr>\n",
       "      <th>2</th>\n",
       "      <td>10a당 생산량 (kg)</td>\n",
       "      <td>경상남도</td>\n",
       "      <td>07231</td>\n",
       "      <td>2013</td>\n",
       "    </tr>\n",
       "    <tr>\n",
       "      <th>3</th>\n",
       "      <td>10a당 생산량 (kg)</td>\n",
       "      <td>경상북도</td>\n",
       "      <td>06707</td>\n",
       "      <td>2013</td>\n",
       "    </tr>\n",
       "    <tr>\n",
       "      <th>4</th>\n",
       "      <td>10a당 생산량 (kg)</td>\n",
       "      <td>광주광역시</td>\n",
       "      <td>02159</td>\n",
       "      <td>2013</td>\n",
       "    </tr>\n",
       "  </tbody>\n",
       "</table>\n",
       "</div>"
      ],
      "text/plain": [
       "               항목      도  value    연도\n",
       "0   10a당 생산량 (kg)    강원도  06245  2013\n",
       "1   10a당 생산량 (kg)    경기도  06606  2013\n",
       "2   10a당 생산량 (kg)   경상남도  07231  2013\n",
       "3   10a당 생산량 (kg)   경상북도  06707  2013\n",
       "4   10a당 생산량 (kg)  광주광역시  02159  2013"
      ]
     },
     "execution_count": 28,
     "metadata": {},
     "output_type": "execute_result"
    }
   ],
   "source": [
    "# '연도' 컬럼 만들기\n",
    "toss['연도'] = toss['항목'].str[:4]\n",
    "\n",
    "# '항목' 컬럼에 '연도'를 제외한 내용 남기기\n",
    "toss['항목']=toss['항목'].str[4:]\n",
    "\n",
    "# 수정된 내용 확인\n",
    "toss.head()"
   ]
  },
  {
   "cell_type": "code",
   "execution_count": 29,
   "metadata": {
    "scrolled": false
   },
   "outputs": [
    {
     "name": "stdout",
     "output_type": "stream",
     "text": [
      "<class 'pandas.core.frame.DataFrame'>\n",
      "RangeIndex: 510 entries, 0 to 509\n",
      "Data columns (total 4 columns):\n",
      "항목       510 non-null object\n",
      "도        510 non-null object\n",
      "value    510 non-null object\n",
      "연도       510 non-null object\n",
      "dtypes: object(4)\n",
      "memory usage: 16.1+ KB\n"
     ]
    }
   ],
   "source": [
    "toss.info()"
   ]
  },
  {
   "cell_type": "code",
   "execution_count": 30,
   "metadata": {
    "scrolled": true
   },
   "outputs": [
    {
     "name": "stdout",
     "output_type": "stream",
     "text": [
      "<class 'pandas.core.frame.DataFrame'>\n",
      "RangeIndex: 510 entries, 0 to 509\n",
      "Data columns (total 4 columns):\n",
      "항목       510 non-null object\n",
      "도        510 non-null object\n",
      "value    510 non-null int64\n",
      "연도       510 non-null object\n",
      "dtypes: int64(1), object(3)\n",
      "memory usage: 16.1+ KB\n"
     ]
    }
   ],
   "source": [
    "# value를 숫자로 변경 시 오류 발생 -> 세종특별자치시에 '-'값이 있기 때문\n",
    "# '-'를 0으로 변경\n",
    "toss.loc[toss['도'].str.contains('세종'),'value'] = toss.loc[toss['도'].str.contains('세종'),'value'].str.replace(r'-+','0')\n",
    "\n",
    "# 'value' 컬럼을 숫자 타입으로 변경\n",
    "toss['value'] = toss['value'].astype(int)\n",
    "\n",
    "# 변경된 데이터 확인\n",
    "toss.info()"
   ]
  },
  {
   "cell_type": "code",
   "execution_count": 31,
   "metadata": {},
   "outputs": [
    {
     "data": {
      "text/html": [
       "<div>\n",
       "<style scoped>\n",
       "    .dataframe tbody tr th:only-of-type {\n",
       "        vertical-align: middle;\n",
       "    }\n",
       "\n",
       "    .dataframe tbody tr th {\n",
       "        vertical-align: top;\n",
       "    }\n",
       "\n",
       "    .dataframe thead tr th {\n",
       "        text-align: left;\n",
       "    }\n",
       "\n",
       "    .dataframe thead tr:last-of-type th {\n",
       "        text-align: right;\n",
       "    }\n",
       "</style>\n",
       "<table border=\"1\" class=\"dataframe\">\n",
       "  <thead>\n",
       "    <tr>\n",
       "      <th></th>\n",
       "      <th colspan=\"5\" halign=\"left\">value</th>\n",
       "    </tr>\n",
       "    <tr>\n",
       "      <th>항목</th>\n",
       "      <th>10a당 생산량 (kg)</th>\n",
       "      <th>노지토마토:면적 (ha)</th>\n",
       "      <th>생산량 (톤)</th>\n",
       "      <th>시설토마토:면적 (ha)</th>\n",
       "      <th>토마토:면적 (ha)</th>\n",
       "    </tr>\n",
       "    <tr>\n",
       "      <th>연도</th>\n",
       "      <th></th>\n",
       "      <th></th>\n",
       "      <th></th>\n",
       "      <th></th>\n",
       "      <th></th>\n",
       "    </tr>\n",
       "  </thead>\n",
       "  <tbody>\n",
       "    <tr>\n",
       "      <th>2013</th>\n",
       "      <td>97299</td>\n",
       "      <td>0</td>\n",
       "      <td>358919258624</td>\n",
       "      <td>6054</td>\n",
       "      <td>6054</td>\n",
       "    </tr>\n",
       "    <tr>\n",
       "      <th>2014</th>\n",
       "      <td>99412</td>\n",
       "      <td>0</td>\n",
       "      <td>1472247968960</td>\n",
       "      <td>7070</td>\n",
       "      <td>7070</td>\n",
       "    </tr>\n",
       "    <tr>\n",
       "      <th>2015</th>\n",
       "      <td>98864</td>\n",
       "      <td>0</td>\n",
       "      <td>442608826982</td>\n",
       "      <td>6976</td>\n",
       "      <td>6976</td>\n",
       "    </tr>\n",
       "    <tr>\n",
       "      <th>2016</th>\n",
       "      <td>99472</td>\n",
       "      <td>0</td>\n",
       "      <td>380156970303</td>\n",
       "      <td>6391</td>\n",
       "      <td>6391</td>\n",
       "    </tr>\n",
       "    <tr>\n",
       "      <th>2017</th>\n",
       "      <td>97133</td>\n",
       "      <td>0</td>\n",
       "      <td>335358529107</td>\n",
       "      <td>5781</td>\n",
       "      <td>5781</td>\n",
       "    </tr>\n",
       "    <tr>\n",
       "      <th>2018</th>\n",
       "      <td>101517</td>\n",
       "      <td>0</td>\n",
       "      <td>380223236657</td>\n",
       "      <td>6059</td>\n",
       "      <td>6059</td>\n",
       "    </tr>\n",
       "  </tbody>\n",
       "</table>\n",
       "</div>"
      ],
      "text/plain": [
       "              value                                                          \n",
       "항목    10a당 생산량 (kg)  노지토마토:면적 (ha)        생산량 (톤)  시설토마토:면적 (ha)  토마토:면적 (ha)\n",
       "연도                                                                           \n",
       "2013          97299              0   358919258624           6054         6054\n",
       "2014          99412              0  1472247968960           7070         7070\n",
       "2015          98864              0   442608826982           6976         6976\n",
       "2016          99472              0   380156970303           6391         6391\n",
       "2017          97133              0   335358529107           5781         5781\n",
       "2018         101517              0   380223236657           6059         6059"
      ]
     },
     "execution_count": 31,
     "metadata": {},
     "output_type": "execute_result"
    }
   ],
   "source": [
    "# 피벗테이블로 정렬\n",
    "tt = pd.pivot_table(toss, index= '연도', columns=['항목'], aggfunc='sum')\n",
    "tt"
   ]
  },
  {
   "cell_type": "code",
   "execution_count": 32,
   "metadata": {},
   "outputs": [
    {
     "data": {
      "text/plain": [
       "MultiIndex([('value', ' 10a당 생산량 (kg)'),\n",
       "            ('value', ' 노지토마토:면적 (ha)'),\n",
       "            ('value',       ' 생산량 (톤)'),\n",
       "            ('value', ' 시설토마토:면적 (ha)'),\n",
       "            ('value',   ' 토마토:면적 (ha)')],\n",
       "           names=[None, '항목'])"
      ]
     },
     "execution_count": 32,
     "metadata": {},
     "output_type": "execute_result"
    }
   ],
   "source": [
    "# 컬럼명 확인\n",
    "tt.columns"
   ]
  },
  {
   "cell_type": "code",
   "execution_count": 33,
   "metadata": {},
   "outputs": [
    {
     "data": {
      "text/html": [
       "<div>\n",
       "<style scoped>\n",
       "    .dataframe tbody tr th:only-of-type {\n",
       "        vertical-align: middle;\n",
       "    }\n",
       "\n",
       "    .dataframe tbody tr th {\n",
       "        vertical-align: top;\n",
       "    }\n",
       "\n",
       "    .dataframe thead tr th {\n",
       "        text-align: left;\n",
       "    }\n",
       "\n",
       "    .dataframe thead tr:last-of-type th {\n",
       "        text-align: right;\n",
       "    }\n",
       "</style>\n",
       "<table border=\"1\" class=\"dataframe\">\n",
       "  <thead>\n",
       "    <tr>\n",
       "      <th></th>\n",
       "      <th colspan=\"3\" halign=\"left\">value</th>\n",
       "    </tr>\n",
       "    <tr>\n",
       "      <th>항목</th>\n",
       "      <th>10a당 생산량 (kg)</th>\n",
       "      <th>생산량 (톤)</th>\n",
       "      <th>시설토마토:면적 (ha)</th>\n",
       "    </tr>\n",
       "    <tr>\n",
       "      <th>연도</th>\n",
       "      <th></th>\n",
       "      <th></th>\n",
       "      <th></th>\n",
       "    </tr>\n",
       "  </thead>\n",
       "  <tbody>\n",
       "    <tr>\n",
       "      <th>2013</th>\n",
       "      <td>97299</td>\n",
       "      <td>358919258624</td>\n",
       "      <td>6054</td>\n",
       "    </tr>\n",
       "    <tr>\n",
       "      <th>2014</th>\n",
       "      <td>99412</td>\n",
       "      <td>1472247968960</td>\n",
       "      <td>7070</td>\n",
       "    </tr>\n",
       "    <tr>\n",
       "      <th>2015</th>\n",
       "      <td>98864</td>\n",
       "      <td>442608826982</td>\n",
       "      <td>6976</td>\n",
       "    </tr>\n",
       "    <tr>\n",
       "      <th>2016</th>\n",
       "      <td>99472</td>\n",
       "      <td>380156970303</td>\n",
       "      <td>6391</td>\n",
       "    </tr>\n",
       "    <tr>\n",
       "      <th>2017</th>\n",
       "      <td>97133</td>\n",
       "      <td>335358529107</td>\n",
       "      <td>5781</td>\n",
       "    </tr>\n",
       "    <tr>\n",
       "      <th>2018</th>\n",
       "      <td>101517</td>\n",
       "      <td>380223236657</td>\n",
       "      <td>6059</td>\n",
       "    </tr>\n",
       "  </tbody>\n",
       "</table>\n",
       "</div>"
      ],
      "text/plain": [
       "              value                              \n",
       "항목    10a당 생산량 (kg)        생산량 (톤)  시설토마토:면적 (ha)\n",
       "연도                                               \n",
       "2013          97299   358919258624           6054\n",
       "2014          99412  1472247968960           7070\n",
       "2015          98864   442608826982           6976\n",
       "2016          99472   380156970303           6391\n",
       "2017          97133   335358529107           5781\n",
       "2018         101517   380223236657           6059"
      ]
     },
     "execution_count": 33,
     "metadata": {},
     "output_type": "execute_result"
    }
   ],
   "source": [
    "# 사용하지 않는 노지토마토 면적과 중복되는 토마토면적 컬럼 삭제\n",
    "tt = tt.drop(labels=[('value', ' 노지토마토:면적 (ha)'),\n",
    "                    ('value',   ' 토마토:면적 (ha)')], axis=1)\n",
    "\n",
    "# 컬럼이 삭제되었는지 확인\n",
    "tt"
   ]
  },
  {
   "cell_type": "code",
   "execution_count": 34,
   "metadata": {},
   "outputs": [
    {
     "data": {
      "text/html": [
       "<div>\n",
       "<style scoped>\n",
       "    .dataframe tbody tr th:only-of-type {\n",
       "        vertical-align: middle;\n",
       "    }\n",
       "\n",
       "    .dataframe tbody tr th {\n",
       "        vertical-align: top;\n",
       "    }\n",
       "\n",
       "    .dataframe thead tr th {\n",
       "        text-align: left;\n",
       "    }\n",
       "</style>\n",
       "<table border=\"1\" class=\"dataframe\">\n",
       "  <thead>\n",
       "    <tr>\n",
       "      <th></th>\n",
       "      <th>연도</th>\n",
       "      <th colspan=\"3\" halign=\"left\">value</th>\n",
       "    </tr>\n",
       "    <tr>\n",
       "      <th>항목</th>\n",
       "      <th></th>\n",
       "      <th>10a당 생산량 (kg)</th>\n",
       "      <th>생산량 (톤)</th>\n",
       "      <th>시설토마토:면적 (ha)</th>\n",
       "    </tr>\n",
       "  </thead>\n",
       "  <tbody>\n",
       "    <tr>\n",
       "      <th>0</th>\n",
       "      <td>2013</td>\n",
       "      <td>97299</td>\n",
       "      <td>358919258624</td>\n",
       "      <td>6054</td>\n",
       "    </tr>\n",
       "    <tr>\n",
       "      <th>1</th>\n",
       "      <td>2014</td>\n",
       "      <td>99412</td>\n",
       "      <td>1472247968960</td>\n",
       "      <td>7070</td>\n",
       "    </tr>\n",
       "    <tr>\n",
       "      <th>2</th>\n",
       "      <td>2015</td>\n",
       "      <td>98864</td>\n",
       "      <td>442608826982</td>\n",
       "      <td>6976</td>\n",
       "    </tr>\n",
       "    <tr>\n",
       "      <th>3</th>\n",
       "      <td>2016</td>\n",
       "      <td>99472</td>\n",
       "      <td>380156970303</td>\n",
       "      <td>6391</td>\n",
       "    </tr>\n",
       "    <tr>\n",
       "      <th>4</th>\n",
       "      <td>2017</td>\n",
       "      <td>97133</td>\n",
       "      <td>335358529107</td>\n",
       "      <td>5781</td>\n",
       "    </tr>\n",
       "    <tr>\n",
       "      <th>5</th>\n",
       "      <td>2018</td>\n",
       "      <td>101517</td>\n",
       "      <td>380223236657</td>\n",
       "      <td>6059</td>\n",
       "    </tr>\n",
       "  </tbody>\n",
       "</table>\n",
       "</div>"
      ],
      "text/plain": [
       "      연도          value                              \n",
       "항목        10a당 생산량 (kg)        생산량 (톤)  시설토마토:면적 (ha)\n",
       "0   2013          97299   358919258624           6054\n",
       "1   2014          99412  1472247968960           7070\n",
       "2   2015          98864   442608826982           6976\n",
       "3   2016          99472   380156970303           6391\n",
       "4   2017          97133   335358529107           5781\n",
       "5   2018         101517   380223236657           6059"
      ]
     },
     "execution_count": 34,
     "metadata": {},
     "output_type": "execute_result"
    }
   ],
   "source": [
    "# 인덱스 리셋\n",
    "tt = tt.reset_index()\n",
    "\n",
    "# 리셋된 인덱스 확인\n",
    "tt"
   ]
  },
  {
   "cell_type": "code",
   "execution_count": 35,
   "metadata": {
    "scrolled": true
   },
   "outputs": [
    {
     "data": {
      "text/html": [
       "<div>\n",
       "<style scoped>\n",
       "    .dataframe tbody tr th:only-of-type {\n",
       "        vertical-align: middle;\n",
       "    }\n",
       "\n",
       "    .dataframe tbody tr th {\n",
       "        vertical-align: top;\n",
       "    }\n",
       "\n",
       "    .dataframe thead th {\n",
       "        text-align: right;\n",
       "    }\n",
       "</style>\n",
       "<table border=\"1\" class=\"dataframe\">\n",
       "  <thead>\n",
       "    <tr style=\"text-align: right;\">\n",
       "      <th></th>\n",
       "      <th>연도</th>\n",
       "      <th>10a당 생산량 (kg)</th>\n",
       "      <th>생산량 (톤)</th>\n",
       "      <th>시설토마토:면적 (ha)</th>\n",
       "    </tr>\n",
       "  </thead>\n",
       "  <tbody>\n",
       "    <tr>\n",
       "      <th>0</th>\n",
       "      <td>2013</td>\n",
       "      <td>97299</td>\n",
       "      <td>358919258624</td>\n",
       "      <td>6054</td>\n",
       "    </tr>\n",
       "    <tr>\n",
       "      <th>1</th>\n",
       "      <td>2014</td>\n",
       "      <td>99412</td>\n",
       "      <td>1472247968960</td>\n",
       "      <td>7070</td>\n",
       "    </tr>\n",
       "    <tr>\n",
       "      <th>2</th>\n",
       "      <td>2015</td>\n",
       "      <td>98864</td>\n",
       "      <td>442608826982</td>\n",
       "      <td>6976</td>\n",
       "    </tr>\n",
       "    <tr>\n",
       "      <th>3</th>\n",
       "      <td>2016</td>\n",
       "      <td>99472</td>\n",
       "      <td>380156970303</td>\n",
       "      <td>6391</td>\n",
       "    </tr>\n",
       "    <tr>\n",
       "      <th>4</th>\n",
       "      <td>2017</td>\n",
       "      <td>97133</td>\n",
       "      <td>335358529107</td>\n",
       "      <td>5781</td>\n",
       "    </tr>\n",
       "    <tr>\n",
       "      <th>5</th>\n",
       "      <td>2018</td>\n",
       "      <td>101517</td>\n",
       "      <td>380223236657</td>\n",
       "      <td>6059</td>\n",
       "    </tr>\n",
       "  </tbody>\n",
       "</table>\n",
       "</div>"
      ],
      "text/plain": [
       "     연도  10a당 생산량 (kg)        생산량 (톤)  시설토마토:면적 (ha)\n",
       "0  2013          97299   358919258624           6054\n",
       "1  2014          99412  1472247968960           7070\n",
       "2  2015          98864   442608826982           6976\n",
       "3  2016          99472   380156970303           6391\n",
       "4  2017          97133   335358529107           5781\n",
       "5  2018         101517   380223236657           6059"
      ]
     },
     "execution_count": 35,
     "metadata": {},
     "output_type": "execute_result"
    }
   ],
   "source": [
    "# 컬럼명 재지정\n",
    "tt.columns = ['연도', '10a당 생산량 (kg)', '생산량 (톤)','시설토마토:면적 (ha)']\n",
    "\n",
    "# 지정한 컬럼명 확인\n",
    "tt"
   ]
  },
  {
   "cell_type": "code",
   "execution_count": 36,
   "metadata": {
    "scrolled": false
   },
   "outputs": [
    {
     "data": {
      "text/plain": [
       "[0.02125497927815556,\n",
       " -0.005542968117818514,\n",
       " 0.006112272800386065,\n",
       " -0.024080384627263696,\n",
       " 0.04318488529014841]"
      ]
     },
     "execution_count": 36,
     "metadata": {},
     "output_type": "execute_result"
    }
   ],
   "source": [
    "# 10a당 생산량(kg) 증감율 구하기\n",
    "tabel = []\n",
    "\n",
    "for i in range(tt.shape[0]):\n",
    "    if tt['연도'][i] > '2013':\n",
    "        tr = 1-((tt['10a당 생산량 (kg)'][i-1] / tt['10a당 생산량 (kg)'][i]))\n",
    "        tabel.append(tr)\n",
    "        \n",
    "tabel"
   ]
  },
  {
   "cell_type": "code",
   "execution_count": 37,
   "metadata": {},
   "outputs": [
    {
     "data": {
      "text/plain": [
       "[0.7562100500790356,\n",
       " -2.326295995944684,\n",
       " -0.1642791308790772,\n",
       " -0.13358372400812435,\n",
       " 0.11799570153696981]"
      ]
     },
     "execution_count": 37,
     "metadata": {},
     "output_type": "execute_result"
    }
   ],
   "source": [
    "# 생산량 (톤) 증감율 구하기\n",
    "table2 = []\n",
    "\n",
    "for i in range(tt.shape[0]):\n",
    "    if tt['연도'][i] > '2013':\n",
    "        tr = 1-((tt['생산량 (톤)'][i-1] / tt['생산량 (톤)'][i]))\n",
    "        table2.append(tr)\n",
    "        \n",
    "table2"
   ]
  },
  {
   "cell_type": "code",
   "execution_count": 38,
   "metadata": {},
   "outputs": [
    {
     "data": {
      "text/plain": [
       "[0.14370579915134374,\n",
       " -0.013474770642201817,\n",
       " -0.09153497105304331,\n",
       " -0.10551807645736022,\n",
       " 0.04588215877207458]"
      ]
     },
     "execution_count": 38,
     "metadata": {},
     "output_type": "execute_result"
    }
   ],
   "source": [
    "# 시설토마토:면적 (ha) 증감율 구하기\n",
    "table3 = []\n",
    "\n",
    "for i in range(tt.shape[0]):\n",
    "    if tt['연도'][i] > '2013':\n",
    "        tr = 1-((tt['시설토마토:면적 (ha)'][i-1] / tt['시설토마토:면적 (ha)'][i]))\n",
    "        table3.append(tr)\n",
    "        \n",
    "table3"
   ]
  },
  {
   "cell_type": "markdown",
   "metadata": {},
   "source": [
    "#### 시설토마토 면적\n",
    "\n",
    "시설토마토 면적은 2014년을 기점으로 감소하다가 2018년 상승하였다."
   ]
  },
  {
   "cell_type": "code",
   "execution_count": 39,
   "metadata": {
    "scrolled": true
   },
   "outputs": [
    {
     "data": {
      "image/png": "[encoded data removed]",
      "text/plain": [
       "<Figure size 432x288 with 1 Axes>"
      ]
     },
     "metadata": {
      "image/png": {
       "height": 261,
       "width": 396
      },
      "needs_background": "light"
     },
     "output_type": "display_data"
    }
   ],
   "source": [
    "# 시설토마토 면적 그래프\n",
    "tt1 = sns.barplot(data=tt, x='연도', y='시설토마토:면적 (ha)')"
   ]
  },
  {
   "cell_type": "markdown",
   "metadata": {},
   "source": [
    "#### 토마토 총 생산량\n",
    "\n",
    "2014년에 큰 폭으로 증가하였으며, 이후 감소하다가 2018년 소폭 상승하였다."
   ]
  },
  {
   "cell_type": "code",
   "execution_count": 40,
   "metadata": {},
   "outputs": [
    {
     "data": {
      "image/png": "[encoded data removed]",
      "text/plain": [
       "<Figure size 432x288 with 1 Axes>"
      ]
     },
     "metadata": {
      "image/png": {
       "height": 272,
       "width": 386
      },
      "needs_background": "light"
     },
     "output_type": "display_data"
    }
   ],
   "source": [
    "# 시설토마토 면적 그래프\n",
    "tt2 = sns.barplot(data=tt, x='연도', y='생산량 (톤)')"
   ]
  },
  {
   "cell_type": "markdown",
   "metadata": {},
   "source": [
    "#### 토마토 재배 면적 당 생산량\n",
    "\n",
    " 크게 변하지 않았다."
   ]
  },
  {
   "cell_type": "code",
   "execution_count": 41,
   "metadata": {},
   "outputs": [
    {
     "data": {
      "image/png": "[encoded data removed]",
      "text/plain": [
       "<Figure size 432x288 with 1 Axes>"
      ]
     },
     "metadata": {
      "image/png": {
       "height": 261,
       "width": 411
      },
      "needs_background": "light"
     },
     "output_type": "display_data"
    }
   ],
   "source": [
    "# 면적당 생산량 그래프\n",
    "tt3 = sns.barplot(data=tt, x='연도', y='10a당 생산량 (kg)')"
   ]
  },
  {
   "cell_type": "markdown",
   "metadata": {},
   "source": [
    "### 3) 대기오염 최종확정자료"
   ]
  },
  {
   "cell_type": "code",
   "execution_count": 42,
   "metadata": {},
   "outputs": [],
   "source": [
    "# 빈 리스트 생성하기\n",
    "list_Data = []"
   ]
  },
  {
   "cell_type": "code",
   "execution_count": 43,
   "metadata": {},
   "outputs": [],
   "source": [
    "# 컬럼 위치를 변경하기 위해 reColindex 함수 생성\n",
    "\n",
    "# def reColindex(df, ori, fix):\n",
    "#     cols = df.columns.tolist()\n",
    "#     tmp = cols[fix - 1]\n",
    "#     del cols[fix - 1]\n",
    "#     cols.insert(ori - 1, tmp)\n",
    "#     return df[cols]"
   ]
  },
  {
   "cell_type": "code",
   "execution_count": 44,
   "metadata": {},
   "outputs": [],
   "source": [
    "# 필요없는 컬럼 삭제 / 시간별을 날짜별로 처리 / 그룹화 하여 평균 처리하기 위한 DataModify 함수 생성\n",
    "\n",
    "# def DataModify(list_D):\n",
    "#     if \"망\" in list_D[len(list_Data) - 1].columns.tolist() :\n",
    "#         list_D[len(list_Data) - 1] = list_D[len(list_Data) - 1].drop(['망'], axis = 1) \n",
    "#     list_D[-1][\"측정일시\"] = list_Data[-1][\"측정일시\"].astype(str).str.slice(start = 0, stop = -2)\n",
    "#     list_D[-1] = list_D[-1].groupby([\"지역\", \"측정소코드\", \"측정소명\", \"측정일시\"]).mean().reset_index()"
   ]
  },
  {
   "cell_type": "code",
   "execution_count": 45,
   "metadata": {},
   "outputs": [],
   "source": [
    "# 파일 경로 변수에 저장\n",
    "# str_Root = \"/Users/jungdayoung/Documents/GitHub/Learning_Spoons_Second_Project/\""
   ]
  },
  {
   "cell_type": "code",
   "execution_count": 46,
   "metadata": {},
   "outputs": [],
   "source": [
    "# 2013년 데이터 전처리\n",
    "\n",
    "# str_File = str_Root + \"air/2013년0X분기\"\n",
    "# for i in range(4) :\n",
    "#     list_Data.append(pd.read_excel(str_File.replace('X', str(i + 1)) + \".xlsx\"))\n",
    "#     list_Data[i] = reColindex(list_Data[i], 3, 2)\n",
    "#     list_Data[i]['PM25'] = np.nan\n",
    "#     list_Data[i] = reColindex(list_Data[i], 11, 10)\n",
    "#     DataModify(list_Data)   \n",
    "    \n",
    "# print(len(list_Data))\n",
    "# list_Data[len(list_Data) - 1].head()"
   ]
  },
  {
   "cell_type": "code",
   "execution_count": 47,
   "metadata": {},
   "outputs": [],
   "source": [
    "# 2014년 데이터 전처리\n",
    "\n",
    "# str_File = str_Root + \"air/2014년 X분기\"\n",
    "# for i in range(4) :\n",
    "#     list_Data.append(pd.read_csv(str_File.replace('X', str(i + 1)) + \".csv\", encoding = 'EUC-KR'))\n",
    "#     DataModify(list_Data)\n",
    "    \n",
    "# print(len(list_Data))\n",
    "# list_Data[len(list_Data) - 1].head()"
   ]
  },
  {
   "cell_type": "code",
   "execution_count": 48,
   "metadata": {},
   "outputs": [],
   "source": [
    "# 2015년 데이터 전처리\n",
    "\n",
    "# str_File = str_Root + 'air/2015년X분기'\n",
    "# for i in range(4) :\n",
    "#     list_Data.append(pd.read_csv(str_File.replace('X', str(i + 1)) + \".csv\"))\n",
    "#     DataModify(list_Data)\n",
    "\n",
    "# print(len(list_Data))\n",
    "# list_Data[len(list_Data) - 1].head()"
   ]
  },
  {
   "cell_type": "code",
   "execution_count": 49,
   "metadata": {},
   "outputs": [],
   "source": [
    "# 2016년 데이터 전처리\n",
    "\n",
    "# str_File = str_Root + 'air/2016년 X분기'\n",
    "# for i in range(4) :\n",
    "#     list_Data.append(pd.read_csv(str_File.replace('X', str(i + 1)) + \".csv\", encoding = 'EUC-KR'))\n",
    "#     DataModify(list_Data)\n",
    "\n",
    "# print(len(list_Data))\n",
    "# list_Data[len(list_Data) - 1].head()"
   ]
  },
  {
   "cell_type": "code",
   "execution_count": 50,
   "metadata": {},
   "outputs": [],
   "source": [
    "# 2017년 데이터 전처리\n",
    "\n",
    "# str_File = str_Root + 'air/2017년 X월'\n",
    "# for i in range(12) :\n",
    "#     list_Data.append(pd.read_excel(str_File.replace('X', str(i + 1)) + \".xlsx\"))\n",
    "#     DataModify(list_Data)\n",
    "    \n",
    "# print(len(list_Data))\n",
    "\n",
    "# list_Data[len(list_Data) - 1].head()"
   ]
  },
  {
   "cell_type": "code",
   "execution_count": 51,
   "metadata": {},
   "outputs": [],
   "source": [
    "# 2018년 데이터 전처리\n",
    "\n",
    "# str_File = str_Root + 'air/2018년 X분기'\n",
    "# for i in range(4) :\n",
    "#     list_Data.append(pd.read_excel(str_File.replace('X', str(i + 1)) + \".xlsx\"))\n",
    "#     DataModify(list_Data)\n",
    "    \n",
    "# print(len(list_Data))\n",
    "# list_Data[len(list_Data) - 1].head()"
   ]
  },
  {
   "cell_type": "code",
   "execution_count": 52,
   "metadata": {},
   "outputs": [],
   "source": [
    "# 데이터 병합\n",
    "# df = pd.concat(list_Data)"
   ]
  },
  {
   "cell_type": "code",
   "execution_count": 53,
   "metadata": {},
   "outputs": [],
   "source": [
    "# 날짜 데이터 타입 변경\n",
    "# df[\"측정일시\"] = pd.to_datetime(df[\"측정일시\"])\n",
    "#df.sort_values(by=[\"측정일시\", \"지역\"], axis=0, ascending = True)"
   ]
  },
  {
   "cell_type": "code",
   "execution_count": 54,
   "metadata": {},
   "outputs": [],
   "source": [
    "# 용량이 크기 때문에 csv파일로 저장 후 다시 불러올 예정\n",
    "# df.to_csv(\"/Users/jungdayoung/Documents/GitHub/Learning_Spoons_Second_Project/data/날씨_시계열_데이터.csv\", encoding = \"CP949\", index = False)"
   ]
  },
  {
   "cell_type": "code",
   "execution_count": 5,
   "metadata": {},
   "outputs": [],
   "source": [
    "import pandas as pd\n",
    "import os\n",
    "os.chdir('E:/Learning_Spoons_Second_Project')"
   ]
  },
  {
   "cell_type": "code",
   "execution_count": 96,
   "metadata": {},
   "outputs": [],
   "source": [
    "# 저장한 날씨 데이터를 불러와 변수 df로 저장\n",
    "df = pd.read_csv('data/날씨_시계열_데이터.csv', encoding='euc-kr')"
   ]
  },
  {
   "cell_type": "code",
   "execution_count": 97,
   "metadata": {},
   "outputs": [
    {
     "name": "stdout",
     "output_type": "stream",
     "text": [
      "\n",
      "\n"
     ]
    }
   ],
   "source": [
    "# 측정일시 컬럼의 연월일을 연도, 월일로 나누기\n",
    "df['연도'] = df['측정일시'].str.split(\"-\").str.get(0)\n",
    "df['월'] = df['측정일시'].str.split(\"-\").str.get(1)\n",
    "df['일'] = df['측정일시'].str.split(\"-\").str.get(2)"
   ]
  },
  {
   "cell_type": "code",
   "execution_count": 158,
   "metadata": {},
   "outputs": [
    {
     "data": {
      "text/html": [
       "<div>\n",
       "<style scoped>\n",
       "    .dataframe tbody tr th:only-of-type {\n",
       "        vertical-align: middle;\n",
       "    }\n",
       "\n",
       "    .dataframe tbody tr th {\n",
       "        vertical-align: top;\n",
       "    }\n",
       "\n",
       "    .dataframe thead th {\n",
       "        text-align: right;\n",
       "    }\n",
       "</style>\n",
       "<table border=\"1\" class=\"dataframe\">\n",
       "  <thead>\n",
       "    <tr style=\"text-align: right;\">\n",
       "      <th></th>\n",
       "      <th>지역</th>\n",
       "      <th>측정소코드</th>\n",
       "      <th>측정소명</th>\n",
       "      <th>측정일시</th>\n",
       "      <th>SO2</th>\n",
       "      <th>CO</th>\n",
       "      <th>O3</th>\n",
       "      <th>NO2</th>\n",
       "      <th>PM10</th>\n",
       "      <th>PM25</th>\n",
       "      <th>연도</th>\n",
       "      <th>월</th>\n",
       "      <th>일</th>\n",
       "    </tr>\n",
       "  </thead>\n",
       "  <tbody>\n",
       "    <tr>\n",
       "      <th>0</th>\n",
       "      <td>강원 강릉시</td>\n",
       "      <td>632132</td>\n",
       "      <td>옥천동</td>\n",
       "      <td>2013-01-01</td>\n",
       "      <td>0.009875</td>\n",
       "      <td>0.579167</td>\n",
       "      <td>0.020958</td>\n",
       "      <td>0.013125</td>\n",
       "      <td>41.333333</td>\n",
       "      <td>NaN</td>\n",
       "      <td>2013</td>\n",
       "      <td>01</td>\n",
       "      <td>01</td>\n",
       "    </tr>\n",
       "    <tr>\n",
       "      <th>1</th>\n",
       "      <td>강원 강릉시</td>\n",
       "      <td>632132</td>\n",
       "      <td>옥천동</td>\n",
       "      <td>2013-01-02</td>\n",
       "      <td>0.007125</td>\n",
       "      <td>0.479167</td>\n",
       "      <td>0.026750</td>\n",
       "      <td>0.007000</td>\n",
       "      <td>36.166667</td>\n",
       "      <td>NaN</td>\n",
       "      <td>2013</td>\n",
       "      <td>01</td>\n",
       "      <td>02</td>\n",
       "    </tr>\n",
       "    <tr>\n",
       "      <th>2</th>\n",
       "      <td>강원 강릉시</td>\n",
       "      <td>632132</td>\n",
       "      <td>옥천동</td>\n",
       "      <td>2013-01-03</td>\n",
       "      <td>0.006167</td>\n",
       "      <td>0.437500</td>\n",
       "      <td>0.024708</td>\n",
       "      <td>0.009125</td>\n",
       "      <td>26.500000</td>\n",
       "      <td>NaN</td>\n",
       "      <td>2013</td>\n",
       "      <td>01</td>\n",
       "      <td>03</td>\n",
       "    </tr>\n",
       "    <tr>\n",
       "      <th>3</th>\n",
       "      <td>강원 강릉시</td>\n",
       "      <td>632132</td>\n",
       "      <td>옥천동</td>\n",
       "      <td>2013-01-04</td>\n",
       "      <td>0.007292</td>\n",
       "      <td>0.608333</td>\n",
       "      <td>0.016833</td>\n",
       "      <td>0.019417</td>\n",
       "      <td>38.708333</td>\n",
       "      <td>NaN</td>\n",
       "      <td>2013</td>\n",
       "      <td>01</td>\n",
       "      <td>04</td>\n",
       "    </tr>\n",
       "    <tr>\n",
       "      <th>4</th>\n",
       "      <td>강원 강릉시</td>\n",
       "      <td>632132</td>\n",
       "      <td>옥천동</td>\n",
       "      <td>2013-01-05</td>\n",
       "      <td>0.007792</td>\n",
       "      <td>0.595833</td>\n",
       "      <td>0.025167</td>\n",
       "      <td>-332.992333</td>\n",
       "      <td>36.250000</td>\n",
       "      <td>NaN</td>\n",
       "      <td>2013</td>\n",
       "      <td>01</td>\n",
       "      <td>05</td>\n",
       "    </tr>\n",
       "  </tbody>\n",
       "</table>\n",
       "</div>"
      ],
      "text/plain": [
       "       지역   측정소코드 측정소명        측정일시       SO2        CO        O3         NO2  \\\n",
       "0  강원 강릉시  632132  옥천동  2013-01-01  0.009875  0.579167  0.020958    0.013125   \n",
       "1  강원 강릉시  632132  옥천동  2013-01-02  0.007125  0.479167  0.026750    0.007000   \n",
       "2  강원 강릉시  632132  옥천동  2013-01-03  0.006167  0.437500  0.024708    0.009125   \n",
       "3  강원 강릉시  632132  옥천동  2013-01-04  0.007292  0.608333  0.016833    0.019417   \n",
       "4  강원 강릉시  632132  옥천동  2013-01-05  0.007792  0.595833  0.025167 -332.992333   \n",
       "\n",
       "        PM10  PM25    연도   월   일  \n",
       "0  41.333333   NaN  2013  01  01  \n",
       "1  36.166667   NaN  2013  01  02  \n",
       "2  26.500000   NaN  2013  01  03  \n",
       "3  38.708333   NaN  2013  01  04  \n",
       "4  36.250000   NaN  2013  01  05  "
      ]
     },
     "execution_count": 158,
     "metadata": {},
     "output_type": "execute_result"
    }
   ],
   "source": [
    "df.head()"
   ]
  },
  {
   "cell_type": "code",
   "execution_count": 98,
   "metadata": {},
   "outputs": [],
   "source": [
    "# 딕셔너리 생성\n",
    "dic_Sido = {\"서울\" : \"서울특별시\",\n",
    "            \"부산\" : \"부산광역시\",\n",
    "            \"대구\" : \"대구광역시\",\n",
    "            \"인천\" : \"인천광역시\",\n",
    "            \"광주\" : \"광주광역시\",\n",
    "            \"대전\" : \"대전광역시\",\n",
    "            \"울산\" : \"울산광역시\",\n",
    "            \"세종\" : \"세종특별시\",\n",
    "            \"경기\" : \"경기도\",\n",
    "            \"강원\" : \"강원도\",\n",
    "            \"충북\" : \"충청북도\",\n",
    "            \"충남\" : \"충청남도\",\n",
    "            \"전북\" : \"전라북도\",\n",
    "            \"전남\" : \"전라남도\",\n",
    "            \"경북\" : \"경상북도\",\n",
    "            \"경남\" : \"경상남도\",\n",
    "            \"제주\" : \"제주도\"}\n",
    "\n",
    "# 지역을 쪼개서 도로 저장\n",
    "df['도'] = df[\"지역\"].str.split(\" \").str.get(0)"
   ]
  },
  {
   "cell_type": "code",
   "execution_count": 99,
   "metadata": {},
   "outputs": [],
   "source": [
    "# 딕셔너리 데이터를 map 함수에 사용하여 key 값과 같은 값들은 전부 value 값으로 변경\n",
    "df[\"도\"] = df[\"도\"].map(dic_Sido)"
   ]
  },
  {
   "cell_type": "code",
   "execution_count": 101,
   "metadata": {},
   "outputs": [],
   "source": [
    "#null값 처리를 위해 날짜 컬럼 생성\n",
    "df['날짜'] = df['월'] + '-' + df['일']"
   ]
  },
  {
   "cell_type": "code",
   "execution_count": 102,
   "metadata": {},
   "outputs": [],
   "source": [
    "#날짜별 PM25 평균을 구해서 df_mean에 담기\n",
    "df_mean = df.groupby('날짜')['PM25'].mean().reset_index()"
   ]
  },
  {
   "cell_type": "code",
   "execution_count": 103,
   "metadata": {},
   "outputs": [
    {
     "data": {
      "text/html": [
       "<div>\n",
       "<style scoped>\n",
       "    .dataframe tbody tr th:only-of-type {\n",
       "        vertical-align: middle;\n",
       "    }\n",
       "\n",
       "    .dataframe tbody tr th {\n",
       "        vertical-align: top;\n",
       "    }\n",
       "\n",
       "    .dataframe thead th {\n",
       "        text-align: right;\n",
       "    }\n",
       "</style>\n",
       "<table border=\"1\" class=\"dataframe\">\n",
       "  <thead>\n",
       "    <tr style=\"text-align: right;\">\n",
       "      <th></th>\n",
       "      <th>날짜</th>\n",
       "      <th>PM25</th>\n",
       "    </tr>\n",
       "  </thead>\n",
       "  <tbody>\n",
       "    <tr>\n",
       "      <th>0</th>\n",
       "      <td>01-01</td>\n",
       "      <td>31.543635</td>\n",
       "    </tr>\n",
       "    <tr>\n",
       "      <th>1</th>\n",
       "      <td>01-02</td>\n",
       "      <td>37.602906</td>\n",
       "    </tr>\n",
       "    <tr>\n",
       "      <th>2</th>\n",
       "      <td>01-03</td>\n",
       "      <td>35.062375</td>\n",
       "    </tr>\n",
       "    <tr>\n",
       "      <th>3</th>\n",
       "      <td>01-04</td>\n",
       "      <td>37.749110</td>\n",
       "    </tr>\n",
       "    <tr>\n",
       "      <th>4</th>\n",
       "      <td>01-05</td>\n",
       "      <td>33.378771</td>\n",
       "    </tr>\n",
       "    <tr>\n",
       "      <th>...</th>\n",
       "      <td>...</td>\n",
       "      <td>...</td>\n",
       "    </tr>\n",
       "    <tr>\n",
       "      <th>361</th>\n",
       "      <td>12-27</td>\n",
       "      <td>15.109204</td>\n",
       "    </tr>\n",
       "    <tr>\n",
       "      <th>362</th>\n",
       "      <td>12-28</td>\n",
       "      <td>20.636718</td>\n",
       "    </tr>\n",
       "    <tr>\n",
       "      <th>363</th>\n",
       "      <td>12-29</td>\n",
       "      <td>29.018266</td>\n",
       "    </tr>\n",
       "    <tr>\n",
       "      <th>364</th>\n",
       "      <td>12-30</td>\n",
       "      <td>38.050939</td>\n",
       "    </tr>\n",
       "    <tr>\n",
       "      <th>365</th>\n",
       "      <td>12-31</td>\n",
       "      <td>33.306354</td>\n",
       "    </tr>\n",
       "  </tbody>\n",
       "</table>\n",
       "<p>366 rows × 2 columns</p>\n",
       "</div>"
      ],
      "text/plain": [
       "        날짜       PM25\n",
       "0    01-01  31.543635\n",
       "1    01-02  37.602906\n",
       "2    01-03  35.062375\n",
       "3    01-04  37.749110\n",
       "4    01-05  33.378771\n",
       "..     ...        ...\n",
       "361  12-27  15.109204\n",
       "362  12-28  20.636718\n",
       "363  12-29  29.018266\n",
       "364  12-30  38.050939\n",
       "365  12-31  33.306354\n",
       "\n",
       "[366 rows x 2 columns]"
      ]
     },
     "execution_count": 103,
     "metadata": {},
     "output_type": "execute_result"
    }
   ],
   "source": [
    "#df_mean 제대로 생성되었는지 확인\n",
    "df_mean"
   ]
  },
  {
   "cell_type": "code",
   "execution_count": 105,
   "metadata": {},
   "outputs": [],
   "source": [
    "#날짜를 키로 PM25를 value로 딕셔러니 생성\n",
    "fill_na = dict(zip(df_mean['날짜'],df_mean['PM25']))"
   ]
  },
  {
   "cell_type": "code",
   "execution_count": 115,
   "metadata": {},
   "outputs": [],
   "source": [
    "#PM25의 null값들을 dictionary value로 채움\n",
    "df.loc[df['PM25'].isnull(), 'PM25'] = df['날짜'].map(fill_na)"
   ]
  },
  {
   "cell_type": "code",
   "execution_count": 60,
   "metadata": {},
   "outputs": [
    {
     "data": {
      "text/html": [
       "<div>\n",
       "<style scoped>\n",
       "    .dataframe tbody tr th:only-of-type {\n",
       "        vertical-align: middle;\n",
       "    }\n",
       "\n",
       "    .dataframe tbody tr th {\n",
       "        vertical-align: top;\n",
       "    }\n",
       "\n",
       "    .dataframe thead th {\n",
       "        text-align: right;\n",
       "    }\n",
       "</style>\n",
       "<table border=\"1\" class=\"dataframe\">\n",
       "  <thead>\n",
       "    <tr style=\"text-align: right;\">\n",
       "      <th></th>\n",
       "      <th>도</th>\n",
       "      <th>측정소명</th>\n",
       "      <th>연도</th>\n",
       "      <th>월</th>\n",
       "      <th>일</th>\n",
       "      <th>SO2</th>\n",
       "      <th>CO</th>\n",
       "      <th>O3</th>\n",
       "      <th>NO2</th>\n",
       "      <th>PM10</th>\n",
       "      <th>PM25</th>\n",
       "    </tr>\n",
       "  </thead>\n",
       "  <tbody>\n",
       "    <tr>\n",
       "      <th>0</th>\n",
       "      <td>강원도</td>\n",
       "      <td>중앙로</td>\n",
       "      <td>2013</td>\n",
       "      <td>01</td>\n",
       "      <td>01</td>\n",
       "      <td>0.007125</td>\n",
       "      <td>1.258333</td>\n",
       "      <td>0.008708</td>\n",
       "      <td>0.028958</td>\n",
       "      <td>35.375000</td>\n",
       "      <td>NaN</td>\n",
       "    </tr>\n",
       "    <tr>\n",
       "      <th>1</th>\n",
       "      <td>강원도</td>\n",
       "      <td>중앙로</td>\n",
       "      <td>2013</td>\n",
       "      <td>01</td>\n",
       "      <td>02</td>\n",
       "      <td>0.004875</td>\n",
       "      <td>0.691667</td>\n",
       "      <td>0.030000</td>\n",
       "      <td>0.007750</td>\n",
       "      <td>18.166667</td>\n",
       "      <td>NaN</td>\n",
       "    </tr>\n",
       "    <tr>\n",
       "      <th>2</th>\n",
       "      <td>강원도</td>\n",
       "      <td>중앙로</td>\n",
       "      <td>2013</td>\n",
       "      <td>01</td>\n",
       "      <td>03</td>\n",
       "      <td>0.006042</td>\n",
       "      <td>0.929167</td>\n",
       "      <td>0.020500</td>\n",
       "      <td>0.015792</td>\n",
       "      <td>30.083333</td>\n",
       "      <td>NaN</td>\n",
       "    </tr>\n",
       "    <tr>\n",
       "      <th>3</th>\n",
       "      <td>강원도</td>\n",
       "      <td>중앙로</td>\n",
       "      <td>2013</td>\n",
       "      <td>01</td>\n",
       "      <td>04</td>\n",
       "      <td>0.007167</td>\n",
       "      <td>1.391667</td>\n",
       "      <td>0.009542</td>\n",
       "      <td>0.033833</td>\n",
       "      <td>50.916667</td>\n",
       "      <td>NaN</td>\n",
       "    </tr>\n",
       "    <tr>\n",
       "      <th>4</th>\n",
       "      <td>강원도</td>\n",
       "      <td>중앙로</td>\n",
       "      <td>2013</td>\n",
       "      <td>01</td>\n",
       "      <td>05</td>\n",
       "      <td>0.006792</td>\n",
       "      <td>1.595833</td>\n",
       "      <td>0.006042</td>\n",
       "      <td>0.037542</td>\n",
       "      <td>62.458333</td>\n",
       "      <td>NaN</td>\n",
       "    </tr>\n",
       "  </tbody>\n",
       "</table>\n",
       "</div>"
      ],
      "text/plain": [
       "     도 측정소명    연도   월   일       SO2        CO        O3       NO2       PM10  \\\n",
       "0  강원도  중앙로  2013  01  01  0.007125  1.258333  0.008708  0.028958  35.375000   \n",
       "1  강원도  중앙로  2013  01  02  0.004875  0.691667  0.030000  0.007750  18.166667   \n",
       "2  강원도  중앙로  2013  01  03  0.006042  0.929167  0.020500  0.015792  30.083333   \n",
       "3  강원도  중앙로  2013  01  04  0.007167  1.391667  0.009542  0.033833  50.916667   \n",
       "4  강원도  중앙로  2013  01  05  0.006792  1.595833  0.006042  0.037542  62.458333   \n",
       "\n",
       "   PM25  \n",
       "0   NaN  \n",
       "1   NaN  \n",
       "2   NaN  \n",
       "3   NaN  \n",
       "4   NaN  "
      ]
     },
     "execution_count": 60,
     "metadata": {},
     "output_type": "execute_result"
    }
   ],
   "source": [
    "# \n",
    "df = df.groupby([\"도\", \"측정소코드\", \"측정소명\", \"연도\", \"월\", \"일\"]).mean().reset_index().drop(\"측정소코드\", axis = 1)\n",
    "\n",
    "# \n",
    "df.head()"
   ]
  },
  {
   "cell_type": "markdown",
   "metadata": {},
   "source": [
    "### 4) 종관기상관측 전처리"
   ]
  },
  {
   "cell_type": "code",
   "execution_count": 2,
   "metadata": {},
   "outputs": [],
   "source": [
    "import pandas as pd\n",
    "import os"
   ]
  },
  {
   "cell_type": "code",
   "execution_count": 3,
   "metadata": {},
   "outputs": [
    {
     "ename": "FileNotFoundError",
     "evalue": "[Errno 2] No such file or directory: 'E:\\\\Learning_Spoons_Second_Project'",
     "output_type": "error",
     "traceback": [
      "\u001b[0;31m---------------------------------------------------------------------------\u001b[0m",
      "\u001b[0;31mFileNotFoundError\u001b[0m                         Traceback (most recent call last)",
      "\u001b[0;32m<ipython-input-3-06c85ddddc3c>\u001b[0m in \u001b[0;36m<module>\u001b[0;34m\u001b[0m\n\u001b[0;32m----> 1\u001b[0;31m \u001b[0mos\u001b[0m\u001b[0;34m.\u001b[0m\u001b[0mchdir\u001b[0m\u001b[0;34m(\u001b[0m\u001b[0;34m'E:\\Learning_Spoons_Second_Project'\u001b[0m\u001b[0;34m)\u001b[0m\u001b[0;34m\u001b[0m\u001b[0;34m\u001b[0m\u001b[0m\n\u001b[0m",
      "\u001b[0;31mFileNotFoundError\u001b[0m: [Errno 2] No such file or directory: 'E:\\\\Learning_Spoons_Second_Project'"
     ]
    }
   ],
   "source": [
    "os.chdir('E:\\Learning_Spoons_Second_Project')"
   ]
  },
  {
   "cell_type": "code",
   "execution_count": null,
   "metadata": {},
   "outputs": [],
   "source": [
    "# 일조량 데이터 불러오기\n",
    "df_s = pd.read_csv('data/OBS_ASOS_DD_20200304204217.csv', encoding='euc-kr')\n",
    "\n",
    "# 불러온 일조량 데이터 확인\n",
    "df_s.head()"
   ]
  },
  {
   "cell_type": "code",
   "execution_count": null,
   "metadata": {},
   "outputs": [],
   "source": [
    "# 도로 분류하기 위해 '지점명' 확인\n",
    "df_s['지점명']"
   ]
  },
  {
   "cell_type": "code",
   "execution_count": null,
   "metadata": {},
   "outputs": [],
   "source": [
    "# 지점명에 붙은 접사 제거\n",
    "df_s['지점명'] = df_s['지점명'].str.replace('시$','').str.replace('군$','').str.replace(r'\\(.*?\\)','').str.replace('^북','')"
   ]
  },
  {
   "cell_type": "code",
   "execution_count": null,
   "metadata": {},
   "outputs": [],
   "source": [
    "# 도시명의 정식 명칭을 dic 변수에 저장\n",
    "dic = {'서울':'서울특별시','인천':'인천광역시','부산':'부산광역시',\n",
    "      '대구':'대구광역시','광주':'광주광역시','대전':'대전광역시',\n",
    "      '부산':'부산광역시','제주':'제주특별자치도','세종':'세종특별자치시',\n",
    "      '울산':'울산광역시'}"
   ]
  },
  {
   "cell_type": "code",
   "execution_count": null,
   "metadata": {},
   "outputs": [],
   "source": [
    "# '지점명' 컬럼 내 도시명을 정식 명칭으로 변경\n",
    "df_s['지점명'].replace(dic, inplace=True)"
   ]
  },
  {
   "cell_type": "code",
   "execution_count": null,
   "metadata": {},
   "outputs": [],
   "source": [
    "# 일조량 데이터는 광역시,특별시,특별자치시 및 특별자치도의\n",
    "# 시군구의 데이터가 안나와 있기 때문에 제거를 위한 리스트 dic을 이용해 생성\n",
    "remove = list(dic.values())"
   ]
  },
  {
   "cell_type": "code",
   "execution_count": null,
   "metadata": {},
   "outputs": [],
   "source": [
    "# 도 컬럼을 추가하기 위해 행정구역 현황 데이터 불러오기\n",
    "df_d = pd.read_csv('data/행정구역_현황_20200310195900.csv', encoding='euc-kr')"
   ]
  },
  {
   "cell_type": "code",
   "execution_count": null,
   "metadata": {},
   "outputs": [],
   "source": [
    "# 사용할 데이터의 범위만 선택\n",
    "df_d = df_d[2:]"
   ]
  },
  {
   "cell_type": "code",
   "execution_count": null,
   "metadata": {},
   "outputs": [],
   "source": [
    "# 소계 row는 사용하지 않기 때문에 제거 \n",
    "df_l = df_d[~df_d['소재지(시군구)별(2)'].str.contains('소계')]"
   ]
  },
  {
   "cell_type": "code",
   "execution_count": null,
   "metadata": {},
   "outputs": [],
   "source": [
    "# 광역시,특별시, 특별자치시 및 특별자치도 데이터 제거\n",
    "df_l= df_l[~df_l['소재지(시군구)별(1)'].isin(remove)]"
   ]
  },
  {
   "cell_type": "code",
   "execution_count": null,
   "metadata": {},
   "outputs": [],
   "source": [
    "# 일조량 데이터의 지점명과 맞추기 위해 시,군 제거\n",
    "df_l['소재지(시군구)별(2)']= df_l['소재지(시군구)별(2)'].str.replace(r'시$','').str.replace(r'군$','')"
   ]
  },
  {
   "cell_type": "code",
   "execution_count": null,
   "metadata": {},
   "outputs": [],
   "source": [
    "# 제거가 잘 되었는지 확인 \n",
    "df_l['소재지(시군구)별(2)'].unique()"
   ]
  },
  {
   "cell_type": "code",
   "execution_count": null,
   "metadata": {},
   "outputs": [],
   "source": [
    "# '도' 리스트 생성\n",
    "시군구_lst = list(df_l['소재지(시군구)별(1)'].unique())"
   ]
  },
  {
   "cell_type": "code",
   "execution_count": null,
   "metadata": {},
   "outputs": [],
   "source": [
    "# 도별 행정구역 리스틀 만들기 위해 도별 번호 부여\n",
    "[print(i,j) for i,j in enumerate(시군구_lst) ]"
   ]
  },
  {
   "cell_type": "code",
   "execution_count": null,
   "metadata": {},
   "outputs": [],
   "source": [
    "경기도 = []\n",
    "강원도 = [] \n",
    "충청북도 = []\n",
    "충청남도 = []\n",
    "전라북도 = []\n",
    "전라남도 = []\n",
    "경상북도 = []\n",
    "경상남도 = [] "
   ]
  },
  {
   "cell_type": "code",
   "execution_count": null,
   "metadata": {},
   "outputs": [],
   "source": [
    "# 부여된 번호를 활용하여 각 도별 행정구역 리스트 생성\n",
    "for i in range(len(시군구_lst)):\n",
    "    if 시군구_lst[i] == '경기도':\n",
    "        경기도.append(df_l.loc[df_l['소재지(시군구)별(1)']==시군구_lst[0],'소재지(시군구)별(2)'].to_list())\n",
    "    elif 시군구_lst[i] == '강원도':\n",
    "        강원도.append(df_l.loc[df_l['소재지(시군구)별(1)']==시군구_lst[1],'소재지(시군구)별(2)'].to_list())\n",
    "    elif 시군구_lst[i] == '충청북도':\n",
    "        충청북도.append(df_l.loc[df_l['소재지(시군구)별(1)']==시군구_lst[2],'소재지(시군구)별(2)'].to_list())\n",
    "    elif 시군구_lst[i] == '충청남도':\n",
    "        충청남도.append(df_l.loc[df_l['소재지(시군구)별(1)']==시군구_lst[3],'소재지(시군구)별(2)'].to_list())\n",
    "    elif 시군구_lst[i] == '전라북도':\n",
    "        전라북도.append(df_l.loc[df_l['소재지(시군구)별(1)']==시군구_lst[4],'소재지(시군구)별(2)'].to_list())\n",
    "    elif 시군구_lst[i] == '전라남도':\n",
    "        전라남도.append(df_l.loc[df_l['소재지(시군구)별(1)']==시군구_lst[5],'소재지(시군구)별(2)'].to_list())\n",
    "    elif 시군구_lst[i] == '경상북도':\n",
    "        경상북도.append( df_l.loc[df_l['소재지(시군구)별(1)']==시군구_lst[6],'소재지(시군구)별(2)'].to_list())\n",
    "    elif 시군구_lst[i] == '경상남도':\n",
    "        경상남도.append(df_l.loc[df_l['소재지(시군구)별(1)']==시군구_lst[7],'소재지(시군구)별(2)'].to_list())"
   ]
  },
  {
   "cell_type": "code",
   "execution_count": null,
   "metadata": {},
   "outputs": [],
   "source": [
    "# 밑의 코드를 돌려본 결과 행정구역이 명확하지 않은 행정구역들 null 처리되어 행정구역 추가\n",
    "강원도.append('대관령')\n",
    "경상북도.append('울릉도')\n",
    "경상북도.append('추풍령')\n",
    "전라남도.append('흑산도')\n",
    "전라북도.append('고산')\n",
    "제주도 = ['서귀포','성산']\n",
    "인천광역시 = ['백령도','강화']"
   ]
  },
  {
   "cell_type": "code",
   "execution_count": null,
   "metadata": {},
   "outputs": [],
   "source": [
    "# isin을 활용하여 지점명이 리스트에 있을 경우 그 리스트 이름을 '도' 컬럼에 할당\n",
    "df_s.loc[df_s['지점명'].isin(경기도),'도'] = '경기도'\n",
    "df_s.loc[df_s['지점명'].isin(강원도),'도'] = '강원도'\n",
    "df_s.loc[df_s['지점명'].isin(충청북도),'도'] = '충청북도'\n",
    "df_s.loc[df_s['지점명'].isin(충청남도),'도'] = '충청남도'\n",
    "df_s.loc[df_s['지점명'].isin(전라북도),'도'] = '전라북도'\n",
    "df_s.loc[df_s['지점명'].isin(전라남도),'도'] = '전라남도'\n",
    "df_s.loc[df_s['지점명'].isin(경상북도),'도'] = '경상북도'\n",
    "df_s.loc[df_s['지점명'].isin(경상남도),'도'] = '경상남도'\n",
    "df_s.loc[df_s['지점명'].isin(제주도),'도'] = '제주특별자치도'\n",
    "df_s.loc[df_s['지점명'].isin(인천광역시),'도'] = '인천광역시'"
   ]
  },
  {
   "cell_type": "code",
   "execution_count": null,
   "metadata": {},
   "outputs": [],
   "source": [
    "# 특별시,광역시,특별자치도는 지점명의 값을 '도' 컬럼 값에 할당# \n",
    "df_s['도'] = df_s['도'].fillna(df_s['지점명'])"
   ]
  },
  {
   "cell_type": "code",
   "execution_count": null,
   "metadata": {},
   "outputs": [],
   "source": [
    "# 2019년 데이터 제외\n",
    "df_s = df_s[~df_s['일시'].str.contains('2019')]"
   ]
  },
  {
   "cell_type": "code",
   "execution_count": null,
   "metadata": {},
   "outputs": [],
   "source": [
    "# 사용할 컬럼만 가져오기\n",
    "df_use = df_s[['도', '지점명', '일시','합계 일조시간(hr)']].copy()"
   ]
  },
  {
   "cell_type": "code",
   "execution_count": null,
   "metadata": {
    "scrolled": true
   },
   "outputs": [],
   "source": [
    "# 결측값을 0으로 채우기\n",
    "df_use['합계 일조시간(hr)'] = df_use['합계 일조시간(hr)'].fillna(0)"
   ]
  },
  {
   "cell_type": "code",
   "execution_count": null,
   "metadata": {},
   "outputs": [],
   "source": [
    "# merge함수를 사용하기 위해 일시를 연도와 날짜 컬럼으로 나누기\n",
    "df_use['연도'] = df_use['일시'].str.split('-').str.get(0)\n",
    "df_use['월'] = df_use['일시'].str.split('-').str.get(1)\n",
    "df_use['일'] = df_use['일시'].str.split('-').str.get(2) \n"
   ]
  },
  {
   "cell_type": "code",
   "execution_count": null,
   "metadata": {},
   "outputs": [],
   "source": [
    "# 컬럼 순서 변경\n",
    "df_use = df_use[['연도', '월', '일', '도', '지점명', '합계 일조시간(hr)', '일시']]\n",
    "\n",
    "# 확인\n",
    "df_use.head()"
   ]
  },
  {
   "cell_type": "code",
   "execution_count": null,
   "metadata": {},
   "outputs": [],
   "source": [
    "df_use.shape"
   ]
  },
  {
   "cell_type": "markdown",
   "metadata": {},
   "source": [
    "#### 연도별 지역별 일조량 그래프"
   ]
  },
  {
   "cell_type": "code",
   "execution_count": null,
   "metadata": {},
   "outputs": [],
   "source": [
    "plt.figure(figsize=(20,4))\n",
    "g = sns.catplot(data=df_use,x='도',y='합계 일조시간(hr)',col='연도',col_wrap=3,kind='point',ci=None)\n",
    "g.set_xticklabels(rotation=60)"
   ]
  },
  {
   "cell_type": "markdown",
   "metadata": {},
   "source": [
    "#### 연도별 일조시간 그래프\n",
    "\n",
    " - 2017년이 일조량이 가장 많았고 2016년이 가장 일조시간이 적음\n",
    " - 2017년에 강수가 적어 일조량이 많음"
   ]
  },
  {
   "cell_type": "code",
   "execution_count": null,
   "metadata": {},
   "outputs": [],
   "source": [
    "plt.figure(figsize=(15,4))\n",
    "sns.lineplot(data=df_use, x='연도', y='합계 일조시간(hr)')"
   ]
  },
  {
   "cell_type": "markdown",
   "metadata": {},
   "source": [
    "#### 월별 일조시간 그래프\n",
    "\n",
    " - 5월이 일조시간이 가장 많았으며, 7월은 일조시간이 가장 적음\n",
    " - 7월에 강수량이 집중되어 일조시간이 적음"
   ]
  },
  {
   "cell_type": "code",
   "execution_count": null,
   "metadata": {},
   "outputs": [],
   "source": [
    "plt.figure(figsize=(15,4))\n",
    "sns.lineplot(data=df_use, x='월', y='합계 일조시간(hr)')"
   ]
  },
  {
   "cell_type": "markdown",
   "metadata": {},
   "source": [
    "#### 일별 일조시간 그래프"
   ]
  },
  {
   "cell_type": "code",
   "execution_count": null,
   "metadata": {},
   "outputs": [],
   "source": [
    "plt.figure(figsize=(15,4))\n",
    "sns.lineplot(data=df_use, x='일', y='합계 일조시간(hr)')"
   ]
  },
  {
   "cell_type": "markdown",
   "metadata": {},
   "source": [
    "#### 2013년~2018년 일조시간 그래프"
   ]
  },
  {
   "cell_type": "code",
   "execution_count": null,
   "metadata": {},
   "outputs": [],
   "source": [
    "plt.figure(figsize=(15,8))\n",
    "sns.lineplot(data=df_use, x='일시', y='합계 일조시간(hr)')"
   ]
  },
  {
   "cell_type": "markdown",
   "metadata": {},
   "source": [
    "## 4. 머신러닝 모델 적용"
   ]
  },
  {
   "cell_type": "markdown",
   "metadata": {},
   "source": [
    "### 1) 토마토 가격과 미세먼지, 일조량 데이터 합치기"
   ]
  },
  {
   "cell_type": "code",
   "execution_count": null,
   "metadata": {},
   "outputs": [],
   "source": [
    "# 토마토 가격\n",
    "t1 = tomp.groupby(['연도', '월', '일', '도'])['가격'].mean().reset_index()\n",
    "t1['연도'] = t1['연도'].astype(int)\n",
    "t1.info()"
   ]
  },
  {
   "cell_type": "code",
   "execution_count": null,
   "metadata": {},
   "outputs": [],
   "source": [
    "# 미세먼지\n",
    "t3 = df.groupby(['연도', '월', '일', '도'])['SO2', 'CO', 'O3', 'NO2', 'PM10', 'PM25'].mean().reset_index()\n",
    "t3['연도'] = t3['연도'].astype(int)\n",
    "t3.info()"
   ]
  },
  {
   "cell_type": "code",
   "execution_count": null,
   "metadata": {},
   "outputs": [],
   "source": [
    "# 일조량 \n",
    "t4 = df_use.groupby(['연도', '월', '일', '도'])['합계 일조시간(hr)'].mean().reset_index()\n",
    "t4['연도'] = t4['연도'].astype(int)\n",
    "t4.info()"
   ]
  },
  {
   "cell_type": "code",
   "execution_count": null,
   "metadata": {},
   "outputs": [],
   "source": [
    "# 토마토와 미세먼지 합치기\n",
    "tt1 = pd.merge(t1, t3, on=['연도', '월', '일', '도'])\n",
    "\n",
    "# 일조시간 합치기\n",
    "tt = pd.merge(tt1, t4, on=['연도', '월', '일', '도'])\n",
    "\n",
    "# 확인\n",
    "tt"
   ]
  },
  {
   "cell_type": "code",
   "execution_count": null,
   "metadata": {},
   "outputs": [],
   "source": []
  },
  {
   "cell_type": "code",
   "execution_count": null,
   "metadata": {},
   "outputs": [],
   "source": []
  },
  {
   "cell_type": "code",
   "execution_count": null,
   "metadata": {},
   "outputs": [],
   "source": []
  },
  {
   "cell_type": "markdown",
   "metadata": {},
   "source": [
    "### 2) Voting Classifiers(다수결 분류)"
   ]
  },
  {
   "cell_type": "code",
   "execution_count": null,
   "metadata": {},
   "outputs": [],
   "source": [
    "from sklearn.ensemble import VotingClassifier\n",
    "from sklearn.model_selection import GridSearchCV, KFold\n",
    "\n",
    "# 검증엔 10 fold cross validation을 사용\n",
    "k_fold = KFold(n_splits=10, shuffle=True, random_state=0)"
   ]
  },
  {
   "cell_type": "code",
   "execution_count": null,
   "metadata": {},
   "outputs": [],
   "source": []
  },
  {
   "cell_type": "code",
   "execution_count": null,
   "metadata": {},
   "outputs": [],
   "source": []
  },
  {
   "cell_type": "markdown",
   "metadata": {},
   "source": [
    "#### XGBoost"
   ]
  },
  {
   "cell_type": "markdown",
   "metadata": {},
   "source": [
    "https://programmers.co.kr/learn/courses/21/lessons/1847#\n",
    "\n",
    "https://zzsza.github.io/data/2018/07/03/xgboost/"
   ]
  },
  {
   "cell_type": "code",
   "execution_count": null,
   "metadata": {},
   "outputs": [],
   "source": []
  },
  {
   "cell_type": "code",
   "execution_count": null,
   "metadata": {},
   "outputs": [],
   "source": []
  },
  {
   "cell_type": "code",
   "execution_count": null,
   "metadata": {},
   "outputs": [],
   "source": []
  },
  {
   "cell_type": "code",
   "execution_count": null,
   "metadata": {},
   "outputs": [],
   "source": []
  },
  {
   "cell_type": "markdown",
   "metadata": {},
   "source": [
    "#### Random forest"
   ]
  },
  {
   "cell_type": "code",
   "execution_count": null,
   "metadata": {},
   "outputs": [],
   "source": []
  },
  {
   "cell_type": "code",
   "execution_count": null,
   "metadata": {},
   "outputs": [],
   "source": []
  },
  {
   "cell_type": "code",
   "execution_count": null,
   "metadata": {},
   "outputs": [],
   "source": []
  },
  {
   "cell_type": "code",
   "execution_count": null,
   "metadata": {},
   "outputs": [],
   "source": []
  },
  {
   "cell_type": "markdown",
   "metadata": {},
   "source": [
    "#### LightGBM"
   ]
  },
  {
   "cell_type": "code",
   "execution_count": null,
   "metadata": {},
   "outputs": [],
   "source": []
  },
  {
   "cell_type": "code",
   "execution_count": null,
   "metadata": {},
   "outputs": [],
   "source": []
  },
  {
   "cell_type": "code",
   "execution_count": null,
   "metadata": {},
   "outputs": [],
   "source": []
  },
  {
   "cell_type": "code",
   "execution_count": null,
   "metadata": {},
   "outputs": [],
   "source": []
  }
 ],
 "metadata": {
  "kernelspec": {
   "display_name": "Python 3",
   "language": "python",
   "name": "python3"
  },
  "language_info": {
   "codemirror_mode": {
    "name": "ipython",
    "version": 3
   },
   "file_extension": ".py",
   "mimetype": "text/x-python",
   "name": "python",
   "nbconvert_exporter": "python",
   "pygments_lexer": "ipython3",
   "version": "3.7.6"
  }
 },
 "nbformat": 4,
 "nbformat_minor": 4
}
