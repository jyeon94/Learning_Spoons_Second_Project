{
 "cells": [
  {
   "cell_type": "markdown",
   "metadata": {},
   "source": [
    "# 날씨 데이터 정제 코드"
   ]
  },
  {
   "cell_type": "markdown",
   "metadata": {},
   "source": [
    "## 라이브러리 로드"
   ]
  },
  {
   "cell_type": "code",
   "execution_count": 1,
   "metadata": {},
   "outputs": [],
   "source": [
    "import pandas as pd\n",
    "import numpy as np\n",
    "\n",
    "import re"
   ]
  },
  {
   "cell_type": "markdown",
   "metadata": {},
   "source": [
    "## 리스트 생성"
   ]
  },
  {
   "cell_type": "code",
   "execution_count": 2,
   "metadata": {},
   "outputs": [],
   "source": [
    "#del list_Data"
   ]
  },
  {
   "cell_type": "code",
   "execution_count": 3,
   "metadata": {},
   "outputs": [],
   "source": [
    "list_Data = []"
   ]
  },
  {
   "cell_type": "markdown",
   "metadata": {},
   "source": [
    "### 함수 생성\n",
    "* 컬럼 순서 변경 함수\n",
    "* 필요없는 컬럼 삭제 / 시간별을 날짜별로 처리 / 그룹화 하여 평균 처리 함수 "
   ]
  },
  {
   "cell_type": "code",
   "execution_count": 4,
   "metadata": {},
   "outputs": [],
   "source": [
    "def reColindex(df, ori, fix):\n",
    "    cols = df.columns.tolist()\n",
    "    tmp = cols[fix - 1]\n",
    "    del cols[fix - 1]\n",
    "    cols.insert(ori - 1, tmp)\n",
    "    return df[cols]"
   ]
  },
  {
   "cell_type": "code",
   "execution_count": 5,
   "metadata": {},
   "outputs": [],
   "source": [
    "def DataModify(list_D):\n",
    "    if \"망\" in list_D[len(list_Data) - 1].columns.tolist() :\n",
    "        list_D[len(list_Data) - 1] = list_D[len(list_Data) - 1].drop(['망'], axis = 1) \n",
    "    list_D[-1][\"측정일시\"] = list_Data[-1][\"측정일시\"].astype(str).str.slice(start = 0, stop = -2)\n",
    "    list_D[-1] = list_D[-1].groupby([\"지역\", \"측정소코드\", \"측정소명\", \"측정일시\"]).mean().reset_index()"
   ]
  },
  {
   "cell_type": "markdown",
   "metadata": {},
   "source": [
    "* 2013 년까지 데이터화 하면 용량 100메가 초과로 인해서 깃허브 푸쉬 에러 문제 발생 - 일단 사용 안함"
   ]
  },
  {
   "cell_type": "code",
   "execution_count": 6,
   "metadata": {},
   "outputs": [],
   "source": [
    "#str_File = \"air/2013년0X분기\"\n",
    "#for i in range(4) :\n",
    "#    list_Data.append(pd.read_excel(str_File.replace('X', str(i + 1)) + \".xlsx\"))\n",
    "#    list_Data[i] = reColindex(list_Data[i], 3, 2)\n",
    "#    list_Data[i]['PM25'] = np.nan\n",
    "#   list_Data[i] = reColindex(list_Data[i], 11, 10)\n",
    "#    DataModify(list_Data)   \n",
    "#    \n",
    "#print(len(list_Data))\n",
    "#list_Data[len(list_Data) - 1].head()"
   ]
  },
  {
   "cell_type": "markdown",
   "metadata": {},
   "source": [
    "## 2014 년부터 2019 년까지 데이터 불러와서 정제 처리 "
   ]
  },
  {
   "cell_type": "markdown",
   "metadata": {},
   "source": [
    "* 2014년"
   ]
  },
  {
   "cell_type": "code",
   "execution_count": 2,
   "metadata": {},
   "outputs": [],
   "source": [
    "str_Root = \"D:/5 Project/GitHub/CollaborationWork/jyeon94/Learning_Spoons_Second_Project/\""
   ]
  },
  {
   "cell_type": "code",
   "execution_count": 7,
   "metadata": {
    "scrolled": true
   },
   "outputs": [
    {
     "name": "stdout",
     "output_type": "stream",
     "text": [
      "4\n"
     ]
    },
    {
     "data": {
      "text/html": [
       "<div>\n",
       "<style scoped>\n",
       "    .dataframe tbody tr th:only-of-type {\n",
       "        vertical-align: middle;\n",
       "    }\n",
       "\n",
       "    .dataframe tbody tr th {\n",
       "        vertical-align: top;\n",
       "    }\n",
       "\n",
       "    .dataframe thead th {\n",
       "        text-align: right;\n",
       "    }\n",
       "</style>\n",
       "<table border=\"1\" class=\"dataframe\">\n",
       "  <thead>\n",
       "    <tr style=\"text-align: right;\">\n",
       "      <th></th>\n",
       "      <th>지역</th>\n",
       "      <th>측정소코드</th>\n",
       "      <th>측정소명</th>\n",
       "      <th>측정일시</th>\n",
       "      <th>SO2</th>\n",
       "      <th>CO</th>\n",
       "      <th>O3</th>\n",
       "      <th>NO2</th>\n",
       "      <th>PM10</th>\n",
       "      <th>PM25</th>\n",
       "    </tr>\n",
       "  </thead>\n",
       "  <tbody>\n",
       "    <tr>\n",
       "      <th>0</th>\n",
       "      <td>강원 강릉시</td>\n",
       "      <td>632132</td>\n",
       "      <td>옥천동</td>\n",
       "      <td>20141001</td>\n",
       "      <td>0.002083</td>\n",
       "      <td>0.420833</td>\n",
       "      <td>0.012333</td>\n",
       "      <td>0.012750</td>\n",
       "      <td>32.333333</td>\n",
       "      <td>NaN</td>\n",
       "    </tr>\n",
       "    <tr>\n",
       "      <th>1</th>\n",
       "      <td>강원 강릉시</td>\n",
       "      <td>632132</td>\n",
       "      <td>옥천동</td>\n",
       "      <td>20141002</td>\n",
       "      <td>0.001917</td>\n",
       "      <td>0.550000</td>\n",
       "      <td>0.016375</td>\n",
       "      <td>0.015917</td>\n",
       "      <td>42.458333</td>\n",
       "      <td>NaN</td>\n",
       "    </tr>\n",
       "    <tr>\n",
       "      <th>2</th>\n",
       "      <td>강원 강릉시</td>\n",
       "      <td>632132</td>\n",
       "      <td>옥천동</td>\n",
       "      <td>20141003</td>\n",
       "      <td>0.001542</td>\n",
       "      <td>0.558333</td>\n",
       "      <td>0.036042</td>\n",
       "      <td>0.007250</td>\n",
       "      <td>28.916667</td>\n",
       "      <td>NaN</td>\n",
       "    </tr>\n",
       "    <tr>\n",
       "      <th>3</th>\n",
       "      <td>강원 강릉시</td>\n",
       "      <td>632132</td>\n",
       "      <td>옥천동</td>\n",
       "      <td>20141004</td>\n",
       "      <td>0.001917</td>\n",
       "      <td>0.583333</td>\n",
       "      <td>0.017583</td>\n",
       "      <td>0.014167</td>\n",
       "      <td>31.250000</td>\n",
       "      <td>NaN</td>\n",
       "    </tr>\n",
       "    <tr>\n",
       "      <th>4</th>\n",
       "      <td>강원 강릉시</td>\n",
       "      <td>632132</td>\n",
       "      <td>옥천동</td>\n",
       "      <td>20141005</td>\n",
       "      <td>0.001625</td>\n",
       "      <td>0.583333</td>\n",
       "      <td>0.026875</td>\n",
       "      <td>0.007875</td>\n",
       "      <td>24.625000</td>\n",
       "      <td>NaN</td>\n",
       "    </tr>\n",
       "  </tbody>\n",
       "</table>\n",
       "</div>"
      ],
      "text/plain": [
       "       지역   측정소코드 측정소명      측정일시       SO2        CO        O3       NO2  \\\n",
       "0  강원 강릉시  632132  옥천동  20141001  0.002083  0.420833  0.012333  0.012750   \n",
       "1  강원 강릉시  632132  옥천동  20141002  0.001917  0.550000  0.016375  0.015917   \n",
       "2  강원 강릉시  632132  옥천동  20141003  0.001542  0.558333  0.036042  0.007250   \n",
       "3  강원 강릉시  632132  옥천동  20141004  0.001917  0.583333  0.017583  0.014167   \n",
       "4  강원 강릉시  632132  옥천동  20141005  0.001625  0.583333  0.026875  0.007875   \n",
       "\n",
       "        PM10  PM25  \n",
       "0  32.333333   NaN  \n",
       "1  42.458333   NaN  \n",
       "2  28.916667   NaN  \n",
       "3  31.250000   NaN  \n",
       "4  24.625000   NaN  "
      ]
     },
     "execution_count": 7,
     "metadata": {},
     "output_type": "execute_result"
    }
   ],
   "source": [
    "str_File = str_Root + \"air/2014년 X분기\"\n",
    "for i in range(4) :\n",
    "    list_Data.append(pd.read_csv(str_File.replace('X', str(i + 1)) + \".csv\", encoding = 'EUC-KR'))\n",
    "    DataModify(list_Data)\n",
    "    \n",
    "print(len(list_Data))\n",
    "list_Data[len(list_Data) - 1].head()"
   ]
  },
  {
   "cell_type": "markdown",
   "metadata": {},
   "source": [
    "* 2015년"
   ]
  },
  {
   "cell_type": "code",
   "execution_count": 3,
   "metadata": {},
   "outputs": [
    {
     "ename": "SyntaxError",
     "evalue": "EOL while scanning string literal (<ipython-input-3-02e641e670ca>, line 1)",
     "output_type": "error",
     "traceback": [
      "\u001b[1;36m  File \u001b[1;32m\"<ipython-input-3-02e641e670ca>\"\u001b[1;36m, line \u001b[1;32m1\u001b[0m\n\u001b[1;33m    str_File = str_Root + \"2015년X분기'\u001b[0m\n\u001b[1;37m                                    ^\u001b[0m\n\u001b[1;31mSyntaxError\u001b[0m\u001b[1;31m:\u001b[0m EOL while scanning string literal\n"
     ]
    }
   ],
   "source": [
    "str_File = str_Root + 'air/2015년X분기'\n",
    "for i in range(4) :\n",
    "    list_Data.append(pd.read_csv(str_File.replace('X', str(i + 1)) + \".csv\"))\n",
    "    DataModify(list_Data)\n",
    "\n",
    "print(len(list_Data))\n",
    "list_Data[len(list_Data) - 1].head()"
   ]
  },
  {
   "cell_type": "markdown",
   "metadata": {},
   "source": [
    "* 2016년"
   ]
  },
  {
   "cell_type": "code",
   "execution_count": 9,
   "metadata": {},
   "outputs": [
    {
     "name": "stdout",
     "output_type": "stream",
     "text": [
      "12\n"
     ]
    },
    {
     "data": {
      "text/html": [
       "<div>\n",
       "<style scoped>\n",
       "    .dataframe tbody tr th:only-of-type {\n",
       "        vertical-align: middle;\n",
       "    }\n",
       "\n",
       "    .dataframe tbody tr th {\n",
       "        vertical-align: top;\n",
       "    }\n",
       "\n",
       "    .dataframe thead th {\n",
       "        text-align: right;\n",
       "    }\n",
       "</style>\n",
       "<table border=\"1\" class=\"dataframe\">\n",
       "  <thead>\n",
       "    <tr style=\"text-align: right;\">\n",
       "      <th></th>\n",
       "      <th>지역</th>\n",
       "      <th>측정소코드</th>\n",
       "      <th>측정소명</th>\n",
       "      <th>측정일시</th>\n",
       "      <th>SO2</th>\n",
       "      <th>CO</th>\n",
       "      <th>O3</th>\n",
       "      <th>NO2</th>\n",
       "      <th>PM10</th>\n",
       "      <th>PM25</th>\n",
       "    </tr>\n",
       "  </thead>\n",
       "  <tbody>\n",
       "    <tr>\n",
       "      <th>0</th>\n",
       "      <td>강원 강릉시</td>\n",
       "      <td>632132</td>\n",
       "      <td>옥천동</td>\n",
       "      <td>20161001</td>\n",
       "      <td>0.003042</td>\n",
       "      <td>0.475000</td>\n",
       "      <td>0.013708</td>\n",
       "      <td>0.013417</td>\n",
       "      <td>45.333333</td>\n",
       "      <td>24.208333</td>\n",
       "    </tr>\n",
       "    <tr>\n",
       "      <th>1</th>\n",
       "      <td>강원 강릉시</td>\n",
       "      <td>632132</td>\n",
       "      <td>옥천동</td>\n",
       "      <td>20161002</td>\n",
       "      <td>0.002958</td>\n",
       "      <td>0.437500</td>\n",
       "      <td>0.015958</td>\n",
       "      <td>0.015333</td>\n",
       "      <td>49.318182</td>\n",
       "      <td>24.863636</td>\n",
       "    </tr>\n",
       "    <tr>\n",
       "      <th>2</th>\n",
       "      <td>강원 강릉시</td>\n",
       "      <td>632132</td>\n",
       "      <td>옥천동</td>\n",
       "      <td>20161003</td>\n",
       "      <td>0.003042</td>\n",
       "      <td>0.320833</td>\n",
       "      <td>0.031542</td>\n",
       "      <td>0.011458</td>\n",
       "      <td>31.041667</td>\n",
       "      <td>16.125000</td>\n",
       "    </tr>\n",
       "    <tr>\n",
       "      <th>3</th>\n",
       "      <td>강원 강릉시</td>\n",
       "      <td>632132</td>\n",
       "      <td>옥천동</td>\n",
       "      <td>20161004</td>\n",
       "      <td>0.003125</td>\n",
       "      <td>0.370833</td>\n",
       "      <td>0.020542</td>\n",
       "      <td>0.014958</td>\n",
       "      <td>39.041667</td>\n",
       "      <td>19.958333</td>\n",
       "    </tr>\n",
       "    <tr>\n",
       "      <th>4</th>\n",
       "      <td>강원 강릉시</td>\n",
       "      <td>632132</td>\n",
       "      <td>옥천동</td>\n",
       "      <td>20161005</td>\n",
       "      <td>0.003000</td>\n",
       "      <td>0.445833</td>\n",
       "      <td>0.011167</td>\n",
       "      <td>0.017417</td>\n",
       "      <td>32.000000</td>\n",
       "      <td>18.583333</td>\n",
       "    </tr>\n",
       "  </tbody>\n",
       "</table>\n",
       "</div>"
      ],
      "text/plain": [
       "       지역   측정소코드 측정소명      측정일시       SO2        CO        O3       NO2  \\\n",
       "0  강원 강릉시  632132  옥천동  20161001  0.003042  0.475000  0.013708  0.013417   \n",
       "1  강원 강릉시  632132  옥천동  20161002  0.002958  0.437500  0.015958  0.015333   \n",
       "2  강원 강릉시  632132  옥천동  20161003  0.003042  0.320833  0.031542  0.011458   \n",
       "3  강원 강릉시  632132  옥천동  20161004  0.003125  0.370833  0.020542  0.014958   \n",
       "4  강원 강릉시  632132  옥천동  20161005  0.003000  0.445833  0.011167  0.017417   \n",
       "\n",
       "        PM10       PM25  \n",
       "0  45.333333  24.208333  \n",
       "1  49.318182  24.863636  \n",
       "2  31.041667  16.125000  \n",
       "3  39.041667  19.958333  \n",
       "4  32.000000  18.583333  "
      ]
     },
     "execution_count": 9,
     "metadata": {},
     "output_type": "execute_result"
    }
   ],
   "source": [
    "str_File = str_Root + 'air/2016년 X분기'\n",
    "for i in range(4) :\n",
    "    list_Data.append(pd.read_csv(str_File.replace('X', str(i + 1)) + \".csv\", encoding = 'EUC-KR'))\n",
    "    DataModify(list_Data)\n",
    "\n",
    "print(len(list_Data))\n",
    "list_Data[len(list_Data) - 1].head()"
   ]
  },
  {
   "cell_type": "markdown",
   "metadata": {},
   "source": [
    "* 2017년"
   ]
  },
  {
   "cell_type": "code",
   "execution_count": 10,
   "metadata": {},
   "outputs": [
    {
     "name": "stdout",
     "output_type": "stream",
     "text": [
      "24\n"
     ]
    },
    {
     "data": {
      "text/html": [
       "<div>\n",
       "<style scoped>\n",
       "    .dataframe tbody tr th:only-of-type {\n",
       "        vertical-align: middle;\n",
       "    }\n",
       "\n",
       "    .dataframe tbody tr th {\n",
       "        vertical-align: top;\n",
       "    }\n",
       "\n",
       "    .dataframe thead th {\n",
       "        text-align: right;\n",
       "    }\n",
       "</style>\n",
       "<table border=\"1\" class=\"dataframe\">\n",
       "  <thead>\n",
       "    <tr style=\"text-align: right;\">\n",
       "      <th></th>\n",
       "      <th>지역</th>\n",
       "      <th>측정소코드</th>\n",
       "      <th>측정소명</th>\n",
       "      <th>측정일시</th>\n",
       "      <th>SO2</th>\n",
       "      <th>CO</th>\n",
       "      <th>O3</th>\n",
       "      <th>NO2</th>\n",
       "      <th>PM10</th>\n",
       "      <th>PM25</th>\n",
       "    </tr>\n",
       "  </thead>\n",
       "  <tbody>\n",
       "    <tr>\n",
       "      <th>0</th>\n",
       "      <td>강원 강릉시</td>\n",
       "      <td>632132</td>\n",
       "      <td>옥천동</td>\n",
       "      <td>20171201</td>\n",
       "      <td>0.002708</td>\n",
       "      <td>0.400000</td>\n",
       "      <td>0.025417</td>\n",
       "      <td>0.010792</td>\n",
       "      <td>16.750000</td>\n",
       "      <td>11.947368</td>\n",
       "    </tr>\n",
       "    <tr>\n",
       "      <th>1</th>\n",
       "      <td>강원 강릉시</td>\n",
       "      <td>632132</td>\n",
       "      <td>옥천동</td>\n",
       "      <td>20171202</td>\n",
       "      <td>0.002917</td>\n",
       "      <td>0.466667</td>\n",
       "      <td>0.023500</td>\n",
       "      <td>0.011042</td>\n",
       "      <td>24.041667</td>\n",
       "      <td>16.227273</td>\n",
       "    </tr>\n",
       "    <tr>\n",
       "      <th>2</th>\n",
       "      <td>강원 강릉시</td>\n",
       "      <td>632132</td>\n",
       "      <td>옥천동</td>\n",
       "      <td>20171203</td>\n",
       "      <td>0.003875</td>\n",
       "      <td>0.554167</td>\n",
       "      <td>0.034083</td>\n",
       "      <td>0.008333</td>\n",
       "      <td>41.583333</td>\n",
       "      <td>31.000000</td>\n",
       "    </tr>\n",
       "    <tr>\n",
       "      <th>3</th>\n",
       "      <td>강원 강릉시</td>\n",
       "      <td>632132</td>\n",
       "      <td>옥천동</td>\n",
       "      <td>20171204</td>\n",
       "      <td>0.004182</td>\n",
       "      <td>0.550000</td>\n",
       "      <td>0.030136</td>\n",
       "      <td>0.010591</td>\n",
       "      <td>50.590909</td>\n",
       "      <td>40.421053</td>\n",
       "    </tr>\n",
       "    <tr>\n",
       "      <th>4</th>\n",
       "      <td>강원 강릉시</td>\n",
       "      <td>632132</td>\n",
       "      <td>옥천동</td>\n",
       "      <td>20171205</td>\n",
       "      <td>0.004042</td>\n",
       "      <td>0.333333</td>\n",
       "      <td>0.028208</td>\n",
       "      <td>0.008417</td>\n",
       "      <td>10.291667</td>\n",
       "      <td>8.250000</td>\n",
       "    </tr>\n",
       "  </tbody>\n",
       "</table>\n",
       "</div>"
      ],
      "text/plain": [
       "       지역   측정소코드 측정소명      측정일시       SO2        CO        O3       NO2  \\\n",
       "0  강원 강릉시  632132  옥천동  20171201  0.002708  0.400000  0.025417  0.010792   \n",
       "1  강원 강릉시  632132  옥천동  20171202  0.002917  0.466667  0.023500  0.011042   \n",
       "2  강원 강릉시  632132  옥천동  20171203  0.003875  0.554167  0.034083  0.008333   \n",
       "3  강원 강릉시  632132  옥천동  20171204  0.004182  0.550000  0.030136  0.010591   \n",
       "4  강원 강릉시  632132  옥천동  20171205  0.004042  0.333333  0.028208  0.008417   \n",
       "\n",
       "        PM10       PM25  \n",
       "0  16.750000  11.947368  \n",
       "1  24.041667  16.227273  \n",
       "2  41.583333  31.000000  \n",
       "3  50.590909  40.421053  \n",
       "4  10.291667   8.250000  "
      ]
     },
     "execution_count": 10,
     "metadata": {},
     "output_type": "execute_result"
    }
   ],
   "source": [
    "str_File = str_Root + 'air/2017년 X월'\n",
    "for i in range(12) :\n",
    "    list_Data.append(pd.read_excel(str_File.replace('X', str(i + 1)) + \".xlsx\"))\n",
    "    DataModify(list_Data)\n",
    "    \n",
    "print(len(list_Data))\n",
    "list_Data[len(list_Data) - 1].head()"
   ]
  },
  {
   "cell_type": "markdown",
   "metadata": {},
   "source": [
    "* 2018년"
   ]
  },
  {
   "cell_type": "code",
   "execution_count": 11,
   "metadata": {},
   "outputs": [
    {
     "name": "stdout",
     "output_type": "stream",
     "text": [
      "28\n"
     ]
    },
    {
     "data": {
      "text/html": [
       "<div>\n",
       "<style scoped>\n",
       "    .dataframe tbody tr th:only-of-type {\n",
       "        vertical-align: middle;\n",
       "    }\n",
       "\n",
       "    .dataframe tbody tr th {\n",
       "        vertical-align: top;\n",
       "    }\n",
       "\n",
       "    .dataframe thead th {\n",
       "        text-align: right;\n",
       "    }\n",
       "</style>\n",
       "<table border=\"1\" class=\"dataframe\">\n",
       "  <thead>\n",
       "    <tr style=\"text-align: right;\">\n",
       "      <th></th>\n",
       "      <th>지역</th>\n",
       "      <th>측정소코드</th>\n",
       "      <th>측정소명</th>\n",
       "      <th>측정일시</th>\n",
       "      <th>SO2</th>\n",
       "      <th>CO</th>\n",
       "      <th>O3</th>\n",
       "      <th>NO2</th>\n",
       "      <th>PM10</th>\n",
       "      <th>PM25</th>\n",
       "    </tr>\n",
       "  </thead>\n",
       "  <tbody>\n",
       "    <tr>\n",
       "      <th>0</th>\n",
       "      <td>강원 강릉시</td>\n",
       "      <td>632132</td>\n",
       "      <td>옥천동</td>\n",
       "      <td>20181001</td>\n",
       "      <td>0.002917</td>\n",
       "      <td>0.2</td>\n",
       "      <td>0.034333</td>\n",
       "      <td>0.006083</td>\n",
       "      <td>16.708333</td>\n",
       "      <td>14.000</td>\n",
       "    </tr>\n",
       "    <tr>\n",
       "      <th>1</th>\n",
       "      <td>강원 강릉시</td>\n",
       "      <td>632132</td>\n",
       "      <td>옥천동</td>\n",
       "      <td>20181002</td>\n",
       "      <td>0.003000</td>\n",
       "      <td>0.2</td>\n",
       "      <td>0.029091</td>\n",
       "      <td>0.006364</td>\n",
       "      <td>16.272727</td>\n",
       "      <td>13.125</td>\n",
       "    </tr>\n",
       "    <tr>\n",
       "      <th>2</th>\n",
       "      <td>강원 강릉시</td>\n",
       "      <td>632132</td>\n",
       "      <td>옥천동</td>\n",
       "      <td>20181003</td>\n",
       "      <td>NaN</td>\n",
       "      <td>NaN</td>\n",
       "      <td>NaN</td>\n",
       "      <td>NaN</td>\n",
       "      <td>NaN</td>\n",
       "      <td>NaN</td>\n",
       "    </tr>\n",
       "    <tr>\n",
       "      <th>3</th>\n",
       "      <td>강원 강릉시</td>\n",
       "      <td>632132</td>\n",
       "      <td>옥천동</td>\n",
       "      <td>20181004</td>\n",
       "      <td>NaN</td>\n",
       "      <td>NaN</td>\n",
       "      <td>NaN</td>\n",
       "      <td>NaN</td>\n",
       "      <td>NaN</td>\n",
       "      <td>NaN</td>\n",
       "    </tr>\n",
       "    <tr>\n",
       "      <th>4</th>\n",
       "      <td>강원 강릉시</td>\n",
       "      <td>632132</td>\n",
       "      <td>옥천동</td>\n",
       "      <td>20181005</td>\n",
       "      <td>NaN</td>\n",
       "      <td>NaN</td>\n",
       "      <td>NaN</td>\n",
       "      <td>NaN</td>\n",
       "      <td>NaN</td>\n",
       "      <td>NaN</td>\n",
       "    </tr>\n",
       "  </tbody>\n",
       "</table>\n",
       "</div>"
      ],
      "text/plain": [
       "       지역   측정소코드 측정소명      측정일시       SO2   CO        O3       NO2  \\\n",
       "0  강원 강릉시  632132  옥천동  20181001  0.002917  0.2  0.034333  0.006083   \n",
       "1  강원 강릉시  632132  옥천동  20181002  0.003000  0.2  0.029091  0.006364   \n",
       "2  강원 강릉시  632132  옥천동  20181003       NaN  NaN       NaN       NaN   \n",
       "3  강원 강릉시  632132  옥천동  20181004       NaN  NaN       NaN       NaN   \n",
       "4  강원 강릉시  632132  옥천동  20181005       NaN  NaN       NaN       NaN   \n",
       "\n",
       "        PM10    PM25  \n",
       "0  16.708333  14.000  \n",
       "1  16.272727  13.125  \n",
       "2        NaN     NaN  \n",
       "3        NaN     NaN  \n",
       "4        NaN     NaN  "
      ]
     },
     "execution_count": 11,
     "metadata": {},
     "output_type": "execute_result"
    }
   ],
   "source": [
    "str_File = str_Root + 'air/2018년 X분기'\n",
    "for i in range(4) :\n",
    "    list_Data.append(pd.read_excel(str_File.replace('X', str(i + 1)) + \".xlsx\"))\n",
    "    DataModify(list_Data)\n",
    "    \n",
    "print(len(list_Data))\n",
    "list_Data[len(list_Data) - 1].head()"
   ]
  },
  {
   "cell_type": "markdown",
   "metadata": {},
   "source": [
    "* 2019 년"
   ]
  },
  {
   "cell_type": "code",
   "execution_count": 12,
   "metadata": {},
   "outputs": [
    {
     "name": "stdout",
     "output_type": "stream",
     "text": [
      "37\n"
     ]
    },
    {
     "data": {
      "text/html": [
       "<div>\n",
       "<style scoped>\n",
       "    .dataframe tbody tr th:only-of-type {\n",
       "        vertical-align: middle;\n",
       "    }\n",
       "\n",
       "    .dataframe tbody tr th {\n",
       "        vertical-align: top;\n",
       "    }\n",
       "\n",
       "    .dataframe thead th {\n",
       "        text-align: right;\n",
       "    }\n",
       "</style>\n",
       "<table border=\"1\" class=\"dataframe\">\n",
       "  <thead>\n",
       "    <tr style=\"text-align: right;\">\n",
       "      <th></th>\n",
       "      <th>지역</th>\n",
       "      <th>측정소코드</th>\n",
       "      <th>측정소명</th>\n",
       "      <th>측정일시</th>\n",
       "      <th>SO2</th>\n",
       "      <th>CO</th>\n",
       "      <th>O3</th>\n",
       "      <th>NO2</th>\n",
       "      <th>PM10</th>\n",
       "      <th>PM25</th>\n",
       "    </tr>\n",
       "  </thead>\n",
       "  <tbody>\n",
       "    <tr>\n",
       "      <th>0</th>\n",
       "      <td>강원 강릉시</td>\n",
       "      <td>632132</td>\n",
       "      <td>옥천동</td>\n",
       "      <td>20190901</td>\n",
       "      <td>0.001250</td>\n",
       "      <td>0.579167</td>\n",
       "      <td>0.057958</td>\n",
       "      <td>0.007292</td>\n",
       "      <td>27.875000</td>\n",
       "      <td>14.173913</td>\n",
       "    </tr>\n",
       "    <tr>\n",
       "      <th>1</th>\n",
       "      <td>강원 강릉시</td>\n",
       "      <td>632132</td>\n",
       "      <td>옥천동</td>\n",
       "      <td>20190902</td>\n",
       "      <td>0.001167</td>\n",
       "      <td>0.462500</td>\n",
       "      <td>0.038958</td>\n",
       "      <td>0.009625</td>\n",
       "      <td>30.958333</td>\n",
       "      <td>13.208333</td>\n",
       "    </tr>\n",
       "    <tr>\n",
       "      <th>2</th>\n",
       "      <td>강원 강릉시</td>\n",
       "      <td>632132</td>\n",
       "      <td>옥천동</td>\n",
       "      <td>20190903</td>\n",
       "      <td>0.001000</td>\n",
       "      <td>0.495833</td>\n",
       "      <td>0.027000</td>\n",
       "      <td>0.013958</td>\n",
       "      <td>22.791667</td>\n",
       "      <td>11.130435</td>\n",
       "    </tr>\n",
       "    <tr>\n",
       "      <th>3</th>\n",
       "      <td>강원 강릉시</td>\n",
       "      <td>632132</td>\n",
       "      <td>옥천동</td>\n",
       "      <td>20190904</td>\n",
       "      <td>0.001000</td>\n",
       "      <td>NaN</td>\n",
       "      <td>0.026292</td>\n",
       "      <td>0.011625</td>\n",
       "      <td>11.916667</td>\n",
       "      <td>3.043478</td>\n",
       "    </tr>\n",
       "    <tr>\n",
       "      <th>4</th>\n",
       "      <td>강원 강릉시</td>\n",
       "      <td>632132</td>\n",
       "      <td>옥천동</td>\n",
       "      <td>20190905</td>\n",
       "      <td>0.001000</td>\n",
       "      <td>0.200000</td>\n",
       "      <td>0.015875</td>\n",
       "      <td>0.009667</td>\n",
       "      <td>18.875000</td>\n",
       "      <td>5.285714</td>\n",
       "    </tr>\n",
       "  </tbody>\n",
       "</table>\n",
       "</div>"
      ],
      "text/plain": [
       "       지역   측정소코드 측정소명      측정일시       SO2        CO        O3       NO2  \\\n",
       "0  강원 강릉시  632132  옥천동  20190901  0.001250  0.579167  0.057958  0.007292   \n",
       "1  강원 강릉시  632132  옥천동  20190902  0.001167  0.462500  0.038958  0.009625   \n",
       "2  강원 강릉시  632132  옥천동  20190903  0.001000  0.495833  0.027000  0.013958   \n",
       "3  강원 강릉시  632132  옥천동  20190904  0.001000       NaN  0.026292  0.011625   \n",
       "4  강원 강릉시  632132  옥천동  20190905  0.001000  0.200000  0.015875  0.009667   \n",
       "\n",
       "        PM10       PM25  \n",
       "0  27.875000  14.173913  \n",
       "1  30.958333  13.208333  \n",
       "2  22.791667  11.130435  \n",
       "3  11.916667   3.043478  \n",
       "4  18.875000   5.285714  "
      ]
     },
     "execution_count": 12,
     "metadata": {},
     "output_type": "execute_result"
    }
   ],
   "source": [
    "str_File = str_Root + 'air/2019년 X월'\n",
    "for i in range(9) :\n",
    "    list_Data.append(pd.read_excel(str_File.replace('X', str(i + 1)) + \".xlsx\"))\n",
    "    DataModify(list_Data)\n",
    "    \n",
    "print(len(list_Data))\n",
    "list_Data[len(list_Data) - 1].head()"
   ]
  },
  {
   "cell_type": "markdown",
   "metadata": {},
   "source": [
    "## 데이터 병합 처리"
   ]
  },
  {
   "cell_type": "code",
   "execution_count": 13,
   "metadata": {},
   "outputs": [],
   "source": [
    "df = pd.concat(list_Data)"
   ]
  },
  {
   "cell_type": "markdown",
   "metadata": {},
   "source": [
    "## 날짜 데이터 타입 변경"
   ]
  },
  {
   "cell_type": "code",
   "execution_count": 14,
   "metadata": {},
   "outputs": [],
   "source": [
    "df[\"측정일시\"] = pd.to_datetime(df[\"측정일시\"])\n",
    "#df.sort_values(by=[\"측정일시\", \"지역\"], axis=0, ascending = True)"
   ]
  },
  {
   "cell_type": "markdown",
   "metadata": {},
   "source": [
    "## 데이터 csv 파일로 저장 "
   ]
  },
  {
   "cell_type": "code",
   "execution_count": 15,
   "metadata": {},
   "outputs": [],
   "source": [
    "df.to_csv(\"날씨_시계열_데이터.csv\", encoding = \"CP949\", index = False)"
   ]
  },
  {
   "cell_type": "markdown",
   "metadata": {},
   "source": [
    "## 데이터 확인"
   ]
  },
  {
   "cell_type": "code",
   "execution_count": 16,
   "metadata": {
    "scrolled": true
   },
   "outputs": [
    {
     "data": {
      "text/plain": [
       "(730521, 10)"
      ]
     },
     "execution_count": 16,
     "metadata": {},
     "output_type": "execute_result"
    }
   ],
   "source": [
    "dfTest = pd.read_csv(str_Root + \"날씨_시계열_데이터.csv\", encoding = \"CP949\")\n",
    "dfTest.shape"
   ]
  },
  {
   "cell_type": "code",
   "execution_count": 17,
   "metadata": {},
   "outputs": [
    {
     "name": "stdout",
     "output_type": "stream",
     "text": [
      "<class 'pandas.core.frame.DataFrame'>\n",
      "RangeIndex: 730521 entries, 0 to 730520\n",
      "Data columns (total 10 columns):\n",
      " #   Column  Non-Null Count   Dtype  \n",
      "---  ------  --------------   -----  \n",
      " 0   지역      730521 non-null  object \n",
      " 1   측정소코드   730521 non-null  int64  \n",
      " 2   측정소명    730521 non-null  object \n",
      " 3   측정일시    730521 non-null  object \n",
      " 4   SO2     704370 non-null  float64\n",
      " 5   CO      702959 non-null  float64\n",
      " 6   O3      705593 non-null  float64\n",
      " 7   NO2     711765 non-null  float64\n",
      " 8   PM10    700957 non-null  float64\n",
      " 9   PM25    419647 non-null  float64\n",
      "dtypes: float64(6), int64(1), object(3)\n",
      "memory usage: 55.7+ MB\n"
     ]
    }
   ],
   "source": [
    "dfTest.info()"
   ]
  },
  {
   "cell_type": "code",
   "execution_count": 18,
   "metadata": {},
   "outputs": [
    {
     "data": {
      "text/html": [
       "<div>\n",
       "<style scoped>\n",
       "    .dataframe tbody tr th:only-of-type {\n",
       "        vertical-align: middle;\n",
       "    }\n",
       "\n",
       "    .dataframe tbody tr th {\n",
       "        vertical-align: top;\n",
       "    }\n",
       "\n",
       "    .dataframe thead th {\n",
       "        text-align: right;\n",
       "    }\n",
       "</style>\n",
       "<table border=\"1\" class=\"dataframe\">\n",
       "  <thead>\n",
       "    <tr style=\"text-align: right;\">\n",
       "      <th></th>\n",
       "      <th>지역</th>\n",
       "      <th>측정소코드</th>\n",
       "      <th>측정소명</th>\n",
       "      <th>측정일시</th>\n",
       "      <th>SO2</th>\n",
       "      <th>CO</th>\n",
       "      <th>O3</th>\n",
       "      <th>NO2</th>\n",
       "      <th>PM10</th>\n",
       "      <th>PM25</th>\n",
       "    </tr>\n",
       "  </thead>\n",
       "  <tbody>\n",
       "    <tr>\n",
       "      <th>0</th>\n",
       "      <td>강원 강릉시</td>\n",
       "      <td>632132</td>\n",
       "      <td>옥천동</td>\n",
       "      <td>2014-01-01</td>\n",
       "      <td>0.009042</td>\n",
       "      <td>0.654167</td>\n",
       "      <td>0.019458</td>\n",
       "      <td>0.012000</td>\n",
       "      <td>82.333333</td>\n",
       "      <td>NaN</td>\n",
       "    </tr>\n",
       "    <tr>\n",
       "      <th>1</th>\n",
       "      <td>강원 강릉시</td>\n",
       "      <td>632132</td>\n",
       "      <td>옥천동</td>\n",
       "      <td>2014-01-02</td>\n",
       "      <td>0.007167</td>\n",
       "      <td>0.591667</td>\n",
       "      <td>0.016333</td>\n",
       "      <td>0.013667</td>\n",
       "      <td>44.791667</td>\n",
       "      <td>NaN</td>\n",
       "    </tr>\n",
       "    <tr>\n",
       "      <th>2</th>\n",
       "      <td>강원 강릉시</td>\n",
       "      <td>632132</td>\n",
       "      <td>옥천동</td>\n",
       "      <td>2014-01-03</td>\n",
       "      <td>0.009750</td>\n",
       "      <td>0.770833</td>\n",
       "      <td>0.019542</td>\n",
       "      <td>0.016458</td>\n",
       "      <td>63.083333</td>\n",
       "      <td>NaN</td>\n",
       "    </tr>\n",
       "    <tr>\n",
       "      <th>3</th>\n",
       "      <td>강원 강릉시</td>\n",
       "      <td>632132</td>\n",
       "      <td>옥천동</td>\n",
       "      <td>2014-01-04</td>\n",
       "      <td>0.006875</td>\n",
       "      <td>0.795833</td>\n",
       "      <td>0.011708</td>\n",
       "      <td>0.016000</td>\n",
       "      <td>40.916667</td>\n",
       "      <td>NaN</td>\n",
       "    </tr>\n",
       "    <tr>\n",
       "      <th>4</th>\n",
       "      <td>강원 강릉시</td>\n",
       "      <td>632132</td>\n",
       "      <td>옥천동</td>\n",
       "      <td>2014-01-05</td>\n",
       "      <td>0.007292</td>\n",
       "      <td>0.745833</td>\n",
       "      <td>0.012042</td>\n",
       "      <td>0.012708</td>\n",
       "      <td>26.041667</td>\n",
       "      <td>NaN</td>\n",
       "    </tr>\n",
       "    <tr>\n",
       "      <th>...</th>\n",
       "      <td>...</td>\n",
       "      <td>...</td>\n",
       "      <td>...</td>\n",
       "      <td>...</td>\n",
       "      <td>...</td>\n",
       "      <td>...</td>\n",
       "      <td>...</td>\n",
       "      <td>...</td>\n",
       "      <td>...</td>\n",
       "      <td>...</td>\n",
       "    </tr>\n",
       "    <tr>\n",
       "      <th>730516</th>\n",
       "      <td>충북 충주시</td>\n",
       "      <td>633123</td>\n",
       "      <td>칠금동</td>\n",
       "      <td>2019-09-26</td>\n",
       "      <td>0.003333</td>\n",
       "      <td>0.670833</td>\n",
       "      <td>0.014667</td>\n",
       "      <td>0.021542</td>\n",
       "      <td>33.750000</td>\n",
       "      <td>14.875000</td>\n",
       "    </tr>\n",
       "    <tr>\n",
       "      <th>730517</th>\n",
       "      <td>충북 충주시</td>\n",
       "      <td>633123</td>\n",
       "      <td>칠금동</td>\n",
       "      <td>2019-09-27</td>\n",
       "      <td>0.003667</td>\n",
       "      <td>0.645833</td>\n",
       "      <td>0.015375</td>\n",
       "      <td>0.026292</td>\n",
       "      <td>29.958333</td>\n",
       "      <td>9.666667</td>\n",
       "    </tr>\n",
       "    <tr>\n",
       "      <th>730518</th>\n",
       "      <td>충북 충주시</td>\n",
       "      <td>633123</td>\n",
       "      <td>칠금동</td>\n",
       "      <td>2019-09-28</td>\n",
       "      <td>0.003417</td>\n",
       "      <td>0.666667</td>\n",
       "      <td>0.018625</td>\n",
       "      <td>0.023917</td>\n",
       "      <td>39.250000</td>\n",
       "      <td>19.541667</td>\n",
       "    </tr>\n",
       "    <tr>\n",
       "      <th>730519</th>\n",
       "      <td>충북 충주시</td>\n",
       "      <td>633123</td>\n",
       "      <td>칠금동</td>\n",
       "      <td>2019-09-29</td>\n",
       "      <td>0.003042</td>\n",
       "      <td>0.587500</td>\n",
       "      <td>0.025792</td>\n",
       "      <td>0.018667</td>\n",
       "      <td>43.583333</td>\n",
       "      <td>26.541667</td>\n",
       "    </tr>\n",
       "    <tr>\n",
       "      <th>730520</th>\n",
       "      <td>충북 충주시</td>\n",
       "      <td>633123</td>\n",
       "      <td>칠금동</td>\n",
       "      <td>2019-09-30</td>\n",
       "      <td>0.003792</td>\n",
       "      <td>0.691667</td>\n",
       "      <td>0.025125</td>\n",
       "      <td>0.027292</td>\n",
       "      <td>50.375000</td>\n",
       "      <td>29.750000</td>\n",
       "    </tr>\n",
       "  </tbody>\n",
       "</table>\n",
       "<p>730521 rows × 10 columns</p>\n",
       "</div>"
      ],
      "text/plain": [
       "            지역   측정소코드 측정소명        측정일시       SO2        CO        O3  \\\n",
       "0       강원 강릉시  632132  옥천동  2014-01-01  0.009042  0.654167  0.019458   \n",
       "1       강원 강릉시  632132  옥천동  2014-01-02  0.007167  0.591667  0.016333   \n",
       "2       강원 강릉시  632132  옥천동  2014-01-03  0.009750  0.770833  0.019542   \n",
       "3       강원 강릉시  632132  옥천동  2014-01-04  0.006875  0.795833  0.011708   \n",
       "4       강원 강릉시  632132  옥천동  2014-01-05  0.007292  0.745833  0.012042   \n",
       "...        ...     ...  ...         ...       ...       ...       ...   \n",
       "730516  충북 충주시  633123  칠금동  2019-09-26  0.003333  0.670833  0.014667   \n",
       "730517  충북 충주시  633123  칠금동  2019-09-27  0.003667  0.645833  0.015375   \n",
       "730518  충북 충주시  633123  칠금동  2019-09-28  0.003417  0.666667  0.018625   \n",
       "730519  충북 충주시  633123  칠금동  2019-09-29  0.003042  0.587500  0.025792   \n",
       "730520  충북 충주시  633123  칠금동  2019-09-30  0.003792  0.691667  0.025125   \n",
       "\n",
       "             NO2       PM10       PM25  \n",
       "0       0.012000  82.333333        NaN  \n",
       "1       0.013667  44.791667        NaN  \n",
       "2       0.016458  63.083333        NaN  \n",
       "3       0.016000  40.916667        NaN  \n",
       "4       0.012708  26.041667        NaN  \n",
       "...          ...        ...        ...  \n",
       "730516  0.021542  33.750000  14.875000  \n",
       "730517  0.026292  29.958333   9.666667  \n",
       "730518  0.023917  39.250000  19.541667  \n",
       "730519  0.018667  43.583333  26.541667  \n",
       "730520  0.027292  50.375000  29.750000  \n",
       "\n",
       "[730521 rows x 10 columns]"
      ]
     },
     "execution_count": 18,
     "metadata": {},
     "output_type": "execute_result"
    }
   ],
   "source": [
    "dfTest"
   ]
  },
  {
   "cell_type": "code",
   "execution_count": null,
   "metadata": {},
   "outputs": [],
   "source": []
  },
  {
   "cell_type": "code",
   "execution_count": 19,
   "metadata": {},
   "outputs": [],
   "source": [
    "if \"망\" in list_Data[13].columns.tolist() :\n",
    "    print(\"있다\")"
   ]
  },
  {
   "cell_type": "code",
   "execution_count": 20,
   "metadata": {},
   "outputs": [
    {
     "data": {
      "text/plain": [
       "지역           강원 춘천시\n",
       "측정소코드        132113\n",
       "측정소명            석사동\n",
       "측정일시     2018-05-03\n",
       "SO2        0.003375\n",
       "CO         0.329167\n",
       "O3         0.045375\n",
       "NO2       0.0102917\n",
       "PM10        22.1667\n",
       "PM25             12\n",
       "Name: 502562, dtype: object"
      ]
     },
     "execution_count": 20,
     "metadata": {},
     "output_type": "execute_result"
    }
   ],
   "source": [
    "dfTest.loc[502562,]"
   ]
  }
 ],
 "metadata": {
  "kernelspec": {
   "display_name": "Python 3",
   "language": "python",
   "name": "python3"
  },
  "language_info": {
   "codemirror_mode": {
    "name": "ipython",
    "version": 3
   },
   "file_extension": ".py",
   "mimetype": "text/x-python",
   "name": "python",
   "nbconvert_exporter": "python",
   "pygments_lexer": "ipython3",
   "version": "3.7.6"
  }
 },
 "nbformat": 4,
 "nbformat_minor": 4
}
