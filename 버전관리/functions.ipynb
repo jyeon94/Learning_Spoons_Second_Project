{
 "cells": [
  {
   "cell_type": "code",
   "execution_count": 1,
   "metadata": {},
   "outputs": [],
   "source": [
    "import pandas as pd"
   ]
  },
  {
   "cell_type": "code",
   "execution_count": 2,
   "metadata": {},
   "outputs": [],
   "source": [
    "def date_time(dataframe):\n",
    "    dataframe['일시'] = pd.to_datetime(dataframe['일시'])\n",
    "    dataframe['연도'] = dataframe['일시'].dt.year\n",
    "    dataframe['월'] = dataframe['일시'].dt.month\n",
    "    dataframe['일'] = dataframe['일시'].dt.day\n",
    "    return dataframe[['연도','월','일']]\n",
    "\n",
    "def factorize(dataframe):\n",
    "    dataframe['마켓명_num'] = pd.factorize(dataframe['마켓명'])[0]\n",
    "    return dataframe['마켓명_num']\n",
    "\n",
    "def data_preparation(dataframe):\n",
    "    date_time(dataframe)\n",
    "    factorize(dataframe)\n",
    "    return dataframe"
   ]
  }
 ],
 "metadata": {
  "kernelspec": {
   "display_name": "Python 3",
   "language": "python",
   "name": "python3"
  },
  "language_info": {
   "codemirror_mode": {
    "name": "ipython",
    "version": 3
   },
   "file_extension": ".py",
   "mimetype": "text/x-python",
   "name": "python",
   "nbconvert_exporter": "python",
   "pygments_lexer": "ipython3",
   "version": "3.7.6"
  }
 },
 "nbformat": 4,
 "nbformat_minor": 4
}
