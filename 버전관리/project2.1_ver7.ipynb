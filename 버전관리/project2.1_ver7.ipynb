{
 "cells": [
  {
   "cell_type": "markdown",
   "metadata": {},
   "source": [
    "# 일조량에 따른 토마토 생산량과 가격 예측"
   ]
  },
  {
   "cell_type": "markdown",
   "metadata": {},
   "source": [
    "- 토마토마(김준회, 연제호, 정다영, 추영은)\n",
    "- 발표일 : 2020년 3월 19일"
   ]
  },
  {
   "cell_type": "markdown",
   "metadata": {},
   "source": [
    "# 1. 서론"
   ]
  },
  {
   "cell_type": "markdown",
   "metadata": {},
   "source": [
    "### 1) 분석 배경"
   ]
  },
  {
   "cell_type": "markdown",
   "metadata": {},
   "source": [
    "최근 몇년간 미세먼지에 대한 관심이 높아졌다. 미세먼지는 황사처럼 하늘을 부옇게 만들고 먼거리까지 이동한다는 점에서 매우 비슷하나 주로 봄에 영향을 주는 황사와 달리 일년 내내 영향을 주며 발생 과정과 특성 역시 많은 차이가 있다. 미세먼지는 가정의 난방과 취사, 자동차 운행, 공장에서의 화석연료의 사용, 산불 및 화전 경작 등으로 발생한 인위적인 입자로 크기는 황사보다 훨씬 작은 2㎛ 이하이다. 지름 10㎛(마이크로미터) 이하의 먼지는 체내에 흡수되어 다양한 질병의 원인이 된다는 내용이 널리 알려져 마스크가 생활화되었다. \n",
    "\n",
    "미세먼지는 인체 뿐만 아니라 농가에도 피해를 주고 있다. 비닐하우스에서 재배하는 식물의 경우 농가에서 비닐하우스 위에 내려앉은 미세먼지를 자주 걷어내기 어렵고 유리온실도 마찬가지로 미세먼지으로 인한 투광량이 떨어져 작물의 상품성과 생산성이 떨어진다는 것이다. 특히, 토마토의 경우 노지보다는 하우스 시설에서 재배하고 있고 저장성이 약한데다가 국내 생산 의존도가 높아 어느 농산물 보다 가격 변동이 크다고 한다."
   ]
  },
  {
   "cell_type": "markdown",
   "metadata": {},
   "source": [
    "### 2) 분석 목적"
   ]
  },
  {
   "cell_type": "markdown",
   "metadata": {},
   "source": [
    "미세먼지에 따른 일조량의 변화와 토마토 생산량 및 가격을 예측하고자 한다."
   ]
  },
  {
   "cell_type": "markdown",
   "metadata": {},
   "source": [
    "## 2. 데이터 준비"
   ]
  },
  {
   "cell_type": "markdown",
   "metadata": {},
   "source": [
    "### 1) 활용 데이터\n",
    "\n",
    " 데이터 | 사용 변수 | 시점 | 출처 | 파일 형식\n",
    ":---:|:-------:|:---:|:---:|:--------:\n",
    "토마토 일별 품목별 도.소매가격정보 | 품목명, 품종명,\t시군구,\t마켓명,\t연도,\t날짜,\t가격 | 일 | [농산물유통정보](https://kdx.kr/kamis/periodProductList) | csv\n",
    "농작물생산조사:채소생산량(과채류) | 품종명, 시군구, 마켓명, 연도, 날짜, 가격 | 일 | [통계청](http://kosis.kr/statHtml/statHtml.do?orgId=101&tblId=DT_1ET0027&vw_cd=MT_ZTITLE&list_id=F1H&seqNo=&lang_mode=ko&language=kor&obj_var_id=&itm_id=&conn_path=MT_ZTITLE) | csv\n",
    "종관기상관측(ASOS) | 지점명,\t일시,\t평균기온,\t일강수량,\t합계 일조시간 | 일 | [기상청 기상자료개방포털](https://data.kma.go.kr/data/grnd/selectAsosRltmList.do?pgmNo=36) | csv\n",
    "대기오염 최종확정자료  | 지역, 측정소코드, 측정소명, 측정일시, SO2, CO, O3, NO2, PM10 | 시간 | [AirKorea](https://www.airkorea.or.kr/web/last_amb_hour_data?pMENU_NO=123) | xlsx"
   ]
  },
  {
   "cell_type": "markdown",
   "metadata": {},
   "source": [
    "#### 종관기상관측(ASOS) 변수 설명\n",
    "\n",
    " - 평균기온 : \n",
    " - 일강수량 : \n",
    " - 합계 일조시간 : 태양 광선이 구름이나 안개로 가려지지 않고 땅 위를 비치는 것, 실제로 비친 시간"
   ]
  },
  {
   "cell_type": "markdown",
   "metadata": {},
   "source": [
    "#### 대기오염 최종확정자료\n",
    "\n",
    " - SO2 : 아황산가스\n",
    " - CO : 이산화탄소\n",
    " - O3 : 오존\n",
    " - NO2 : 이산화질소\n",
    " - PM10 : 미세먼지"
   ]
  },
  {
   "cell_type": "markdown",
   "metadata": {},
   "source": [
    "## 3. 데이터 가공"
   ]
  },
  {
   "cell_type": "markdown",
   "metadata": {},
   "source": [
    "#### 필요한 라이브러리 불러오기"
   ]
  },
  {
   "cell_type": "code",
   "execution_count": 1,
   "metadata": {},
   "outputs": [],
   "source": [
    "import pandas as pd # 데이터 프레임\n",
    "import numpy as np # \n",
    "import re # 정규표현식\n",
    "import os # wd 변경\n",
    "\n",
    "import seaborn as sns # 시각화"
   ]
  },
  {
   "cell_type": "markdown",
   "metadata": {},
   "source": [
    "#### 시각화를 위한 한글 폰트 설정하기"
   ]
  },
  {
   "cell_type": "code",
   "execution_count": 2,
   "metadata": {},
   "outputs": [],
   "source": [
    "import matplotlib.pyplot as plt\n",
    "\n",
    "plt.rc('font', family='AppleGothic')\n",
    "\n",
    "# 마이너스 값 깨지는 현상 해결\n",
    "plt.rc('axes', unicode_minus=False)"
   ]
  },
  {
   "cell_type": "markdown",
   "metadata": {},
   "source": [
    "### 1) 토마토 도매 가격 정보 전처리"
   ]
  },
  {
   "cell_type": "code",
   "execution_count": 4,
   "metadata": {},
   "outputs": [
    {
     "data": {
      "text/html": [
       "<div>\n",
       "<style scoped>\n",
       "    .dataframe tbody tr th:only-of-type {\n",
       "        vertical-align: middle;\n",
       "    }\n",
       "\n",
       "    .dataframe tbody tr th {\n",
       "        vertical-align: top;\n",
       "    }\n",
       "\n",
       "    .dataframe thead th {\n",
       "        text-align: right;\n",
       "    }\n",
       "</style>\n",
       "<table border=\"1\" class=\"dataframe\">\n",
       "  <thead>\n",
       "    <tr style=\"text-align: right;\">\n",
       "      <th></th>\n",
       "      <th>품목명</th>\n",
       "      <th>품종명</th>\n",
       "      <th>시군구</th>\n",
       "      <th>마켓명</th>\n",
       "      <th>연도</th>\n",
       "      <th>날짜</th>\n",
       "      <th>가격</th>\n",
       "    </tr>\n",
       "  </thead>\n",
       "  <tbody>\n",
       "    <tr>\n",
       "      <th>0</th>\n",
       "      <td>토마토</td>\n",
       "      <td>토마토(10kg)</td>\n",
       "      <td>서울</td>\n",
       "      <td>가락도매</td>\n",
       "      <td>2013</td>\n",
       "      <td>01/02</td>\n",
       "      <td>29,000</td>\n",
       "    </tr>\n",
       "    <tr>\n",
       "      <th>1</th>\n",
       "      <td>토마토</td>\n",
       "      <td>토마토(10kg)</td>\n",
       "      <td>서울</td>\n",
       "      <td>가락도매</td>\n",
       "      <td>2013</td>\n",
       "      <td>01/03</td>\n",
       "      <td>30,000</td>\n",
       "    </tr>\n",
       "    <tr>\n",
       "      <th>2</th>\n",
       "      <td>토마토</td>\n",
       "      <td>토마토(10kg)</td>\n",
       "      <td>서울</td>\n",
       "      <td>가락도매</td>\n",
       "      <td>2013</td>\n",
       "      <td>01/04</td>\n",
       "      <td>30,000</td>\n",
       "    </tr>\n",
       "    <tr>\n",
       "      <th>3</th>\n",
       "      <td>토마토</td>\n",
       "      <td>토마토(10kg)</td>\n",
       "      <td>서울</td>\n",
       "      <td>가락도매</td>\n",
       "      <td>2013</td>\n",
       "      <td>01/07</td>\n",
       "      <td>30,000</td>\n",
       "    </tr>\n",
       "    <tr>\n",
       "      <th>4</th>\n",
       "      <td>토마토</td>\n",
       "      <td>토마토(10kg)</td>\n",
       "      <td>서울</td>\n",
       "      <td>가락도매</td>\n",
       "      <td>2013</td>\n",
       "      <td>01/08</td>\n",
       "      <td>27,000</td>\n",
       "    </tr>\n",
       "  </tbody>\n",
       "</table>\n",
       "</div>"
      ],
      "text/plain": [
       "   품목명        품종명 시군구   마켓명    연도     날짜      가격\n",
       "0  토마토  토마토(10kg)  서울  가락도매  2013  01/02  29,000\n",
       "1  토마토  토마토(10kg)  서울  가락도매  2013  01/03  30,000\n",
       "2  토마토  토마토(10kg)  서울  가락도매  2013  01/04  30,000\n",
       "3  토마토  토마토(10kg)  서울  가락도매  2013  01/07  30,000\n",
       "4  토마토  토마토(10kg)  서울  가락도매  2013  01/08  27,000"
      ]
     },
     "execution_count": 4,
     "metadata": {},
     "output_type": "execute_result"
    }
   ],
   "source": [
    "# 토마토 일별 도.소매 가격정보 2013-2016년 데이터 불러오기 \n",
    "tom36 = pd.read_csv('/Users/jungdayoung/Documents/GitHub/Learning_Spoons_Second_Project/20132016토마토_일별 품목별 도.소매가격정보.csv')\n",
    "\n",
    "# 데이터 하단에 있는 평균과 평년 데이터 제외\n",
    "tomp36 = tom36[(tom36['시군구']!='평균') & (tom36['시군구']!='평년')]\n",
    "\n",
    "# 데이터 확인\n",
    "tomp36.head()"
   ]
  },
  {
   "cell_type": "code",
   "execution_count": 5,
   "metadata": {},
   "outputs": [
    {
     "data": {
      "text/html": [
       "<div>\n",
       "<style scoped>\n",
       "    .dataframe tbody tr th:only-of-type {\n",
       "        vertical-align: middle;\n",
       "    }\n",
       "\n",
       "    .dataframe tbody tr th {\n",
       "        vertical-align: top;\n",
       "    }\n",
       "\n",
       "    .dataframe thead th {\n",
       "        text-align: right;\n",
       "    }\n",
       "</style>\n",
       "<table border=\"1\" class=\"dataframe\">\n",
       "  <thead>\n",
       "    <tr style=\"text-align: right;\">\n",
       "      <th></th>\n",
       "      <th>품목명</th>\n",
       "      <th>품종명</th>\n",
       "      <th>시군구</th>\n",
       "      <th>마켓명</th>\n",
       "      <th>연도</th>\n",
       "      <th>날짜</th>\n",
       "      <th>가격</th>\n",
       "    </tr>\n",
       "  </thead>\n",
       "  <tbody>\n",
       "    <tr>\n",
       "      <th>0</th>\n",
       "      <td>토마토</td>\n",
       "      <td>토마토(10kg)</td>\n",
       "      <td>서울</td>\n",
       "      <td>가락도매</td>\n",
       "      <td>2017</td>\n",
       "      <td>01/02</td>\n",
       "      <td>43,000</td>\n",
       "    </tr>\n",
       "    <tr>\n",
       "      <th>1</th>\n",
       "      <td>토마토</td>\n",
       "      <td>토마토(10kg)</td>\n",
       "      <td>서울</td>\n",
       "      <td>가락도매</td>\n",
       "      <td>2017</td>\n",
       "      <td>01/03</td>\n",
       "      <td>41,000</td>\n",
       "    </tr>\n",
       "    <tr>\n",
       "      <th>2</th>\n",
       "      <td>토마토</td>\n",
       "      <td>토마토(10kg)</td>\n",
       "      <td>서울</td>\n",
       "      <td>가락도매</td>\n",
       "      <td>2017</td>\n",
       "      <td>01/04</td>\n",
       "      <td>40,000</td>\n",
       "    </tr>\n",
       "    <tr>\n",
       "      <th>3</th>\n",
       "      <td>토마토</td>\n",
       "      <td>토마토(10kg)</td>\n",
       "      <td>서울</td>\n",
       "      <td>가락도매</td>\n",
       "      <td>2017</td>\n",
       "      <td>01/05</td>\n",
       "      <td>38,000</td>\n",
       "    </tr>\n",
       "    <tr>\n",
       "      <th>4</th>\n",
       "      <td>토마토</td>\n",
       "      <td>토마토(10kg)</td>\n",
       "      <td>서울</td>\n",
       "      <td>가락도매</td>\n",
       "      <td>2017</td>\n",
       "      <td>01/06</td>\n",
       "      <td>38,000</td>\n",
       "    </tr>\n",
       "  </tbody>\n",
       "</table>\n",
       "</div>"
      ],
      "text/plain": [
       "   품목명        품종명 시군구   마켓명    연도     날짜      가격\n",
       "0  토마토  토마토(10kg)  서울  가락도매  2017  01/02  43,000\n",
       "1  토마토  토마토(10kg)  서울  가락도매  2017  01/03  41,000\n",
       "2  토마토  토마토(10kg)  서울  가락도매  2017  01/04  40,000\n",
       "3  토마토  토마토(10kg)  서울  가락도매  2017  01/05  38,000\n",
       "4  토마토  토마토(10kg)  서울  가락도매  2017  01/06  38,000"
      ]
     },
     "execution_count": 5,
     "metadata": {},
     "output_type": "execute_result"
    }
   ],
   "source": [
    "# 토마토 일별 도.소매 가격정보 2017-2019년 데이터 불러오기 \n",
    "tom79 = pd.read_csv('/Users/jungdayoung/Documents/GitHub/Learning_Spoons_Second_Project/20172019토마토_일별 품목별 도.소매가격정보.csv')\n",
    "\n",
    "# 13-16년 데이터와 마찬가지로 평균 평년 데이터 제외. 2020년 데이터도 제외.\n",
    "tomp79 = tom79[(tom79['시군구']!='평균') & (tom79['시군구']!='평년') & (tom79['연도']!= 2020)]\n",
    "\n",
    "# 데이터 확인\n",
    "tomp79.head()"
   ]
  },
  {
   "cell_type": "code",
   "execution_count": 6,
   "metadata": {},
   "outputs": [
    {
     "data": {
      "text/plain": [
       "(9323, 7)"
      ]
     },
     "execution_count": 6,
     "metadata": {},
     "output_type": "execute_result"
    }
   ],
   "source": [
    "# 데이터 합치기\n",
    "tomp = pd.concat([tomp36,tomp79])\n",
    "\n",
    "# 제대로 합쳐졌는지 행 개수 확인\n",
    "tomp.shape"
   ]
  },
  {
   "cell_type": "code",
   "execution_count": 7,
   "metadata": {},
   "outputs": [
    {
     "data": {
      "text/html": [
       "<div>\n",
       "<style scoped>\n",
       "    .dataframe tbody tr th:only-of-type {\n",
       "        vertical-align: middle;\n",
       "    }\n",
       "\n",
       "    .dataframe tbody tr th {\n",
       "        vertical-align: top;\n",
       "    }\n",
       "\n",
       "    .dataframe thead th {\n",
       "        text-align: right;\n",
       "    }\n",
       "</style>\n",
       "<table border=\"1\" class=\"dataframe\">\n",
       "  <thead>\n",
       "    <tr style=\"text-align: right;\">\n",
       "      <th></th>\n",
       "      <th>품종명</th>\n",
       "      <th>시군구</th>\n",
       "      <th>마켓명</th>\n",
       "      <th>연도</th>\n",
       "      <th>날짜</th>\n",
       "      <th>가격</th>\n",
       "    </tr>\n",
       "  </thead>\n",
       "  <tbody>\n",
       "    <tr>\n",
       "      <th>0</th>\n",
       "      <td>토마토(10kg)</td>\n",
       "      <td>서울</td>\n",
       "      <td>가락도매</td>\n",
       "      <td>2013</td>\n",
       "      <td>01/02</td>\n",
       "      <td>29,000</td>\n",
       "    </tr>\n",
       "    <tr>\n",
       "      <th>1</th>\n",
       "      <td>토마토(10kg)</td>\n",
       "      <td>서울</td>\n",
       "      <td>가락도매</td>\n",
       "      <td>2013</td>\n",
       "      <td>01/03</td>\n",
       "      <td>30,000</td>\n",
       "    </tr>\n",
       "    <tr>\n",
       "      <th>2</th>\n",
       "      <td>토마토(10kg)</td>\n",
       "      <td>서울</td>\n",
       "      <td>가락도매</td>\n",
       "      <td>2013</td>\n",
       "      <td>01/04</td>\n",
       "      <td>30,000</td>\n",
       "    </tr>\n",
       "    <tr>\n",
       "      <th>3</th>\n",
       "      <td>토마토(10kg)</td>\n",
       "      <td>서울</td>\n",
       "      <td>가락도매</td>\n",
       "      <td>2013</td>\n",
       "      <td>01/07</td>\n",
       "      <td>30,000</td>\n",
       "    </tr>\n",
       "    <tr>\n",
       "      <th>4</th>\n",
       "      <td>토마토(10kg)</td>\n",
       "      <td>서울</td>\n",
       "      <td>가락도매</td>\n",
       "      <td>2013</td>\n",
       "      <td>01/08</td>\n",
       "      <td>27,000</td>\n",
       "    </tr>\n",
       "  </tbody>\n",
       "</table>\n",
       "</div>"
      ],
      "text/plain": [
       "         품종명 시군구   마켓명    연도     날짜      가격\n",
       "0  토마토(10kg)  서울  가락도매  2013  01/02  29,000\n",
       "1  토마토(10kg)  서울  가락도매  2013  01/03  30,000\n",
       "2  토마토(10kg)  서울  가락도매  2013  01/04  30,000\n",
       "3  토마토(10kg)  서울  가락도매  2013  01/07  30,000\n",
       "4  토마토(10kg)  서울  가락도매  2013  01/08  27,000"
      ]
     },
     "execution_count": 7,
     "metadata": {},
     "output_type": "execute_result"
    }
   ],
   "source": [
    "# 품목명이 모두 토마토이고, 품종명 또한 토마토(10kg)으로 같은 정보를 담고 있으므로 품목명 컬럼을 삭제\n",
    "tomp = tomp.drop('품목명', axis = 1)\n",
    "\n",
    "# 데이터 확인\n",
    "tomp.head()"
   ]
  },
  {
   "cell_type": "code",
   "execution_count": 8,
   "metadata": {},
   "outputs": [
    {
     "data": {
      "text/html": [
       "<div>\n",
       "<style scoped>\n",
       "    .dataframe tbody tr th:only-of-type {\n",
       "        vertical-align: middle;\n",
       "    }\n",
       "\n",
       "    .dataframe tbody tr th {\n",
       "        vertical-align: top;\n",
       "    }\n",
       "\n",
       "    .dataframe thead th {\n",
       "        text-align: right;\n",
       "    }\n",
       "</style>\n",
       "<table border=\"1\" class=\"dataframe\">\n",
       "  <thead>\n",
       "    <tr style=\"text-align: right;\">\n",
       "      <th></th>\n",
       "      <th>품종명</th>\n",
       "      <th>시군구</th>\n",
       "      <th>마켓명</th>\n",
       "      <th>연도</th>\n",
       "      <th>날짜</th>\n",
       "      <th>가격</th>\n",
       "    </tr>\n",
       "  </thead>\n",
       "  <tbody>\n",
       "    <tr>\n",
       "      <th>2955</th>\n",
       "      <td>토마토(10kg)</td>\n",
       "      <td>광주</td>\n",
       "      <td>각화도매</td>\n",
       "      <td>2013</td>\n",
       "      <td>01/02</td>\n",
       "      <td>28,000</td>\n",
       "    </tr>\n",
       "    <tr>\n",
       "      <th>2956</th>\n",
       "      <td>토마토(10kg)</td>\n",
       "      <td>광주</td>\n",
       "      <td>각화도매</td>\n",
       "      <td>2013</td>\n",
       "      <td>01/03</td>\n",
       "      <td>28,000</td>\n",
       "    </tr>\n",
       "    <tr>\n",
       "      <th>2957</th>\n",
       "      <td>토마토(10kg)</td>\n",
       "      <td>광주</td>\n",
       "      <td>각화도매</td>\n",
       "      <td>2013</td>\n",
       "      <td>01/04</td>\n",
       "      <td>28,000</td>\n",
       "    </tr>\n",
       "    <tr>\n",
       "      <th>2958</th>\n",
       "      <td>토마토(10kg)</td>\n",
       "      <td>광주</td>\n",
       "      <td>각화도매</td>\n",
       "      <td>2013</td>\n",
       "      <td>01/07</td>\n",
       "      <td>28,000</td>\n",
       "    </tr>\n",
       "    <tr>\n",
       "      <th>2959</th>\n",
       "      <td>토마토(10kg)</td>\n",
       "      <td>광주</td>\n",
       "      <td>각화도매</td>\n",
       "      <td>2013</td>\n",
       "      <td>01/08</td>\n",
       "      <td>28,000</td>\n",
       "    </tr>\n",
       "  </tbody>\n",
       "</table>\n",
       "</div>"
      ],
      "text/plain": [
       "            품종명 시군구   마켓명    연도     날짜      가격\n",
       "2955  토마토(10kg)  광주  각화도매  2013  01/02  28,000\n",
       "2956  토마토(10kg)  광주  각화도매  2013  01/03  28,000\n",
       "2957  토마토(10kg)  광주  각화도매  2013  01/04  28,000\n",
       "2958  토마토(10kg)  광주  각화도매  2013  01/07  28,000\n",
       "2959  토마토(10kg)  광주  각화도매  2013  01/08  28,000"
      ]
     },
     "execution_count": 8,
     "metadata": {},
     "output_type": "execute_result"
    }
   ],
   "source": [
    "#시군구, 마켓명, 연도, 날짜 오름차순으로 정렬\n",
    "tomp = tomp.sort_values(by = ['시군구','마켓명', '연도', '날짜'])\n",
    "\n",
    "# 데이터 확인\n",
    "tomp.head()"
   ]
  },
  {
   "cell_type": "code",
   "execution_count": 22,
   "metadata": {},
   "outputs": [
    {
     "data": {
      "text/html": [
       "<div>\n",
       "<style scoped>\n",
       "    .dataframe tbody tr th:only-of-type {\n",
       "        vertical-align: middle;\n",
       "    }\n",
       "\n",
       "    .dataframe tbody tr th {\n",
       "        vertical-align: top;\n",
       "    }\n",
       "\n",
       "    .dataframe thead th {\n",
       "        text-align: right;\n",
       "    }\n",
       "</style>\n",
       "<table border=\"1\" class=\"dataframe\">\n",
       "  <thead>\n",
       "    <tr style=\"text-align: right;\">\n",
       "      <th></th>\n",
       "      <th>품종명</th>\n",
       "      <th>시군구</th>\n",
       "      <th>마켓명</th>\n",
       "      <th>연도</th>\n",
       "      <th>날짜</th>\n",
       "      <th>가격</th>\n",
       "    </tr>\n",
       "  </thead>\n",
       "  <tbody>\n",
       "    <tr>\n",
       "      <th>2955</th>\n",
       "      <td>토마토(10kg)</td>\n",
       "      <td>광주</td>\n",
       "      <td>각화도매</td>\n",
       "      <td>2013</td>\n",
       "      <td>01-02</td>\n",
       "      <td>28,000</td>\n",
       "    </tr>\n",
       "    <tr>\n",
       "      <th>2956</th>\n",
       "      <td>토마토(10kg)</td>\n",
       "      <td>광주</td>\n",
       "      <td>각화도매</td>\n",
       "      <td>2013</td>\n",
       "      <td>01-03</td>\n",
       "      <td>28,000</td>\n",
       "    </tr>\n",
       "    <tr>\n",
       "      <th>2957</th>\n",
       "      <td>토마토(10kg)</td>\n",
       "      <td>광주</td>\n",
       "      <td>각화도매</td>\n",
       "      <td>2013</td>\n",
       "      <td>01-04</td>\n",
       "      <td>28,000</td>\n",
       "    </tr>\n",
       "    <tr>\n",
       "      <th>2958</th>\n",
       "      <td>토마토(10kg)</td>\n",
       "      <td>광주</td>\n",
       "      <td>각화도매</td>\n",
       "      <td>2013</td>\n",
       "      <td>01-07</td>\n",
       "      <td>28,000</td>\n",
       "    </tr>\n",
       "    <tr>\n",
       "      <th>2959</th>\n",
       "      <td>토마토(10kg)</td>\n",
       "      <td>광주</td>\n",
       "      <td>각화도매</td>\n",
       "      <td>2013</td>\n",
       "      <td>01-08</td>\n",
       "      <td>28,000</td>\n",
       "    </tr>\n",
       "  </tbody>\n",
       "</table>\n",
       "</div>"
      ],
      "text/plain": [
       "            품종명 시군구   마켓명    연도     날짜      가격\n",
       "2955  토마토(10kg)  광주  각화도매  2013  01-02  28,000\n",
       "2956  토마토(10kg)  광주  각화도매  2013  01-03  28,000\n",
       "2957  토마토(10kg)  광주  각화도매  2013  01-04  28,000\n",
       "2958  토마토(10kg)  광주  각화도매  2013  01-07  28,000\n",
       "2959  토마토(10kg)  광주  각화도매  2013  01-08  28,000"
      ]
     },
     "execution_count": 22,
     "metadata": {},
     "output_type": "execute_result"
    }
   ],
   "source": [
    "# 날짜 컬럼에서 슬래시 '/' 삭제\n",
    "tomp['날짜'] = tomp['날짜'].str.replace('/','-')\n",
    "\n",
    "# 데이터 확인\n",
    "tomp.head()"
   ]
  },
  {
   "cell_type": "code",
   "execution_count": null,
   "metadata": {},
   "outputs": [],
   "source": [
    "# 2013-2019 토마토 도소매 가격 데이터 csv파일로 저장\n",
    "tomp.to_csv('토마토 도소매 가격 데이터 2013-2019.csv', index = False, encoding = 'CP949')"
   ]
  },
  {
   "cell_type": "code",
   "execution_count": null,
   "metadata": {},
   "outputs": [],
   "source": [
    "# 파일 불러와 확인하기\n",
    "pd.read_csv('토마토 도소매 가격 데이터 2013-2019.csv', encoding = 'CP949')"
   ]
  },
  {
   "cell_type": "markdown",
   "metadata": {},
   "source": [
    "### 2) 농작물생산조사:채소생산량(과채류)\t"
   ]
  },
  {
   "cell_type": "code",
   "execution_count": 4,
   "metadata": {},
   "outputs": [],
   "source": [
    "# 토마토 생산량 파일 불러오기\n",
    "to = pd.read_csv('/Users/jungdayoung/Documents/GitHub/Learning_Spoons_Second_Project/채소생산량_과채류__20200304201937.csv', \n",
    "                 encoding='euc-kr')"
   ]
  },
  {
   "cell_type": "code",
   "execution_count": 5,
   "metadata": {},
   "outputs": [
    {
     "data": {
      "text/html": [
       "<div>\n",
       "<style scoped>\n",
       "    .dataframe tbody tr th:only-of-type {\n",
       "        vertical-align: middle;\n",
       "    }\n",
       "\n",
       "    .dataframe tbody tr th {\n",
       "        vertical-align: top;\n",
       "    }\n",
       "\n",
       "    .dataframe thead th {\n",
       "        text-align: right;\n",
       "    }\n",
       "</style>\n",
       "<table border=\"1\" class=\"dataframe\">\n",
       "  <thead>\n",
       "    <tr style=\"text-align: right;\">\n",
       "      <th></th>\n",
       "      <th>시도별</th>\n",
       "      <th>2013</th>\n",
       "      <th>2013.1</th>\n",
       "      <th>2013.2</th>\n",
       "      <th>2013.3</th>\n",
       "      <th>2013.4</th>\n",
       "      <th>2013.5</th>\n",
       "      <th>2013.6</th>\n",
       "      <th>2013.7</th>\n",
       "      <th>2014</th>\n",
       "      <th>...</th>\n",
       "      <th>2017.6</th>\n",
       "      <th>2017.7</th>\n",
       "      <th>2018</th>\n",
       "      <th>2018.1</th>\n",
       "      <th>2018.2</th>\n",
       "      <th>2018.3</th>\n",
       "      <th>2018.4</th>\n",
       "      <th>2018.5</th>\n",
       "      <th>2018.6</th>\n",
       "      <th>2018.7</th>\n",
       "    </tr>\n",
       "  </thead>\n",
       "  <tbody>\n",
       "    <tr>\n",
       "      <th>0</th>\n",
       "      <td>시도별</td>\n",
       "      <td>토마토:면적 (ha)</td>\n",
       "      <td>생산량 (톤)</td>\n",
       "      <td>노지토마토:면적 (ha)</td>\n",
       "      <td>10a당 생산량 (kg)</td>\n",
       "      <td>생산량 (톤)</td>\n",
       "      <td>시설토마토:면적 (ha)</td>\n",
       "      <td>10a당 생산량 (kg)</td>\n",
       "      <td>생산량 (톤)</td>\n",
       "      <td>토마토:면적 (ha)</td>\n",
       "      <td>...</td>\n",
       "      <td>10a당 생산량 (kg)</td>\n",
       "      <td>생산량 (톤)</td>\n",
       "      <td>토마토:면적 (ha)</td>\n",
       "      <td>생산량 (톤)</td>\n",
       "      <td>노지토마토:면적 (ha)</td>\n",
       "      <td>10a당 생산량 (kg)</td>\n",
       "      <td>생산량 (톤)</td>\n",
       "      <td>시설토마토:면적 (ha)</td>\n",
       "      <td>10a당 생산량 (kg)</td>\n",
       "      <td>생산량 (톤)</td>\n",
       "    </tr>\n",
       "    <tr>\n",
       "      <th>1</th>\n",
       "      <td>계</td>\n",
       "      <td>6054</td>\n",
       "      <td>388624</td>\n",
       "      <td>0</td>\n",
       "      <td>0</td>\n",
       "      <td>0</td>\n",
       "      <td>6054</td>\n",
       "      <td>6419</td>\n",
       "      <td>388624</td>\n",
       "      <td>7070</td>\n",
       "      <td>...</td>\n",
       "      <td>6142</td>\n",
       "      <td>355107</td>\n",
       "      <td>6058</td>\n",
       "      <td>388657</td>\n",
       "      <td>0</td>\n",
       "      <td>0</td>\n",
       "      <td>0</td>\n",
       "      <td>6058</td>\n",
       "      <td>6415</td>\n",
       "      <td>388657</td>\n",
       "    </tr>\n",
       "    <tr>\n",
       "      <th>2</th>\n",
       "      <td>서울특별시</td>\n",
       "      <td>2</td>\n",
       "      <td>137</td>\n",
       "      <td>0</td>\n",
       "      <td>0</td>\n",
       "      <td>0</td>\n",
       "      <td>2</td>\n",
       "      <td>6850</td>\n",
       "      <td>137</td>\n",
       "      <td>1</td>\n",
       "      <td>...</td>\n",
       "      <td>1433</td>\n",
       "      <td>34</td>\n",
       "      <td>4</td>\n",
       "      <td>18</td>\n",
       "      <td>0</td>\n",
       "      <td>0</td>\n",
       "      <td>0</td>\n",
       "      <td>4</td>\n",
       "      <td>450</td>\n",
       "      <td>18</td>\n",
       "    </tr>\n",
       "    <tr>\n",
       "      <th>3</th>\n",
       "      <td>부산광역시</td>\n",
       "      <td>355</td>\n",
       "      <td>22056</td>\n",
       "      <td>0</td>\n",
       "      <td>0</td>\n",
       "      <td>0</td>\n",
       "      <td>355</td>\n",
       "      <td>6213</td>\n",
       "      <td>22056</td>\n",
       "      <td>423</td>\n",
       "      <td>...</td>\n",
       "      <td>6081</td>\n",
       "      <td>19196</td>\n",
       "      <td>363</td>\n",
       "      <td>25248</td>\n",
       "      <td>0</td>\n",
       "      <td>0</td>\n",
       "      <td>0</td>\n",
       "      <td>363</td>\n",
       "      <td>6952</td>\n",
       "      <td>25248</td>\n",
       "    </tr>\n",
       "    <tr>\n",
       "      <th>4</th>\n",
       "      <td>대구광역시</td>\n",
       "      <td>98</td>\n",
       "      <td>7933</td>\n",
       "      <td>0</td>\n",
       "      <td>0</td>\n",
       "      <td>0</td>\n",
       "      <td>98</td>\n",
       "      <td>8095</td>\n",
       "      <td>7933</td>\n",
       "      <td>71</td>\n",
       "      <td>...</td>\n",
       "      <td>5174</td>\n",
       "      <td>10201</td>\n",
       "      <td>167</td>\n",
       "      <td>11372</td>\n",
       "      <td>0</td>\n",
       "      <td>0</td>\n",
       "      <td>0</td>\n",
       "      <td>167</td>\n",
       "      <td>6800</td>\n",
       "      <td>11372</td>\n",
       "    </tr>\n",
       "  </tbody>\n",
       "</table>\n",
       "<p>5 rows × 49 columns</p>\n",
       "</div>"
      ],
      "text/plain": [
       "     시도별         2013   2013.1         2013.2         2013.3   2013.4  \\\n",
       "0    시도별  토마토:면적 (ha)  생산량 (톤)  노지토마토:면적 (ha)  10a당 생산량 (kg)  생산량 (톤)   \n",
       "1      계         6054   388624              0              0        0   \n",
       "2  서울특별시            2      137              0              0        0   \n",
       "3  부산광역시          355    22056              0              0        0   \n",
       "4  대구광역시           98     7933              0              0        0   \n",
       "\n",
       "          2013.5         2013.6   2013.7         2014  ...         2017.6  \\\n",
       "0  시설토마토:면적 (ha)  10a당 생산량 (kg)  생산량 (톤)  토마토:면적 (ha)  ...  10a당 생산량 (kg)   \n",
       "1           6054           6419   388624         7070  ...           6142   \n",
       "2              2           6850      137            1  ...           1433   \n",
       "3            355           6213    22056          423  ...           6081   \n",
       "4             98           8095     7933           71  ...           5174   \n",
       "\n",
       "    2017.7         2018   2018.1         2018.2         2018.3   2018.4  \\\n",
       "0  생산량 (톤)  토마토:면적 (ha)  생산량 (톤)  노지토마토:면적 (ha)  10a당 생산량 (kg)  생산량 (톤)   \n",
       "1   355107         6058   388657              0              0        0   \n",
       "2       34            4       18              0              0        0   \n",
       "3    19196          363    25248              0              0        0   \n",
       "4    10201          167    11372              0              0        0   \n",
       "\n",
       "          2018.5         2018.6   2018.7  \n",
       "0  시설토마토:면적 (ha)  10a당 생산량 (kg)  생산량 (톤)  \n",
       "1           6058           6415   388657  \n",
       "2              4            450       18  \n",
       "3            363           6952    25248  \n",
       "4            167           6800    11372  \n",
       "\n",
       "[5 rows x 49 columns]"
      ]
     },
     "execution_count": 5,
     "metadata": {},
     "output_type": "execute_result"
    }
   ],
   "source": [
    "# 토마토 생산량 파일 확인\n",
    "to.head()"
   ]
  },
  {
   "cell_type": "code",
   "execution_count": 6,
   "metadata": {},
   "outputs": [],
   "source": [
    "# 컬럼명의 .1, .2 ...을 수정하기 위해 컬럼명을 리스트에 담기\n",
    "to_cols = to.columns.to_list()\n",
    "\n",
    "# for문을 통해 연도의 4글자만 가져오기\n",
    "for i in range(len(to_cols)):\n",
    "    if len(to_cols[i]) > 4:\n",
    "        to_cols[i] = to_cols[i][:4]"
   ]
  },
  {
   "cell_type": "code",
   "execution_count": 7,
   "metadata": {},
   "outputs": [
    {
     "data": {
      "text/html": [
       "<div>\n",
       "<style scoped>\n",
       "    .dataframe tbody tr th:only-of-type {\n",
       "        vertical-align: middle;\n",
       "    }\n",
       "\n",
       "    .dataframe tbody tr th {\n",
       "        vertical-align: top;\n",
       "    }\n",
       "\n",
       "    .dataframe thead th {\n",
       "        text-align: right;\n",
       "    }\n",
       "</style>\n",
       "<table border=\"1\" class=\"dataframe\">\n",
       "  <thead>\n",
       "    <tr style=\"text-align: right;\">\n",
       "      <th></th>\n",
       "      <th>시도별</th>\n",
       "      <th>2013</th>\n",
       "      <th>2013</th>\n",
       "      <th>2013</th>\n",
       "      <th>2013</th>\n",
       "      <th>2013</th>\n",
       "      <th>2013</th>\n",
       "      <th>2013</th>\n",
       "      <th>2013</th>\n",
       "      <th>2014</th>\n",
       "      <th>...</th>\n",
       "      <th>2017</th>\n",
       "      <th>2017</th>\n",
       "      <th>2018</th>\n",
       "      <th>2018</th>\n",
       "      <th>2018</th>\n",
       "      <th>2018</th>\n",
       "      <th>2018</th>\n",
       "      <th>2018</th>\n",
       "      <th>2018</th>\n",
       "      <th>2018</th>\n",
       "    </tr>\n",
       "  </thead>\n",
       "  <tbody>\n",
       "    <tr>\n",
       "      <th>0</th>\n",
       "      <td>시도별</td>\n",
       "      <td>토마토:면적 (ha)</td>\n",
       "      <td>생산량 (톤)</td>\n",
       "      <td>노지토마토:면적 (ha)</td>\n",
       "      <td>10a당 생산량 (kg)</td>\n",
       "      <td>생산량 (톤)</td>\n",
       "      <td>시설토마토:면적 (ha)</td>\n",
       "      <td>10a당 생산량 (kg)</td>\n",
       "      <td>생산량 (톤)</td>\n",
       "      <td>토마토:면적 (ha)</td>\n",
       "      <td>...</td>\n",
       "      <td>10a당 생산량 (kg)</td>\n",
       "      <td>생산량 (톤)</td>\n",
       "      <td>토마토:면적 (ha)</td>\n",
       "      <td>생산량 (톤)</td>\n",
       "      <td>노지토마토:면적 (ha)</td>\n",
       "      <td>10a당 생산량 (kg)</td>\n",
       "      <td>생산량 (톤)</td>\n",
       "      <td>시설토마토:면적 (ha)</td>\n",
       "      <td>10a당 생산량 (kg)</td>\n",
       "      <td>생산량 (톤)</td>\n",
       "    </tr>\n",
       "    <tr>\n",
       "      <th>1</th>\n",
       "      <td>계</td>\n",
       "      <td>6054</td>\n",
       "      <td>388624</td>\n",
       "      <td>0</td>\n",
       "      <td>0</td>\n",
       "      <td>0</td>\n",
       "      <td>6054</td>\n",
       "      <td>6419</td>\n",
       "      <td>388624</td>\n",
       "      <td>7070</td>\n",
       "      <td>...</td>\n",
       "      <td>6142</td>\n",
       "      <td>355107</td>\n",
       "      <td>6058</td>\n",
       "      <td>388657</td>\n",
       "      <td>0</td>\n",
       "      <td>0</td>\n",
       "      <td>0</td>\n",
       "      <td>6058</td>\n",
       "      <td>6415</td>\n",
       "      <td>388657</td>\n",
       "    </tr>\n",
       "  </tbody>\n",
       "</table>\n",
       "<p>2 rows × 49 columns</p>\n",
       "</div>"
      ],
      "text/plain": [
       "   시도별         2013     2013           2013           2013     2013  \\\n",
       "0  시도별  토마토:면적 (ha)  생산량 (톤)  노지토마토:면적 (ha)  10a당 생산량 (kg)  생산량 (톤)   \n",
       "1    계         6054   388624              0              0        0   \n",
       "\n",
       "            2013           2013     2013         2014  ...           2017  \\\n",
       "0  시설토마토:면적 (ha)  10a당 생산량 (kg)  생산량 (톤)  토마토:면적 (ha)  ...  10a당 생산량 (kg)   \n",
       "1           6054           6419   388624         7070  ...           6142   \n",
       "\n",
       "      2017         2018     2018           2018           2018     2018  \\\n",
       "0  생산량 (톤)  토마토:면적 (ha)  생산량 (톤)  노지토마토:면적 (ha)  10a당 생산량 (kg)  생산량 (톤)   \n",
       "1   355107         6058   388657              0              0        0   \n",
       "\n",
       "            2018           2018     2018  \n",
       "0  시설토마토:면적 (ha)  10a당 생산량 (kg)  생산량 (톤)  \n",
       "1           6058           6415   388657  \n",
       "\n",
       "[2 rows x 49 columns]"
      ]
     },
     "execution_count": 7,
     "metadata": {},
     "output_type": "execute_result"
    }
   ],
   "source": [
    "# 수정한 연도를 컬럼으로 지정하기\n",
    "to.columns = to_cols\n",
    "\n",
    "# 수정한 컬럼명 확인하기\n",
    "to.head(2)"
   ]
  },
  {
   "cell_type": "code",
   "execution_count": 8,
   "metadata": {},
   "outputs": [
    {
     "data": {
      "text/plain": [
       "시도별                시도별 시도별\n",
       "2013      2013 토마토:면적 (ha)\n",
       "2013          2013 생산량 (톤)\n",
       "2013    2013 노지토마토:면적 (ha)\n",
       "2013    2013 10a당 생산량 (kg)\n",
       "Name: 0, dtype: object"
      ]
     },
     "execution_count": 8,
     "metadata": {},
     "output_type": "execute_result"
    }
   ],
   "source": [
    "# 컬럼을 리스트에 담기\n",
    "to_cols = to.columns.to_list()\n",
    "\n",
    "# 첫 번째 행을 to_row에 담기\n",
    "to_row = to.iloc[0]\n",
    "\n",
    "# melt를 사용하기 위해 컬럼명 사이에 공백 넣기\n",
    "to_cols = [f'{i} ' for i in to_cols]\n",
    "tom = to_cols + to_row\n",
    "\n",
    "# 리스트 확인하기\n",
    "tom.head()"
   ]
  },
  {
   "cell_type": "code",
   "execution_count": 9,
   "metadata": {},
   "outputs": [
    {
     "data": {
      "text/html": [
       "<div>\n",
       "<style scoped>\n",
       "    .dataframe tbody tr th:only-of-type {\n",
       "        vertical-align: middle;\n",
       "    }\n",
       "\n",
       "    .dataframe tbody tr th {\n",
       "        vertical-align: top;\n",
       "    }\n",
       "\n",
       "    .dataframe thead th {\n",
       "        text-align: right;\n",
       "    }\n",
       "</style>\n",
       "<table border=\"1\" class=\"dataframe\">\n",
       "  <thead>\n",
       "    <tr style=\"text-align: right;\">\n",
       "      <th></th>\n",
       "      <th>연도</th>\n",
       "      <th>2013 토마토:면적 (ha)</th>\n",
       "      <th>2013 생산량 (톤)</th>\n",
       "      <th>2013 노지토마토:면적 (ha)</th>\n",
       "      <th>2013 10a당 생산량 (kg)</th>\n",
       "      <th>2013 생산량 (톤)</th>\n",
       "      <th>2013 시설토마토:면적 (ha)</th>\n",
       "      <th>2013 10a당 생산량 (kg)</th>\n",
       "      <th>2013 생산량 (톤)</th>\n",
       "      <th>2014 토마토:면적 (ha)</th>\n",
       "      <th>...</th>\n",
       "      <th>2017 10a당 생산량 (kg)</th>\n",
       "      <th>2017 생산량 (톤)</th>\n",
       "      <th>2018 토마토:면적 (ha)</th>\n",
       "      <th>2018 생산량 (톤)</th>\n",
       "      <th>2018 노지토마토:면적 (ha)</th>\n",
       "      <th>2018 10a당 생산량 (kg)</th>\n",
       "      <th>2018 생산량 (톤)</th>\n",
       "      <th>2018 시설토마토:면적 (ha)</th>\n",
       "      <th>2018 10a당 생산량 (kg)</th>\n",
       "      <th>2018 생산량 (톤)</th>\n",
       "    </tr>\n",
       "  </thead>\n",
       "  <tbody>\n",
       "    <tr>\n",
       "      <th>0</th>\n",
       "      <td>시도별</td>\n",
       "      <td>토마토:면적 (ha)</td>\n",
       "      <td>생산량 (톤)</td>\n",
       "      <td>노지토마토:면적 (ha)</td>\n",
       "      <td>10a당 생산량 (kg)</td>\n",
       "      <td>생산량 (톤)</td>\n",
       "      <td>시설토마토:면적 (ha)</td>\n",
       "      <td>10a당 생산량 (kg)</td>\n",
       "      <td>생산량 (톤)</td>\n",
       "      <td>토마토:면적 (ha)</td>\n",
       "      <td>...</td>\n",
       "      <td>10a당 생산량 (kg)</td>\n",
       "      <td>생산량 (톤)</td>\n",
       "      <td>토마토:면적 (ha)</td>\n",
       "      <td>생산량 (톤)</td>\n",
       "      <td>노지토마토:면적 (ha)</td>\n",
       "      <td>10a당 생산량 (kg)</td>\n",
       "      <td>생산량 (톤)</td>\n",
       "      <td>시설토마토:면적 (ha)</td>\n",
       "      <td>10a당 생산량 (kg)</td>\n",
       "      <td>생산량 (톤)</td>\n",
       "    </tr>\n",
       "    <tr>\n",
       "      <th>1</th>\n",
       "      <td>계</td>\n",
       "      <td>6054</td>\n",
       "      <td>388624</td>\n",
       "      <td>0</td>\n",
       "      <td>0</td>\n",
       "      <td>0</td>\n",
       "      <td>6054</td>\n",
       "      <td>6419</td>\n",
       "      <td>388624</td>\n",
       "      <td>7070</td>\n",
       "      <td>...</td>\n",
       "      <td>6142</td>\n",
       "      <td>355107</td>\n",
       "      <td>6058</td>\n",
       "      <td>388657</td>\n",
       "      <td>0</td>\n",
       "      <td>0</td>\n",
       "      <td>0</td>\n",
       "      <td>6058</td>\n",
       "      <td>6415</td>\n",
       "      <td>388657</td>\n",
       "    </tr>\n",
       "  </tbody>\n",
       "</table>\n",
       "<p>2 rows × 49 columns</p>\n",
       "</div>"
      ],
      "text/plain": [
       "0   연도 2013 토마토:면적 (ha) 2013 생산량 (톤) 2013 노지토마토:면적 (ha) 2013 10a당 생산량 (kg)  \\\n",
       "0  시도별      토마토:면적 (ha)      생산량 (톤)      노지토마토:면적 (ha)      10a당 생산량 (kg)   \n",
       "1    계             6054       388624                  0                  0   \n",
       "\n",
       "0 2013 생산량 (톤) 2013 시설토마토:면적 (ha) 2013 10a당 생산량 (kg) 2013 생산량 (톤)  \\\n",
       "0      생산량 (톤)      시설토마토:면적 (ha)      10a당 생산량 (kg)      생산량 (톤)   \n",
       "1            0               6054               6419       388624   \n",
       "\n",
       "0 2014 토마토:면적 (ha)  ... 2017 10a당 생산량 (kg) 2017 생산량 (톤) 2018 토마토:면적 (ha)  \\\n",
       "0      토마토:면적 (ha)  ...      10a당 생산량 (kg)      생산량 (톤)      토마토:면적 (ha)   \n",
       "1             7070  ...               6142       355107             6058   \n",
       "\n",
       "0 2018 생산량 (톤) 2018 노지토마토:면적 (ha) 2018 10a당 생산량 (kg) 2018 생산량 (톤)  \\\n",
       "0      생산량 (톤)      노지토마토:면적 (ha)      10a당 생산량 (kg)      생산량 (톤)   \n",
       "1       388657                  0                  0            0   \n",
       "\n",
       "0 2018 시설토마토:면적 (ha) 2018 10a당 생산량 (kg) 2018 생산량 (톤)  \n",
       "0      시설토마토:면적 (ha)      10a당 생산량 (kg)      생산량 (톤)  \n",
       "1               6058               6415       388657  \n",
       "\n",
       "[2 rows x 49 columns]"
      ]
     },
     "execution_count": 9,
     "metadata": {},
     "output_type": "execute_result"
    }
   ],
   "source": [
    "# 첫 번째 인덱스명을 '연도'로 수정하기\n",
    "tom[0] = \"연도\"\n",
    "\n",
    "# 첫 번째 컬럼명을 '연도'로 수정하기\n",
    "to.columns = tom\n",
    "\n",
    "# 수정한 컬럼명 확인하기\n",
    "to.head(2)"
   ]
  },
  {
   "cell_type": "code",
   "execution_count": 10,
   "metadata": {
    "scrolled": true
   },
   "outputs": [
    {
     "data": {
      "text/html": [
       "<div>\n",
       "<style scoped>\n",
       "    .dataframe tbody tr th:only-of-type {\n",
       "        vertical-align: middle;\n",
       "    }\n",
       "\n",
       "    .dataframe tbody tr th {\n",
       "        vertical-align: top;\n",
       "    }\n",
       "\n",
       "    .dataframe thead th {\n",
       "        text-align: right;\n",
       "    }\n",
       "</style>\n",
       "<table border=\"1\" class=\"dataframe\">\n",
       "  <thead>\n",
       "    <tr style=\"text-align: right;\">\n",
       "      <th></th>\n",
       "      <th>연도</th>\n",
       "      <th>2013 토마토:면적 (ha)</th>\n",
       "      <th>2013 생산량 (톤)</th>\n",
       "      <th>2013 노지토마토:면적 (ha)</th>\n",
       "      <th>2013 10a당 생산량 (kg)</th>\n",
       "      <th>2013 생산량 (톤)</th>\n",
       "      <th>2013 시설토마토:면적 (ha)</th>\n",
       "      <th>2013 10a당 생산량 (kg)</th>\n",
       "      <th>2013 생산량 (톤)</th>\n",
       "      <th>2014 토마토:면적 (ha)</th>\n",
       "      <th>...</th>\n",
       "      <th>2017 10a당 생산량 (kg)</th>\n",
       "      <th>2017 생산량 (톤)</th>\n",
       "      <th>2018 토마토:면적 (ha)</th>\n",
       "      <th>2018 생산량 (톤)</th>\n",
       "      <th>2018 노지토마토:면적 (ha)</th>\n",
       "      <th>2018 10a당 생산량 (kg)</th>\n",
       "      <th>2018 생산량 (톤)</th>\n",
       "      <th>2018 시설토마토:면적 (ha)</th>\n",
       "      <th>2018 10a당 생산량 (kg)</th>\n",
       "      <th>2018 생산량 (톤)</th>\n",
       "    </tr>\n",
       "  </thead>\n",
       "  <tbody>\n",
       "    <tr>\n",
       "      <th>2</th>\n",
       "      <td>서울특별시</td>\n",
       "      <td>2</td>\n",
       "      <td>137</td>\n",
       "      <td>0</td>\n",
       "      <td>0</td>\n",
       "      <td>0</td>\n",
       "      <td>2</td>\n",
       "      <td>6850</td>\n",
       "      <td>137</td>\n",
       "      <td>1</td>\n",
       "      <td>...</td>\n",
       "      <td>1433</td>\n",
       "      <td>34</td>\n",
       "      <td>4</td>\n",
       "      <td>18</td>\n",
       "      <td>0</td>\n",
       "      <td>0</td>\n",
       "      <td>0</td>\n",
       "      <td>4</td>\n",
       "      <td>450</td>\n",
       "      <td>18</td>\n",
       "    </tr>\n",
       "    <tr>\n",
       "      <th>3</th>\n",
       "      <td>부산광역시</td>\n",
       "      <td>355</td>\n",
       "      <td>22056</td>\n",
       "      <td>0</td>\n",
       "      <td>0</td>\n",
       "      <td>0</td>\n",
       "      <td>355</td>\n",
       "      <td>6213</td>\n",
       "      <td>22056</td>\n",
       "      <td>423</td>\n",
       "      <td>...</td>\n",
       "      <td>6081</td>\n",
       "      <td>19196</td>\n",
       "      <td>363</td>\n",
       "      <td>25248</td>\n",
       "      <td>0</td>\n",
       "      <td>0</td>\n",
       "      <td>0</td>\n",
       "      <td>363</td>\n",
       "      <td>6952</td>\n",
       "      <td>25248</td>\n",
       "    </tr>\n",
       "    <tr>\n",
       "      <th>4</th>\n",
       "      <td>대구광역시</td>\n",
       "      <td>98</td>\n",
       "      <td>7933</td>\n",
       "      <td>0</td>\n",
       "      <td>0</td>\n",
       "      <td>0</td>\n",
       "      <td>98</td>\n",
       "      <td>8095</td>\n",
       "      <td>7933</td>\n",
       "      <td>71</td>\n",
       "      <td>...</td>\n",
       "      <td>5174</td>\n",
       "      <td>10201</td>\n",
       "      <td>167</td>\n",
       "      <td>11372</td>\n",
       "      <td>0</td>\n",
       "      <td>0</td>\n",
       "      <td>0</td>\n",
       "      <td>167</td>\n",
       "      <td>6800</td>\n",
       "      <td>11372</td>\n",
       "    </tr>\n",
       "    <tr>\n",
       "      <th>5</th>\n",
       "      <td>인천광역시</td>\n",
       "      <td>111</td>\n",
       "      <td>5130</td>\n",
       "      <td>0</td>\n",
       "      <td>0</td>\n",
       "      <td>0</td>\n",
       "      <td>111</td>\n",
       "      <td>4622</td>\n",
       "      <td>5130</td>\n",
       "      <td>120</td>\n",
       "      <td>...</td>\n",
       "      <td>7023</td>\n",
       "      <td>3887</td>\n",
       "      <td>54</td>\n",
       "      <td>3491</td>\n",
       "      <td>0</td>\n",
       "      <td>0</td>\n",
       "      <td>0</td>\n",
       "      <td>54</td>\n",
       "      <td>6515</td>\n",
       "      <td>3491</td>\n",
       "    </tr>\n",
       "    <tr>\n",
       "      <th>6</th>\n",
       "      <td>광주광역시</td>\n",
       "      <td>260</td>\n",
       "      <td>5613</td>\n",
       "      <td>0</td>\n",
       "      <td>0</td>\n",
       "      <td>0</td>\n",
       "      <td>260</td>\n",
       "      <td>2159</td>\n",
       "      <td>5613</td>\n",
       "      <td>216</td>\n",
       "      <td>...</td>\n",
       "      <td>7679</td>\n",
       "      <td>9751</td>\n",
       "      <td>123</td>\n",
       "      <td>11753</td>\n",
       "      <td>0</td>\n",
       "      <td>0</td>\n",
       "      <td>0</td>\n",
       "      <td>123</td>\n",
       "      <td>9538</td>\n",
       "      <td>11753</td>\n",
       "    </tr>\n",
       "  </tbody>\n",
       "</table>\n",
       "<p>5 rows × 49 columns</p>\n",
       "</div>"
      ],
      "text/plain": [
       "0     연도 2013 토마토:면적 (ha) 2013 생산량 (톤) 2013 노지토마토:면적 (ha) 2013 10a당 생산량 (kg)  \\\n",
       "2  서울특별시                2          137                  0                  0   \n",
       "3  부산광역시              355        22056                  0                  0   \n",
       "4  대구광역시               98         7933                  0                  0   \n",
       "5  인천광역시              111         5130                  0                  0   \n",
       "6  광주광역시              260         5613                  0                  0   \n",
       "\n",
       "0 2013 생산량 (톤) 2013 시설토마토:면적 (ha) 2013 10a당 생산량 (kg) 2013 생산량 (톤)  \\\n",
       "2            0                  2               6850          137   \n",
       "3            0                355               6213        22056   \n",
       "4            0                 98               8095         7933   \n",
       "5            0                111               4622         5130   \n",
       "6            0                260               2159         5613   \n",
       "\n",
       "0 2014 토마토:면적 (ha)  ... 2017 10a당 생산량 (kg) 2017 생산량 (톤) 2018 토마토:면적 (ha)  \\\n",
       "2                1  ...               1433           34                4   \n",
       "3              423  ...               6081        19196              363   \n",
       "4               71  ...               5174        10201              167   \n",
       "5              120  ...               7023         3887               54   \n",
       "6              216  ...               7679         9751              123   \n",
       "\n",
       "0 2018 생산량 (톤) 2018 노지토마토:면적 (ha) 2018 10a당 생산량 (kg) 2018 생산량 (톤)  \\\n",
       "2           18                  0                  0            0   \n",
       "3        25248                  0                  0            0   \n",
       "4        11372                  0                  0            0   \n",
       "5         3491                  0                  0            0   \n",
       "6        11753                  0                  0            0   \n",
       "\n",
       "0 2018 시설토마토:면적 (ha) 2018 10a당 생산량 (kg) 2018 생산량 (톤)  \n",
       "2                  4                450           18  \n",
       "3                363               6952        25248  \n",
       "4                167               6800        11372  \n",
       "5                 54               6515         3491  \n",
       "6                123               9538        11753  \n",
       "\n",
       "[5 rows x 49 columns]"
      ]
     },
     "execution_count": 10,
     "metadata": {},
     "output_type": "execute_result"
    }
   ],
   "source": [
    "# 사용하지 않는 0, 1 행 삭제하기\n",
    "to = to.drop(labels=[0,1],axis=0)\n",
    "\n",
    "# 인덱스 리셋하기\n",
    "to.reset_index(drop=True)\n",
    "\n",
    "# 수정한 인덱스 확인\n",
    "to.head()"
   ]
  },
  {
   "cell_type": "code",
   "execution_count": 11,
   "metadata": {},
   "outputs": [
    {
     "data": {
      "text/html": [
       "<div>\n",
       "<style scoped>\n",
       "    .dataframe tbody tr th:only-of-type {\n",
       "        vertical-align: middle;\n",
       "    }\n",
       "\n",
       "    .dataframe tbody tr th {\n",
       "        vertical-align: top;\n",
       "    }\n",
       "\n",
       "    .dataframe thead th {\n",
       "        text-align: right;\n",
       "    }\n",
       "</style>\n",
       "<table border=\"1\" class=\"dataframe\">\n",
       "  <thead>\n",
       "    <tr style=\"text-align: right;\">\n",
       "      <th></th>\n",
       "      <th>연도</th>\n",
       "      <th>0</th>\n",
       "      <th>value</th>\n",
       "    </tr>\n",
       "  </thead>\n",
       "  <tbody>\n",
       "    <tr>\n",
       "      <th>0</th>\n",
       "      <td>서울특별시</td>\n",
       "      <td>2013 토마토:면적 (ha)</td>\n",
       "      <td>2</td>\n",
       "    </tr>\n",
       "    <tr>\n",
       "      <th>1</th>\n",
       "      <td>부산광역시</td>\n",
       "      <td>2013 토마토:면적 (ha)</td>\n",
       "      <td>355</td>\n",
       "    </tr>\n",
       "    <tr>\n",
       "      <th>2</th>\n",
       "      <td>대구광역시</td>\n",
       "      <td>2013 토마토:면적 (ha)</td>\n",
       "      <td>98</td>\n",
       "    </tr>\n",
       "    <tr>\n",
       "      <th>3</th>\n",
       "      <td>인천광역시</td>\n",
       "      <td>2013 토마토:면적 (ha)</td>\n",
       "      <td>111</td>\n",
       "    </tr>\n",
       "    <tr>\n",
       "      <th>4</th>\n",
       "      <td>광주광역시</td>\n",
       "      <td>2013 토마토:면적 (ha)</td>\n",
       "      <td>260</td>\n",
       "    </tr>\n",
       "  </tbody>\n",
       "</table>\n",
       "</div>"
      ],
      "text/plain": [
       "      연도                 0 value\n",
       "0  서울특별시  2013 토마토:면적 (ha)     2\n",
       "1  부산광역시  2013 토마토:면적 (ha)   355\n",
       "2  대구광역시  2013 토마토:면적 (ha)    98\n",
       "3  인천광역시  2013 토마토:면적 (ha)   111\n",
       "4  광주광역시  2013 토마토:면적 (ha)   260"
      ]
     },
     "execution_count": 11,
     "metadata": {},
     "output_type": "execute_result"
    }
   ],
   "source": [
    "# 롱 포맷으로 변경하기 위해 melt 함수 사용하기\n",
    "tos = pd.melt(to, id_vars='연도')\n",
    "\n",
    "# 롱 포맷으로 변경된 데이터 확인\n",
    "tos.head()"
   ]
  },
  {
   "cell_type": "code",
   "execution_count": 12,
   "metadata": {},
   "outputs": [
    {
     "data": {
      "text/html": [
       "<div>\n",
       "<style scoped>\n",
       "    .dataframe tbody tr th:only-of-type {\n",
       "        vertical-align: middle;\n",
       "    }\n",
       "\n",
       "    .dataframe tbody tr th {\n",
       "        vertical-align: top;\n",
       "    }\n",
       "\n",
       "    .dataframe thead th {\n",
       "        text-align: right;\n",
       "    }\n",
       "</style>\n",
       "<table border=\"1\" class=\"dataframe\">\n",
       "  <thead>\n",
       "    <tr style=\"text-align: right;\">\n",
       "      <th></th>\n",
       "      <th></th>\n",
       "      <th>value</th>\n",
       "    </tr>\n",
       "    <tr>\n",
       "      <th>0</th>\n",
       "      <th>연도</th>\n",
       "      <th></th>\n",
       "    </tr>\n",
       "  </thead>\n",
       "  <tbody>\n",
       "    <tr>\n",
       "      <th rowspan=\"5\" valign=\"top\">2013 10a당 생산량 (kg)</th>\n",
       "      <th>강원도</th>\n",
       "      <td>06245</td>\n",
       "    </tr>\n",
       "    <tr>\n",
       "      <th>경기도</th>\n",
       "      <td>06606</td>\n",
       "    </tr>\n",
       "    <tr>\n",
       "      <th>경상남도</th>\n",
       "      <td>07231</td>\n",
       "    </tr>\n",
       "    <tr>\n",
       "      <th>경상북도</th>\n",
       "      <td>06707</td>\n",
       "    </tr>\n",
       "    <tr>\n",
       "      <th>광주광역시</th>\n",
       "      <td>02159</td>\n",
       "    </tr>\n",
       "  </tbody>\n",
       "</table>\n",
       "</div>"
      ],
      "text/plain": [
       "                          value\n",
       "0                  연도          \n",
       "2013 10a당 생산량 (kg) 강원도    06245\n",
       "                   경기도    06606\n",
       "                   경상남도   07231\n",
       "                   경상북도   06707\n",
       "                   광주광역시  02159"
      ]
     },
     "execution_count": 12,
     "metadata": {},
     "output_type": "execute_result"
    }
   ],
   "source": [
    "# 0과 '연도'를 기준으로 정렬하기\n",
    "toss = tos.groupby([0,'연도'])['value'].sum()\n",
    "\n",
    "# 정렬한 데이터를 데이터프레임으로 만들기\n",
    "toss = pd.DataFrame(toss)\n",
    "\n",
    "# 데이터프레임 확인하기\n",
    "toss.head()"
   ]
  },
  {
   "cell_type": "code",
   "execution_count": 13,
   "metadata": {},
   "outputs": [
    {
     "data": {
      "text/html": [
       "<div>\n",
       "<style scoped>\n",
       "    .dataframe tbody tr th:only-of-type {\n",
       "        vertical-align: middle;\n",
       "    }\n",
       "\n",
       "    .dataframe tbody tr th {\n",
       "        vertical-align: top;\n",
       "    }\n",
       "\n",
       "    .dataframe thead th {\n",
       "        text-align: right;\n",
       "    }\n",
       "</style>\n",
       "<table border=\"1\" class=\"dataframe\">\n",
       "  <thead>\n",
       "    <tr style=\"text-align: right;\">\n",
       "      <th></th>\n",
       "      <th>항목</th>\n",
       "      <th>시군구</th>\n",
       "      <th>value</th>\n",
       "    </tr>\n",
       "  </thead>\n",
       "  <tbody>\n",
       "    <tr>\n",
       "      <th>0</th>\n",
       "      <td>2013 10a당 생산량 (kg)</td>\n",
       "      <td>강원도</td>\n",
       "      <td>06245</td>\n",
       "    </tr>\n",
       "    <tr>\n",
       "      <th>1</th>\n",
       "      <td>2013 10a당 생산량 (kg)</td>\n",
       "      <td>경기도</td>\n",
       "      <td>06606</td>\n",
       "    </tr>\n",
       "    <tr>\n",
       "      <th>2</th>\n",
       "      <td>2013 10a당 생산량 (kg)</td>\n",
       "      <td>경상남도</td>\n",
       "      <td>07231</td>\n",
       "    </tr>\n",
       "    <tr>\n",
       "      <th>3</th>\n",
       "      <td>2013 10a당 생산량 (kg)</td>\n",
       "      <td>경상북도</td>\n",
       "      <td>06707</td>\n",
       "    </tr>\n",
       "    <tr>\n",
       "      <th>4</th>\n",
       "      <td>2013 10a당 생산량 (kg)</td>\n",
       "      <td>광주광역시</td>\n",
       "      <td>02159</td>\n",
       "    </tr>\n",
       "  </tbody>\n",
       "</table>\n",
       "</div>"
      ],
      "text/plain": [
       "                   항목    시군구  value\n",
       "0  2013 10a당 생산량 (kg)    강원도  06245\n",
       "1  2013 10a당 생산량 (kg)    경기도  06606\n",
       "2  2013 10a당 생산량 (kg)   경상남도  07231\n",
       "3  2013 10a당 생산량 (kg)   경상북도  06707\n",
       "4  2013 10a당 생산량 (kg)  광주광역시  02159"
      ]
     },
     "execution_count": 13,
     "metadata": {},
     "output_type": "execute_result"
    }
   ],
   "source": [
    "# 인덱스 리셋하기\n",
    "toss = toss.reset_index()\n",
    "\n",
    "# 컬럼명을 '항목', '시군구'로 변경하기\n",
    "toss.rename(columns={0:'항목','연도':'시군구'},inplace=True)\n",
    "\n",
    "# 변경된 데이터프레임 확인\n",
    "toss.head()"
   ]
  },
  {
   "cell_type": "code",
   "execution_count": 14,
   "metadata": {
    "scrolled": false
   },
   "outputs": [
    {
     "data": {
      "text/html": [
       "<div>\n",
       "<style scoped>\n",
       "    .dataframe tbody tr th:only-of-type {\n",
       "        vertical-align: middle;\n",
       "    }\n",
       "\n",
       "    .dataframe tbody tr th {\n",
       "        vertical-align: top;\n",
       "    }\n",
       "\n",
       "    .dataframe thead th {\n",
       "        text-align: right;\n",
       "    }\n",
       "</style>\n",
       "<table border=\"1\" class=\"dataframe\">\n",
       "  <thead>\n",
       "    <tr style=\"text-align: right;\">\n",
       "      <th></th>\n",
       "      <th>항목</th>\n",
       "      <th>시군구</th>\n",
       "      <th>value</th>\n",
       "      <th>연도</th>\n",
       "    </tr>\n",
       "  </thead>\n",
       "  <tbody>\n",
       "    <tr>\n",
       "      <th>0</th>\n",
       "      <td>10a당 생산량 (kg)</td>\n",
       "      <td>강원도</td>\n",
       "      <td>06245</td>\n",
       "      <td>2013</td>\n",
       "    </tr>\n",
       "    <tr>\n",
       "      <th>1</th>\n",
       "      <td>10a당 생산량 (kg)</td>\n",
       "      <td>경기도</td>\n",
       "      <td>06606</td>\n",
       "      <td>2013</td>\n",
       "    </tr>\n",
       "    <tr>\n",
       "      <th>2</th>\n",
       "      <td>10a당 생산량 (kg)</td>\n",
       "      <td>경상남도</td>\n",
       "      <td>07231</td>\n",
       "      <td>2013</td>\n",
       "    </tr>\n",
       "    <tr>\n",
       "      <th>3</th>\n",
       "      <td>10a당 생산량 (kg)</td>\n",
       "      <td>경상북도</td>\n",
       "      <td>06707</td>\n",
       "      <td>2013</td>\n",
       "    </tr>\n",
       "    <tr>\n",
       "      <th>4</th>\n",
       "      <td>10a당 생산량 (kg)</td>\n",
       "      <td>광주광역시</td>\n",
       "      <td>02159</td>\n",
       "      <td>2013</td>\n",
       "    </tr>\n",
       "  </tbody>\n",
       "</table>\n",
       "</div>"
      ],
      "text/plain": [
       "               항목    시군구  value    연도\n",
       "0   10a당 생산량 (kg)    강원도  06245  2013\n",
       "1   10a당 생산량 (kg)    경기도  06606  2013\n",
       "2   10a당 생산량 (kg)   경상남도  07231  2013\n",
       "3   10a당 생산량 (kg)   경상북도  06707  2013\n",
       "4   10a당 생산량 (kg)  광주광역시  02159  2013"
      ]
     },
     "execution_count": 14,
     "metadata": {},
     "output_type": "execute_result"
    }
   ],
   "source": [
    "# '연도' 컬럼 만들기\n",
    "toss['연도'] = toss['항목'].str[:4]\n",
    "\n",
    "# '항목' 컬럼에 '연도'를 제외한 내용 남기기\n",
    "toss['항목']=toss['항목'].str[4:]\n",
    "\n",
    "# 수정된 내용 확인\n",
    "toss.head()"
   ]
  },
  {
   "cell_type": "code",
   "execution_count": 15,
   "metadata": {
    "scrolled": false
   },
   "outputs": [
    {
     "name": "stdout",
     "output_type": "stream",
     "text": [
      "<class 'pandas.core.frame.DataFrame'>\n",
      "RangeIndex: 510 entries, 0 to 509\n",
      "Data columns (total 4 columns):\n",
      "항목       510 non-null object\n",
      "시군구      510 non-null object\n",
      "value    510 non-null object\n",
      "연도       510 non-null object\n",
      "dtypes: object(4)\n",
      "memory usage: 16.1+ KB\n"
     ]
    }
   ],
   "source": [
    "toss.info()"
   ]
  },
  {
   "cell_type": "code",
   "execution_count": 16,
   "metadata": {
    "scrolled": true
   },
   "outputs": [
    {
     "name": "stdout",
     "output_type": "stream",
     "text": [
      "<class 'pandas.core.frame.DataFrame'>\n",
      "RangeIndex: 510 entries, 0 to 509\n",
      "Data columns (total 4 columns):\n",
      "항목       510 non-null object\n",
      "시군구      510 non-null object\n",
      "value    510 non-null int64\n",
      "연도       510 non-null object\n",
      "dtypes: int64(1), object(3)\n",
      "memory usage: 16.1+ KB\n"
     ]
    }
   ],
   "source": [
    "# value를 숫자로 변경 시 오류 발생 -> 세종특별자치시에 '-'값이 있기 때문\n",
    "# '-'를 0으로 변경\n",
    "toss.loc[toss['시군구'].str.contains('세종'),'value'] = toss.loc[toss['시군구'].str.contains('세종'),'value'].str.replace(r'-+','0')\n",
    "\n",
    "# 'value' 컬럼을 숫자 타입으로 변경\n",
    "toss['value'] = toss['value'].astype(int)\n",
    "\n",
    "# 변경된 데이터 확인\n",
    "toss.info()"
   ]
  },
  {
   "cell_type": "code",
   "execution_count": 51,
   "metadata": {},
   "outputs": [
    {
     "data": {
      "text/html": [
       "<div>\n",
       "<style scoped>\n",
       "    .dataframe tbody tr th:only-of-type {\n",
       "        vertical-align: middle;\n",
       "    }\n",
       "\n",
       "    .dataframe tbody tr th {\n",
       "        vertical-align: top;\n",
       "    }\n",
       "\n",
       "    .dataframe thead tr th {\n",
       "        text-align: left;\n",
       "    }\n",
       "\n",
       "    .dataframe thead tr:last-of-type th {\n",
       "        text-align: right;\n",
       "    }\n",
       "</style>\n",
       "<table border=\"1\" class=\"dataframe\">\n",
       "  <thead>\n",
       "    <tr>\n",
       "      <th></th>\n",
       "      <th colspan=\"5\" halign=\"left\">value</th>\n",
       "    </tr>\n",
       "    <tr>\n",
       "      <th>항목</th>\n",
       "      <th>10a당 생산량 (kg)</th>\n",
       "      <th>노지토마토:면적 (ha)</th>\n",
       "      <th>생산량 (톤)</th>\n",
       "      <th>시설토마토:면적 (ha)</th>\n",
       "      <th>토마토:면적 (ha)</th>\n",
       "    </tr>\n",
       "    <tr>\n",
       "      <th>연도</th>\n",
       "      <th></th>\n",
       "      <th></th>\n",
       "      <th></th>\n",
       "      <th></th>\n",
       "      <th></th>\n",
       "    </tr>\n",
       "  </thead>\n",
       "  <tbody>\n",
       "    <tr>\n",
       "      <th>2013</th>\n",
       "      <td>97299</td>\n",
       "      <td>0</td>\n",
       "      <td>358919258624</td>\n",
       "      <td>6054</td>\n",
       "      <td>6054</td>\n",
       "    </tr>\n",
       "    <tr>\n",
       "      <th>2014</th>\n",
       "      <td>99412</td>\n",
       "      <td>0</td>\n",
       "      <td>1472247968960</td>\n",
       "      <td>7070</td>\n",
       "      <td>7070</td>\n",
       "    </tr>\n",
       "    <tr>\n",
       "      <th>2015</th>\n",
       "      <td>98864</td>\n",
       "      <td>0</td>\n",
       "      <td>442608826982</td>\n",
       "      <td>6976</td>\n",
       "      <td>6976</td>\n",
       "    </tr>\n",
       "    <tr>\n",
       "      <th>2016</th>\n",
       "      <td>99472</td>\n",
       "      <td>0</td>\n",
       "      <td>380156970303</td>\n",
       "      <td>6391</td>\n",
       "      <td>6391</td>\n",
       "    </tr>\n",
       "    <tr>\n",
       "      <th>2017</th>\n",
       "      <td>97133</td>\n",
       "      <td>0</td>\n",
       "      <td>335358529107</td>\n",
       "      <td>5781</td>\n",
       "      <td>5781</td>\n",
       "    </tr>\n",
       "    <tr>\n",
       "      <th>2018</th>\n",
       "      <td>101517</td>\n",
       "      <td>0</td>\n",
       "      <td>380223236657</td>\n",
       "      <td>6059</td>\n",
       "      <td>6059</td>\n",
       "    </tr>\n",
       "  </tbody>\n",
       "</table>\n",
       "</div>"
      ],
      "text/plain": [
       "              value                                                          \n",
       "항목    10a당 생산량 (kg)  노지토마토:면적 (ha)        생산량 (톤)  시설토마토:면적 (ha)  토마토:면적 (ha)\n",
       "연도                                                                           \n",
       "2013          97299              0   358919258624           6054         6054\n",
       "2014          99412              0  1472247968960           7070         7070\n",
       "2015          98864              0   442608826982           6976         6976\n",
       "2016          99472              0   380156970303           6391         6391\n",
       "2017          97133              0   335358529107           5781         5781\n",
       "2018         101517              0   380223236657           6059         6059"
      ]
     },
     "execution_count": 51,
     "metadata": {},
     "output_type": "execute_result"
    }
   ],
   "source": [
    "tt = pd.pivot_table(toss, index= '연도', columns=['항목'], aggfunc='sum')\n",
    "tt"
   ]
  },
  {
   "cell_type": "code",
   "execution_count": 52,
   "metadata": {},
   "outputs": [
    {
     "data": {
      "text/plain": [
       "MultiIndex([('value', ' 10a당 생산량 (kg)'),\n",
       "            ('value', ' 노지토마토:면적 (ha)'),\n",
       "            ('value',       ' 생산량 (톤)'),\n",
       "            ('value', ' 시설토마토:면적 (ha)'),\n",
       "            ('value',   ' 토마토:면적 (ha)')],\n",
       "           names=[None, '항목'])"
      ]
     },
     "execution_count": 52,
     "metadata": {},
     "output_type": "execute_result"
    }
   ],
   "source": [
    "tt.columns"
   ]
  },
  {
   "cell_type": "code",
   "execution_count": 53,
   "metadata": {},
   "outputs": [
    {
     "data": {
      "text/html": [
       "<div>\n",
       "<style scoped>\n",
       "    .dataframe tbody tr th:only-of-type {\n",
       "        vertical-align: middle;\n",
       "    }\n",
       "\n",
       "    .dataframe tbody tr th {\n",
       "        vertical-align: top;\n",
       "    }\n",
       "\n",
       "    .dataframe thead tr th {\n",
       "        text-align: left;\n",
       "    }\n",
       "\n",
       "    .dataframe thead tr:last-of-type th {\n",
       "        text-align: right;\n",
       "    }\n",
       "</style>\n",
       "<table border=\"1\" class=\"dataframe\">\n",
       "  <thead>\n",
       "    <tr>\n",
       "      <th></th>\n",
       "      <th colspan=\"3\" halign=\"left\">value</th>\n",
       "    </tr>\n",
       "    <tr>\n",
       "      <th>항목</th>\n",
       "      <th>10a당 생산량 (kg)</th>\n",
       "      <th>생산량 (톤)</th>\n",
       "      <th>시설토마토:면적 (ha)</th>\n",
       "    </tr>\n",
       "    <tr>\n",
       "      <th>연도</th>\n",
       "      <th></th>\n",
       "      <th></th>\n",
       "      <th></th>\n",
       "    </tr>\n",
       "  </thead>\n",
       "  <tbody>\n",
       "    <tr>\n",
       "      <th>2013</th>\n",
       "      <td>97299</td>\n",
       "      <td>358919258624</td>\n",
       "      <td>6054</td>\n",
       "    </tr>\n",
       "    <tr>\n",
       "      <th>2014</th>\n",
       "      <td>99412</td>\n",
       "      <td>1472247968960</td>\n",
       "      <td>7070</td>\n",
       "    </tr>\n",
       "    <tr>\n",
       "      <th>2015</th>\n",
       "      <td>98864</td>\n",
       "      <td>442608826982</td>\n",
       "      <td>6976</td>\n",
       "    </tr>\n",
       "    <tr>\n",
       "      <th>2016</th>\n",
       "      <td>99472</td>\n",
       "      <td>380156970303</td>\n",
       "      <td>6391</td>\n",
       "    </tr>\n",
       "    <tr>\n",
       "      <th>2017</th>\n",
       "      <td>97133</td>\n",
       "      <td>335358529107</td>\n",
       "      <td>5781</td>\n",
       "    </tr>\n",
       "  </tbody>\n",
       "</table>\n",
       "</div>"
      ],
      "text/plain": [
       "              value                              \n",
       "항목    10a당 생산량 (kg)        생산량 (톤)  시설토마토:면적 (ha)\n",
       "연도                                               \n",
       "2013          97299   358919258624           6054\n",
       "2014          99412  1472247968960           7070\n",
       "2015          98864   442608826982           6976\n",
       "2016          99472   380156970303           6391\n",
       "2017          97133   335358529107           5781"
      ]
     },
     "execution_count": 53,
     "metadata": {},
     "output_type": "execute_result"
    }
   ],
   "source": [
    "# 사용하지 않는 노지토마토 면적과 중복되는 토마토면적 컬럼 삭제\n",
    "tt = tt.drop(labels=[('value', ' 노지토마토:면적 (ha)'),\n",
    "                    ('value',   ' 토마토:면적 (ha)')], axis=1)\n",
    "\n",
    "# 컬럼이 삭제되었는지 확인\n",
    "tt.head()"
   ]
  },
  {
   "cell_type": "code",
   "execution_count": 61,
   "metadata": {},
   "outputs": [
    {
     "data": {
      "text/plain": [
       "<matplotlib.axes._subplots.AxesSubplot at 0x1a2453cf50>"
      ]
     },
     "execution_count": 61,
     "metadata": {},
     "output_type": "execute_result"
    },
    {
     "data": {
      "image/png": "[encoded data removed]",
      "text/plain": [
       "<Figure size 432x288 with 1 Axes>"
      ]
     },
     "metadata": {
      "needs_background": "light"
     },
     "output_type": "display_data"
    }
   ],
   "source": [
    "# 시설토마토 면적 그래프\n",
    "tt[('value', ' 시설토마토:면적 (ha)')].plot.barh()"
   ]
  },
  {
   "cell_type": "code",
   "execution_count": 62,
   "metadata": {},
   "outputs": [
    {
     "data": {
      "text/plain": [
       "<matplotlib.axes._subplots.AxesSubplot at 0x1a245f4b50>"
      ]
     },
     "execution_count": 62,
     "metadata": {},
     "output_type": "execute_result"
    },
    {
     "data": {
      "image/png": "[encoded data removed]",
      "text/plain": [
       "<Figure size 432x288 with 1 Axes>"
      ]
     },
     "metadata": {
      "needs_background": "light"
     },
     "output_type": "display_data"
    }
   ],
   "source": [
    "# 총 생산량 그래프\n",
    "tt[('value',       ' 생산량 (톤)')].plot.barh()"
   ]
  },
  {
   "cell_type": "code",
   "execution_count": 63,
   "metadata": {},
   "outputs": [
    {
     "data": {
      "text/plain": [
       "<matplotlib.axes._subplots.AxesSubplot at 0x1a246a7f10>"
      ]
     },
     "execution_count": 63,
     "metadata": {},
     "output_type": "execute_result"
    },
    {
     "data": {
      "image/png": "[encoded data removed]",
      "text/plain": [
       "<Figure size 432x288 with 1 Axes>"
      ]
     },
     "metadata": {
      "needs_background": "light"
     },
     "output_type": "display_data"
    }
   ],
   "source": [
    "# 면적당 생산량 그래프\n",
    "tt[('value', ' 10a당 생산량 (kg)')].plot.barh()"
   ]
  },
  {
   "cell_type": "code",
   "execution_count": null,
   "metadata": {},
   "outputs": [],
   "source": []
  },
  {
   "cell_type": "code",
   "execution_count": null,
   "metadata": {},
   "outputs": [],
   "source": []
  },
  {
   "cell_type": "code",
   "execution_count": null,
   "metadata": {},
   "outputs": [],
   "source": []
  },
  {
   "cell_type": "markdown",
   "metadata": {},
   "source": [
    "### 3) 종관기상관측 전처리"
   ]
  },
  {
   "cell_type": "code",
   "execution_count": 9,
   "metadata": {},
   "outputs": [],
   "source": [
    "# 빈 리스트 생성하기\n",
    "list_Data = []"
   ]
  },
  {
   "cell_type": "code",
   "execution_count": 10,
   "metadata": {},
   "outputs": [],
   "source": [
    "# 컬럼 위치를 변경하기 위해 reColindex 함수 생성\n",
    "# \n",
    "def reColindex(df, ori, fix):\n",
    "    cols = df.columns.tolist()\n",
    "    tmp = cols[fix - 1]\n",
    "    del cols[fix - 1]\n",
    "    cols.insert(ori - 1, tmp)\n",
    "    return df[cols]"
   ]
  },
  {
   "cell_type": "code",
   "execution_count": 11,
   "metadata": {},
   "outputs": [],
   "source": [
    "# 필요없는 컬럼 삭제 / 시간별을 날짜별로 처리 / 그룹화 하여 평균 처리하기 위한 DataModify 함수 생성\n",
    "def DataModify(list_D):\n",
    "    if \"망\" in list_D[len(list_Data) - 1].columns.tolist() :\n",
    "        list_D[len(list_Data) - 1] = list_D[len(list_Data) - 1].drop(['망'], axis = 1) \n",
    "    list_D[-1][\"측정일시\"] = list_Data[-1][\"측정일시\"].astype(str).str.slice(start = 0, stop = -2)\n",
    "    list_D[-1] = list_D[-1].groupby([\"지역\", \"측정소코드\", \"측정소명\", \"측정일시\"]).mean().reset_index()"
   ]
  },
  {
   "cell_type": "code",
   "execution_count": 16,
   "metadata": {},
   "outputs": [],
   "source": [
    "# 파일 경로 변수에 저장\n",
    "str_Root = \"/Users/jungdayoung/Documents/GitHub/Learning_Spoons_Second_Project/\""
   ]
  },
  {
   "cell_type": "code",
   "execution_count": 21,
   "metadata": {},
   "outputs": [
    {
     "name": "stdout",
     "output_type": "stream",
     "text": [
      "8\n"
     ]
    },
    {
     "data": {
      "text/html": [
       "<div>\n",
       "<style scoped>\n",
       "    .dataframe tbody tr th:only-of-type {\n",
       "        vertical-align: middle;\n",
       "    }\n",
       "\n",
       "    .dataframe tbody tr th {\n",
       "        vertical-align: top;\n",
       "    }\n",
       "\n",
       "    .dataframe thead th {\n",
       "        text-align: right;\n",
       "    }\n",
       "</style>\n",
       "<table border=\"1\" class=\"dataframe\">\n",
       "  <thead>\n",
       "    <tr style=\"text-align: right;\">\n",
       "      <th></th>\n",
       "      <th>지역</th>\n",
       "      <th>측정소코드</th>\n",
       "      <th>측정소명</th>\n",
       "      <th>측정일시</th>\n",
       "      <th>SO2</th>\n",
       "      <th>CO</th>\n",
       "      <th>O3</th>\n",
       "      <th>NO2</th>\n",
       "      <th>PM10</th>\n",
       "    </tr>\n",
       "  </thead>\n",
       "  <tbody>\n",
       "    <tr>\n",
       "      <th>0</th>\n",
       "      <td>강원 강릉시</td>\n",
       "      <td>632132</td>\n",
       "      <td>옥천동</td>\n",
       "      <td>20131001</td>\n",
       "      <td>0.003000</td>\n",
       "      <td>0.625000</td>\n",
       "      <td>0.027875</td>\n",
       "      <td>0.011542</td>\n",
       "      <td>51.833333</td>\n",
       "    </tr>\n",
       "    <tr>\n",
       "      <th>1</th>\n",
       "      <td>강원 강릉시</td>\n",
       "      <td>632132</td>\n",
       "      <td>옥천동</td>\n",
       "      <td>20131002</td>\n",
       "      <td>0.003625</td>\n",
       "      <td>0.645833</td>\n",
       "      <td>0.026625</td>\n",
       "      <td>0.012083</td>\n",
       "      <td>45.166667</td>\n",
       "    </tr>\n",
       "    <tr>\n",
       "      <th>2</th>\n",
       "      <td>강원 강릉시</td>\n",
       "      <td>632132</td>\n",
       "      <td>옥천동</td>\n",
       "      <td>20131003</td>\n",
       "      <td>0.004042</td>\n",
       "      <td>0.525000</td>\n",
       "      <td>0.026792</td>\n",
       "      <td>0.008958</td>\n",
       "      <td>20.541667</td>\n",
       "    </tr>\n",
       "    <tr>\n",
       "      <th>3</th>\n",
       "      <td>강원 강릉시</td>\n",
       "      <td>632132</td>\n",
       "      <td>옥천동</td>\n",
       "      <td>20131004</td>\n",
       "      <td>0.003958</td>\n",
       "      <td>0.650000</td>\n",
       "      <td>0.025708</td>\n",
       "      <td>0.013875</td>\n",
       "      <td>29.333333</td>\n",
       "    </tr>\n",
       "    <tr>\n",
       "      <th>4</th>\n",
       "      <td>강원 강릉시</td>\n",
       "      <td>632132</td>\n",
       "      <td>옥천동</td>\n",
       "      <td>20131005</td>\n",
       "      <td>0.003708</td>\n",
       "      <td>0.595833</td>\n",
       "      <td>0.019542</td>\n",
       "      <td>0.015042</td>\n",
       "      <td>20.666667</td>\n",
       "    </tr>\n",
       "  </tbody>\n",
       "</table>\n",
       "</div>"
      ],
      "text/plain": [
       "       지역   측정소코드 측정소명      측정일시       SO2        CO        O3       NO2  \\\n",
       "0  강원 강릉시  632132  옥천동  20131001  0.003000  0.625000  0.027875  0.011542   \n",
       "1  강원 강릉시  632132  옥천동  20131002  0.003625  0.645833  0.026625  0.012083   \n",
       "2  강원 강릉시  632132  옥천동  20131003  0.004042  0.525000  0.026792  0.008958   \n",
       "3  강원 강릉시  632132  옥천동  20131004  0.003958  0.650000  0.025708  0.013875   \n",
       "4  강원 강릉시  632132  옥천동  20131005  0.003708  0.595833  0.019542  0.015042   \n",
       "\n",
       "        PM10  \n",
       "0  51.833333  \n",
       "1  45.166667  \n",
       "2  20.541667  \n",
       "3  29.333333  \n",
       "4  20.666667  "
      ]
     },
     "execution_count": 21,
     "metadata": {},
     "output_type": "execute_result"
    }
   ],
   "source": [
    "# 2013년 데이터 전처리\n",
    "\n",
    "str_File = str_Root + \"air/2013년0X분기\"\n",
    "for i in range(4) :\n",
    "    list_Data.append(pd.read_excel(str_File.replace('X', str(i + 1)) + \".xlsx\"))\n",
    "    list_Data[i] = reColindex(list_Data[i], 3, 2)\n",
    "    list_Data[i]['PM25'] = np.nan\n",
    "    list_Data[i] = reColindex(list_Data[i], 11, 10)\n",
    "    DataModify(list_Data)   \n",
    "    \n",
    "print(len(list_Data))\n",
    "list_Data[len(list_Data) - 1].head()"
   ]
  },
  {
   "cell_type": "code",
   "execution_count": 18,
   "metadata": {},
   "outputs": [
    {
     "name": "stdout",
     "output_type": "stream",
     "text": [
      "4\n"
     ]
    },
    {
     "data": {
      "text/html": [
       "<div>\n",
       "<style scoped>\n",
       "    .dataframe tbody tr th:only-of-type {\n",
       "        vertical-align: middle;\n",
       "    }\n",
       "\n",
       "    .dataframe tbody tr th {\n",
       "        vertical-align: top;\n",
       "    }\n",
       "\n",
       "    .dataframe thead th {\n",
       "        text-align: right;\n",
       "    }\n",
       "</style>\n",
       "<table border=\"1\" class=\"dataframe\">\n",
       "  <thead>\n",
       "    <tr style=\"text-align: right;\">\n",
       "      <th></th>\n",
       "      <th>지역</th>\n",
       "      <th>측정소코드</th>\n",
       "      <th>측정소명</th>\n",
       "      <th>측정일시</th>\n",
       "      <th>SO2</th>\n",
       "      <th>CO</th>\n",
       "      <th>O3</th>\n",
       "      <th>NO2</th>\n",
       "      <th>PM10</th>\n",
       "      <th>PM25</th>\n",
       "    </tr>\n",
       "  </thead>\n",
       "  <tbody>\n",
       "    <tr>\n",
       "      <th>0</th>\n",
       "      <td>강원 강릉시</td>\n",
       "      <td>632132</td>\n",
       "      <td>옥천동</td>\n",
       "      <td>20141001</td>\n",
       "      <td>0.002083</td>\n",
       "      <td>0.420833</td>\n",
       "      <td>0.012333</td>\n",
       "      <td>0.012750</td>\n",
       "      <td>32.333333</td>\n",
       "      <td>NaN</td>\n",
       "    </tr>\n",
       "    <tr>\n",
       "      <th>1</th>\n",
       "      <td>강원 강릉시</td>\n",
       "      <td>632132</td>\n",
       "      <td>옥천동</td>\n",
       "      <td>20141002</td>\n",
       "      <td>0.001917</td>\n",
       "      <td>0.550000</td>\n",
       "      <td>0.016375</td>\n",
       "      <td>0.015917</td>\n",
       "      <td>42.458333</td>\n",
       "      <td>NaN</td>\n",
       "    </tr>\n",
       "    <tr>\n",
       "      <th>2</th>\n",
       "      <td>강원 강릉시</td>\n",
       "      <td>632132</td>\n",
       "      <td>옥천동</td>\n",
       "      <td>20141003</td>\n",
       "      <td>0.001542</td>\n",
       "      <td>0.558333</td>\n",
       "      <td>0.036042</td>\n",
       "      <td>0.007250</td>\n",
       "      <td>28.916667</td>\n",
       "      <td>NaN</td>\n",
       "    </tr>\n",
       "    <tr>\n",
       "      <th>3</th>\n",
       "      <td>강원 강릉시</td>\n",
       "      <td>632132</td>\n",
       "      <td>옥천동</td>\n",
       "      <td>20141004</td>\n",
       "      <td>0.001917</td>\n",
       "      <td>0.583333</td>\n",
       "      <td>0.017583</td>\n",
       "      <td>0.014167</td>\n",
       "      <td>31.250000</td>\n",
       "      <td>NaN</td>\n",
       "    </tr>\n",
       "    <tr>\n",
       "      <th>4</th>\n",
       "      <td>강원 강릉시</td>\n",
       "      <td>632132</td>\n",
       "      <td>옥천동</td>\n",
       "      <td>20141005</td>\n",
       "      <td>0.001625</td>\n",
       "      <td>0.583333</td>\n",
       "      <td>0.026875</td>\n",
       "      <td>0.007875</td>\n",
       "      <td>24.625000</td>\n",
       "      <td>NaN</td>\n",
       "    </tr>\n",
       "  </tbody>\n",
       "</table>\n",
       "</div>"
      ],
      "text/plain": [
       "       지역   측정소코드 측정소명      측정일시       SO2        CO        O3       NO2  \\\n",
       "0  강원 강릉시  632132  옥천동  20141001  0.002083  0.420833  0.012333  0.012750   \n",
       "1  강원 강릉시  632132  옥천동  20141002  0.001917  0.550000  0.016375  0.015917   \n",
       "2  강원 강릉시  632132  옥천동  20141003  0.001542  0.558333  0.036042  0.007250   \n",
       "3  강원 강릉시  632132  옥천동  20141004  0.001917  0.583333  0.017583  0.014167   \n",
       "4  강원 강릉시  632132  옥천동  20141005  0.001625  0.583333  0.026875  0.007875   \n",
       "\n",
       "        PM10  PM25  \n",
       "0  32.333333   NaN  \n",
       "1  42.458333   NaN  \n",
       "2  28.916667   NaN  \n",
       "3  31.250000   NaN  \n",
       "4  24.625000   NaN  "
      ]
     },
     "execution_count": 18,
     "metadata": {},
     "output_type": "execute_result"
    }
   ],
   "source": [
    "# 2014년 데이터 전처리\n",
    "\n",
    "str_File = str_Root + \"air/2014년 X분기\"\n",
    "for i in range(4) :\n",
    "    list_Data.append(pd.read_csv(str_File.replace('X', str(i + 1)) + \".csv\", encoding = 'EUC-KR'))\n",
    "    DataModify(list_Data)\n",
    "    \n",
    "print(len(list_Data))\n",
    "list_Data[len(list_Data) - 1].head()"
   ]
  },
  {
   "cell_type": "code",
   "execution_count": null,
   "metadata": {},
   "outputs": [],
   "source": [
    "# 2015년 데이터 전처리\n",
    "\n",
    "str_File = str_Root + 'air/2015년X분기'\n",
    "for i in range(4) :\n",
    "    list_Data.append(pd.read_csv(str_File.replace('X', str(i + 1)) + \".csv\"))\n",
    "    DataModify(list_Data)\n",
    "\n",
    "print(len(list_Data))\n",
    "list_Data[len(list_Data) - 1].head()"
   ]
  },
  {
   "cell_type": "code",
   "execution_count": null,
   "metadata": {},
   "outputs": [],
   "source": [
    "# 2016년 데이터 전처리\n",
    "\n",
    "str_File = str_Root + 'air/2016년 X분기'\n",
    "for i in range(4) :\n",
    "    list_Data.append(pd.read_csv(str_File.replace('X', str(i + 1)) + \".csv\", encoding = 'EUC-KR'))\n",
    "    DataModify(list_Data)\n",
    "\n",
    "print(len(list_Data))\n",
    "list_Data[len(list_Data) - 1].head()"
   ]
  },
  {
   "cell_type": "code",
   "execution_count": null,
   "metadata": {},
   "outputs": [],
   "source": [
    "# 2017년 데이터 전처리\n",
    "\n",
    "str_File = str_Root + 'air/2017년 X월'\n",
    "for i in range(12) :\n",
    "    list_Data.append(pd.read_excel(str_File.replace('X', str(i + 1)) + \".xlsx\"))\n",
    "    DataModify(list_Data)\n",
    "    \n",
    "print(len(list_Data))\n",
    "\n",
    "list_Data[len(list_Data) - 1].head()"
   ]
  },
  {
   "cell_type": "code",
   "execution_count": null,
   "metadata": {},
   "outputs": [],
   "source": [
    "# 2018년 데이터 전처리\n",
    "\n",
    "str_File = str_Root + 'air/2018년 X분기'\n",
    "for i in range(4) :\n",
    "    list_Data.append(pd.read_excel(str_File.replace('X', str(i + 1)) + \".xlsx\"))\n",
    "    DataModify(list_Data)\n",
    "    \n",
    "print(len(list_Data))\n",
    "list_Data[len(list_Data) - 1].head()"
   ]
  },
  {
   "cell_type": "code",
   "execution_count": null,
   "metadata": {},
   "outputs": [],
   "source": [
    "# 2019년 데이터 전처리\n",
    "\n",
    "str_File = str_Root + 'air/2019년 X월'\n",
    "for i in range(9) :\n",
    "    list_Data.append(pd.read_excel(str_File.replace('X', str(i + 1)) + \".xlsx\"))\n",
    "    DataModify(list_Data)\n",
    "    \n",
    "print(len(list_Data))\n",
    "list_Data[len(list_Data) - 1].head()"
   ]
  },
  {
   "cell_type": "code",
   "execution_count": null,
   "metadata": {},
   "outputs": [],
   "source": [
    "# 데이터 병합\n",
    "df = pd.concat(list_Data)"
   ]
  },
  {
   "cell_type": "code",
   "execution_count": null,
   "metadata": {},
   "outputs": [],
   "source": [
    "# 날짜 데이터 타입 변경\n",
    "df[\"측정일시\"] = pd.to_datetime(df[\"측정일시\"])\n",
    "#df.sort_values(by=[\"측정일시\", \"지역\"], axis=0, ascending = True)"
   ]
  },
  {
   "cell_type": "code",
   "execution_count": null,
   "metadata": {},
   "outputs": [],
   "source": [
    "# csv파일로 저장\n",
    "df.to_csv(\"날씨_시계열_데이터.csv\", encoding = \"CP949\", index = False)"
   ]
  },
  {
   "cell_type": "code",
   "execution_count": null,
   "metadata": {},
   "outputs": [],
   "source": [
    "# 데이터 확인\n",
    "dfTest = pd.read_csv(str_Root + \"날씨_시계열_데이터.csv\", encoding = \"CP949\")\n",
    "dfTest.shape"
   ]
  },
  {
   "cell_type": "code",
   "execution_count": null,
   "metadata": {},
   "outputs": [],
   "source": [
    "dfTest.info()"
   ]
  },
  {
   "cell_type": "code",
   "execution_count": null,
   "metadata": {},
   "outputs": [],
   "source": [
    "# os로 작업 경로 지정\n",
    "os.chdir('/Users/jungdayoung/Documents/GitHub/Learning_Spoons_Second_Project/')"
   ]
  },
  {
   "cell_type": "code",
   "execution_count": null,
   "metadata": {},
   "outputs": [],
   "source": [
    "# 저장한 날씨 데이터를 df로 저장\n",
    "df = pd.read_csv('날씨_시계열_데이터.csv',encoding='euc-kr')"
   ]
  },
  {
   "cell_type": "code",
   "execution_count": null,
   "metadata": {},
   "outputs": [],
   "source": [
    "# 측정일시 컬럼의 연월일을 연도, 월일로 나누기\n",
    "df['연도'] = df['측정일시'].str.split(\"-\").str.get(0)\n",
    "df['날짜'] = df['측정일시'].str.split(\"-\").str.get(1) + \"-\" + df['측정일시'].str.split(\"-\").str.get(2)\n",
    "\n",
    "# 문자형이 아니라 날짜형 데이터를 Split 하는 방법\n",
    "#df['연도'] = df[\"측정일시\"].dt.strftime('%Y_%m%d').str.split('_').str[0]\n",
    "#df['월일'] = df[\"측정일시\"].dt.strftime('%Y_%m%d').str.split('_').str[1]"
   ]
  },
  {
   "cell_type": "code",
   "execution_count": null,
   "metadata": {},
   "outputs": [],
   "source": []
  },
  {
   "cell_type": "code",
   "execution_count": null,
   "metadata": {},
   "outputs": [],
   "source": []
  },
  {
   "cell_type": "code",
   "execution_count": null,
   "metadata": {},
   "outputs": [],
   "source": []
  },
  {
   "cell_type": "code",
   "execution_count": null,
   "metadata": {},
   "outputs": [],
   "source": []
  },
  {
   "cell_type": "code",
   "execution_count": null,
   "metadata": {},
   "outputs": [],
   "source": [
    "df.columns"
   ]
  },
  {
   "cell_type": "code",
   "execution_count": null,
   "metadata": {},
   "outputs": [],
   "source": [
    "# 사용할 컬럼\n",
    "df[['지점명', '일시', '평균기온(°C)', '일강수량(mm)', '합계 일조시간(hr)', '평균 전운량(1/10)']]\n"
   ]
  },
  {
   "cell_type": "markdown",
   "metadata": {},
   "source": [
    "### 4) 데이터 합치기"
   ]
  },
  {
   "cell_type": "markdown",
   "metadata": {},
   "source": [
    "#### 기상데이터와 토마토 생산량"
   ]
  },
  {
   "cell_type": "code",
   "execution_count": null,
   "metadata": {},
   "outputs": [],
   "source": []
  },
  {
   "cell_type": "code",
   "execution_count": null,
   "metadata": {},
   "outputs": [],
   "source": []
  },
  {
   "cell_type": "markdown",
   "metadata": {},
   "source": [
    "#### 기상데이터와 토마토 가격"
   ]
  },
  {
   "cell_type": "code",
   "execution_count": null,
   "metadata": {},
   "outputs": [],
   "source": []
  },
  {
   "cell_type": "code",
   "execution_count": null,
   "metadata": {},
   "outputs": [],
   "source": []
  },
  {
   "cell_type": "markdown",
   "metadata": {},
   "source": [
    "#### 토마토 생산량과 토마토 가격"
   ]
  },
  {
   "cell_type": "code",
   "execution_count": null,
   "metadata": {},
   "outputs": [],
   "source": []
  },
  {
   "cell_type": "code",
   "execution_count": null,
   "metadata": {},
   "outputs": [],
   "source": []
  },
  {
   "cell_type": "markdown",
   "metadata": {},
   "source": [
    "## 4. 머신러닝 모델 적용"
   ]
  },
  {
   "cell_type": "markdown",
   "metadata": {},
   "source": [
    "### 1) 시계열?"
   ]
  },
  {
   "cell_type": "markdown",
   "metadata": {},
   "source": [
    "#### 기상데이터와 토마토 가격"
   ]
  },
  {
   "cell_type": "code",
   "execution_count": null,
   "metadata": {},
   "outputs": [],
   "source": []
  },
  {
   "cell_type": "code",
   "execution_count": null,
   "metadata": {},
   "outputs": [],
   "source": []
  },
  {
   "cell_type": "markdown",
   "metadata": {},
   "source": [
    "#### 토마토 생산량과 토마토 가격"
   ]
  },
  {
   "cell_type": "code",
   "execution_count": null,
   "metadata": {},
   "outputs": [],
   "source": []
  },
  {
   "cell_type": "code",
   "execution_count": null,
   "metadata": {},
   "outputs": [],
   "source": []
  },
  {
   "cell_type": "markdown",
   "metadata": {},
   "source": [
    "### 2) 랜덤포레스트"
   ]
  },
  {
   "cell_type": "code",
   "execution_count": null,
   "metadata": {},
   "outputs": [],
   "source": []
  },
  {
   "cell_type": "code",
   "execution_count": null,
   "metadata": {},
   "outputs": [],
   "source": []
  },
  {
   "cell_type": "code",
   "execution_count": null,
   "metadata": {},
   "outputs": [],
   "source": []
  },
  {
   "cell_type": "code",
   "execution_count": null,
   "metadata": {},
   "outputs": [],
   "source": []
  }
 ],
 "metadata": {
  "kernelspec": {
   "display_name": "Python 3",
   "language": "python",
   "name": "python3"
  },
  "language_info": {
   "codemirror_mode": {
    "name": "ipython",
    "version": 3
   },
   "file_extension": ".py",
   "mimetype": "text/x-python",
   "name": "python",
   "nbconvert_exporter": "python",
   "pygments_lexer": "ipython3",
   "version": "3.7.6"
  }
 },
 "nbformat": 4,
 "nbformat_minor": 4
}
