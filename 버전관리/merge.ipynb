{
 "cells": [
  {
   "cell_type": "code",
   "execution_count": 1,
   "metadata": {},
   "outputs": [
    {
     "ename": "NameError",
     "evalue": "name 'pd' is not defined",
     "output_type": "error",
     "traceback": [
      "\u001b[0;31m---------------------------------------------------------------------------\u001b[0m",
      "\u001b[0;31mNameError\u001b[0m                                 Traceback (most recent call last)",
      "\u001b[0;32m<ipython-input-1-ebb9c89a5ce9>\u001b[0m in \u001b[0;36m<module>\u001b[0;34m\u001b[0m\n\u001b[0;32m----> 1\u001b[0;31m \u001b[0mdf_sun\u001b[0m \u001b[0;34m=\u001b[0m \u001b[0mpd\u001b[0m\u001b[0;34m.\u001b[0m\u001b[0mread_csv\u001b[0m\u001b[0;34m(\u001b[0m\u001b[0;34m'E:/Learning_Spoons_Second_Project/data/일조량.csv'\u001b[0m\u001b[0;34m)\u001b[0m\u001b[0;34m\u001b[0m\u001b[0;34m\u001b[0m\u001b[0m\n\u001b[0m\u001b[1;32m      2\u001b[0m \u001b[0mdf_tomato\u001b[0m \u001b[0;34m=\u001b[0m \u001b[0mpd\u001b[0m\u001b[0;34m.\u001b[0m\u001b[0mread_csv\u001b[0m\u001b[0;34m(\u001b[0m\u001b[0;34m'E:/Learning_Spoons_Second_Project/data/토마토_도매가격_fin.csv'\u001b[0m\u001b[0;34m)\u001b[0m\u001b[0;34m\u001b[0m\u001b[0;34m\u001b[0m\u001b[0m\n\u001b[1;32m      3\u001b[0m \u001b[0mdf_time\u001b[0m \u001b[0;34m=\u001b[0m \u001b[0mpd\u001b[0m\u001b[0;34m.\u001b[0m\u001b[0mread_csv\u001b[0m\u001b[0;34m(\u001b[0m\u001b[0;34m'E:/Learning_Spoons_Second_Project/data/날씨_시계열.csv'\u001b[0m\u001b[0;34m,\u001b[0m \u001b[0mencoding\u001b[0m\u001b[0;34m=\u001b[0m\u001b[0;34m'euc-kr'\u001b[0m\u001b[0;34m)\u001b[0m\u001b[0;34m\u001b[0m\u001b[0;34m\u001b[0m\u001b[0m\n\u001b[1;32m      4\u001b[0m \u001b[0;34m\u001b[0m\u001b[0m\n\u001b[1;32m      5\u001b[0m \u001b[0;31m#수정\u001b[0m\u001b[0;34m\u001b[0m\u001b[0;34m\u001b[0m\u001b[0;34m\u001b[0m\u001b[0m\n",
      "\u001b[0;31mNameError\u001b[0m: name 'pd' is not defined"
     ]
    }
   ],
   "source": [
    "df_sun = pd.read_csv('E:/Learning_Spoons_Second_Project/data/일조량.csv')\n",
    "df_tomato = pd.read_csv('E:/Learning_Spoons_Second_Project/data/토마토_도매가격_fin.csv')\n",
    "df_time = pd.read_csv('E:/Learning_Spoons_Second_Project/data/날씨_시계열.csv', encoding='euc-kr')\n",
    "\n",
    "#수정\n",
    "df_tomato_copy = df_tomato.drop(['연도','파종 연도'],axis=1).copy()\n",
    "\n",
    "df_tomato_copy\n",
    "\n",
    "#수정(merge를 위해 컬럼명 변경)\n",
    "df_tomato_copy = df_tomato_copy.rename(columns={'일시':'판매일시','파종 예상 일시':'일시'})\n",
    "\n",
    "# 머신러닝을 위해 도를 int 형식으로 변환을 위한 dictionary\n",
    "dict_1 = {'강원도':0, '경기도':1, '인천광역시':2, '서울특별시':3, '경상북도':4, '충청북도':5, '충청남도':6, '대전광역시':7,\n",
    "       '전라북도':8, '대구광역시':9, '울산광역시':10, '경상남도':11, '광주광역시':12, '부산광역시':13, '전라남도':14,\n",
    "       '제주특별자치도':15}\n",
    "\n",
    "# 도_num 컬럼을 dict_1을 이용하여 생성\n",
    "# 수정\n",
    "df_tomato_copy ['도_num'] = df_tomato_copy['도'].map(dict_1)\n",
    "df_sun['도_num'] = df_sun['도'].map(dict_1)\n",
    "df_time['도_num'] = df_time['도'].map(dict_1)"
   ]
  },
  {
   "cell_type": "code",
   "execution_count": null,
   "metadata": {},
   "outputs": [],
   "source": [
    "\n",
    "df_tomatoma = pd.merge(df_air, df_tomato_copy, on=['일시','도_num'], how='left')"
   ]
  },
  {
   "cell_type": "code",
   "execution_count": null,
   "metadata": {},
   "outputs": [],
   "source": [
    "# 컬렁명을 명확하게 구분하기 위해 변경\n",
    "df_tomatoma.rename(columns={'일시':'파종일시'},inplace=True)"
   ]
  },
  {
   "cell_type": "code",
   "execution_count": null,
   "metadata": {},
   "outputs": [],
   "source": [
    "#Null 값을 채우기 위해 datetime 형식으로 변경\n",
    "df_tomatoma['파종일시'] = pd.to_datetime(df_tomatoma['파종일시'])\n",
    "df_tomatoma['판매일시'] = pd.to_datetime(df_tomatoma['판매일시'])"
   ]
  },
  {
   "cell_type": "code",
   "execution_count": null,
   "metadata": {},
   "outputs": [],
   "source": [
    "#판매일시가 null 값인 것들을 파종일시에서 4개월 후의 일자로 채워넣음\n",
    "df_tomatoma['판매일시'] = df_tomatoma['판매일시'].fillna(df_tomatoma['파종일시']+pd.DateOffset(120))"
   ]
  },
  {
   "cell_type": "code",
   "execution_count": null,
   "metadata": {},
   "outputs": [],
   "source": [
    "# 판매일시를 index로 변경\n",
    "#죄송합니다 제가 df_tomatoma_final을 안쓰고 그냥 df_tomatoma로 다 바꿨어요\n",
    "df_tomatoma = df_tomatoma.set_index('판매일시')"
   ]
  },
  {
   "cell_type": "code",
   "execution_count": null,
   "metadata": {},
   "outputs": [],
   "source": [
    "# 변경이 되었는지 확인\n",
    "df_tomatoma"
   ]
  },
  {
   "cell_type": "code",
   "execution_count": null,
   "metadata": {},
   "outputs": [],
   "source": []
  },
  {
   "cell_type": "code",
   "execution_count": null,
   "metadata": {},
   "outputs": [],
   "source": [
    "# 각 권역의 마켓명이 같을 것이라고 가정하여 fillna의 bfill을 사용하여 마켓명 채우기위한 함수\n",
    "# 그냥 복사해서 붙여넣으시면 됩니다\n",
    "def fill_market(lst,frame):\n",
    "    frame.loc[frame['도'].isin(lst),'마켓명'] =  frame.loc[frame['도'].isin(lst),'마켓명'].fillna(method='bfill')\n",
    "    return frame.head(10)"
   ]
  },
  {
   "cell_type": "code",
   "execution_count": null,
   "metadata": {},
   "outputs": [],
   "source": [
    "# 함수를 활용하여 마켓명 nan값 처리\n",
    "#이것도 복붙\n",
    "fill_market(광주_lst,df_tomatoma)\n",
    "fill_market(대구_lst,df_tomatoma)\n",
    "fill_market(부산_lst,df_tomatoma)\n",
    "fill_market(대전_lst,df_tomatoma)\n",
    "fill_market(서울_lst,df_tomatoma)"
   ]
  },
  {
   "cell_type": "code",
   "execution_count": null,
   "metadata": {},
   "outputs": [],
   "source": [
    "# 함수를 사용하였지만 값이 안들어간 마켓명이 존재하여 하드코딩으로 값 채움\n",
    "# 아마 이게 df_tomatoma_final로 되어있을거에요\n",
    "df_tomatoma.loc[df_tomatoma['마켓명'].isnull(),'마켓명'] = '각화도매'"
   ]
  },
  {
   "cell_type": "code",
   "execution_count": null,
   "metadata": {},
   "outputs": [],
   "source": [
    "fill_price(df_tomatoma)"
   ]
  },
  {
   "cell_type": "code",
   "execution_count": null,
   "metadata": {},
   "outputs": [],
   "source": [
    "# 저장\n",
    "df_tomatoma.to_csv(('E:/Learning_Spoons_Second_Project/data/final_data.csv',encoding='cp949')"
   ]
  },
  {
   "cell_type": "code",
   "execution_count": null,
   "metadata": {},
   "outputs": [],
   "source": [
    "# 저장한 데이터 확인\n",
    "pd.read_csv('E:/Learning_Spoons_Second_Project/data/final_data.csv',encoding='cp949')"
   ]
  }
 ],
 "metadata": {
  "kernelspec": {
   "display_name": "Python 3",
   "language": "python",
   "name": "python3"
  },
  "language_info": {
   "codemirror_mode": {
    "name": "ipython",
    "version": 3
   },
   "file_extension": ".py",
   "mimetype": "text/x-python",
   "name": "python",
   "nbconvert_exporter": "python",
   "pygments_lexer": "ipython3",
   "version": "3.7.6"
  },
  "toc": {
   "base_numbering": 1,
   "nav_menu": {},
   "number_sections": true,
   "sideBar": true,
   "skip_h1_title": false,
   "title_cell": "Table of Contents",
   "title_sidebar": "Contents",
   "toc_cell": false,
   "toc_position": {},
   "toc_section_display": true,
   "toc_window_display": false
  },
  "varInspector": {
   "cols": {
    "lenName": 16,
    "lenType": 16,
    "lenVar": 40
   },
   "kernels_config": {
    "python": {
     "delete_cmd_postfix": "",
     "delete_cmd_prefix": "del ",
     "library": "var_list.py",
     "varRefreshCmd": "print(var_dic_list())"
    },
    "r": {
     "delete_cmd_postfix": ") ",
     "delete_cmd_prefix": "rm(",
     "library": "var_list.r",
     "varRefreshCmd": "cat(var_dic_list()) "
    }
   },
   "types_to_exclude": [
    "module",
    "function",
    "builtin_function_or_method",
    "instance",
    "_Feature"
   ],
   "window_display": false
  }
 },
 "nbformat": 4,
 "nbformat_minor": 4
}
