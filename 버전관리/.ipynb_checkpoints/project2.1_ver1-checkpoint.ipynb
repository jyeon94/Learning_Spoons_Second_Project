{
 "cells": [
  {
   "cell_type": "markdown",
   "metadata": {},
   "source": [
    "# 일조량에 따른 토마토 생산량과 가격 예측"
   ]
  },
  {
   "cell_type": "markdown",
   "metadata": {},
   "source": [
    "- 토마토마(김준회, 연제호, 정다영, 추영은)\n",
    "- 발표일 : 2020년 3월 19일"
   ]
  },
  {
   "cell_type": "markdown",
   "metadata": {},
   "source": [
    "# 1. 서론"
   ]
  },
  {
   "cell_type": "markdown",
   "metadata": {},
   "source": [
    "### 1) 분석 배경"
   ]
  },
  {
   "cell_type": "markdown",
   "metadata": {},
   "source": [
    "최근 최악의 미세먼지 발생이 이어지면서 농작물의 피해가 속출하고 있다. 미세먼지가 햇빛을 막아 일조량이 크게 부족해져 작물의 상품성과 생산성이 뚝 떨어졌다는 뉴스가 나오고 있다. 농가에서 비닐하우스 위에 내려앉은 미세먼지를 자주 걷어내기 어렵고 유리온실도 미세먼지 등의 이유로 투광량이 떨어진다고 한다."
   ]
  },
  {
   "cell_type": "markdown",
   "metadata": {},
   "source": [
    "### 2) 분석 목적"
   ]
  },
  {
   "cell_type": "markdown",
   "metadata": {},
   "source": [
    "미세먼지와 강수량에 따른 일조량의 변화와 토마토 생산량, 가격을 예측하고자 한다."
   ]
  },
  {
   "cell_type": "markdown",
   "metadata": {},
   "source": [
    "## 2. 데이터 준비"
   ]
  },
  {
   "cell_type": "markdown",
   "metadata": {},
   "source": [
    "### 1) 활용 데이터\n",
    "\n",
    " 데이터 | 사용 변수 | 시점 | 출처 | 파일 형식\n",
    ":---:|:-------:|:---:|:---:|:--------:\n",
    "토마토 일별 품목별 도.소매가격정보 | 품목명, 품종명,\t시군구,\t마켓명,\t연도,\t날짜,\t가격 | 일 | [농산물유통정보](https://kdx.kr/kamis/periodProductList) | csv\n",
    "농작물생산조사:채소생산량(과채류) | | 일 | [통계청](http://kosis.kr/statHtml/statHtml.do?orgId=101&tblId=DT_1ET0027&vw_cd=MT_ZTITLE&list_id=F1H&seqNo=&lang_mode=ko&language=kor&obj_var_id=&itm_id=&conn_path=MT_ZTITLE) | csv\n",
    "종관기상관측(ASOS) | 지점명,\t일시,\t평균기온,\t일강수량,\t합계 일조시간,\t평균 전운량 | 일 | [기상청 기상자료개방포털](https://data.kma.go.kr/data/grnd/selectAsosRltmList.do?pgmNo=36) | csv\n",
    "대기오염 최종확정자료  | 미세먼지 | 시간 | [AirKorea](https://www.airkorea.or.kr/web/last_amb_hour_data?pMENU_NO=123) | xlsx"
   ]
  },
  {
   "cell_type": "markdown",
   "metadata": {},
   "source": [
    "## 3. 데이터 가공"
   ]
  },
  {
   "cell_type": "markdown",
   "metadata": {},
   "source": [
    "### 1) 토마토 도매 가격 정보 전처리"
   ]
  },
  {
   "cell_type": "code",
   "execution_count": null,
   "metadata": {},
   "outputs": [],
   "source": [
    "import pandas as pd\n",
    "import numpy as np"
   ]
  },
  {
   "cell_type": "code",
   "execution_count": null,
   "metadata": {},
   "outputs": [],
   "source": [
    "tomato = pd.read_csv('/20132016토마토_일별 품목별 도.소매가격정보.csv')\n",
    "\n"
   ]
  },
  {
   "cell_type": "code",
   "execution_count": null,
   "metadata": {},
   "outputs": [],
   "source": [
    "tomato.head()"
   ]
  },
  {
   "cell_type": "code",
   "execution_count": null,
   "metadata": {},
   "outputs": [],
   "source": []
  },
  {
   "cell_type": "code",
   "execution_count": null,
   "metadata": {},
   "outputs": [],
   "source": []
  },
  {
   "cell_type": "markdown",
   "metadata": {},
   "source": [
    "### 2) 농작물생산조사:채소생산량(과채류)\t"
   ]
  },
  {
   "cell_type": "code",
   "execution_count": 6,
   "metadata": {},
   "outputs": [],
   "source": [
    "# 토마토 생산량 파일 불러오기\n",
    "to = pd.read_csv('/Users/jungdayoung/Documents/GitHub/Learning_Spoons_Second_Project/채소생산량_과채류__20200304201937.csv', encoding='euc-kr', header=0)\n",
    "\n"
   ]
  },
  {
   "cell_type": "code",
   "execution_count": 7,
   "metadata": {},
   "outputs": [
    {
     "data": {
      "text/html": [
       "<div>\n",
       "<style scoped>\n",
       "    .dataframe tbody tr th:only-of-type {\n",
       "        vertical-align: middle;\n",
       "    }\n",
       "\n",
       "    .dataframe tbody tr th {\n",
       "        vertical-align: top;\n",
       "    }\n",
       "\n",
       "    .dataframe thead th {\n",
       "        text-align: right;\n",
       "    }\n",
       "</style>\n",
       "<table border=\"1\" class=\"dataframe\">\n",
       "  <thead>\n",
       "    <tr style=\"text-align: right;\">\n",
       "      <th></th>\n",
       "      <th>시도별</th>\n",
       "      <th>2013</th>\n",
       "      <th>2013.1</th>\n",
       "      <th>2013.2</th>\n",
       "      <th>2013.3</th>\n",
       "      <th>2013.4</th>\n",
       "      <th>2013.5</th>\n",
       "      <th>2013.6</th>\n",
       "      <th>2013.7</th>\n",
       "      <th>2014</th>\n",
       "      <th>...</th>\n",
       "      <th>2017.6</th>\n",
       "      <th>2017.7</th>\n",
       "      <th>2018</th>\n",
       "      <th>2018.1</th>\n",
       "      <th>2018.2</th>\n",
       "      <th>2018.3</th>\n",
       "      <th>2018.4</th>\n",
       "      <th>2018.5</th>\n",
       "      <th>2018.6</th>\n",
       "      <th>2018.7</th>\n",
       "    </tr>\n",
       "  </thead>\n",
       "  <tbody>\n",
       "    <tr>\n",
       "      <th>0</th>\n",
       "      <td>시도별</td>\n",
       "      <td>토마토:면적 (ha)</td>\n",
       "      <td>생산량 (톤)</td>\n",
       "      <td>노지토마토:면적 (ha)</td>\n",
       "      <td>10a당 생산량 (kg)</td>\n",
       "      <td>생산량 (톤)</td>\n",
       "      <td>시설토마토:면적 (ha)</td>\n",
       "      <td>10a당 생산량 (kg)</td>\n",
       "      <td>생산량 (톤)</td>\n",
       "      <td>토마토:면적 (ha)</td>\n",
       "      <td>...</td>\n",
       "      <td>10a당 생산량 (kg)</td>\n",
       "      <td>생산량 (톤)</td>\n",
       "      <td>토마토:면적 (ha)</td>\n",
       "      <td>생산량 (톤)</td>\n",
       "      <td>노지토마토:면적 (ha)</td>\n",
       "      <td>10a당 생산량 (kg)</td>\n",
       "      <td>생산량 (톤)</td>\n",
       "      <td>시설토마토:면적 (ha)</td>\n",
       "      <td>10a당 생산량 (kg)</td>\n",
       "      <td>생산량 (톤)</td>\n",
       "    </tr>\n",
       "  </tbody>\n",
       "</table>\n",
       "<p>1 rows × 49 columns</p>\n",
       "</div>"
      ],
      "text/plain": [
       "   시도별         2013   2013.1         2013.2         2013.3   2013.4  \\\n",
       "0  시도별  토마토:면적 (ha)  생산량 (톤)  노지토마토:면적 (ha)  10a당 생산량 (kg)  생산량 (톤)   \n",
       "\n",
       "          2013.5         2013.6   2013.7         2014  ...         2017.6  \\\n",
       "0  시설토마토:면적 (ha)  10a당 생산량 (kg)  생산량 (톤)  토마토:면적 (ha)  ...  10a당 생산량 (kg)   \n",
       "\n",
       "    2017.7         2018   2018.1         2018.2         2018.3   2018.4  \\\n",
       "0  생산량 (톤)  토마토:면적 (ha)  생산량 (톤)  노지토마토:면적 (ha)  10a당 생산량 (kg)  생산량 (톤)   \n",
       "\n",
       "          2018.5         2018.6   2018.7  \n",
       "0  시설토마토:면적 (ha)  10a당 생산량 (kg)  생산량 (톤)  \n",
       "\n",
       "[1 rows x 49 columns]"
      ]
     },
     "execution_count": 7,
     "metadata": {},
     "output_type": "execute_result"
    }
   ],
   "source": [
    "# 토마토 생산량 파일 확인\n",
    "to.head(1)"
   ]
  },
  {
   "cell_type": "code",
   "execution_count": 8,
   "metadata": {},
   "outputs": [
    {
     "data": {
      "text/plain": [
       "Index(['시도별', '2013', '2013.1', '2013.2', '2013.3', '2013.4', '2013.5',\n",
       "       '2013.6', '2013.7', '2014', '2014.1', '2014.2', '2014.3', '2014.4',\n",
       "       '2014.5', '2014.6', '2014.7', '2015', '2015.1', '2015.2', '2015.3',\n",
       "       '2015.4', '2015.5', '2015.6', '2015.7', '2016', '2016.1', '2016.2',\n",
       "       '2016.3', '2016.4', '2016.5', '2016.6', '2016.7', '2017', '2017.1',\n",
       "       '2017.2', '2017.3', '2017.4', '2017.5', '2017.6', '2017.7', '2018',\n",
       "       '2018.1', '2018.2', '2018.3', '2018.4', '2018.5', '2018.6', '2018.7'],\n",
       "      dtype='object')"
      ]
     },
     "execution_count": 8,
     "metadata": {},
     "output_type": "execute_result"
    }
   ],
   "source": [
    "to.columns"
   ]
  },
  {
   "cell_type": "code",
   "execution_count": 9,
   "metadata": {},
   "outputs": [],
   "source": [
    "to.columns = ['연도', '2013ㅊ', '2013', '2013', '2013', '2013', '2013',\n",
    "       '2013', '2013', '2014', '2014', '2014', '2014', '2014',\n",
    "       '2014', '2014', '2014', '2015', '2015', '2015', '2015',\n",
    "       '2015', '2015', '2015', '2015', '2016', '2016', '2016',\n",
    "       '2016', '2016', '2016', '2016', '2016', '2017', '2017',\n",
    "       '2017', '2017', '2017', '2017', '2017', '2017', '2018',\n",
    "       '2018', '2018', '2018', '2018', '2018', '2018', '2018']"
   ]
  },
  {
   "cell_type": "code",
   "execution_count": 18,
   "metadata": {},
   "outputs": [],
   "source": [
    "to_cols = to.columns.to_list()\n",
    "to_row = to.iloc[0]\n",
    "\n",
    "to_cols = [f'{i} ' for i in to_cols]\n",
    "tom = to_cols+to_row"
   ]
  },
  {
   "cell_type": "code",
   "execution_count": 20,
   "metadata": {},
   "outputs": [],
   "source": [
    "tom[0] = \"연도\""
   ]
  },
  {
   "cell_type": "code",
   "execution_count": 22,
   "metadata": {},
   "outputs": [],
   "source": [
    "to.columns = tom"
   ]
  },
  {
   "cell_type": "code",
   "execution_count": 25,
   "metadata": {},
   "outputs": [],
   "source": [
    "to = to.drop(labels=[0,1],axis=0)"
   ]
  },
  {
   "cell_type": "code",
   "execution_count": 28,
   "metadata": {
    "scrolled": true
   },
   "outputs": [
    {
     "data": {
      "text/html": [
       "<div>\n",
       "<style scoped>\n",
       "    .dataframe tbody tr th:only-of-type {\n",
       "        vertical-align: middle;\n",
       "    }\n",
       "\n",
       "    .dataframe tbody tr th {\n",
       "        vertical-align: top;\n",
       "    }\n",
       "\n",
       "    .dataframe thead th {\n",
       "        text-align: right;\n",
       "    }\n",
       "</style>\n",
       "<table border=\"1\" class=\"dataframe\">\n",
       "  <thead>\n",
       "    <tr style=\"text-align: right;\">\n",
       "      <th></th>\n",
       "      <th>연도</th>\n",
       "      <th>2013 토마토:면적 (ha)</th>\n",
       "      <th>2013 생산량 (톤)</th>\n",
       "      <th>2013 노지토마토:면적 (ha)</th>\n",
       "      <th>2013 10a당 생산량 (kg)</th>\n",
       "      <th>2013 생산량 (톤)</th>\n",
       "      <th>2013 시설토마토:면적 (ha)</th>\n",
       "      <th>2013 10a당 생산량 (kg)</th>\n",
       "      <th>2013 생산량 (톤)</th>\n",
       "      <th>2014 토마토:면적 (ha)</th>\n",
       "      <th>...</th>\n",
       "      <th>2017 10a당 생산량 (kg)</th>\n",
       "      <th>2017 생산량 (톤)</th>\n",
       "      <th>2018 토마토:면적 (ha)</th>\n",
       "      <th>2018 생산량 (톤)</th>\n",
       "      <th>2018 노지토마토:면적 (ha)</th>\n",
       "      <th>2018 10a당 생산량 (kg)</th>\n",
       "      <th>2018 생산량 (톤)</th>\n",
       "      <th>2018 시설토마토:면적 (ha)</th>\n",
       "      <th>2018 10a당 생산량 (kg)</th>\n",
       "      <th>2018 생산량 (톤)</th>\n",
       "    </tr>\n",
       "  </thead>\n",
       "  <tbody>\n",
       "    <tr>\n",
       "      <th>0</th>\n",
       "      <td>서울특별시</td>\n",
       "      <td>2</td>\n",
       "      <td>137</td>\n",
       "      <td>0</td>\n",
       "      <td>0</td>\n",
       "      <td>0</td>\n",
       "      <td>2</td>\n",
       "      <td>6850</td>\n",
       "      <td>137</td>\n",
       "      <td>1</td>\n",
       "      <td>...</td>\n",
       "      <td>1433</td>\n",
       "      <td>34</td>\n",
       "      <td>4</td>\n",
       "      <td>18</td>\n",
       "      <td>0</td>\n",
       "      <td>0</td>\n",
       "      <td>0</td>\n",
       "      <td>4</td>\n",
       "      <td>450</td>\n",
       "      <td>18</td>\n",
       "    </tr>\n",
       "    <tr>\n",
       "      <th>1</th>\n",
       "      <td>부산광역시</td>\n",
       "      <td>355</td>\n",
       "      <td>22056</td>\n",
       "      <td>0</td>\n",
       "      <td>0</td>\n",
       "      <td>0</td>\n",
       "      <td>355</td>\n",
       "      <td>6213</td>\n",
       "      <td>22056</td>\n",
       "      <td>423</td>\n",
       "      <td>...</td>\n",
       "      <td>6081</td>\n",
       "      <td>19196</td>\n",
       "      <td>363</td>\n",
       "      <td>25248</td>\n",
       "      <td>0</td>\n",
       "      <td>0</td>\n",
       "      <td>0</td>\n",
       "      <td>363</td>\n",
       "      <td>6952</td>\n",
       "      <td>25248</td>\n",
       "    </tr>\n",
       "    <tr>\n",
       "      <th>2</th>\n",
       "      <td>대구광역시</td>\n",
       "      <td>98</td>\n",
       "      <td>7933</td>\n",
       "      <td>0</td>\n",
       "      <td>0</td>\n",
       "      <td>0</td>\n",
       "      <td>98</td>\n",
       "      <td>8095</td>\n",
       "      <td>7933</td>\n",
       "      <td>71</td>\n",
       "      <td>...</td>\n",
       "      <td>5174</td>\n",
       "      <td>10201</td>\n",
       "      <td>167</td>\n",
       "      <td>11372</td>\n",
       "      <td>0</td>\n",
       "      <td>0</td>\n",
       "      <td>0</td>\n",
       "      <td>167</td>\n",
       "      <td>6800</td>\n",
       "      <td>11372</td>\n",
       "    </tr>\n",
       "    <tr>\n",
       "      <th>3</th>\n",
       "      <td>인천광역시</td>\n",
       "      <td>111</td>\n",
       "      <td>5130</td>\n",
       "      <td>0</td>\n",
       "      <td>0</td>\n",
       "      <td>0</td>\n",
       "      <td>111</td>\n",
       "      <td>4622</td>\n",
       "      <td>5130</td>\n",
       "      <td>120</td>\n",
       "      <td>...</td>\n",
       "      <td>7023</td>\n",
       "      <td>3887</td>\n",
       "      <td>54</td>\n",
       "      <td>3491</td>\n",
       "      <td>0</td>\n",
       "      <td>0</td>\n",
       "      <td>0</td>\n",
       "      <td>54</td>\n",
       "      <td>6515</td>\n",
       "      <td>3491</td>\n",
       "    </tr>\n",
       "    <tr>\n",
       "      <th>4</th>\n",
       "      <td>광주광역시</td>\n",
       "      <td>260</td>\n",
       "      <td>5613</td>\n",
       "      <td>0</td>\n",
       "      <td>0</td>\n",
       "      <td>0</td>\n",
       "      <td>260</td>\n",
       "      <td>2159</td>\n",
       "      <td>5613</td>\n",
       "      <td>216</td>\n",
       "      <td>...</td>\n",
       "      <td>7679</td>\n",
       "      <td>9751</td>\n",
       "      <td>123</td>\n",
       "      <td>11753</td>\n",
       "      <td>0</td>\n",
       "      <td>0</td>\n",
       "      <td>0</td>\n",
       "      <td>123</td>\n",
       "      <td>9538</td>\n",
       "      <td>11753</td>\n",
       "    </tr>\n",
       "    <tr>\n",
       "      <th>5</th>\n",
       "      <td>대전광역시</td>\n",
       "      <td>65</td>\n",
       "      <td>3260</td>\n",
       "      <td>0</td>\n",
       "      <td>0</td>\n",
       "      <td>0</td>\n",
       "      <td>65</td>\n",
       "      <td>5016</td>\n",
       "      <td>3260</td>\n",
       "      <td>34</td>\n",
       "      <td>...</td>\n",
       "      <td>4770</td>\n",
       "      <td>1304</td>\n",
       "      <td>21</td>\n",
       "      <td>880</td>\n",
       "      <td>0</td>\n",
       "      <td>0</td>\n",
       "      <td>0</td>\n",
       "      <td>21</td>\n",
       "      <td>4207</td>\n",
       "      <td>880</td>\n",
       "    </tr>\n",
       "    <tr>\n",
       "      <th>6</th>\n",
       "      <td>울산광역시</td>\n",
       "      <td>29</td>\n",
       "      <td>1601</td>\n",
       "      <td>0</td>\n",
       "      <td>0</td>\n",
       "      <td>0</td>\n",
       "      <td>29</td>\n",
       "      <td>5520</td>\n",
       "      <td>1601</td>\n",
       "      <td>39</td>\n",
       "      <td>...</td>\n",
       "      <td>5623</td>\n",
       "      <td>622</td>\n",
       "      <td>2</td>\n",
       "      <td>117</td>\n",
       "      <td>0</td>\n",
       "      <td>0</td>\n",
       "      <td>0</td>\n",
       "      <td>2</td>\n",
       "      <td>5150</td>\n",
       "      <td>117</td>\n",
       "    </tr>\n",
       "    <tr>\n",
       "      <th>7</th>\n",
       "      <td>세종특별자치시</td>\n",
       "      <td>-</td>\n",
       "      <td>-</td>\n",
       "      <td>-</td>\n",
       "      <td>-</td>\n",
       "      <td>-</td>\n",
       "      <td>-</td>\n",
       "      <td>-</td>\n",
       "      <td>-</td>\n",
       "      <td>-</td>\n",
       "      <td>...</td>\n",
       "      <td>4474</td>\n",
       "      <td>942</td>\n",
       "      <td>12</td>\n",
       "      <td>636</td>\n",
       "      <td>0</td>\n",
       "      <td>0</td>\n",
       "      <td>0</td>\n",
       "      <td>12</td>\n",
       "      <td>5221</td>\n",
       "      <td>636</td>\n",
       "    </tr>\n",
       "    <tr>\n",
       "      <th>8</th>\n",
       "      <td>경기도</td>\n",
       "      <td>548</td>\n",
       "      <td>36201</td>\n",
       "      <td>0</td>\n",
       "      <td>0</td>\n",
       "      <td>0</td>\n",
       "      <td>548</td>\n",
       "      <td>6606</td>\n",
       "      <td>36201</td>\n",
       "      <td>759</td>\n",
       "      <td>...</td>\n",
       "      <td>4303</td>\n",
       "      <td>16657</td>\n",
       "      <td>362</td>\n",
       "      <td>12348</td>\n",
       "      <td>0</td>\n",
       "      <td>0</td>\n",
       "      <td>0</td>\n",
       "      <td>362</td>\n",
       "      <td>3409</td>\n",
       "      <td>12348</td>\n",
       "    </tr>\n",
       "    <tr>\n",
       "      <th>9</th>\n",
       "      <td>강원도</td>\n",
       "      <td>669</td>\n",
       "      <td>41779</td>\n",
       "      <td>0</td>\n",
       "      <td>0</td>\n",
       "      <td>0</td>\n",
       "      <td>669</td>\n",
       "      <td>6245</td>\n",
       "      <td>41779</td>\n",
       "      <td>860</td>\n",
       "      <td>...</td>\n",
       "      <td>5259</td>\n",
       "      <td>44808</td>\n",
       "      <td>1061</td>\n",
       "      <td>62535</td>\n",
       "      <td>0</td>\n",
       "      <td>0</td>\n",
       "      <td>0</td>\n",
       "      <td>1061</td>\n",
       "      <td>5895</td>\n",
       "      <td>62535</td>\n",
       "    </tr>\n",
       "    <tr>\n",
       "      <th>10</th>\n",
       "      <td>충청북도</td>\n",
       "      <td>168</td>\n",
       "      <td>7153</td>\n",
       "      <td>0</td>\n",
       "      <td>0</td>\n",
       "      <td>0</td>\n",
       "      <td>168</td>\n",
       "      <td>4258</td>\n",
       "      <td>7153</td>\n",
       "      <td>247</td>\n",
       "      <td>...</td>\n",
       "      <td>6753</td>\n",
       "      <td>20844</td>\n",
       "      <td>406</td>\n",
       "      <td>24895</td>\n",
       "      <td>0</td>\n",
       "      <td>0</td>\n",
       "      <td>0</td>\n",
       "      <td>406</td>\n",
       "      <td>6131</td>\n",
       "      <td>24895</td>\n",
       "    </tr>\n",
       "    <tr>\n",
       "      <th>11</th>\n",
       "      <td>충청남도</td>\n",
       "      <td>1191</td>\n",
       "      <td>61122</td>\n",
       "      <td>0</td>\n",
       "      <td>0</td>\n",
       "      <td>0</td>\n",
       "      <td>1191</td>\n",
       "      <td>5132</td>\n",
       "      <td>61122</td>\n",
       "      <td>1553</td>\n",
       "      <td>...</td>\n",
       "      <td>6394</td>\n",
       "      <td>55567</td>\n",
       "      <td>750</td>\n",
       "      <td>44604</td>\n",
       "      <td>0</td>\n",
       "      <td>0</td>\n",
       "      <td>0</td>\n",
       "      <td>750</td>\n",
       "      <td>5951</td>\n",
       "      <td>44604</td>\n",
       "    </tr>\n",
       "    <tr>\n",
       "      <th>12</th>\n",
       "      <td>전라북도</td>\n",
       "      <td>219</td>\n",
       "      <td>14607</td>\n",
       "      <td>0</td>\n",
       "      <td>0</td>\n",
       "      <td>0</td>\n",
       "      <td>219</td>\n",
       "      <td>6670</td>\n",
       "      <td>14607</td>\n",
       "      <td>471</td>\n",
       "      <td>...</td>\n",
       "      <td>5930</td>\n",
       "      <td>21291</td>\n",
       "      <td>457</td>\n",
       "      <td>42664</td>\n",
       "      <td>0</td>\n",
       "      <td>0</td>\n",
       "      <td>0</td>\n",
       "      <td>457</td>\n",
       "      <td>9339</td>\n",
       "      <td>42664</td>\n",
       "    </tr>\n",
       "    <tr>\n",
       "      <th>13</th>\n",
       "      <td>전라남도</td>\n",
       "      <td>1054</td>\n",
       "      <td>92309</td>\n",
       "      <td>0</td>\n",
       "      <td>0</td>\n",
       "      <td>0</td>\n",
       "      <td>1054</td>\n",
       "      <td>8758</td>\n",
       "      <td>92309</td>\n",
       "      <td>1037</td>\n",
       "      <td>...</td>\n",
       "      <td>6498</td>\n",
       "      <td>61396</td>\n",
       "      <td>964</td>\n",
       "      <td>52035</td>\n",
       "      <td>0</td>\n",
       "      <td>0</td>\n",
       "      <td>0</td>\n",
       "      <td>964</td>\n",
       "      <td>5398</td>\n",
       "      <td>52035</td>\n",
       "    </tr>\n",
       "    <tr>\n",
       "      <th>14</th>\n",
       "      <td>경상북도</td>\n",
       "      <td>609</td>\n",
       "      <td>40846</td>\n",
       "      <td>0</td>\n",
       "      <td>0</td>\n",
       "      <td>0</td>\n",
       "      <td>609</td>\n",
       "      <td>6707</td>\n",
       "      <td>40846</td>\n",
       "      <td>606</td>\n",
       "      <td>...</td>\n",
       "      <td>6038</td>\n",
       "      <td>35815</td>\n",
       "      <td>485</td>\n",
       "      <td>35919</td>\n",
       "      <td>0</td>\n",
       "      <td>0</td>\n",
       "      <td>0</td>\n",
       "      <td>485</td>\n",
       "      <td>7406</td>\n",
       "      <td>35919</td>\n",
       "    </tr>\n",
       "    <tr>\n",
       "      <th>15</th>\n",
       "      <td>경상남도</td>\n",
       "      <td>646</td>\n",
       "      <td>46712</td>\n",
       "      <td>0</td>\n",
       "      <td>0</td>\n",
       "      <td>0</td>\n",
       "      <td>646</td>\n",
       "      <td>7231</td>\n",
       "      <td>46712</td>\n",
       "      <td>589</td>\n",
       "      <td>...</td>\n",
       "      <td>7613</td>\n",
       "      <td>47549</td>\n",
       "      <td>757</td>\n",
       "      <td>56078</td>\n",
       "      <td>0</td>\n",
       "      <td>0</td>\n",
       "      <td>0</td>\n",
       "      <td>757</td>\n",
       "      <td>7410</td>\n",
       "      <td>56078</td>\n",
       "    </tr>\n",
       "    <tr>\n",
       "      <th>16</th>\n",
       "      <td>제주도</td>\n",
       "      <td>30</td>\n",
       "      <td>2165</td>\n",
       "      <td>0</td>\n",
       "      <td>0</td>\n",
       "      <td>0</td>\n",
       "      <td>30</td>\n",
       "      <td>7217</td>\n",
       "      <td>2165</td>\n",
       "      <td>44</td>\n",
       "      <td>...</td>\n",
       "      <td>6088</td>\n",
       "      <td>5243</td>\n",
       "      <td>71</td>\n",
       "      <td>4064</td>\n",
       "      <td>0</td>\n",
       "      <td>0</td>\n",
       "      <td>0</td>\n",
       "      <td>71</td>\n",
       "      <td>5745</td>\n",
       "      <td>4064</td>\n",
       "    </tr>\n",
       "  </tbody>\n",
       "</table>\n",
       "<p>17 rows × 49 columns</p>\n",
       "</div>"
      ],
      "text/plain": [
       "0        연도 2013 토마토:면적 (ha) 2013 생산량 (톤) 2013 노지토마토:면적 (ha)  \\\n",
       "0     서울특별시                2          137                  0   \n",
       "1     부산광역시              355        22056                  0   \n",
       "2     대구광역시               98         7933                  0   \n",
       "3     인천광역시              111         5130                  0   \n",
       "4     광주광역시              260         5613                  0   \n",
       "5     대전광역시               65         3260                  0   \n",
       "6     울산광역시               29         1601                  0   \n",
       "7   세종특별자치시                -            -                  -   \n",
       "8       경기도              548        36201                  0   \n",
       "9       강원도              669        41779                  0   \n",
       "10     충청북도              168         7153                  0   \n",
       "11     충청남도             1191        61122                  0   \n",
       "12     전라북도              219        14607                  0   \n",
       "13     전라남도             1054        92309                  0   \n",
       "14     경상북도              609        40846                  0   \n",
       "15     경상남도              646        46712                  0   \n",
       "16      제주도               30         2165                  0   \n",
       "\n",
       "0  2013 10a당 생산량 (kg) 2013 생산량 (톤) 2013 시설토마토:면적 (ha) 2013 10a당 생산량 (kg)  \\\n",
       "0                   0            0                  2               6850   \n",
       "1                   0            0                355               6213   \n",
       "2                   0            0                 98               8095   \n",
       "3                   0            0                111               4622   \n",
       "4                   0            0                260               2159   \n",
       "5                   0            0                 65               5016   \n",
       "6                   0            0                 29               5520   \n",
       "7                   -            -                  -                  -   \n",
       "8                   0            0                548               6606   \n",
       "9                   0            0                669               6245   \n",
       "10                  0            0                168               4258   \n",
       "11                  0            0               1191               5132   \n",
       "12                  0            0                219               6670   \n",
       "13                  0            0               1054               8758   \n",
       "14                  0            0                609               6707   \n",
       "15                  0            0                646               7231   \n",
       "16                  0            0                 30               7217   \n",
       "\n",
       "0  2013 생산량 (톤) 2014 토마토:면적 (ha)  ... 2017 10a당 생산량 (kg) 2017 생산량 (톤)  \\\n",
       "0           137                1  ...               1433           34   \n",
       "1         22056              423  ...               6081        19196   \n",
       "2          7933               71  ...               5174        10201   \n",
       "3          5130              120  ...               7023         3887   \n",
       "4          5613              216  ...               7679         9751   \n",
       "5          3260               34  ...               4770         1304   \n",
       "6          1601               39  ...               5623          622   \n",
       "7             -                -  ...               4474          942   \n",
       "8         36201              759  ...               4303        16657   \n",
       "9         41779              860  ...               5259        44808   \n",
       "10         7153              247  ...               6753        20844   \n",
       "11        61122             1553  ...               6394        55567   \n",
       "12        14607              471  ...               5930        21291   \n",
       "13        92309             1037  ...               6498        61396   \n",
       "14        40846              606  ...               6038        35815   \n",
       "15        46712              589  ...               7613        47549   \n",
       "16         2165               44  ...               6088         5243   \n",
       "\n",
       "0  2018 토마토:면적 (ha) 2018 생산량 (톤) 2018 노지토마토:면적 (ha) 2018 10a당 생산량 (kg)  \\\n",
       "0                 4           18                  0                  0   \n",
       "1               363        25248                  0                  0   \n",
       "2               167        11372                  0                  0   \n",
       "3                54         3491                  0                  0   \n",
       "4               123        11753                  0                  0   \n",
       "5                21          880                  0                  0   \n",
       "6                 2          117                  0                  0   \n",
       "7                12          636                  0                  0   \n",
       "8               362        12348                  0                  0   \n",
       "9              1061        62535                  0                  0   \n",
       "10              406        24895                  0                  0   \n",
       "11              750        44604                  0                  0   \n",
       "12              457        42664                  0                  0   \n",
       "13              964        52035                  0                  0   \n",
       "14              485        35919                  0                  0   \n",
       "15              757        56078                  0                  0   \n",
       "16               71         4064                  0                  0   \n",
       "\n",
       "0  2018 생산량 (톤) 2018 시설토마토:면적 (ha) 2018 10a당 생산량 (kg) 2018 생산량 (톤)  \n",
       "0             0                  4                450           18  \n",
       "1             0                363               6952        25248  \n",
       "2             0                167               6800        11372  \n",
       "3             0                 54               6515         3491  \n",
       "4             0                123               9538        11753  \n",
       "5             0                 21               4207          880  \n",
       "6             0                  2               5150          117  \n",
       "7             0                 12               5221          636  \n",
       "8             0                362               3409        12348  \n",
       "9             0               1061               5895        62535  \n",
       "10            0                406               6131        24895  \n",
       "11            0                750               5951        44604  \n",
       "12            0                457               9339        42664  \n",
       "13            0                964               5398        52035  \n",
       "14            0                485               7406        35919  \n",
       "15            0                757               7410        56078  \n",
       "16            0                 71               5745         4064  \n",
       "\n",
       "[17 rows x 49 columns]"
      ]
     },
     "execution_count": 28,
     "metadata": {},
     "output_type": "execute_result"
    }
   ],
   "source": [
    "to.reset_index(drop=True)"
   ]
  },
  {
   "cell_type": "code",
   "execution_count": 45,
   "metadata": {},
   "outputs": [
    {
     "data": {
      "text/html": [
       "<div>\n",
       "<style scoped>\n",
       "    .dataframe tbody tr th:only-of-type {\n",
       "        vertical-align: middle;\n",
       "    }\n",
       "\n",
       "    .dataframe tbody tr th {\n",
       "        vertical-align: top;\n",
       "    }\n",
       "\n",
       "    .dataframe thead th {\n",
       "        text-align: right;\n",
       "    }\n",
       "</style>\n",
       "<table border=\"1\" class=\"dataframe\">\n",
       "  <thead>\n",
       "    <tr style=\"text-align: right;\">\n",
       "      <th></th>\n",
       "      <th>연도</th>\n",
       "      <th>0</th>\n",
       "      <th>value</th>\n",
       "    </tr>\n",
       "  </thead>\n",
       "  <tbody>\n",
       "    <tr>\n",
       "      <th>0</th>\n",
       "      <td>서울특별시</td>\n",
       "      <td>2013 토마토:면적 (ha)</td>\n",
       "      <td>2</td>\n",
       "    </tr>\n",
       "    <tr>\n",
       "      <th>1</th>\n",
       "      <td>부산광역시</td>\n",
       "      <td>2013 토마토:면적 (ha)</td>\n",
       "      <td>355</td>\n",
       "    </tr>\n",
       "    <tr>\n",
       "      <th>2</th>\n",
       "      <td>대구광역시</td>\n",
       "      <td>2013 토마토:면적 (ha)</td>\n",
       "      <td>98</td>\n",
       "    </tr>\n",
       "    <tr>\n",
       "      <th>3</th>\n",
       "      <td>인천광역시</td>\n",
       "      <td>2013 토마토:면적 (ha)</td>\n",
       "      <td>111</td>\n",
       "    </tr>\n",
       "    <tr>\n",
       "      <th>4</th>\n",
       "      <td>광주광역시</td>\n",
       "      <td>2013 토마토:면적 (ha)</td>\n",
       "      <td>260</td>\n",
       "    </tr>\n",
       "  </tbody>\n",
       "</table>\n",
       "</div>"
      ],
      "text/plain": [
       "      연도                 0 value\n",
       "0  서울특별시  2013 토마토:면적 (ha)     2\n",
       "1  부산광역시  2013 토마토:면적 (ha)   355\n",
       "2  대구광역시  2013 토마토:면적 (ha)    98\n",
       "3  인천광역시  2013 토마토:면적 (ha)   111\n",
       "4  광주광역시  2013 토마토:면적 (ha)   260"
      ]
     },
     "execution_count": 45,
     "metadata": {},
     "output_type": "execute_result"
    }
   ],
   "source": [
    "tos = pd.melt(to, id_vars='연도')\n",
    "tos.head()"
   ]
  },
  {
   "cell_type": "code",
   "execution_count": 37,
   "metadata": {},
   "outputs": [
    {
     "data": {
      "text/plain": [
       "Index(['연도', 0, 'value'], dtype='object')"
      ]
     },
     "execution_count": 37,
     "metadata": {},
     "output_type": "execute_result"
    }
   ],
   "source": [
    "tos.columns"
   ]
  },
  {
   "cell_type": "code",
   "execution_count": 95,
   "metadata": {},
   "outputs": [],
   "source": [
    "toss = tos.groupby([0,'연도'])['value'].sum()"
   ]
  },
  {
   "cell_type": "code",
   "execution_count": 96,
   "metadata": {},
   "outputs": [],
   "source": [
    "toss = pd.DataFrame(toss)"
   ]
  },
  {
   "cell_type": "code",
   "execution_count": 97,
   "metadata": {},
   "outputs": [],
   "source": [
    "toss = toss.reset_index()\n",
    "toss.rename(columns={0:'항목','연도':'시군구'},inplace=True)"
   ]
  },
  {
   "cell_type": "code",
   "execution_count": 98,
   "metadata": {
    "scrolled": true
   },
   "outputs": [],
   "source": [
    "toss['연도']=toss['항목'].str[:4]"
   ]
  },
  {
   "cell_type": "code",
   "execution_count": 99,
   "metadata": {},
   "outputs": [],
   "source": [
    "\n",
    "toss['항목']=toss['항목'].str[4:]"
   ]
  },
  {
   "cell_type": "code",
   "execution_count": 101,
   "metadata": {},
   "outputs": [
    {
     "data": {
      "text/plain": [
       "0       10a당 생산량 (kg)\n",
       "1       10a당 생산량 (kg)\n",
       "2       10a당 생산량 (kg)\n",
       "3       10a당 생산량 (kg)\n",
       "4       10a당 생산량 (kg)\n",
       "            ...      \n",
       "505       토마토:면적 (ha)\n",
       "506       토마토:면적 (ha)\n",
       "507       토마토:면적 (ha)\n",
       "508       토마토:면적 (ha)\n",
       "509       토마토:면적 (ha)\n",
       "Name: 항목, Length: 510, dtype: object"
      ]
     },
     "execution_count": 101,
     "metadata": {},
     "output_type": "execute_result"
    }
   ],
   "source": []
  },
  {
   "cell_type": "markdown",
   "metadata": {},
   "source": [
    "### 3) 종관기상관측 전처리"
   ]
  },
  {
   "cell_type": "code",
   "execution_count": 62,
   "metadata": {},
   "outputs": [
    {
     "name": "stderr",
     "output_type": "stream",
     "text": [
      "/Users/jungdayoung/opt/anaconda3/lib/python3.7/site-packages/IPython/core/interactiveshell.py:3063: DtypeWarning: Columns (60) have mixed types. Specify dtype option on import or set low_memory=False.\n",
      "  interactivity=interactivity, compiler=compiler, result=result)\n"
     ]
    }
   ],
   "source": [
    "# \n",
    "df = pd.read_csv('/Users/jungdayoung/Documents/GitHub/Learning_Spoons_Second_Project/OBS_ASOS_DD_20200304204217.csv', encoding='euc-kr')\n"
   ]
  },
  {
   "cell_type": "code",
   "execution_count": null,
   "metadata": {},
   "outputs": [],
   "source": [
    "df.head(2)"
   ]
  },
  {
   "cell_type": "code",
   "execution_count": null,
   "metadata": {},
   "outputs": [],
   "source": [
    "df.columns"
   ]
  },
  {
   "cell_type": "code",
   "execution_count": null,
   "metadata": {},
   "outputs": [],
   "source": [
    "df_s = df[['지점명', '일시', '평균기온(°C)', '일강수량(mm)', '합계 일조시간(hr)', '평균 전운량(1/10)']]\n",
    "df_s.head()"
   ]
  },
  {
   "cell_type": "code",
   "execution_count": null,
   "metadata": {},
   "outputs": [],
   "source": [
    "df_s.info()"
   ]
  },
  {
   "cell_type": "code",
   "execution_count": null,
   "metadata": {},
   "outputs": [],
   "source": []
  },
  {
   "cell_type": "code",
   "execution_count": null,
   "metadata": {},
   "outputs": [],
   "source": []
  },
  {
   "cell_type": "code",
   "execution_count": null,
   "metadata": {},
   "outputs": [],
   "source": []
  },
  {
   "cell_type": "markdown",
   "metadata": {},
   "source": [
    "## 4. 머신러닝 모델 적용"
   ]
  },
  {
   "cell_type": "markdown",
   "metadata": {},
   "source": [
    "### 1) 시계열?"
   ]
  },
  {
   "cell_type": "code",
   "execution_count": null,
   "metadata": {},
   "outputs": [],
   "source": []
  },
  {
   "cell_type": "code",
   "execution_count": null,
   "metadata": {},
   "outputs": [],
   "source": []
  },
  {
   "cell_type": "code",
   "execution_count": null,
   "metadata": {},
   "outputs": [],
   "source": []
  },
  {
   "cell_type": "markdown",
   "metadata": {},
   "source": [
    "### 2) 랜덤포레스트"
   ]
  },
  {
   "cell_type": "code",
   "execution_count": null,
   "metadata": {},
   "outputs": [],
   "source": []
  },
  {
   "cell_type": "code",
   "execution_count": null,
   "metadata": {},
   "outputs": [],
   "source": []
  },
  {
   "cell_type": "code",
   "execution_count": null,
   "metadata": {},
   "outputs": [],
   "source": []
  },
  {
   "cell_type": "code",
   "execution_count": null,
   "metadata": {},
   "outputs": [],
   "source": []
  }
 ],
 "metadata": {
  "kernelspec": {
   "display_name": "Python 3",
   "language": "python",
   "name": "python3"
  },
  "language_info": {
   "codemirror_mode": {
    "name": "ipython",
    "version": 3
   },
   "file_extension": ".py",
   "mimetype": "text/x-python",
   "name": "python",
   "nbconvert_exporter": "python",
   "pygments_lexer": "ipython3",
   "version": "3.7.6"
  }
 },
 "nbformat": 4,
 "nbformat_minor": 4
}
