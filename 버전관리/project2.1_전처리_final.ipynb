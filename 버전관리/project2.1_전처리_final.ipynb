{
 "cells": [
  {
   "cell_type": "markdown",
   "metadata": {},
   "source": [
    "# 일조량에 따른 토마토 생산량과 가격 예측"
   ]
  },
  {
   "cell_type": "markdown",
   "metadata": {},
   "source": [
    "- 토마토마(김준회, 연제호, 정다영, 추영은)\n",
    "- 발표일 : 2020년 3월 19일"
   ]
  },
  {
   "cell_type": "markdown",
   "metadata": {},
   "source": [
    "# 1. 서론"
   ]
  },
  {
   "cell_type": "markdown",
   "metadata": {},
   "source": [
    "### 1) 분석 배경"
   ]
  },
  {
   "cell_type": "markdown",
   "metadata": {},
   "source": [
    "최근 몇년간 미세먼지에 대한 관심이 높아졌다. 미세먼지는 황사처럼 하늘을 부옇게 만들고 먼거리까지 이동한다는 점에서 매우 비슷하나 주로 봄에 영향을 주는 황사와 달리 일년 내내 영향을 주며 발생 과정과 특성 역시 많은 차이가 있다. 미세먼지는 가정의 난방과 취사, 자동차 운행, 공장에서의 화석연료의 사용, 산불 및 화전 경작 등으로 발생한 인위적인 입자로 크기는 황사보다 훨씬 작은 2㎛(마이크로미터) 이하이다. 지름 10㎛ 이하의 먼지는 체내에 흡수되어 다양한 질병의 원인이 된다는 내용이 널리 알려져 마스크가 생활화되었다. \n",
    "\n",
    "미세먼지는 인체 뿐만 아니라 농가에도 피해를 주고 있다. 비닐하우스에서 재배하는 식물의 경우 농가에서 비닐하우스 위에 내려앉은 미세먼지를 자주 걷어내기 어렵고 유리온실도 마찬가지로 미세먼지으로 인한 투광량이 떨어져 작물의 상품성과 생산성이 떨어진다는 것이다. 특히, 토마토의 경우 노지보다는 하우스 시설에서 재배하고 있고 저장성이 약한데다가 국내 생산 의존도가 높아 어느 농산물 보다 가격 변동이 크다고 한다."
   ]
  },
  {
   "cell_type": "markdown",
   "metadata": {},
   "source": [
    "### 2) 분석 목적"
   ]
  },
  {
   "cell_type": "markdown",
   "metadata": {},
   "source": [
    "미세먼지에 따른 일조량의 변화와 토마토 생산량 및 가격을 예측하고자 한다."
   ]
  },
  {
   "cell_type": "markdown",
   "metadata": {},
   "source": [
    "## 2. 데이터 준비"
   ]
  },
  {
   "cell_type": "markdown",
   "metadata": {},
   "source": [
    "### 1) 활용 데이터\n",
    "\n",
    " 데이터 | 사용 변수 | 시점 | 출처 | 파일 형식\n",
    ":---:|:-------:|:---:|:---:|:--------:\n",
    "토마토 일별 품목별 도.소매가격정보 | 품목명, 품종명,\t시군구,\t마켓명,\t연도,\t날짜,\t가격 | 일 | [농산물유통정보](https://kdx.kr/kamis/periodProductList) | csv\n",
    "농작물생산조사:채소생산량(과채류) | 품종명, 시군구, 마켓명, 연도, 날짜, 가격 | 연 | [통계청](http://kosis.kr/statHtml/statHtml.do?orgId=101&tblId=DT_1ET0027&vw_cd=MT_ZTITLE&list_id=F1H&seqNo=&lang_mode=ko&language=kor&obj_var_id=&itm_id=&conn_path=MT_ZTITLE) | csv\n",
    "대기오염 최종확정자료  | 지역, 측정소코드, 측정소명, 측정일시, SO2, CO, O3, NO2, PM10 | 시간 | [AirKorea](https://www.airkorea.or.kr/web/last_amb_hour_data?pMENU_NO=123) | xlsx\n",
    "종관기상관측(ASOS) | 지점명,\t일시,\t합계 일조시간 | 일 | [기상청 기상자료개방포털](https://data.kma.go.kr/data/grnd/selectAsosRltmList.do?pgmNo=36) | csv"
   ]
  },
  {
   "cell_type": "markdown",
   "metadata": {},
   "source": [
    "#### 종관기상관측(ASOS) 변수 설명\n",
    "\n",
    " - 합계 일조시간 : 태양 광선이 구름이나 안개로 가려지지 않고 땅 위를 비친 시간"
   ]
  },
  {
   "cell_type": "markdown",
   "metadata": {},
   "source": [
    "#### 대기오염 최종확정자료\n",
    "\n",
    " - SO2 : 아황산가스\n",
    " - CO : 이산화탄소\n",
    " - O3 : 오존\n",
    " - NO2 : 이산화질소\n",
    " - PM10 : 미세먼지"
   ]
  },
  {
   "cell_type": "markdown",
   "metadata": {},
   "source": [
    "## 3. 데이터 가공"
   ]
  },
  {
   "cell_type": "markdown",
   "metadata": {},
   "source": [
    "#### 필요한 라이브러리 불러오기"
   ]
  },
  {
   "cell_type": "code",
   "execution_count": 1,
   "metadata": {},
   "outputs": [],
   "source": [
    "import pandas as pd # 데이터 프레임\n",
    "import numpy as np # 계산\n",
    "import re # 정규표현식\n",
    "\n",
    "import warnings\n",
    "warnings.filterwarnings('ignore') # warning 메시지 제거\n",
    "\n",
    "import seaborn as sns # 시각화\n",
    "import graphviz # 시각화"
   ]
  },
  {
   "cell_type": "markdown",
   "metadata": {},
   "source": [
    "#### 시각화를 위한 한글 폰트 설정하기"
   ]
  },
  {
   "cell_type": "code",
   "execution_count": 2,
   "metadata": {},
   "outputs": [],
   "source": [
    "import matplotlib.pyplot as plt\n",
    "\n",
    "# 한글 폰트 지정\n",
    "plt.rc('font', family='AppleGothic') # 맥\n",
    "# plt.rc('font', family='Malgun Gothic') # 윈도우\n",
    "\n",
    "# 마이너스 값 깨지는 현상 해결\n",
    "plt.rc('axes', unicode_minus=False)\n",
    "\n",
    "# 레티나 디스플레이 설정\n",
    "from IPython.display import set_matplotlib_formats\n",
    "\n",
    "set_matplotlib_formats('retina')"
   ]
  },
  {
   "cell_type": "markdown",
   "metadata": {},
   "source": [
    "#### 작업 경로 지정"
   ]
  },
  {
   "cell_type": "code",
   "execution_count": 3,
   "metadata": {},
   "outputs": [],
   "source": [
    "import os # wd 변경\n",
    "\n",
    "# os로 작업 경로 지정\n",
    "os.chdir('/Users/jungdayoung/Documents/GitHub/Learning_Spoons_Second_Project/data')"
   ]
  },
  {
   "cell_type": "markdown",
   "metadata": {},
   "source": [
    "### 1) 토마토 도매 가격 정보 전처리"
   ]
  },
  {
   "cell_type": "code",
   "execution_count": 4,
   "metadata": {},
   "outputs": [
    {
     "data": {
      "text/html": [
       "<div>\n",
       "<style scoped>\n",
       "    .dataframe tbody tr th:only-of-type {\n",
       "        vertical-align: middle;\n",
       "    }\n",
       "\n",
       "    .dataframe tbody tr th {\n",
       "        vertical-align: top;\n",
       "    }\n",
       "\n",
       "    .dataframe thead th {\n",
       "        text-align: right;\n",
       "    }\n",
       "</style>\n",
       "<table border=\"1\" class=\"dataframe\">\n",
       "  <thead>\n",
       "    <tr style=\"text-align: right;\">\n",
       "      <th></th>\n",
       "      <th>품목명</th>\n",
       "      <th>품종명</th>\n",
       "      <th>시군구</th>\n",
       "      <th>마켓명</th>\n",
       "      <th>연도</th>\n",
       "      <th>날짜</th>\n",
       "      <th>가격</th>\n",
       "    </tr>\n",
       "  </thead>\n",
       "  <tbody>\n",
       "    <tr>\n",
       "      <th>0</th>\n",
       "      <td>토마토</td>\n",
       "      <td>토마토(10kg)</td>\n",
       "      <td>서울</td>\n",
       "      <td>가락도매</td>\n",
       "      <td>2013</td>\n",
       "      <td>01/02</td>\n",
       "      <td>29,000</td>\n",
       "    </tr>\n",
       "    <tr>\n",
       "      <th>1</th>\n",
       "      <td>토마토</td>\n",
       "      <td>토마토(10kg)</td>\n",
       "      <td>서울</td>\n",
       "      <td>가락도매</td>\n",
       "      <td>2013</td>\n",
       "      <td>01/03</td>\n",
       "      <td>30,000</td>\n",
       "    </tr>\n",
       "    <tr>\n",
       "      <th>2</th>\n",
       "      <td>토마토</td>\n",
       "      <td>토마토(10kg)</td>\n",
       "      <td>서울</td>\n",
       "      <td>가락도매</td>\n",
       "      <td>2013</td>\n",
       "      <td>01/04</td>\n",
       "      <td>30,000</td>\n",
       "    </tr>\n",
       "    <tr>\n",
       "      <th>3</th>\n",
       "      <td>토마토</td>\n",
       "      <td>토마토(10kg)</td>\n",
       "      <td>서울</td>\n",
       "      <td>가락도매</td>\n",
       "      <td>2013</td>\n",
       "      <td>01/07</td>\n",
       "      <td>30,000</td>\n",
       "    </tr>\n",
       "    <tr>\n",
       "      <th>4</th>\n",
       "      <td>토마토</td>\n",
       "      <td>토마토(10kg)</td>\n",
       "      <td>서울</td>\n",
       "      <td>가락도매</td>\n",
       "      <td>2013</td>\n",
       "      <td>01/08</td>\n",
       "      <td>27,000</td>\n",
       "    </tr>\n",
       "  </tbody>\n",
       "</table>\n",
       "</div>"
      ],
      "text/plain": [
       "   품목명        품종명 시군구   마켓명    연도     날짜      가격\n",
       "0  토마토  토마토(10kg)  서울  가락도매  2013  01/02  29,000\n",
       "1  토마토  토마토(10kg)  서울  가락도매  2013  01/03  30,000\n",
       "2  토마토  토마토(10kg)  서울  가락도매  2013  01/04  30,000\n",
       "3  토마토  토마토(10kg)  서울  가락도매  2013  01/07  30,000\n",
       "4  토마토  토마토(10kg)  서울  가락도매  2013  01/08  27,000"
      ]
     },
     "execution_count": 4,
     "metadata": {},
     "output_type": "execute_result"
    }
   ],
   "source": [
    "# 토마토 일별 도.소매 가격정보 2013-2016년 데이터 불러오기 \n",
    "tom36 = pd.read_csv('20132016토마토_일별 품목별 도.소매가격정보.csv')\n",
    "\n",
    "# 데이터 하단에 있는 평균과 평년 데이터 제외\n",
    "tomp36 = tom36[(tom36['시군구']!='평균') & (tom36['시군구']!='평년')]\n",
    "\n",
    "# 데이터 확인\n",
    "tomp36.head()"
   ]
  },
  {
   "cell_type": "code",
   "execution_count": 5,
   "metadata": {},
   "outputs": [
    {
     "data": {
      "text/html": [
       "<div>\n",
       "<style scoped>\n",
       "    .dataframe tbody tr th:only-of-type {\n",
       "        vertical-align: middle;\n",
       "    }\n",
       "\n",
       "    .dataframe tbody tr th {\n",
       "        vertical-align: top;\n",
       "    }\n",
       "\n",
       "    .dataframe thead th {\n",
       "        text-align: right;\n",
       "    }\n",
       "</style>\n",
       "<table border=\"1\" class=\"dataframe\">\n",
       "  <thead>\n",
       "    <tr style=\"text-align: right;\">\n",
       "      <th></th>\n",
       "      <th>품목명</th>\n",
       "      <th>품종명</th>\n",
       "      <th>시군구</th>\n",
       "      <th>마켓명</th>\n",
       "      <th>연도</th>\n",
       "      <th>날짜</th>\n",
       "      <th>가격</th>\n",
       "    </tr>\n",
       "  </thead>\n",
       "  <tbody>\n",
       "    <tr>\n",
       "      <th>4362</th>\n",
       "      <td>토마토</td>\n",
       "      <td>토마토(10kg)</td>\n",
       "      <td>대전</td>\n",
       "      <td>오정도매</td>\n",
       "      <td>2018</td>\n",
       "      <td>12/24</td>\n",
       "      <td>35,000</td>\n",
       "    </tr>\n",
       "    <tr>\n",
       "      <th>4363</th>\n",
       "      <td>토마토</td>\n",
       "      <td>토마토(10kg)</td>\n",
       "      <td>대전</td>\n",
       "      <td>오정도매</td>\n",
       "      <td>2018</td>\n",
       "      <td>12/26</td>\n",
       "      <td>35,000</td>\n",
       "    </tr>\n",
       "    <tr>\n",
       "      <th>4364</th>\n",
       "      <td>토마토</td>\n",
       "      <td>토마토(10kg)</td>\n",
       "      <td>대전</td>\n",
       "      <td>오정도매</td>\n",
       "      <td>2018</td>\n",
       "      <td>12/27</td>\n",
       "      <td>35,000</td>\n",
       "    </tr>\n",
       "    <tr>\n",
       "      <th>4365</th>\n",
       "      <td>토마토</td>\n",
       "      <td>토마토(10kg)</td>\n",
       "      <td>대전</td>\n",
       "      <td>오정도매</td>\n",
       "      <td>2018</td>\n",
       "      <td>12/28</td>\n",
       "      <td>35,000</td>\n",
       "    </tr>\n",
       "    <tr>\n",
       "      <th>4366</th>\n",
       "      <td>토마토</td>\n",
       "      <td>토마토(10kg)</td>\n",
       "      <td>대전</td>\n",
       "      <td>오정도매</td>\n",
       "      <td>2018</td>\n",
       "      <td>12/31</td>\n",
       "      <td>32,000</td>\n",
       "    </tr>\n",
       "  </tbody>\n",
       "</table>\n",
       "</div>"
      ],
      "text/plain": [
       "      품목명        품종명 시군구   마켓명    연도     날짜      가격\n",
       "4362  토마토  토마토(10kg)  대전  오정도매  2018  12/24  35,000\n",
       "4363  토마토  토마토(10kg)  대전  오정도매  2018  12/26  35,000\n",
       "4364  토마토  토마토(10kg)  대전  오정도매  2018  12/27  35,000\n",
       "4365  토마토  토마토(10kg)  대전  오정도매  2018  12/28  35,000\n",
       "4366  토마토  토마토(10kg)  대전  오정도매  2018  12/31  32,000"
      ]
     },
     "execution_count": 5,
     "metadata": {},
     "output_type": "execute_result"
    }
   ],
   "source": [
    "# 토마토 일별 도.소매 가격정보 2017-2019년 데이터 불러오기 \n",
    "tom79 = pd.read_csv('20172019토마토_일별 품목별 도.소매가격정보.csv')\n",
    "\n",
    "# 13-16년 데이터와 마찬가지로 평균 평년 데이터 제외. 2020년 데이터도 제외.\n",
    "tomp79 = tom79[(tom79['시군구']!='평균') & (tom79['시군구']!='평년') & (tom79['연도']!= 2019) & (tom79['연도']!= 2020)]\n",
    "\n",
    "# 데이터 확인\n",
    "tomp79.tail()"
   ]
  },
  {
   "cell_type": "code",
   "execution_count": 6,
   "metadata": {},
   "outputs": [
    {
     "data": {
      "text/plain": [
       "(7847, 7)"
      ]
     },
     "execution_count": 6,
     "metadata": {},
     "output_type": "execute_result"
    }
   ],
   "source": [
    "# 데이터 합치기\n",
    "tomp = pd.concat([tomp36,tomp79])\n",
    "\n",
    "# 제대로 합쳐졌는지 행 개수 확인\n",
    "tomp.shape"
   ]
  },
  {
   "cell_type": "code",
   "execution_count": 7,
   "metadata": {},
   "outputs": [
    {
     "name": "stdout",
     "output_type": "stream",
     "text": [
      "<class 'pandas.core.frame.DataFrame'>\n",
      "Int64Index: 7847 entries, 0 to 4366\n",
      "Data columns (total 7 columns):\n",
      "품목명    7847 non-null object\n",
      "품종명    7847 non-null object\n",
      "시군구    7847 non-null object\n",
      "마켓명    7847 non-null object\n",
      "연도     7847 non-null int64\n",
      "날짜     7847 non-null object\n",
      "가격     7847 non-null object\n",
      "dtypes: int64(1), object(6)\n",
      "memory usage: 490.4+ KB\n"
     ]
    }
   ],
   "source": [
    "tomp.info()"
   ]
  },
  {
   "cell_type": "code",
   "execution_count": 8,
   "metadata": {},
   "outputs": [
    {
     "data": {
      "text/html": [
       "<div>\n",
       "<style scoped>\n",
       "    .dataframe tbody tr th:only-of-type {\n",
       "        vertical-align: middle;\n",
       "    }\n",
       "\n",
       "    .dataframe tbody tr th {\n",
       "        vertical-align: top;\n",
       "    }\n",
       "\n",
       "    .dataframe thead th {\n",
       "        text-align: right;\n",
       "    }\n",
       "</style>\n",
       "<table border=\"1\" class=\"dataframe\">\n",
       "  <thead>\n",
       "    <tr style=\"text-align: right;\">\n",
       "      <th></th>\n",
       "      <th>품종명</th>\n",
       "      <th>시군구</th>\n",
       "      <th>마켓명</th>\n",
       "      <th>연도</th>\n",
       "      <th>날짜</th>\n",
       "      <th>가격</th>\n",
       "    </tr>\n",
       "  </thead>\n",
       "  <tbody>\n",
       "    <tr>\n",
       "      <th>0</th>\n",
       "      <td>토마토(10kg)</td>\n",
       "      <td>서울</td>\n",
       "      <td>가락도매</td>\n",
       "      <td>2013</td>\n",
       "      <td>01/02</td>\n",
       "      <td>29,000</td>\n",
       "    </tr>\n",
       "    <tr>\n",
       "      <th>1</th>\n",
       "      <td>토마토(10kg)</td>\n",
       "      <td>서울</td>\n",
       "      <td>가락도매</td>\n",
       "      <td>2013</td>\n",
       "      <td>01/03</td>\n",
       "      <td>30,000</td>\n",
       "    </tr>\n",
       "    <tr>\n",
       "      <th>2</th>\n",
       "      <td>토마토(10kg)</td>\n",
       "      <td>서울</td>\n",
       "      <td>가락도매</td>\n",
       "      <td>2013</td>\n",
       "      <td>01/04</td>\n",
       "      <td>30,000</td>\n",
       "    </tr>\n",
       "    <tr>\n",
       "      <th>3</th>\n",
       "      <td>토마토(10kg)</td>\n",
       "      <td>서울</td>\n",
       "      <td>가락도매</td>\n",
       "      <td>2013</td>\n",
       "      <td>01/07</td>\n",
       "      <td>30,000</td>\n",
       "    </tr>\n",
       "    <tr>\n",
       "      <th>4</th>\n",
       "      <td>토마토(10kg)</td>\n",
       "      <td>서울</td>\n",
       "      <td>가락도매</td>\n",
       "      <td>2013</td>\n",
       "      <td>01/08</td>\n",
       "      <td>27,000</td>\n",
       "    </tr>\n",
       "  </tbody>\n",
       "</table>\n",
       "</div>"
      ],
      "text/plain": [
       "         품종명 시군구   마켓명    연도     날짜      가격\n",
       "0  토마토(10kg)  서울  가락도매  2013  01/02  29,000\n",
       "1  토마토(10kg)  서울  가락도매  2013  01/03  30,000\n",
       "2  토마토(10kg)  서울  가락도매  2013  01/04  30,000\n",
       "3  토마토(10kg)  서울  가락도매  2013  01/07  30,000\n",
       "4  토마토(10kg)  서울  가락도매  2013  01/08  27,000"
      ]
     },
     "execution_count": 8,
     "metadata": {},
     "output_type": "execute_result"
    }
   ],
   "source": [
    "# 품목명이 모두 토마토이고, 품종명 또한 토마토(10kg)으로 같은 정보를 담고 있으므로 품목명 컬럼을 삭제\n",
    "tomp = tomp.drop('품목명', axis = 1)\n",
    "\n",
    "# 데이터 확인\n",
    "tomp.head()"
   ]
  },
  {
   "cell_type": "code",
   "execution_count": 9,
   "metadata": {},
   "outputs": [
    {
     "data": {
      "text/html": [
       "<div>\n",
       "<style scoped>\n",
       "    .dataframe tbody tr th:only-of-type {\n",
       "        vertical-align: middle;\n",
       "    }\n",
       "\n",
       "    .dataframe tbody tr th {\n",
       "        vertical-align: top;\n",
       "    }\n",
       "\n",
       "    .dataframe thead th {\n",
       "        text-align: right;\n",
       "    }\n",
       "</style>\n",
       "<table border=\"1\" class=\"dataframe\">\n",
       "  <thead>\n",
       "    <tr style=\"text-align: right;\">\n",
       "      <th></th>\n",
       "      <th>품종명</th>\n",
       "      <th>도</th>\n",
       "      <th>마켓명</th>\n",
       "      <th>연도</th>\n",
       "      <th>날짜</th>\n",
       "      <th>가격</th>\n",
       "    </tr>\n",
       "  </thead>\n",
       "  <tbody>\n",
       "    <tr>\n",
       "      <th>2955</th>\n",
       "      <td>토마토(10kg)</td>\n",
       "      <td>광주</td>\n",
       "      <td>각화도매</td>\n",
       "      <td>2013</td>\n",
       "      <td>01/02</td>\n",
       "      <td>28,000</td>\n",
       "    </tr>\n",
       "    <tr>\n",
       "      <th>2956</th>\n",
       "      <td>토마토(10kg)</td>\n",
       "      <td>광주</td>\n",
       "      <td>각화도매</td>\n",
       "      <td>2013</td>\n",
       "      <td>01/03</td>\n",
       "      <td>28,000</td>\n",
       "    </tr>\n",
       "    <tr>\n",
       "      <th>2957</th>\n",
       "      <td>토마토(10kg)</td>\n",
       "      <td>광주</td>\n",
       "      <td>각화도매</td>\n",
       "      <td>2013</td>\n",
       "      <td>01/04</td>\n",
       "      <td>28,000</td>\n",
       "    </tr>\n",
       "    <tr>\n",
       "      <th>2958</th>\n",
       "      <td>토마토(10kg)</td>\n",
       "      <td>광주</td>\n",
       "      <td>각화도매</td>\n",
       "      <td>2013</td>\n",
       "      <td>01/07</td>\n",
       "      <td>28,000</td>\n",
       "    </tr>\n",
       "    <tr>\n",
       "      <th>2959</th>\n",
       "      <td>토마토(10kg)</td>\n",
       "      <td>광주</td>\n",
       "      <td>각화도매</td>\n",
       "      <td>2013</td>\n",
       "      <td>01/08</td>\n",
       "      <td>28,000</td>\n",
       "    </tr>\n",
       "  </tbody>\n",
       "</table>\n",
       "</div>"
      ],
      "text/plain": [
       "            품종명   도   마켓명    연도     날짜      가격\n",
       "2955  토마토(10kg)  광주  각화도매  2013  01/02  28,000\n",
       "2956  토마토(10kg)  광주  각화도매  2013  01/03  28,000\n",
       "2957  토마토(10kg)  광주  각화도매  2013  01/04  28,000\n",
       "2958  토마토(10kg)  광주  각화도매  2013  01/07  28,000\n",
       "2959  토마토(10kg)  광주  각화도매  2013  01/08  28,000"
      ]
     },
     "execution_count": 9,
     "metadata": {},
     "output_type": "execute_result"
    }
   ],
   "source": [
    "# 시군구, 마켓명, 연도, 날짜 오름차순으로 정렬\n",
    "tomp = tomp.sort_values(by = ['시군구','마켓명', '연도', '날짜'])\n",
    "\n",
    "# '시군구' 컬럼명을 '도'로 변경\n",
    "tomp.rename(columns={'시군구':'도'},inplace=True)\n",
    "\n",
    "# 데이터 확인\n",
    "tomp.head()"
   ]
  },
  {
   "cell_type": "code",
   "execution_count": 10,
   "metadata": {},
   "outputs": [
    {
     "data": {
      "text/html": [
       "<div>\n",
       "<style scoped>\n",
       "    .dataframe tbody tr th:only-of-type {\n",
       "        vertical-align: middle;\n",
       "    }\n",
       "\n",
       "    .dataframe tbody tr th {\n",
       "        vertical-align: top;\n",
       "    }\n",
       "\n",
       "    .dataframe thead th {\n",
       "        text-align: right;\n",
       "    }\n",
       "</style>\n",
       "<table border=\"1\" class=\"dataframe\">\n",
       "  <thead>\n",
       "    <tr style=\"text-align: right;\">\n",
       "      <th></th>\n",
       "      <th>품종명</th>\n",
       "      <th>도</th>\n",
       "      <th>마켓명</th>\n",
       "      <th>연도</th>\n",
       "      <th>날짜</th>\n",
       "      <th>가격</th>\n",
       "      <th>월</th>\n",
       "      <th>일</th>\n",
       "    </tr>\n",
       "  </thead>\n",
       "  <tbody>\n",
       "    <tr>\n",
       "      <th>2955</th>\n",
       "      <td>토마토(10kg)</td>\n",
       "      <td>광주</td>\n",
       "      <td>각화도매</td>\n",
       "      <td>2013</td>\n",
       "      <td>01/02</td>\n",
       "      <td>28,000</td>\n",
       "      <td>01</td>\n",
       "      <td>02</td>\n",
       "    </tr>\n",
       "    <tr>\n",
       "      <th>2956</th>\n",
       "      <td>토마토(10kg)</td>\n",
       "      <td>광주</td>\n",
       "      <td>각화도매</td>\n",
       "      <td>2013</td>\n",
       "      <td>01/03</td>\n",
       "      <td>28,000</td>\n",
       "      <td>01</td>\n",
       "      <td>03</td>\n",
       "    </tr>\n",
       "    <tr>\n",
       "      <th>2957</th>\n",
       "      <td>토마토(10kg)</td>\n",
       "      <td>광주</td>\n",
       "      <td>각화도매</td>\n",
       "      <td>2013</td>\n",
       "      <td>01/04</td>\n",
       "      <td>28,000</td>\n",
       "      <td>01</td>\n",
       "      <td>04</td>\n",
       "    </tr>\n",
       "    <tr>\n",
       "      <th>2958</th>\n",
       "      <td>토마토(10kg)</td>\n",
       "      <td>광주</td>\n",
       "      <td>각화도매</td>\n",
       "      <td>2013</td>\n",
       "      <td>01/07</td>\n",
       "      <td>28,000</td>\n",
       "      <td>01</td>\n",
       "      <td>07</td>\n",
       "    </tr>\n",
       "    <tr>\n",
       "      <th>2959</th>\n",
       "      <td>토마토(10kg)</td>\n",
       "      <td>광주</td>\n",
       "      <td>각화도매</td>\n",
       "      <td>2013</td>\n",
       "      <td>01/08</td>\n",
       "      <td>28,000</td>\n",
       "      <td>01</td>\n",
       "      <td>08</td>\n",
       "    </tr>\n",
       "  </tbody>\n",
       "</table>\n",
       "</div>"
      ],
      "text/plain": [
       "            품종명   도   마켓명    연도     날짜      가격   월   일\n",
       "2955  토마토(10kg)  광주  각화도매  2013  01/02  28,000  01  02\n",
       "2956  토마토(10kg)  광주  각화도매  2013  01/03  28,000  01  03\n",
       "2957  토마토(10kg)  광주  각화도매  2013  01/04  28,000  01  04\n",
       "2958  토마토(10kg)  광주  각화도매  2013  01/07  28,000  01  07\n",
       "2959  토마토(10kg)  광주  각화도매  2013  01/08  28,000  01  08"
      ]
     },
     "execution_count": 10,
     "metadata": {},
     "output_type": "execute_result"
    }
   ],
   "source": [
    "# merge함수를 사용하기 위해 일시를 연도와 날짜 컬럼으로 나누기\n",
    "tomp['월'] = tomp['날짜'].str.split('/').str.get(0)\n",
    "tomp['일'] = tomp['날짜'].str.split('/').str.get(1) \n",
    "\n",
    "# 데이터 확인\n",
    "tomp.head()"
   ]
  },
  {
   "cell_type": "code",
   "execution_count": 11,
   "metadata": {},
   "outputs": [
    {
     "name": "stdout",
     "output_type": "stream",
     "text": [
      "<class 'pandas.core.frame.DataFrame'>\n",
      "Int64Index: 7847 entries, 2955 to 486\n",
      "Data columns (total 8 columns):\n",
      "품종명    7847 non-null object\n",
      "도      7847 non-null object\n",
      "마켓명    7847 non-null object\n",
      "연도     7847 non-null int64\n",
      "날짜     7847 non-null object\n",
      "가격     7847 non-null int64\n",
      "월      7847 non-null object\n",
      "일      7847 non-null object\n",
      "dtypes: int64(2), object(6)\n",
      "memory usage: 551.7+ KB\n"
     ]
    }
   ],
   "source": [
    "# -을 0으로 변경\n",
    "tomp['가격'] = tomp['가격'].str.replace('-','0')\n",
    "\n",
    "# 결측값을 0으로 채우기\n",
    "tomp['가격'] = tomp['가격'].fillna('0')\n",
    "\n",
    "# 가격 컬럼의 ,를 제거하고 숫자 타입으로 변환\n",
    "tomp['가격'] = tomp['가격'].str.replace(',','').astype('int')\n",
    "\n",
    "# 변경된 컬럼 타입 확인\n",
    "tomp.info()"
   ]
  },
  {
   "cell_type": "code",
   "execution_count": 12,
   "metadata": {},
   "outputs": [],
   "source": [
    "# 도시명을 정식 명칭으로 변경하기 위해 변수 dic에 저장\n",
    "dic = {'광주':'광주광역시', '대구':'대구광역시', '대전': '대전광역시', '서울':'서울특별시', '부산':'부산광역시'}"
   ]
  },
  {
   "cell_type": "code",
   "execution_count": 13,
   "metadata": {},
   "outputs": [
    {
     "data": {
      "text/html": [
       "<div>\n",
       "<style scoped>\n",
       "    .dataframe tbody tr th:only-of-type {\n",
       "        vertical-align: middle;\n",
       "    }\n",
       "\n",
       "    .dataframe tbody tr th {\n",
       "        vertical-align: top;\n",
       "    }\n",
       "\n",
       "    .dataframe thead th {\n",
       "        text-align: right;\n",
       "    }\n",
       "</style>\n",
       "<table border=\"1\" class=\"dataframe\">\n",
       "  <thead>\n",
       "    <tr style=\"text-align: right;\">\n",
       "      <th></th>\n",
       "      <th>품종명</th>\n",
       "      <th>도</th>\n",
       "      <th>마켓명</th>\n",
       "      <th>연도</th>\n",
       "      <th>날짜</th>\n",
       "      <th>가격</th>\n",
       "      <th>월</th>\n",
       "      <th>일</th>\n",
       "    </tr>\n",
       "  </thead>\n",
       "  <tbody>\n",
       "    <tr>\n",
       "      <th>482</th>\n",
       "      <td>토마토(10kg)</td>\n",
       "      <td>서울특별시</td>\n",
       "      <td>가락도매</td>\n",
       "      <td>2018</td>\n",
       "      <td>12/24</td>\n",
       "      <td>30000</td>\n",
       "      <td>12</td>\n",
       "      <td>24</td>\n",
       "    </tr>\n",
       "    <tr>\n",
       "      <th>483</th>\n",
       "      <td>토마토(10kg)</td>\n",
       "      <td>서울특별시</td>\n",
       "      <td>가락도매</td>\n",
       "      <td>2018</td>\n",
       "      <td>12/26</td>\n",
       "      <td>28000</td>\n",
       "      <td>12</td>\n",
       "      <td>26</td>\n",
       "    </tr>\n",
       "    <tr>\n",
       "      <th>484</th>\n",
       "      <td>토마토(10kg)</td>\n",
       "      <td>서울특별시</td>\n",
       "      <td>가락도매</td>\n",
       "      <td>2018</td>\n",
       "      <td>12/27</td>\n",
       "      <td>26000</td>\n",
       "      <td>12</td>\n",
       "      <td>27</td>\n",
       "    </tr>\n",
       "    <tr>\n",
       "      <th>485</th>\n",
       "      <td>토마토(10kg)</td>\n",
       "      <td>서울특별시</td>\n",
       "      <td>가락도매</td>\n",
       "      <td>2018</td>\n",
       "      <td>12/28</td>\n",
       "      <td>26000</td>\n",
       "      <td>12</td>\n",
       "      <td>28</td>\n",
       "    </tr>\n",
       "    <tr>\n",
       "      <th>486</th>\n",
       "      <td>토마토(10kg)</td>\n",
       "      <td>서울특별시</td>\n",
       "      <td>가락도매</td>\n",
       "      <td>2018</td>\n",
       "      <td>12/31</td>\n",
       "      <td>25000</td>\n",
       "      <td>12</td>\n",
       "      <td>31</td>\n",
       "    </tr>\n",
       "  </tbody>\n",
       "</table>\n",
       "</div>"
      ],
      "text/plain": [
       "           품종명      도   마켓명    연도     날짜     가격   월   일\n",
       "482  토마토(10kg)  서울특별시  가락도매  2018  12/24  30000  12  24\n",
       "483  토마토(10kg)  서울특별시  가락도매  2018  12/26  28000  12  26\n",
       "484  토마토(10kg)  서울특별시  가락도매  2018  12/27  26000  12  27\n",
       "485  토마토(10kg)  서울특별시  가락도매  2018  12/28  26000  12  28\n",
       "486  토마토(10kg)  서울특별시  가락도매  2018  12/31  25000  12  31"
      ]
     },
     "execution_count": 13,
     "metadata": {},
     "output_type": "execute_result"
    }
   ],
   "source": [
    "# '시군구'컬럼의 값을 dic의 값들로 변경\n",
    "tomp['도'] = tomp['도'].map(dic)\n",
    "\n",
    "# 변경된 '시군구' 컬럼 확인\n",
    "tomp.tail()"
   ]
  },
  {
   "cell_type": "code",
   "execution_count": 14,
   "metadata": {},
   "outputs": [
    {
     "data": {
      "text/plain": [
       "array(['광주광역시', '대구광역시', '대전광역시', '부산광역시', '서울특별시'], dtype=object)"
      ]
     },
     "execution_count": 14,
     "metadata": {},
     "output_type": "execute_result"
    }
   ],
   "source": [
    "tomp['도'].unique()"
   ]
  },
  {
   "cell_type": "code",
   "execution_count": 15,
   "metadata": {},
   "outputs": [],
   "source": [
    "# 가격이 없는 서부도매 삭제\n",
    "tompd = tomp['마켓명'].isin(['서부도매'])\n",
    "tomp = tomp[~tompd]"
   ]
  },
  {
   "cell_type": "code",
   "execution_count": 16,
   "metadata": {},
   "outputs": [
    {
     "data": {
      "text/html": [
       "<div>\n",
       "<style scoped>\n",
       "    .dataframe tbody tr th:only-of-type {\n",
       "        vertical-align: middle;\n",
       "    }\n",
       "\n",
       "    .dataframe tbody tr th {\n",
       "        vertical-align: top;\n",
       "    }\n",
       "\n",
       "    .dataframe thead th {\n",
       "        text-align: right;\n",
       "    }\n",
       "</style>\n",
       "<table border=\"1\" class=\"dataframe\">\n",
       "  <thead>\n",
       "    <tr style=\"text-align: right;\">\n",
       "      <th></th>\n",
       "      <th>품종명</th>\n",
       "      <th>도</th>\n",
       "      <th>마켓명</th>\n",
       "      <th>연도</th>\n",
       "      <th>날짜</th>\n",
       "      <th>가격</th>\n",
       "      <th>월</th>\n",
       "      <th>일</th>\n",
       "      <th>연월</th>\n",
       "    </tr>\n",
       "  </thead>\n",
       "  <tbody>\n",
       "    <tr>\n",
       "      <th>2955</th>\n",
       "      <td>토마토(10kg)</td>\n",
       "      <td>광주광역시</td>\n",
       "      <td>각화도매</td>\n",
       "      <td>2013</td>\n",
       "      <td>01/02</td>\n",
       "      <td>28000</td>\n",
       "      <td>01</td>\n",
       "      <td>02</td>\n",
       "      <td>2013-01</td>\n",
       "    </tr>\n",
       "    <tr>\n",
       "      <th>2956</th>\n",
       "      <td>토마토(10kg)</td>\n",
       "      <td>광주광역시</td>\n",
       "      <td>각화도매</td>\n",
       "      <td>2013</td>\n",
       "      <td>01/03</td>\n",
       "      <td>28000</td>\n",
       "      <td>01</td>\n",
       "      <td>03</td>\n",
       "      <td>2013-01</td>\n",
       "    </tr>\n",
       "    <tr>\n",
       "      <th>2957</th>\n",
       "      <td>토마토(10kg)</td>\n",
       "      <td>광주광역시</td>\n",
       "      <td>각화도매</td>\n",
       "      <td>2013</td>\n",
       "      <td>01/04</td>\n",
       "      <td>28000</td>\n",
       "      <td>01</td>\n",
       "      <td>04</td>\n",
       "      <td>2013-01</td>\n",
       "    </tr>\n",
       "    <tr>\n",
       "      <th>2958</th>\n",
       "      <td>토마토(10kg)</td>\n",
       "      <td>광주광역시</td>\n",
       "      <td>각화도매</td>\n",
       "      <td>2013</td>\n",
       "      <td>01/07</td>\n",
       "      <td>28000</td>\n",
       "      <td>01</td>\n",
       "      <td>07</td>\n",
       "      <td>2013-01</td>\n",
       "    </tr>\n",
       "    <tr>\n",
       "      <th>2959</th>\n",
       "      <td>토마토(10kg)</td>\n",
       "      <td>광주광역시</td>\n",
       "      <td>각화도매</td>\n",
       "      <td>2013</td>\n",
       "      <td>01/08</td>\n",
       "      <td>28000</td>\n",
       "      <td>01</td>\n",
       "      <td>08</td>\n",
       "      <td>2013-01</td>\n",
       "    </tr>\n",
       "  </tbody>\n",
       "</table>\n",
       "</div>"
      ],
      "text/plain": [
       "            품종명      도   마켓명    연도     날짜     가격   월   일       연월\n",
       "2955  토마토(10kg)  광주광역시  각화도매  2013  01/02  28000  01  02  2013-01\n",
       "2956  토마토(10kg)  광주광역시  각화도매  2013  01/03  28000  01  03  2013-01\n",
       "2957  토마토(10kg)  광주광역시  각화도매  2013  01/04  28000  01  04  2013-01\n",
       "2958  토마토(10kg)  광주광역시  각화도매  2013  01/07  28000  01  07  2013-01\n",
       "2959  토마토(10kg)  광주광역시  각화도매  2013  01/08  28000  01  08  2013-01"
      ]
     },
     "execution_count": 16,
     "metadata": {},
     "output_type": "execute_result"
    }
   ],
   "source": [
    "# 연월 컬럼 따로 만들고 날짜 형식으로 바꾸기\n",
    "tomp['연월'] = tomp['연도'].astype('str') + '-' + tomp['월']\n",
    "tomp.head()"
   ]
  },
  {
   "cell_type": "code",
   "execution_count": 17,
   "metadata": {
    "scrolled": true
   },
   "outputs": [
    {
     "data": {
      "text/html": [
       "<div>\n",
       "<style scoped>\n",
       "    .dataframe tbody tr th:only-of-type {\n",
       "        vertical-align: middle;\n",
       "    }\n",
       "\n",
       "    .dataframe tbody tr th {\n",
       "        vertical-align: top;\n",
       "    }\n",
       "\n",
       "    .dataframe thead th {\n",
       "        text-align: right;\n",
       "    }\n",
       "</style>\n",
       "<table border=\"1\" class=\"dataframe\">\n",
       "  <thead>\n",
       "    <tr style=\"text-align: right;\">\n",
       "      <th></th>\n",
       "      <th>품종명</th>\n",
       "      <th>도</th>\n",
       "      <th>마켓명</th>\n",
       "      <th>연도</th>\n",
       "      <th>날짜</th>\n",
       "      <th>가격</th>\n",
       "      <th>월</th>\n",
       "      <th>일</th>\n",
       "      <th>연월</th>\n",
       "      <th>일시</th>\n",
       "    </tr>\n",
       "  </thead>\n",
       "  <tbody>\n",
       "    <tr>\n",
       "      <th>2955</th>\n",
       "      <td>토마토(10kg)</td>\n",
       "      <td>광주광역시</td>\n",
       "      <td>각화도매</td>\n",
       "      <td>2013</td>\n",
       "      <td>01/02</td>\n",
       "      <td>28000</td>\n",
       "      <td>01</td>\n",
       "      <td>02</td>\n",
       "      <td>2013-01</td>\n",
       "      <td>2013-01-02</td>\n",
       "    </tr>\n",
       "    <tr>\n",
       "      <th>2956</th>\n",
       "      <td>토마토(10kg)</td>\n",
       "      <td>광주광역시</td>\n",
       "      <td>각화도매</td>\n",
       "      <td>2013</td>\n",
       "      <td>01/03</td>\n",
       "      <td>28000</td>\n",
       "      <td>01</td>\n",
       "      <td>03</td>\n",
       "      <td>2013-01</td>\n",
       "      <td>2013-01-03</td>\n",
       "    </tr>\n",
       "    <tr>\n",
       "      <th>2957</th>\n",
       "      <td>토마토(10kg)</td>\n",
       "      <td>광주광역시</td>\n",
       "      <td>각화도매</td>\n",
       "      <td>2013</td>\n",
       "      <td>01/04</td>\n",
       "      <td>28000</td>\n",
       "      <td>01</td>\n",
       "      <td>04</td>\n",
       "      <td>2013-01</td>\n",
       "      <td>2013-01-04</td>\n",
       "    </tr>\n",
       "    <tr>\n",
       "      <th>2958</th>\n",
       "      <td>토마토(10kg)</td>\n",
       "      <td>광주광역시</td>\n",
       "      <td>각화도매</td>\n",
       "      <td>2013</td>\n",
       "      <td>01/07</td>\n",
       "      <td>28000</td>\n",
       "      <td>01</td>\n",
       "      <td>07</td>\n",
       "      <td>2013-01</td>\n",
       "      <td>2013-01-07</td>\n",
       "    </tr>\n",
       "    <tr>\n",
       "      <th>2959</th>\n",
       "      <td>토마토(10kg)</td>\n",
       "      <td>광주광역시</td>\n",
       "      <td>각화도매</td>\n",
       "      <td>2013</td>\n",
       "      <td>01/08</td>\n",
       "      <td>28000</td>\n",
       "      <td>01</td>\n",
       "      <td>08</td>\n",
       "      <td>2013-01</td>\n",
       "      <td>2013-01-08</td>\n",
       "    </tr>\n",
       "  </tbody>\n",
       "</table>\n",
       "</div>"
      ],
      "text/plain": [
       "            품종명      도   마켓명    연도     날짜     가격   월   일       연월          일시\n",
       "2955  토마토(10kg)  광주광역시  각화도매  2013  01/02  28000  01  02  2013-01  2013-01-02\n",
       "2956  토마토(10kg)  광주광역시  각화도매  2013  01/03  28000  01  03  2013-01  2013-01-03\n",
       "2957  토마토(10kg)  광주광역시  각화도매  2013  01/04  28000  01  04  2013-01  2013-01-04\n",
       "2958  토마토(10kg)  광주광역시  각화도매  2013  01/07  28000  01  07  2013-01  2013-01-07\n",
       "2959  토마토(10kg)  광주광역시  각화도매  2013  01/08  28000  01  08  2013-01  2013-01-08"
      ]
     },
     "execution_count": 17,
     "metadata": {},
     "output_type": "execute_result"
    }
   ],
   "source": [
    "# '일시' 컬럼 따로 만들고 날짜 형식으로 바꾸기\n",
    "tomp['일시'] = tomp['연도'].astype('str') + '-' + tomp['날짜'].str.split('/').str.get(0)+ '-' +tomp['날짜'].str.split('/').str.get(1)\n",
    "\n",
    "tomp.head()"
   ]
  },
  {
   "cell_type": "code",
   "execution_count": 18,
   "metadata": {},
   "outputs": [],
   "source": [
    "tomp.to_csv('토마토_도매가격.csv', index=False)"
   ]
  },
  {
   "cell_type": "code",
   "execution_count": 19,
   "metadata": {},
   "outputs": [],
   "source": [
    "# 연월 같은 데이터 그룹으로 묶어 가격 평균 내기\n",
    "tompm = tomp.groupby(['연월'])['가격'].mean().reset_index()"
   ]
  },
  {
   "cell_type": "markdown",
   "metadata": {},
   "source": [
    "### 2) 대기오염 최종확정자료"
   ]
  },
  {
   "cell_type": "code",
   "execution_count": 20,
   "metadata": {},
   "outputs": [],
   "source": [
    "# 빈 리스트 생성하기\n",
    "list_Data = []"
   ]
  },
  {
   "cell_type": "code",
   "execution_count": 21,
   "metadata": {},
   "outputs": [],
   "source": [
    "# 컬럼 위치를 변경하기 위해 reColindex 함수 생성\n",
    "\n",
    "# def reColindex(df, ori, fix):\n",
    "#     cols = df.columns.tolist()\n",
    "#     tmp = cols[fix - 1]\n",
    "#     del cols[fix - 1]\n",
    "#     cols.insert(ori - 1, tmp)\n",
    "#     return df[cols]"
   ]
  },
  {
   "cell_type": "code",
   "execution_count": 22,
   "metadata": {},
   "outputs": [],
   "source": [
    "# 필요없는 컬럼 삭제 / 시간별을 날짜별로 처리 / 그룹화 하여 평균 처리하기 위한 DataModify 함수 생성\n",
    "\n",
    "# def DataModify(list_D):\n",
    "#     if \"망\" in list_D[len(list_Data) - 1].columns.tolist() :\n",
    "#         list_D[len(list_Data) - 1] = list_D[len(list_Data) - 1].drop(['망'], axis = 1) \n",
    "#     list_D[-1][\"측정일시\"] = list_Data[-1][\"측정일시\"].astype(str).str.slice(start = 0, stop = -2)\n",
    "#     list_D[-1] = list_D[-1].groupby([\"지역\", \"측정소코드\", \"측정소명\", \"측정일시\"]).mean().reset_index()"
   ]
  },
  {
   "cell_type": "code",
   "execution_count": 23,
   "metadata": {},
   "outputs": [],
   "source": [
    "# 파일 경로 변수에 저장\n",
    "# str_Root = \"/Users/jungdayoung/Documents/GitHub/Learning_Spoons_Second_Project/\""
   ]
  },
  {
   "cell_type": "code",
   "execution_count": 24,
   "metadata": {},
   "outputs": [],
   "source": [
    "# 2013년 데이터 전처리\n",
    "\n",
    "# str_File = str_Root + \"air/2013년0X분기\"\n",
    "# for i in range(4) :\n",
    "#     list_Data.append(pd.read_excel(str_File.replace('X', str(i + 1)) + \".xlsx\"))\n",
    "#     list_Data[i] = reColindex(list_Data[i], 3, 2)\n",
    "#     list_Data[i]['PM25'] = np.nan\n",
    "#     list_Data[i] = reColindex(list_Data[i], 11, 10)\n",
    "\n",
    "#     # 안됨. 이유를 아직 모르겠음.\n",
    "#     #    for j in range(6) :\n",
    "#     #        list_Data[i].iloc[list_Data[i][j + 4] == -999, j + 4] = 0\n",
    "#     #        print(j + 4, \" \", \"컬럼 수정 완료\" )\n",
    "\n",
    "#     # 그래서 루프를 돌릴 수 없어서 하드 코딩 처리함.\n",
    "#     list_Data[i].loc[list_Data[i][\"SO2\"] == -999, \"SO2\"] = 0\n",
    "#     list_Data[i].loc[list_Data[i][\"CO\"] == -999, \"CO\"] = 0\n",
    "#     list_Data[i].loc[list_Data[i][\"O3\"] == -999, \"O3\"] = 0\n",
    "#     list_Data[i].loc[list_Data[i][\"NO2\"] == -999, \"NO2\"] = 0\n",
    "#     list_Data[i].loc[list_Data[i][\"PM10\"] == -999, \"PM10\"] = 0    \n",
    "#     list_Data[i].loc[list_Data[i][\"PM25\"] == -999, \"PM25\"] = 0        \n",
    "#     DataModify(list_Data)\n",
    "    \n",
    "# print(len(list_Data))\n",
    "# list_Data[len(list_Data) - 1].head()"
   ]
  },
  {
   "cell_type": "code",
   "execution_count": 25,
   "metadata": {},
   "outputs": [],
   "source": [
    "# 2014년 데이터 전처리\n",
    "\n",
    "# str_File = str_Root + \"air/2014년 X분기\"\n",
    "# for i in range(4) :\n",
    "#     list_Data.append(pd.read_csv(str_File.replace('X', str(i + 1)) + \".csv\", encoding = 'EUC-KR'))\n",
    "#     DataModify(list_Data)\n",
    "    \n",
    "# print(len(list_Data))\n",
    "# list_Data[len(list_Data) - 1].head()"
   ]
  },
  {
   "cell_type": "code",
   "execution_count": 26,
   "metadata": {},
   "outputs": [],
   "source": [
    "# 2015년 데이터 전처리\n",
    "\n",
    "# str_File = str_Root + 'air/2015년X분기'\n",
    "# for i in range(4) :\n",
    "#     list_Data.append(pd.read_csv(str_File.replace('X', str(i + 1)) + \".csv\"))\n",
    "#     DataModify(list_Data)\n",
    "\n",
    "# print(len(list_Data))\n",
    "# list_Data[len(list_Data) - 1].head()"
   ]
  },
  {
   "cell_type": "code",
   "execution_count": 27,
   "metadata": {},
   "outputs": [],
   "source": [
    "# 2016년 데이터 전처리\n",
    "\n",
    "# str_File = str_Root + 'air/2016년 X분기'\n",
    "# for i in range(4) :\n",
    "#     list_Data.append(pd.read_csv(str_File.replace('X', str(i + 1)) + \".csv\", encoding = 'EUC-KR'))\n",
    "#     DataModify(list_Data)\n",
    "\n",
    "# print(len(list_Data))\n",
    "# list_Data[len(list_Data) - 1].head()"
   ]
  },
  {
   "cell_type": "code",
   "execution_count": 28,
   "metadata": {},
   "outputs": [],
   "source": [
    "# 2017년 데이터 전처리\n",
    "\n",
    "# str_File = str_Root + 'air/2017년 X월'\n",
    "# for i in range(12) :\n",
    "#     list_Data.append(pd.read_excel(str_File.replace('X', str(i + 1)) + \".xlsx\"))\n",
    "#     DataModify(list_Data)\n",
    "    \n",
    "# print(len(list_Data))\n",
    "\n",
    "# list_Data[len(list_Data) - 1].head()"
   ]
  },
  {
   "cell_type": "code",
   "execution_count": 29,
   "metadata": {},
   "outputs": [],
   "source": [
    "# 2018년 데이터 전처리\n",
    "\n",
    "# str_File = str_Root + 'air/2018년 X분기'\n",
    "# for i in range(4) :\n",
    "#     list_Data.append(pd.read_excel(str_File.replace('X', str(i + 1)) + \".xlsx\"))\n",
    "#     DataModify(list_Data)\n",
    "    \n",
    "# print(len(list_Data))\n",
    "# list_Data[len(list_Data) - 1].head()"
   ]
  },
  {
   "cell_type": "code",
   "execution_count": 30,
   "metadata": {},
   "outputs": [],
   "source": [
    "# 데이터 병합\n",
    "# df = pd.concat(list_Data)"
   ]
  },
  {
   "cell_type": "code",
   "execution_count": 31,
   "metadata": {},
   "outputs": [],
   "source": [
    "# 날짜 데이터 타입 변경\n",
    "# df[\"측정일시\"] = pd.to_datetime(df[\"측정일시\"])"
   ]
  },
  {
   "cell_type": "code",
   "execution_count": 32,
   "metadata": {},
   "outputs": [],
   "source": [
    "# 용량이 크기 때문에 csv파일로 저장 후 다시 불러올 예정\n",
    "# df.to_csv(\"/Users/jungdayoung/Documents/GitHub/Learning_Spoons_Second_Project/data/날씨_시계열_데이터.csv\", encoding = \"CP949\", index = False)"
   ]
  },
  {
   "cell_type": "code",
   "execution_count": 73,
   "metadata": {},
   "outputs": [],
   "source": [
    "# 저장한 날씨 데이터를 불러와 변수 df로 저장\n",
    "df = pd.read_csv('날씨_시계열_데이터.csv', encoding='euc-kr')"
   ]
  },
  {
   "cell_type": "code",
   "execution_count": 74,
   "metadata": {},
   "outputs": [],
   "source": [
    "# 측정일시 컬럼의 연월일을 연도, 월일로 나누기\n",
    "df['연도'] = df['측정일시'].str.split(\"-\").str.get(0)\n",
    "df['월'] = df['측정일시'].str.split(\"-\").str.get(1)\n",
    "df['일'] = df['측정일시'].str.split(\"-\").str.get(2)"
   ]
  },
  {
   "cell_type": "code",
   "execution_count": 75,
   "metadata": {},
   "outputs": [],
   "source": [
    "# 토마토 도매가격, 일조량과 컬럼명을 동일하게 하기 위해 측정일시 컬렴명을 일시로 변경\n",
    "df.rename(columns={'측정일시':'일시'}, inplace=True)"
   ]
  },
  {
   "cell_type": "code",
   "execution_count": 82,
   "metadata": {},
   "outputs": [
    {
     "data": {
      "text/plain": [
       "452"
      ]
     },
     "execution_count": 82,
     "metadata": {},
     "output_type": "execute_result"
    }
   ],
   "source": [
    "# 대기오염 데이터 측정소명 개수\n",
    "df['측정소명'].nunique()"
   ]
  },
  {
   "cell_type": "code",
   "execution_count": 36,
   "metadata": {},
   "outputs": [
    {
     "data": {
      "text/html": [
       "<div>\n",
       "<style scoped>\n",
       "    .dataframe tbody tr th:only-of-type {\n",
       "        vertical-align: middle;\n",
       "    }\n",
       "\n",
       "    .dataframe tbody tr th {\n",
       "        vertical-align: top;\n",
       "    }\n",
       "\n",
       "    .dataframe thead th {\n",
       "        text-align: right;\n",
       "    }\n",
       "</style>\n",
       "<table border=\"1\" class=\"dataframe\">\n",
       "  <thead>\n",
       "    <tr style=\"text-align: right;\">\n",
       "      <th></th>\n",
       "      <th>지역</th>\n",
       "      <th>측정소코드</th>\n",
       "      <th>측정소명</th>\n",
       "      <th>일시</th>\n",
       "      <th>SO2</th>\n",
       "      <th>CO</th>\n",
       "      <th>O3</th>\n",
       "      <th>NO2</th>\n",
       "      <th>PM10</th>\n",
       "      <th>PM25</th>\n",
       "      <th>연도</th>\n",
       "      <th>월</th>\n",
       "      <th>일</th>\n",
       "    </tr>\n",
       "  </thead>\n",
       "  <tbody>\n",
       "    <tr>\n",
       "      <th>0</th>\n",
       "      <td>강원 강릉시</td>\n",
       "      <td>632132</td>\n",
       "      <td>옥천동</td>\n",
       "      <td>2013-01-01</td>\n",
       "      <td>0.009875</td>\n",
       "      <td>0.579167</td>\n",
       "      <td>0.020958</td>\n",
       "      <td>0.013125</td>\n",
       "      <td>41.333333</td>\n",
       "      <td>NaN</td>\n",
       "      <td>2013</td>\n",
       "      <td>01</td>\n",
       "      <td>01</td>\n",
       "    </tr>\n",
       "    <tr>\n",
       "      <th>1</th>\n",
       "      <td>강원 강릉시</td>\n",
       "      <td>632132</td>\n",
       "      <td>옥천동</td>\n",
       "      <td>2013-01-02</td>\n",
       "      <td>0.007125</td>\n",
       "      <td>0.479167</td>\n",
       "      <td>0.026750</td>\n",
       "      <td>0.007000</td>\n",
       "      <td>36.166667</td>\n",
       "      <td>NaN</td>\n",
       "      <td>2013</td>\n",
       "      <td>01</td>\n",
       "      <td>02</td>\n",
       "    </tr>\n",
       "    <tr>\n",
       "      <th>2</th>\n",
       "      <td>강원 강릉시</td>\n",
       "      <td>632132</td>\n",
       "      <td>옥천동</td>\n",
       "      <td>2013-01-03</td>\n",
       "      <td>0.006167</td>\n",
       "      <td>0.437500</td>\n",
       "      <td>0.024708</td>\n",
       "      <td>0.009125</td>\n",
       "      <td>26.500000</td>\n",
       "      <td>NaN</td>\n",
       "      <td>2013</td>\n",
       "      <td>01</td>\n",
       "      <td>03</td>\n",
       "    </tr>\n",
       "    <tr>\n",
       "      <th>3</th>\n",
       "      <td>강원 강릉시</td>\n",
       "      <td>632132</td>\n",
       "      <td>옥천동</td>\n",
       "      <td>2013-01-04</td>\n",
       "      <td>0.007292</td>\n",
       "      <td>0.608333</td>\n",
       "      <td>0.016833</td>\n",
       "      <td>0.019417</td>\n",
       "      <td>38.708333</td>\n",
       "      <td>NaN</td>\n",
       "      <td>2013</td>\n",
       "      <td>01</td>\n",
       "      <td>04</td>\n",
       "    </tr>\n",
       "    <tr>\n",
       "      <th>4</th>\n",
       "      <td>강원 강릉시</td>\n",
       "      <td>632132</td>\n",
       "      <td>옥천동</td>\n",
       "      <td>2013-01-05</td>\n",
       "      <td>0.007792</td>\n",
       "      <td>0.595833</td>\n",
       "      <td>0.025167</td>\n",
       "      <td>0.007667</td>\n",
       "      <td>36.250000</td>\n",
       "      <td>NaN</td>\n",
       "      <td>2013</td>\n",
       "      <td>01</td>\n",
       "      <td>05</td>\n",
       "    </tr>\n",
       "  </tbody>\n",
       "</table>\n",
       "</div>"
      ],
      "text/plain": [
       "       지역   측정소코드 측정소명          일시       SO2        CO        O3       NO2  \\\n",
       "0  강원 강릉시  632132  옥천동  2013-01-01  0.009875  0.579167  0.020958  0.013125   \n",
       "1  강원 강릉시  632132  옥천동  2013-01-02  0.007125  0.479167  0.026750  0.007000   \n",
       "2  강원 강릉시  632132  옥천동  2013-01-03  0.006167  0.437500  0.024708  0.009125   \n",
       "3  강원 강릉시  632132  옥천동  2013-01-04  0.007292  0.608333  0.016833  0.019417   \n",
       "4  강원 강릉시  632132  옥천동  2013-01-05  0.007792  0.595833  0.025167  0.007667   \n",
       "\n",
       "        PM10  PM25    연도   월   일  \n",
       "0  41.333333   NaN  2013  01  01  \n",
       "1  36.166667   NaN  2013  01  02  \n",
       "2  26.500000   NaN  2013  01  03  \n",
       "3  38.708333   NaN  2013  01  04  \n",
       "4  36.250000   NaN  2013  01  05  "
      ]
     },
     "execution_count": 36,
     "metadata": {},
     "output_type": "execute_result"
    }
   ],
   "source": [
    "df.head()"
   ]
  },
  {
   "cell_type": "code",
   "execution_count": 37,
   "metadata": {},
   "outputs": [],
   "source": [
    "# 딕셔너리 생성\n",
    "dic_Sido = {\"서울\" : \"서울특별시\",\n",
    "            \"부산\" : \"부산광역시\",\n",
    "            \"대구\" : \"대구광역시\",\n",
    "            \"인천\" : \"인천광역시\",\n",
    "            \"광주\" : \"광주광역시\",\n",
    "            \"대전\" : \"대전광역시\",\n",
    "            \"울산\" : \"울산광역시\",\n",
    "            \"세종\" : \"세종특별자치시\",\n",
    "            \"경기\" : \"경기도\",\n",
    "            \"강원\" : \"강원도\",\n",
    "            \"충북\" : \"충청북도\",\n",
    "            \"충남\" : \"충청남도\",\n",
    "            \"전북\" : \"전라북도\",\n",
    "            \"전남\" : \"전라남도\",\n",
    "            \"경북\" : \"경상북도\",\n",
    "            \"경남\" : \"경상남도\",\n",
    "            \"제주\" : \"제주도\"}\n",
    "\n",
    "# 지역을 쪼개서 도로 저장\n",
    "df['도'] = df[\"지역\"].str.split(\" \").str.get(0)"
   ]
  },
  {
   "cell_type": "code",
   "execution_count": 38,
   "metadata": {},
   "outputs": [],
   "source": [
    "# 딕셔너리 데이터를 map 함수에 사용하여 key 값과 같은 값들은 전부 value 값으로 변경\n",
    "df[\"도\"] = df[\"도\"].map(dic_Sido)"
   ]
  },
  {
   "cell_type": "code",
   "execution_count": 39,
   "metadata": {},
   "outputs": [],
   "source": [
    "# null값 처리를 위해 날짜 컬럼 생성\n",
    "df['날짜'] = df['월'] + '-' + df['일']"
   ]
  },
  {
   "cell_type": "code",
   "execution_count": 40,
   "metadata": {},
   "outputs": [
    {
     "data": {
      "text/html": [
       "<div>\n",
       "<style scoped>\n",
       "    .dataframe tbody tr th:only-of-type {\n",
       "        vertical-align: middle;\n",
       "    }\n",
       "\n",
       "    .dataframe tbody tr th {\n",
       "        vertical-align: top;\n",
       "    }\n",
       "\n",
       "    .dataframe thead th {\n",
       "        text-align: right;\n",
       "    }\n",
       "</style>\n",
       "<table border=\"1\" class=\"dataframe\">\n",
       "  <thead>\n",
       "    <tr style=\"text-align: right;\">\n",
       "      <th></th>\n",
       "      <th>날짜</th>\n",
       "      <th>PM25</th>\n",
       "    </tr>\n",
       "  </thead>\n",
       "  <tbody>\n",
       "    <tr>\n",
       "      <th>0</th>\n",
       "      <td>01-01</td>\n",
       "      <td>31.543635</td>\n",
       "    </tr>\n",
       "    <tr>\n",
       "      <th>1</th>\n",
       "      <td>01-02</td>\n",
       "      <td>37.602906</td>\n",
       "    </tr>\n",
       "    <tr>\n",
       "      <th>2</th>\n",
       "      <td>01-03</td>\n",
       "      <td>35.062375</td>\n",
       "    </tr>\n",
       "    <tr>\n",
       "      <th>3</th>\n",
       "      <td>01-04</td>\n",
       "      <td>37.749110</td>\n",
       "    </tr>\n",
       "    <tr>\n",
       "      <th>4</th>\n",
       "      <td>01-05</td>\n",
       "      <td>33.378771</td>\n",
       "    </tr>\n",
       "    <tr>\n",
       "      <th>...</th>\n",
       "      <td>...</td>\n",
       "      <td>...</td>\n",
       "    </tr>\n",
       "    <tr>\n",
       "      <th>361</th>\n",
       "      <td>12-27</td>\n",
       "      <td>15.109204</td>\n",
       "    </tr>\n",
       "    <tr>\n",
       "      <th>362</th>\n",
       "      <td>12-28</td>\n",
       "      <td>20.636718</td>\n",
       "    </tr>\n",
       "    <tr>\n",
       "      <th>363</th>\n",
       "      <td>12-29</td>\n",
       "      <td>29.018266</td>\n",
       "    </tr>\n",
       "    <tr>\n",
       "      <th>364</th>\n",
       "      <td>12-30</td>\n",
       "      <td>38.050939</td>\n",
       "    </tr>\n",
       "    <tr>\n",
       "      <th>365</th>\n",
       "      <td>12-31</td>\n",
       "      <td>33.306354</td>\n",
       "    </tr>\n",
       "  </tbody>\n",
       "</table>\n",
       "<p>366 rows × 2 columns</p>\n",
       "</div>"
      ],
      "text/plain": [
       "        날짜       PM25\n",
       "0    01-01  31.543635\n",
       "1    01-02  37.602906\n",
       "2    01-03  35.062375\n",
       "3    01-04  37.749110\n",
       "4    01-05  33.378771\n",
       "..     ...        ...\n",
       "361  12-27  15.109204\n",
       "362  12-28  20.636718\n",
       "363  12-29  29.018266\n",
       "364  12-30  38.050939\n",
       "365  12-31  33.306354\n",
       "\n",
       "[366 rows x 2 columns]"
      ]
     },
     "execution_count": 40,
     "metadata": {},
     "output_type": "execute_result"
    }
   ],
   "source": [
    "# 날짜별 PM25 평균을 구해서 df_mean에 담기\n",
    "df_mean = df.groupby('날짜')['PM25'].mean().reset_index()\n",
    "\n",
    "# df_mean 제대로 생성되었는지 확인\n",
    "df_mean"
   ]
  },
  {
   "cell_type": "code",
   "execution_count": 41,
   "metadata": {},
   "outputs": [],
   "source": [
    "# 날짜를 키로 PM25를 value로 딕셔러니 생성\n",
    "fill_na = dict(zip(df_mean['날짜'],df_mean['PM25']))"
   ]
  },
  {
   "cell_type": "code",
   "execution_count": 42,
   "metadata": {},
   "outputs": [],
   "source": [
    "# PM25의 null값들을 dictionary value로 채움\n",
    "df.loc[df['PM25'].isnull(), 'PM25'] = df['날짜'].map(fill_na)"
   ]
  },
  {
   "cell_type": "code",
   "execution_count": 71,
   "metadata": {
    "scrolled": false
   },
   "outputs": [
    {
     "data": {
      "text/html": [
       "<div>\n",
       "<style scoped>\n",
       "    .dataframe tbody tr th:only-of-type {\n",
       "        vertical-align: middle;\n",
       "    }\n",
       "\n",
       "    .dataframe tbody tr th {\n",
       "        vertical-align: top;\n",
       "    }\n",
       "\n",
       "    .dataframe thead th {\n",
       "        text-align: right;\n",
       "    }\n",
       "</style>\n",
       "<table border=\"1\" class=\"dataframe\">\n",
       "  <thead>\n",
       "    <tr style=\"text-align: right;\">\n",
       "      <th></th>\n",
       "      <th>지역</th>\n",
       "      <th>측정소코드</th>\n",
       "      <th>측정소명</th>\n",
       "      <th>일시</th>\n",
       "      <th>SO2</th>\n",
       "      <th>CO</th>\n",
       "      <th>O3</th>\n",
       "      <th>NO2</th>\n",
       "      <th>PM10</th>\n",
       "      <th>PM25</th>\n",
       "      <th>연도</th>\n",
       "      <th>월</th>\n",
       "      <th>일</th>\n",
       "      <th>도</th>\n",
       "      <th>날짜</th>\n",
       "    </tr>\n",
       "  </thead>\n",
       "  <tbody>\n",
       "    <tr>\n",
       "      <th>366315</th>\n",
       "      <td>세종</td>\n",
       "      <td>541111</td>\n",
       "      <td>신흥동</td>\n",
       "      <td>2016-01-01</td>\n",
       "      <td>0.003000</td>\n",
       "      <td>1.058333</td>\n",
       "      <td>0.011708</td>\n",
       "      <td>0.037292</td>\n",
       "      <td>67.125000</td>\n",
       "      <td>31.543635</td>\n",
       "      <td>2016</td>\n",
       "      <td>01</td>\n",
       "      <td>01</td>\n",
       "      <td>세종특별자치시</td>\n",
       "      <td>01-01</td>\n",
       "    </tr>\n",
       "    <tr>\n",
       "      <th>366316</th>\n",
       "      <td>세종</td>\n",
       "      <td>541111</td>\n",
       "      <td>신흥동</td>\n",
       "      <td>2016-01-02</td>\n",
       "      <td>0.004333</td>\n",
       "      <td>0.983333</td>\n",
       "      <td>0.014208</td>\n",
       "      <td>0.044458</td>\n",
       "      <td>57.625000</td>\n",
       "      <td>37.602906</td>\n",
       "      <td>2016</td>\n",
       "      <td>01</td>\n",
       "      <td>02</td>\n",
       "      <td>세종특별자치시</td>\n",
       "      <td>01-02</td>\n",
       "    </tr>\n",
       "    <tr>\n",
       "      <th>366317</th>\n",
       "      <td>세종</td>\n",
       "      <td>541111</td>\n",
       "      <td>신흥동</td>\n",
       "      <td>2016-01-03</td>\n",
       "      <td>0.003375</td>\n",
       "      <td>1.016667</td>\n",
       "      <td>0.014750</td>\n",
       "      <td>0.036292</td>\n",
       "      <td>73.583333</td>\n",
       "      <td>35.062375</td>\n",
       "      <td>2016</td>\n",
       "      <td>01</td>\n",
       "      <td>03</td>\n",
       "      <td>세종특별자치시</td>\n",
       "      <td>01-03</td>\n",
       "    </tr>\n",
       "    <tr>\n",
       "      <th>366318</th>\n",
       "      <td>세종</td>\n",
       "      <td>541111</td>\n",
       "      <td>신흥동</td>\n",
       "      <td>2016-01-04</td>\n",
       "      <td>0.007083</td>\n",
       "      <td>0.787500</td>\n",
       "      <td>0.027750</td>\n",
       "      <td>0.033667</td>\n",
       "      <td>76.875000</td>\n",
       "      <td>37.749110</td>\n",
       "      <td>2016</td>\n",
       "      <td>01</td>\n",
       "      <td>04</td>\n",
       "      <td>세종특별자치시</td>\n",
       "      <td>01-04</td>\n",
       "    </tr>\n",
       "    <tr>\n",
       "      <th>366319</th>\n",
       "      <td>세종</td>\n",
       "      <td>541111</td>\n",
       "      <td>신흥동</td>\n",
       "      <td>2016-01-05</td>\n",
       "      <td>0.005208</td>\n",
       "      <td>0.483333</td>\n",
       "      <td>0.017625</td>\n",
       "      <td>0.036833</td>\n",
       "      <td>35.416667</td>\n",
       "      <td>33.378771</td>\n",
       "      <td>2016</td>\n",
       "      <td>01</td>\n",
       "      <td>05</td>\n",
       "      <td>세종특별자치시</td>\n",
       "      <td>01-05</td>\n",
       "    </tr>\n",
       "  </tbody>\n",
       "</table>\n",
       "</div>"
      ],
      "text/plain": [
       "        지역   측정소코드 측정소명          일시       SO2        CO        O3       NO2  \\\n",
       "366315  세종  541111  신흥동  2016-01-01  0.003000  1.058333  0.011708  0.037292   \n",
       "366316  세종  541111  신흥동  2016-01-02  0.004333  0.983333  0.014208  0.044458   \n",
       "366317  세종  541111  신흥동  2016-01-03  0.003375  1.016667  0.014750  0.036292   \n",
       "366318  세종  541111  신흥동  2016-01-04  0.007083  0.787500  0.027750  0.033667   \n",
       "366319  세종  541111  신흥동  2016-01-05  0.005208  0.483333  0.017625  0.036833   \n",
       "\n",
       "             PM10       PM25    연도   월   일        도     날짜  \n",
       "366315  67.125000  31.543635  2016  01  01  세종특별자치시  01-01  \n",
       "366316  57.625000  37.602906  2016  01  02  세종특별자치시  01-02  \n",
       "366317  73.583333  35.062375  2016  01  03  세종특별자치시  01-03  \n",
       "366318  76.875000  37.749110  2016  01  04  세종특별자치시  01-04  \n",
       "366319  35.416667  33.378771  2016  01  05  세종특별자치시  01-05  "
      ]
     },
     "execution_count": 71,
     "metadata": {},
     "output_type": "execute_result"
    }
   ],
   "source": [
    "df[df['도'] == '세종특별자치시'].head()"
   ]
  },
  {
   "cell_type": "markdown",
   "metadata": {},
   "source": [
    "### 3) 종관기상관측 전처리"
   ]
  },
  {
   "cell_type": "code",
   "execution_count": 83,
   "metadata": {},
   "outputs": [
    {
     "data": {
      "text/html": [
       "<div>\n",
       "<style scoped>\n",
       "    .dataframe tbody tr th:only-of-type {\n",
       "        vertical-align: middle;\n",
       "    }\n",
       "\n",
       "    .dataframe tbody tr th {\n",
       "        vertical-align: top;\n",
       "    }\n",
       "\n",
       "    .dataframe thead th {\n",
       "        text-align: right;\n",
       "    }\n",
       "</style>\n",
       "<table border=\"1\" class=\"dataframe\">\n",
       "  <thead>\n",
       "    <tr style=\"text-align: right;\">\n",
       "      <th></th>\n",
       "      <th>지점</th>\n",
       "      <th>지점명</th>\n",
       "      <th>일시</th>\n",
       "      <th>평균기온(°C)</th>\n",
       "      <th>최저기온(°C)</th>\n",
       "      <th>최저기온 시각(hhmi)</th>\n",
       "      <th>최고기온(°C)</th>\n",
       "      <th>최고기온 시각(hhmi)</th>\n",
       "      <th>강수 계속시간(hr)</th>\n",
       "      <th>10분 최다 강수량(mm)</th>\n",
       "      <th>...</th>\n",
       "      <th>0.5m 지중온도(°C)</th>\n",
       "      <th>1.0m 지중온도(°C)</th>\n",
       "      <th>1.5m 지중온도(°C)</th>\n",
       "      <th>3.0m 지중온도(°C)</th>\n",
       "      <th>5.0m 지중온도(°C)</th>\n",
       "      <th>합계 대형증발량(mm)</th>\n",
       "      <th>합계 소형증발량(mm)</th>\n",
       "      <th>9-9강수(mm)</th>\n",
       "      <th>기사</th>\n",
       "      <th>안개 계속시간(hr)</th>\n",
       "    </tr>\n",
       "  </thead>\n",
       "  <tbody>\n",
       "    <tr>\n",
       "      <th>0</th>\n",
       "      <td>90</td>\n",
       "      <td>속초</td>\n",
       "      <td>2013-01-01</td>\n",
       "      <td>-2.0</td>\n",
       "      <td>-6.7</td>\n",
       "      <td>641.0</td>\n",
       "      <td>2.5</td>\n",
       "      <td>1352.0</td>\n",
       "      <td>0.75</td>\n",
       "      <td>NaN</td>\n",
       "      <td>...</td>\n",
       "      <td>NaN</td>\n",
       "      <td>NaN</td>\n",
       "      <td>NaN</td>\n",
       "      <td>NaN</td>\n",
       "      <td>NaN</td>\n",
       "      <td>NaN</td>\n",
       "      <td>NaN</td>\n",
       "      <td>NaN</td>\n",
       "      <td>{눈}1010-1025. {눈}1050-1115. {눈}2355-{눈}{강도0}2400-</td>\n",
       "      <td>NaN</td>\n",
       "    </tr>\n",
       "    <tr>\n",
       "      <th>1</th>\n",
       "      <td>90</td>\n",
       "      <td>속초</td>\n",
       "      <td>2013-01-02</td>\n",
       "      <td>-7.0</td>\n",
       "      <td>-9.8</td>\n",
       "      <td>2341.0</td>\n",
       "      <td>-1.3</td>\n",
       "      <td>1.0</td>\n",
       "      <td>1.17</td>\n",
       "      <td>NaN</td>\n",
       "      <td>...</td>\n",
       "      <td>NaN</td>\n",
       "      <td>NaN</td>\n",
       "      <td>NaN</td>\n",
       "      <td>NaN</td>\n",
       "      <td>NaN</td>\n",
       "      <td>NaN</td>\n",
       "      <td>NaN</td>\n",
       "      <td>NaN</td>\n",
       "      <td>-{눈}-0110.</td>\n",
       "      <td>NaN</td>\n",
       "    </tr>\n",
       "    <tr>\n",
       "      <th>2</th>\n",
       "      <td>90</td>\n",
       "      <td>속초</td>\n",
       "      <td>2013-01-03</td>\n",
       "      <td>-7.6</td>\n",
       "      <td>-11.5</td>\n",
       "      <td>716.0</td>\n",
       "      <td>-3.1</td>\n",
       "      <td>1346.0</td>\n",
       "      <td>NaN</td>\n",
       "      <td>NaN</td>\n",
       "      <td>...</td>\n",
       "      <td>NaN</td>\n",
       "      <td>NaN</td>\n",
       "      <td>NaN</td>\n",
       "      <td>NaN</td>\n",
       "      <td>NaN</td>\n",
       "      <td>NaN</td>\n",
       "      <td>NaN</td>\n",
       "      <td>NaN</td>\n",
       "      <td>NaN</td>\n",
       "      <td>NaN</td>\n",
       "    </tr>\n",
       "    <tr>\n",
       "      <th>3</th>\n",
       "      <td>90</td>\n",
       "      <td>속초</td>\n",
       "      <td>2013-01-04</td>\n",
       "      <td>-5.2</td>\n",
       "      <td>-10.4</td>\n",
       "      <td>640.0</td>\n",
       "      <td>0.3</td>\n",
       "      <td>1253.0</td>\n",
       "      <td>NaN</td>\n",
       "      <td>NaN</td>\n",
       "      <td>...</td>\n",
       "      <td>NaN</td>\n",
       "      <td>NaN</td>\n",
       "      <td>NaN</td>\n",
       "      <td>NaN</td>\n",
       "      <td>NaN</td>\n",
       "      <td>NaN</td>\n",
       "      <td>NaN</td>\n",
       "      <td>NaN</td>\n",
       "      <td>NaN</td>\n",
       "      <td>NaN</td>\n",
       "    </tr>\n",
       "    <tr>\n",
       "      <th>4</th>\n",
       "      <td>90</td>\n",
       "      <td>속초</td>\n",
       "      <td>2013-01-05</td>\n",
       "      <td>-1.8</td>\n",
       "      <td>-7.4</td>\n",
       "      <td>124.0</td>\n",
       "      <td>1.9</td>\n",
       "      <td>1430.0</td>\n",
       "      <td>NaN</td>\n",
       "      <td>NaN</td>\n",
       "      <td>...</td>\n",
       "      <td>NaN</td>\n",
       "      <td>NaN</td>\n",
       "      <td>NaN</td>\n",
       "      <td>NaN</td>\n",
       "      <td>NaN</td>\n",
       "      <td>NaN</td>\n",
       "      <td>NaN</td>\n",
       "      <td>NaN</td>\n",
       "      <td>NaN</td>\n",
       "      <td>NaN</td>\n",
       "    </tr>\n",
       "  </tbody>\n",
       "</table>\n",
       "<p>5 rows × 62 columns</p>\n",
       "</div>"
      ],
      "text/plain": [
       "   지점 지점명          일시  평균기온(°C)  최저기온(°C)  최저기온 시각(hhmi)  최고기온(°C)  \\\n",
       "0  90  속초  2013-01-01      -2.0      -6.7          641.0       2.5   \n",
       "1  90  속초  2013-01-02      -7.0      -9.8         2341.0      -1.3   \n",
       "2  90  속초  2013-01-03      -7.6     -11.5          716.0      -3.1   \n",
       "3  90  속초  2013-01-04      -5.2     -10.4          640.0       0.3   \n",
       "4  90  속초  2013-01-05      -1.8      -7.4          124.0       1.9   \n",
       "\n",
       "   최고기온 시각(hhmi)  강수 계속시간(hr)  10분 최다 강수량(mm)  ...  0.5m 지중온도(°C)  \\\n",
       "0         1352.0         0.75             NaN  ...            NaN   \n",
       "1            1.0         1.17             NaN  ...            NaN   \n",
       "2         1346.0          NaN             NaN  ...            NaN   \n",
       "3         1253.0          NaN             NaN  ...            NaN   \n",
       "4         1430.0          NaN             NaN  ...            NaN   \n",
       "\n",
       "   1.0m 지중온도(°C)  1.5m 지중온도(°C)  3.0m 지중온도(°C)  5.0m 지중온도(°C)  합계 대형증발량(mm)  \\\n",
       "0            NaN            NaN            NaN            NaN           NaN   \n",
       "1            NaN            NaN            NaN            NaN           NaN   \n",
       "2            NaN            NaN            NaN            NaN           NaN   \n",
       "3            NaN            NaN            NaN            NaN           NaN   \n",
       "4            NaN            NaN            NaN            NaN           NaN   \n",
       "\n",
       "   합계 소형증발량(mm)  9-9강수(mm)                                                 기사  \\\n",
       "0           NaN        NaN  {눈}1010-1025. {눈}1050-1115. {눈}2355-{눈}{강도0}2400-   \n",
       "1           NaN        NaN                                         -{눈}-0110.   \n",
       "2           NaN        NaN                                                NaN   \n",
       "3           NaN        NaN                                                NaN   \n",
       "4           NaN        NaN                                                NaN   \n",
       "\n",
       "   안개 계속시간(hr)  \n",
       "0          NaN  \n",
       "1          NaN  \n",
       "2          NaN  \n",
       "3          NaN  \n",
       "4          NaN  \n",
       "\n",
       "[5 rows x 62 columns]"
      ]
     },
     "execution_count": 83,
     "metadata": {},
     "output_type": "execute_result"
    }
   ],
   "source": [
    "# 일조량 데이터 불러오기\n",
    "df_s = pd.read_csv('OBS_ASOS_DD_20200304204217.csv', encoding='euc-kr')\n",
    "\n",
    "# 불러온 일조량 데이터 확인\n",
    "df_s.head()"
   ]
  },
  {
   "cell_type": "code",
   "execution_count": 86,
   "metadata": {},
   "outputs": [
    {
     "data": {
      "text/plain": [
       "96"
      ]
     },
     "execution_count": 86,
     "metadata": {},
     "output_type": "execute_result"
    }
   ],
   "source": [
    "# 일조량 데이터 지점명 개수\n",
    "df_s['지점명'].nunique()"
   ]
  },
  {
   "cell_type": "code",
   "execution_count": 45,
   "metadata": {
    "scrolled": true
   },
   "outputs": [
    {
     "name": "stdout",
     "output_type": "stream",
     "text": [
      "<class 'pandas.core.frame.DataFrame'>\n",
      "RangeIndex: 240395 entries, 0 to 240394\n",
      "Data columns (total 62 columns):\n",
      "지점                     240395 non-null int64\n",
      "지점명                    240395 non-null object\n",
      "일시                     240395 non-null object\n",
      "평균기온(°C)               240134 non-null float64\n",
      "최저기온(°C)               240356 non-null float64\n",
      "최저기온 시각(hhmi)          240364 non-null float64\n",
      "최고기온(°C)               240361 non-null float64\n",
      "최고기온 시각(hhmi)          240365 non-null float64\n",
      "강수 계속시간(hr)            27016 non-null float64\n",
      "10분 최다 강수량(mm)         54349 non-null float64\n",
      "10분 최다강수량 시각(hhmi)     39813 non-null float64\n",
      "1시간 최다강수량(mm)          54357 non-null float64\n",
      "1시간 최다 강수량 시각(hhmi)    41139 non-null float64\n",
      "일강수량(mm)               87133 non-null float64\n",
      "최대 순간 풍속(m/s)          240280 non-null float64\n",
      "최대 순간 풍속 풍향(16방위)      240282 non-null float64\n",
      "최대 순간풍속 시각(hhmi)       240286 non-null float64\n",
      "최대 풍속(m/s)             240269 non-null float64\n",
      "최대 풍속 풍향(16방위)         240278 non-null float64\n",
      "최대 풍속 시각(hhmi)         240282 non-null float64\n",
      "평균 풍속(m/s)             240204 non-null float64\n",
      "풍정합(100m)              240189 non-null float64\n",
      "최다풍향(16방위)             238872 non-null float64\n",
      "평균 이슬점온도(°C)           239979 non-null float64\n",
      "최소 상대습도(%)             240286 non-null float64\n",
      "최소 상대습도 시각(hhmi)       240294 non-null float64\n",
      "평균 상대습도(%)             239952 non-null float64\n",
      "평균 증기압(hPa)            239949 non-null float64\n",
      "평균 현지기압(hPa)           240088 non-null float64\n",
      "최고 해면기압(hPa)           240315 non-null float64\n",
      "최고 해면기압 시각(hhmi)       240328 non-null float64\n",
      "최저 해면기압(hPa)           240314 non-null float64\n",
      "최저 해면기압 시각(hhmi)       240329 non-null float64\n",
      "평균 해면기압(hPa)           240081 non-null float64\n",
      "가조시간(hr)               240361 non-null float64\n",
      "합계 일조시간(hr)            240012 non-null float64\n",
      "1시간 최다일사 시각(hhmi)      102421 non-null float64\n",
      "1시간 최다일사량(MJ/m2)       102378 non-null float64\n",
      "합계 일사량(MJ/m2)          102388 non-null float64\n",
      "일 최심신적설(cm)            2163 non-null float64\n",
      "일 최심신적설 시각(hhmi)       2146 non-null float64\n",
      "일 최심적설(cm)             3603 non-null float64\n",
      "일 최심적설 시각(hhmi)        3592 non-null float64\n",
      "합계 3시간 신적설(cm)         2241 non-null float64\n",
      "평균 전운량(1/10)           109836 non-null float64\n",
      "평균 중하층운량(1/10)         104376 non-null float64\n",
      "평균 지면온도(°C)            240235 non-null float64\n",
      "최저 초상온도(°C)            240222 non-null float64\n",
      "평균 5cm 지중온도(°C)        71755 non-null float64\n",
      "평균 10cm 지중온도(°C)       71728 non-null float64\n",
      "평균 20cm 지중온도(°C)       71814 non-null float64\n",
      "평균 30cm 지중온도(°C)       71749 non-null float64\n",
      "0.5m 지중온도(°C)          35462 non-null float64\n",
      "1.0m 지중온도(°C)          35471 non-null float64\n",
      "1.5m 지중온도(°C)          32031 non-null float64\n",
      "3.0m 지중온도(°C)          32025 non-null float64\n",
      "5.0m 지중온도(°C)          32024 non-null float64\n",
      "합계 대형증발량(mm)           67821 non-null float64\n",
      "합계 소형증발량(mm)           77913 non-null float64\n",
      "9-9강수(mm)              19522 non-null float64\n",
      "기사                     49637 non-null object\n",
      "안개 계속시간(hr)            5420 non-null float64\n",
      "dtypes: float64(58), int64(1), object(3)\n",
      "memory usage: 113.7+ MB\n"
     ]
    }
   ],
   "source": [
    "df_s.info()"
   ]
  },
  {
   "cell_type": "code",
   "execution_count": 46,
   "metadata": {},
   "outputs": [
    {
     "data": {
      "text/plain": [
       "383"
      ]
     },
     "execution_count": 46,
     "metadata": {},
     "output_type": "execute_result"
    }
   ],
   "source": [
    "df_s['합계 일조시간(hr)'].isnull().sum()"
   ]
  },
  {
   "cell_type": "code",
   "execution_count": 47,
   "metadata": {},
   "outputs": [
    {
     "data": {
      "text/plain": [
       "0         속초\n",
       "1         속초\n",
       "2         속초\n",
       "3         속초\n",
       "4         속초\n",
       "          ..\n",
       "240390    남해\n",
       "240391    남해\n",
       "240392    남해\n",
       "240393    남해\n",
       "240394    남해\n",
       "Name: 지점명, Length: 240395, dtype: object"
      ]
     },
     "execution_count": 47,
     "metadata": {},
     "output_type": "execute_result"
    }
   ],
   "source": [
    "# 도로 분류하기 위해 '지점명' 확인\n",
    "df_s['지점명']"
   ]
  },
  {
   "cell_type": "code",
   "execution_count": 48,
   "metadata": {},
   "outputs": [],
   "source": [
    "# 지점명에 붙은 접사 제거\n",
    "df_s['지점명'] = df_s['지점명'].str.replace('시$','').str.replace('군$','').str.replace(r'\\(.*?\\)','').str.replace('^북','')"
   ]
  },
  {
   "cell_type": "code",
   "execution_count": 49,
   "metadata": {},
   "outputs": [],
   "source": [
    "# 도시명의 정식 명칭을 dic 변수에 저장\n",
    "dic = {'서울':'서울특별시','인천':'인천광역시','부산':'부산광역시',\n",
    "      '대구':'대구광역시','광주':'광주광역시','대전':'대전광역시',\n",
    "      '부산':'부산광역시','제주':'제주특별자치도','세종':'세종특별자치시',\n",
    "      '울산':'울산광역시'}"
   ]
  },
  {
   "cell_type": "code",
   "execution_count": 50,
   "metadata": {},
   "outputs": [],
   "source": [
    "# '지점명' 컬럼 내 도시명을 정식 명칭으로 변경\n",
    "df_s['지점명'].replace(dic, inplace=True)"
   ]
  },
  {
   "cell_type": "code",
   "execution_count": 51,
   "metadata": {},
   "outputs": [],
   "source": [
    "# 일조량 데이터는 광역시,특별시,특별자치시 및 특별자치도의\n",
    "# 시군구의 데이터가 안나와 있기 때문에 제거를 위한 리스트 dic을 이용해 생성\n",
    "remove = list(dic.values())"
   ]
  },
  {
   "cell_type": "code",
   "execution_count": 52,
   "metadata": {},
   "outputs": [],
   "source": [
    "# 도 컬럼을 추가하기 위해 행정구역 현황 데이터 불러오기\n",
    "df_d = pd.read_csv('행정구역_현황_20200310195900.csv', encoding='euc-kr')"
   ]
  },
  {
   "cell_type": "code",
   "execution_count": 53,
   "metadata": {},
   "outputs": [],
   "source": [
    "# 사용할 데이터의 범위만 선택\n",
    "df_d = df_d[2:]"
   ]
  },
  {
   "cell_type": "code",
   "execution_count": 54,
   "metadata": {},
   "outputs": [],
   "source": [
    "# 소계 row는 사용하지 않기 때문에 제거 \n",
    "df_l = df_d[~df_d['소재지(시군구)별(2)'].str.contains('소계')]"
   ]
  },
  {
   "cell_type": "code",
   "execution_count": 55,
   "metadata": {},
   "outputs": [],
   "source": [
    "# 광역시,특별시, 특별자치시 및 특별자치도 데이터 제거\n",
    "df_l= df_l[~df_l['소재지(시군구)별(1)'].isin(remove)]"
   ]
  },
  {
   "cell_type": "code",
   "execution_count": 56,
   "metadata": {},
   "outputs": [],
   "source": [
    "# 일조량 데이터의 지점명과 맞추기 위해 시,군 제거\n",
    "df_l['소재지(시군구)별(2)']= df_l['소재지(시군구)별(2)'].str.replace(r'시$','').str.replace(r'군$','')"
   ]
  },
  {
   "cell_type": "code",
   "execution_count": 57,
   "metadata": {},
   "outputs": [
    {
     "data": {
      "text/plain": [
       "array(['수원', '성남', '고양', '용인', '부천', '안산', '안양', '남양주', '화성', '평택', '의정부',\n",
       "       '시흥', '파주', '광명', '김포', '군포', '광주', '이천', '양주', '오산', '구리', '안성',\n",
       "       '포천', '의왕', '하남', '여주', '양평', '동두천', '과천', '가평', '연천', '춘천', '원주',\n",
       "       '강릉', '동해', '태백', '속초', '삼척', '홍천', '횡성', '영월', '평창', '정선', '철원',\n",
       "       '화천', '양구', '인제', '고성', '양양', '청주', '충주', '제천', '보은', '옥천', '영동',\n",
       "       '진천', '괴산', '음성', '단양', '증평', '천안', '공주', '보령', '아산', '서산', '논산',\n",
       "       '계룡', '당진', '금산', '부여', '서천', '청양', '홍성', '예산', '태안', '전주', '군산',\n",
       "       '익산', '정읍', '남원', '김제', '완주', '진안', '무주', '장수', '임실', '순창', '고창',\n",
       "       '부안', '목포', '여수', '순천', '나주', '광양', '담양', '곡성', '구례', '고흥', '보성',\n",
       "       '화순', '장흥', '강진', '해남', '영암', '무안', '함평', '영광', '장성', '완도', '진도',\n",
       "       '신안', '포항', '경주', '김천', '안동', '구미', '영주', '영천', '상주', '문경', '경산',\n",
       "       '군위', '의성', '청송', '영양', '영덕', '청도', '고령', '성주', '칠곡', '예천', '봉화',\n",
       "       '울진', '울릉', '창원', '진주', '통영', '사천', '김해', '밀양', '거제', '양산', '의령',\n",
       "       '함안', '창녕', '남해', '하동', '산청', '함양', '거창', '합천'], dtype=object)"
      ]
     },
     "execution_count": 57,
     "metadata": {},
     "output_type": "execute_result"
    }
   ],
   "source": [
    "# 제거가 잘 되었는지 확인 \n",
    "df_l['소재지(시군구)별(2)'].unique()"
   ]
  },
  {
   "cell_type": "code",
   "execution_count": 58,
   "metadata": {},
   "outputs": [],
   "source": [
    "# '도' 리스트 생성\n",
    "시군구_lst = list(df_l['소재지(시군구)별(1)'].unique())"
   ]
  },
  {
   "cell_type": "code",
   "execution_count": 59,
   "metadata": {},
   "outputs": [
    {
     "name": "stdout",
     "output_type": "stream",
     "text": [
      "0 경기도\n",
      "1 강원도\n",
      "2 충청북도\n",
      "3 충청남도\n",
      "4 전라북도\n",
      "5 전라남도\n",
      "6 경상북도\n",
      "7 경상남도\n"
     ]
    },
    {
     "data": {
      "text/plain": [
       "[None, None, None, None, None, None, None, None]"
      ]
     },
     "execution_count": 59,
     "metadata": {},
     "output_type": "execute_result"
    }
   ],
   "source": [
    "# 도별 행정구역 리스틀 만들기 위해 도별 번호 부여\n",
    "[print(i,j) for i,j in enumerate(시군구_lst) ]"
   ]
  },
  {
   "cell_type": "code",
   "execution_count": 60,
   "metadata": {},
   "outputs": [],
   "source": [
    "# 부여된 번호를 활용하여 각 도별 행정구역 리스트 생성\n",
    "\n",
    "경기도 = []\n",
    "강원도 = [] \n",
    "충청북도 = []\n",
    "충청남도 = []\n",
    "전라북도 = []\n",
    "전라남도 = []\n",
    "경상북도 = []\n",
    "경상남도 = [] \n",
    "\n",
    "for i in range(len(시군구_lst)):\n",
    "    if 시군구_lst[i] == '경기도':\n",
    "        경기도.append(df_l.loc[df_l['소재지(시군구)별(1)']==시군구_lst[0],'소재지(시군구)별(2)'].to_list())\n",
    "    elif 시군구_lst[i] == '강원도':\n",
    "        강원도.append(df_l.loc[df_l['소재지(시군구)별(1)']==시군구_lst[1],'소재지(시군구)별(2)'].to_list())\n",
    "    elif 시군구_lst[i] == '충청북도':\n",
    "        충청북도.append(df_l.loc[df_l['소재지(시군구)별(1)']==시군구_lst[2],'소재지(시군구)별(2)'].to_list())\n",
    "    elif 시군구_lst[i] == '충청남도':\n",
    "        충청남도.append(df_l.loc[df_l['소재지(시군구)별(1)']==시군구_lst[3],'소재지(시군구)별(2)'].to_list())\n",
    "    elif 시군구_lst[i] == '전라북도':\n",
    "        전라북도.append(df_l.loc[df_l['소재지(시군구)별(1)']==시군구_lst[4],'소재지(시군구)별(2)'].to_list())\n",
    "    elif 시군구_lst[i] == '전라남도':\n",
    "        전라남도.append(df_l.loc[df_l['소재지(시군구)별(1)']==시군구_lst[5],'소재지(시군구)별(2)'].to_list())\n",
    "    elif 시군구_lst[i] == '경상북도':\n",
    "        경상북도.append( df_l.loc[df_l['소재지(시군구)별(1)']==시군구_lst[6],'소재지(시군구)별(2)'].to_list())\n",
    "    elif 시군구_lst[i] == '경상남도':\n",
    "        경상남도.append(df_l.loc[df_l['소재지(시군구)별(1)']==시군구_lst[7],'소재지(시군구)별(2)'].to_list())"
   ]
  },
  {
   "cell_type": "code",
   "execution_count": 61,
   "metadata": {},
   "outputs": [],
   "source": [
    "# 밑의 코드를 돌려본 결과 행정구역이 명확하지 않은 행정구역들 null 처리되어 행정구역 추가\n",
    "강원도[0].append('대관령')\n",
    "경상북도[0].append('울릉도')\n",
    "경상북도[0].append('추풍령')\n",
    "전라남도[0].append('흑산도')\n",
    "전라북도[0].append('고산')\n",
    "제주도 = ['서귀포','성산']\n",
    "인천광역시 = ['백령도','강화']"
   ]
  },
  {
   "cell_type": "code",
   "execution_count": 62,
   "metadata": {},
   "outputs": [],
   "source": [
    "# isin을 활용하여 지점명이 리스트에 있을 경우 그 리스트 이름을 '도' 컬럼에 할당\n",
    "df_s.loc[df_s['지점명'].isin(경기도[0]),'도'] = '경기도'\n",
    "df_s.loc[df_s['지점명'].isin(강원도[0]),'도'] = '강원도'\n",
    "df_s.loc[df_s['지점명'].isin(충청북도[0]),'도'] = '충청북도'\n",
    "df_s.loc[df_s['지점명'].isin(충청남도[0]),'도'] = '충청남도'\n",
    "df_s.loc[df_s['지점명'].isin(전라북도[0]),'도'] = '전라북도'\n",
    "df_s.loc[df_s['지점명'].isin(전라남도[0]),'도'] = '전라남도'\n",
    "df_s.loc[df_s['지점명'].isin(경상북도[0]),'도'] = '경상북도'\n",
    "df_s.loc[df_s['지점명'].isin(경상남도[0]),'도'] = '경상남도'\n",
    "df_s.loc[df_s['지점명'].isin(제주도),'도'] = '제주특별자치도'\n",
    "df_s.loc[df_s['지점명'].isin(인천광역시),'도'] = '인천광역시'"
   ]
  },
  {
   "cell_type": "code",
   "execution_count": 63,
   "metadata": {},
   "outputs": [],
   "source": [
    "# 특별시, 광역시, 특별자치도는 지점명의 값을 '도' 컬럼 값에 할당\n",
    "df_s['도'] = df_s['도'].fillna(df_s['지점명'])"
   ]
  },
  {
   "cell_type": "code",
   "execution_count": 64,
   "metadata": {},
   "outputs": [],
   "source": [
    "# 2019년 데이터 제외\n",
    "df_s = df_s[~df_s['일시'].str.contains('2019')]"
   ]
  },
  {
   "cell_type": "code",
   "execution_count": 65,
   "metadata": {},
   "outputs": [],
   "source": [
    "# 사용할 컬럼만 가져오기\n",
    "df_use = df_s[['도', '지점명', '일시','합계 일조시간(hr)']].copy()"
   ]
  },
  {
   "cell_type": "code",
   "execution_count": 66,
   "metadata": {},
   "outputs": [],
   "source": [
    "# 결측값을 0으로 채우기\n",
    "df_use['합계 일조시간(hr)'] = df_use['합계 일조시간(hr)'].fillna(0)"
   ]
  },
  {
   "cell_type": "code",
   "execution_count": 67,
   "metadata": {},
   "outputs": [],
   "source": [
    "# merge함수를 사용하기 위해 일시를 연도와 날짜 컬럼으로 나누기\n",
    "df_use['연도'] = df_use['일시'].str.split('-').str.get(0)\n",
    "df_use['월'] = df_use['일시'].str.split('-').str.get(1)\n",
    "df_use['일'] = df_use['일시'].str.split('-').str.get(2) "
   ]
  },
  {
   "cell_type": "code",
   "execution_count": 68,
   "metadata": {},
   "outputs": [
    {
     "data": {
      "text/html": [
       "<div>\n",
       "<style scoped>\n",
       "    .dataframe tbody tr th:only-of-type {\n",
       "        vertical-align: middle;\n",
       "    }\n",
       "\n",
       "    .dataframe tbody tr th {\n",
       "        vertical-align: top;\n",
       "    }\n",
       "\n",
       "    .dataframe thead th {\n",
       "        text-align: right;\n",
       "    }\n",
       "</style>\n",
       "<table border=\"1\" class=\"dataframe\">\n",
       "  <thead>\n",
       "    <tr style=\"text-align: right;\">\n",
       "      <th></th>\n",
       "      <th>연도</th>\n",
       "      <th>월</th>\n",
       "      <th>일</th>\n",
       "      <th>도</th>\n",
       "      <th>지점명</th>\n",
       "      <th>합계 일조시간(hr)</th>\n",
       "      <th>일시</th>\n",
       "    </tr>\n",
       "  </thead>\n",
       "  <tbody>\n",
       "    <tr>\n",
       "      <th>0</th>\n",
       "      <td>2013</td>\n",
       "      <td>01</td>\n",
       "      <td>01</td>\n",
       "      <td>강원도</td>\n",
       "      <td>속초</td>\n",
       "      <td>5.4</td>\n",
       "      <td>2013-01-01</td>\n",
       "    </tr>\n",
       "    <tr>\n",
       "      <th>1</th>\n",
       "      <td>2013</td>\n",
       "      <td>01</td>\n",
       "      <td>02</td>\n",
       "      <td>강원도</td>\n",
       "      <td>속초</td>\n",
       "      <td>9.0</td>\n",
       "      <td>2013-01-02</td>\n",
       "    </tr>\n",
       "    <tr>\n",
       "      <th>2</th>\n",
       "      <td>2013</td>\n",
       "      <td>01</td>\n",
       "      <td>03</td>\n",
       "      <td>강원도</td>\n",
       "      <td>속초</td>\n",
       "      <td>8.9</td>\n",
       "      <td>2013-01-03</td>\n",
       "    </tr>\n",
       "    <tr>\n",
       "      <th>3</th>\n",
       "      <td>2013</td>\n",
       "      <td>01</td>\n",
       "      <td>04</td>\n",
       "      <td>강원도</td>\n",
       "      <td>속초</td>\n",
       "      <td>9.0</td>\n",
       "      <td>2013-01-04</td>\n",
       "    </tr>\n",
       "    <tr>\n",
       "      <th>4</th>\n",
       "      <td>2013</td>\n",
       "      <td>01</td>\n",
       "      <td>05</td>\n",
       "      <td>강원도</td>\n",
       "      <td>속초</td>\n",
       "      <td>8.8</td>\n",
       "      <td>2013-01-05</td>\n",
       "    </tr>\n",
       "  </tbody>\n",
       "</table>\n",
       "</div>"
      ],
      "text/plain": [
       "     연도   월   일    도 지점명  합계 일조시간(hr)          일시\n",
       "0  2013  01  01  강원도  속초          5.4  2013-01-01\n",
       "1  2013  01  02  강원도  속초          9.0  2013-01-02\n",
       "2  2013  01  03  강원도  속초          8.9  2013-01-03\n",
       "3  2013  01  04  강원도  속초          9.0  2013-01-04\n",
       "4  2013  01  05  강원도  속초          8.8  2013-01-05"
      ]
     },
     "execution_count": 68,
     "metadata": {},
     "output_type": "execute_result"
    }
   ],
   "source": [
    "# 컬럼 순서 변경\n",
    "df_use = df_use[['연도', '월', '일', '도', '지점명', '합계 일조시간(hr)', '일시']]\n",
    "\n",
    "# 확인\n",
    "df_use.head()"
   ]
  },
  {
   "cell_type": "code",
   "execution_count": 69,
   "metadata": {},
   "outputs": [
    {
     "data": {
      "text/plain": [
       "(205867, 7)"
      ]
     },
     "execution_count": 69,
     "metadata": {},
     "output_type": "execute_result"
    }
   ],
   "source": [
    "df_use.shape"
   ]
  },
  {
   "cell_type": "code",
   "execution_count": 70,
   "metadata": {},
   "outputs": [],
   "source": [
    "# df_use.to_csv('일조량.csv', index=False)"
   ]
  }
 ],
 "metadata": {
  "kernelspec": {
   "display_name": "Python 3",
   "language": "python",
   "name": "python3"
  },
  "language_info": {
   "codemirror_mode": {
    "name": "ipython",
    "version": 3
   },
   "file_extension": ".py",
   "mimetype": "text/x-python",
   "name": "python",
   "nbconvert_exporter": "python",
   "pygments_lexer": "ipython3",
   "version": "3.7.6"
  }
 },
 "nbformat": 4,
 "nbformat_minor": 4
}
