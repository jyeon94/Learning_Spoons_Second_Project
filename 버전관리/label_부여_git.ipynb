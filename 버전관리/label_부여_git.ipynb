{
 "cells": [
  {
   "cell_type": "code",
   "execution_count": 1,
   "metadata": {},
   "outputs": [],
   "source": [
    "import pandas as pd"
   ]
  },
  {
   "cell_type": "code",
   "execution_count": 2,
   "metadata": {},
   "outputs": [],
   "source": [
    "df = pd.read_csv('../data/final_data.csv',encoding='cp949')"
   ]
  },
  {
   "cell_type": "code",
   "execution_count": 3,
   "metadata": {},
   "outputs": [],
   "source": [
    "labels = ['좋음','보통','나쁨','매우나쁨']"
   ]
  },
  {
   "cell_type": "code",
   "execution_count": 4,
   "metadata": {},
   "outputs": [],
   "source": [
    "SO2_bins = [(0,0.02),(0.021,0.05),(0.051,0.15),(0.151,1)]\n",
    "CO_bins = [(0,2),(2.01,9),(9.01,15),(15.01,50)]\n",
    "O3_bins = [(0,0.03),(0.031,0.09),(0.091,0.15),(0.151,0.6)]\n",
    "NO2_bins = [(0,0.03),(0.031,0.06),(0.061,0.2),(0.201,2)]\n",
    "PM10_bins = [(0,30),(31,80),(81,150),(151,600)]\n",
    "PM25_bins = [(0,15),(16,35),(36,75),(76,500)]"
   ]
  },
  {
   "cell_type": "code",
   "execution_count": 5,
   "metadata": {},
   "outputs": [],
   "source": [
    "def condition(series,new_name,bins,labels,closed='both'):\n",
    "    _bins = pd.IntervalIndex.from_tuples(bins,closed='both')\n",
    "    d = dict(zip(_bins,labels))\n",
    "    df[new_name] =pd.cut(series,_bins,include_lowest=True,).map(d)\n",
    "    return df[new_name]"
   ]
  },
  {
   "cell_type": "code",
   "execution_count": 6,
   "metadata": {},
   "outputs": [],
   "source": [
    "# NUll값 발생이유 -> 자리수가 안 맞음\n",
    "# 해결을 위해 SO2,O3,NO2컬럼을 소수 세번째 자리까지 반올림\n",
    "# PM10,PM25경우 일의 자리까지 반올림\n",
    "# 함수 다시 적용"
   ]
  },
  {
   "cell_type": "code",
   "execution_count": 8,
   "metadata": {},
   "outputs": [],
   "source": [
    "df[['SO2_round','O3_round','NO2_round']] = df[['SO2','O3','NO2']].round(3)\n",
    "df[['PM10_round','PM25_round']] = df[['PM10','PM25']].round(0).astype('int')"
   ]
  },
  {
   "cell_type": "code",
   "execution_count": 9,
   "metadata": {},
   "outputs": [
    {
     "data": {
      "text/plain": [
       "0        보통\n",
       "1        보통\n",
       "2        보통\n",
       "3        보통\n",
       "4        보통\n",
       "         ..\n",
       "32860    좋음\n",
       "32861    보통\n",
       "32862    보통\n",
       "32863    보통\n",
       "32864    보통\n",
       "Name: PM25_condition, Length: 32865, dtype: category\n",
       "Categories (4, object): [좋음 < 보통 < 나쁨 < 매우나쁨]"
      ]
     },
     "execution_count": 9,
     "metadata": {},
     "output_type": "execute_result"
    }
   ],
   "source": [
    "condition(df['SO2_round'],'SO2_condition',SO2_bins,labels)\n",
    "condition(df['CO'],'CO_condition',CO_bins,labels)\n",
    "condition(df['O3_round'],'O3_condition',O3_bins,labels)\n",
    "condition(df['NO2_round'],'NO2_condition',NO2_bins,labels)\n",
    "condition(df['PM10_round'],'PM10_condition',PM10_bins,labels)\n",
    "condition(df['PM25_round'],'PM25_condition',PM25_bins,labels)"
   ]
  },
  {
   "cell_type": "code",
   "execution_count": null,
   "metadata": {},
   "outputs": [],
   "source": [
    "df"
   ]
  },
  {
   "cell_type": "code",
   "execution_count": null,
   "metadata": {},
   "outputs": [],
   "source": [
    "df.isnull().sum"
   ]
  },
  {
   "cell_type": "code",
   "execution_count": 11,
   "metadata": {},
   "outputs": [],
   "source": [
    "df.drop(['SO2_round','O3_round','NO2_round','PM10_round','PM25_round'],axis=1,inplace=True)"
   ]
  }
 ],
 "metadata": {
  "kernelspec": {
   "display_name": "Python 3",
   "language": "python",
   "name": "python3"
  },
  "language_info": {
   "codemirror_mode": {
    "name": "ipython",
    "version": 3
   },
   "file_extension": ".py",
   "mimetype": "text/x-python",
   "name": "python",
   "nbconvert_exporter": "python",
   "pygments_lexer": "ipython3",
   "version": "3.7.6"
  },
  "toc": {
   "base_numbering": 1,
   "nav_menu": {},
   "number_sections": true,
   "sideBar": true,
   "skip_h1_title": false,
   "title_cell": "Table of Contents",
   "title_sidebar": "Contents",
   "toc_cell": false,
   "toc_position": {},
   "toc_section_display": true,
   "toc_window_display": false
  },
  "varInspector": {
   "cols": {
    "lenName": 16,
    "lenType": 16,
    "lenVar": 40
   },
   "kernels_config": {
    "python": {
     "delete_cmd_postfix": "",
     "delete_cmd_prefix": "del ",
     "library": "var_list.py",
     "varRefreshCmd": "print(var_dic_list())"
    },
    "r": {
     "delete_cmd_postfix": ") ",
     "delete_cmd_prefix": "rm(",
     "library": "var_list.r",
     "varRefreshCmd": "cat(var_dic_list()) "
    }
   },
   "types_to_exclude": [
    "module",
    "function",
    "builtin_function_or_method",
    "instance",
    "_Feature"
   ],
   "window_display": false
  }
 },
 "nbformat": 4,
 "nbformat_minor": 4
}
